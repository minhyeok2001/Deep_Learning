{
 "cells": [
  {
   "cell_type": "code",
   "id": "initial_id",
   "metadata": {
    "collapsed": true,
    "ExecuteTime": {
     "end_time": "2025-03-15T08:19:39.104551Z",
     "start_time": "2025-03-15T08:19:39.045541Z"
    }
   },
   "source": "import numpy as np",
   "outputs": [],
   "execution_count": 2
  },
  {
   "metadata": {
    "ExecuteTime": {
     "end_time": "2025-03-15T08:19:39.120581Z",
     "start_time": "2025-03-15T08:19:39.115510Z"
    }
   },
   "cell_type": "code",
   "source": [
    "x = np.array([3,2,1])\n",
    "x.shape"
   ],
   "id": "9b3d6f694f9a9428",
   "outputs": [
    {
     "data": {
      "text/plain": [
       "(3,)"
      ]
     },
     "execution_count": 3,
     "metadata": {},
     "output_type": "execute_result"
    }
   ],
   "execution_count": 3
  },
  {
   "metadata": {
    "ExecuteTime": {
     "end_time": "2025-03-15T08:19:39.163616Z",
     "start_time": "2025-03-15T08:19:39.160174Z"
    }
   },
   "cell_type": "code",
   "source": [
    "y = np.array([[6,4,2],[9,6,3]])\n",
    "y.shape"
   ],
   "id": "5b776ee2d778432",
   "outputs": [
    {
     "data": {
      "text/plain": [
       "(2, 3)"
      ]
     },
     "execution_count": 4,
     "metadata": {},
     "output_type": "execute_result"
    }
   ],
   "execution_count": 4
  },
  {
   "metadata": {
    "ExecuteTime": {
     "end_time": "2025-03-15T08:19:39.230787Z",
     "start_time": "2025-03-15T08:19:39.227378Z"
    }
   },
   "cell_type": "code",
   "source": "print(x*y)",
   "id": "fd8a12786e55a8ae",
   "outputs": [
    {
     "name": "stdout",
     "output_type": "stream",
     "text": [
      "[[18  8  2]\n",
      " [27 12  3]]\n"
     ]
    }
   ],
   "execution_count": 5
  },
  {
   "metadata": {
    "ExecuteTime": {
     "end_time": "2025-03-15T08:19:39.273008Z",
     "start_time": "2025-03-15T08:19:39.269966Z"
    }
   },
   "cell_type": "code",
   "source": "print(y/x)",
   "id": "f7fa21e946ada910",
   "outputs": [
    {
     "name": "stdout",
     "output_type": "stream",
     "text": [
      "[[2. 2. 2.]\n",
      " [3. 3. 3.]]\n"
     ]
    }
   ],
   "execution_count": 6
  },
  {
   "metadata": {},
   "cell_type": "markdown",
   "source": "모든 element 변환은 astype",
   "id": "2adff368f16fb3e0"
  },
  {
   "metadata": {
    "ExecuteTime": {
     "end_time": "2025-03-15T08:19:39.309125Z",
     "start_time": "2025-03-15T08:19:39.306284Z"
    }
   },
   "cell_type": "code",
   "source": [
    "x = x.astype(float)\n",
    "y = y.astype(float)"
   ],
   "id": "1bfd3f7a91a8c889",
   "outputs": [],
   "execution_count": 7
  },
  {
   "metadata": {
    "ExecuteTime": {
     "end_time": "2025-03-15T08:19:39.337545Z",
     "start_time": "2025-03-15T08:19:39.335469Z"
    }
   },
   "cell_type": "code",
   "source": "print(y/x)",
   "id": "fd4820399a0ee584",
   "outputs": [
    {
     "name": "stdout",
     "output_type": "stream",
     "text": [
      "[[2. 2. 2.]\n",
      " [3. 3. 3.]]\n"
     ]
    }
   ],
   "execution_count": 8
  },
  {
   "metadata": {
    "ExecuteTime": {
     "end_time": "2025-03-15T08:19:39.368542Z",
     "start_time": "2025-03-15T08:19:39.366074Z"
    }
   },
   "cell_type": "code",
   "source": "y[0][1]",
   "id": "82c0482376561707",
   "outputs": [
    {
     "data": {
      "text/plain": [
       "4.0"
      ]
     },
     "execution_count": 9,
     "metadata": {},
     "output_type": "execute_result"
    }
   ],
   "execution_count": 9
  },
  {
   "metadata": {
    "ExecuteTime": {
     "end_time": "2025-03-15T08:19:39.398193Z",
     "start_time": "2025-03-15T08:19:39.395723Z"
    }
   },
   "cell_type": "code",
   "source": "print(y)",
   "id": "129995d1747b43d1",
   "outputs": [
    {
     "name": "stdout",
     "output_type": "stream",
     "text": [
      "[[6. 4. 2.]\n",
      " [9. 6. 3.]]\n"
     ]
    }
   ],
   "execution_count": 10
  },
  {
   "metadata": {
    "ExecuteTime": {
     "end_time": "2025-03-15T08:19:39.425975Z",
     "start_time": "2025-03-15T08:19:39.423665Z"
    }
   },
   "cell_type": "code",
   "source": [
    "y = y.flatten()\n",
    "print(y)"
   ],
   "id": "7f8aabd095766d89",
   "outputs": [
    {
     "name": "stdout",
     "output_type": "stream",
     "text": [
      "[6. 4. 2. 9. 6. 3.]\n"
     ]
    }
   ],
   "execution_count": 11
  },
  {
   "metadata": {},
   "cell_type": "markdown",
   "source": "삼항연산자 대신 np.where 이용",
   "id": "2707911f82740b0a"
  },
  {
   "metadata": {
    "ExecuteTime": {
     "end_time": "2025-03-15T08:19:39.450822Z",
     "start_time": "2025-03-15T08:19:39.448742Z"
    }
   },
   "cell_type": "code",
   "source": [
    "z = np.where(y>3.0 , True, False)\n",
    "print(z)"
   ],
   "id": "37628e3f4cef812b",
   "outputs": [
    {
     "name": "stdout",
     "output_type": "stream",
     "text": [
      "[ True  True False  True  True False]\n"
     ]
    }
   ],
   "execution_count": 12
  },
  {
   "metadata": {
    "ExecuteTime": {
     "end_time": "2025-03-15T08:19:47.993710Z",
     "start_time": "2025-03-15T08:19:47.989979Z"
    }
   },
   "cell_type": "code",
   "source": "y.astype(int)",
   "id": "5208a1e30245e728",
   "outputs": [
    {
     "data": {
      "text/plain": [
       "array([6, 4, 2, 9, 6, 3])"
      ]
     },
     "execution_count": 14,
     "metadata": {},
     "output_type": "execute_result"
    }
   ],
   "execution_count": 14
  },
  {
   "metadata": {
    "ExecuteTime": {
     "end_time": "2025-03-15T08:21:55.383954Z",
     "start_time": "2025-03-15T08:21:55.381286Z"
    }
   },
   "cell_type": "code",
   "source": "x = np.array([[1,2,3],[4,5,6]])",
   "id": "46aec63104fd6ff",
   "outputs": [],
   "execution_count": 15
  },
  {
   "metadata": {
    "ExecuteTime": {
     "end_time": "2025-03-15T08:21:58.520319Z",
     "start_time": "2025-03-15T08:21:58.517687Z"
    }
   },
   "cell_type": "code",
   "source": "print(x)",
   "id": "660f42f10c2db603",
   "outputs": [
    {
     "name": "stdout",
     "output_type": "stream",
     "text": [
      "[[1 2 3]\n",
      " [4 5 6]]\n"
     ]
    }
   ],
   "execution_count": 16
  },
  {
   "metadata": {
    "ExecuteTime": {
     "end_time": "2025-03-15T08:22:02.222502Z",
     "start_time": "2025-03-15T08:22:02.220377Z"
    }
   },
   "cell_type": "code",
   "source": "x.shape",
   "id": "2b6801341012752e",
   "outputs": [
    {
     "data": {
      "text/plain": [
       "(2, 3)"
      ]
     },
     "execution_count": 18,
     "metadata": {},
     "output_type": "execute_result"
    }
   ],
   "execution_count": 18
  },
  {
   "metadata": {
    "ExecuteTime": {
     "end_time": "2025-03-15T08:22:39.069114Z",
     "start_time": "2025-03-15T08:22:39.066120Z"
    }
   },
   "cell_type": "code",
   "source": [
    "y = np.where(x>2,1,0)\n",
    "print(y)"
   ],
   "id": "bba6e46baef5ea8c",
   "outputs": [
    {
     "name": "stdout",
     "output_type": "stream",
     "text": [
      "[[0 0 1]\n",
      " [1 1 1]]\n"
     ]
    }
   ],
   "execution_count": 19
  },
  {
   "metadata": {
    "ExecuteTime": {
     "end_time": "2025-03-15T08:22:59.725355Z",
     "start_time": "2025-03-15T08:22:59.722647Z"
    }
   },
   "cell_type": "code",
   "source": [
    "for _ in y:\n",
    "    print(_)"
   ],
   "id": "915c05e8404a52b4",
   "outputs": [
    {
     "name": "stdout",
     "output_type": "stream",
     "text": [
      "[0 0 1]\n",
      "[1 1 1]\n"
     ]
    }
   ],
   "execution_count": 20
  },
  {
   "metadata": {},
   "cell_type": "markdown",
   "source": [
    "plt 이용시\n",
    "- label & legend 짝꿍\n",
    "- plt.plot & plt.show"
   ],
   "id": "1b2e3d12813fd633"
  },
  {
   "metadata": {
    "ExecuteTime": {
     "end_time": "2025-03-15T08:27:05.589790Z",
     "start_time": "2025-03-15T08:27:05.533736Z"
    }
   },
   "cell_type": "code",
   "source": [
    "import matplotlib.pyplot as plt\n",
    "x = np.arange(0,6,0.2) # 간격을 0.2로..\n",
    "y1 = np.sin(x)\n",
    "y2 = np.cos(x)\n",
    "\n",
    "plt.plot(x,y1,label='sin(x)')\n",
    "plt.plot(x,y2,label='cos(x)')\n",
    "plt.plot(x,y2)\n",
    "plt.xlabel('x')\n",
    "plt.ylabel('y')\n",
    "plt.title('Plot of sin&cos')\n",
    "plt.legend()     ## 이건 위에서 label이 있어야만 동작함\n",
    "plt.show()"
   ],
   "id": "2209bbc611f498d5",
   "outputs": [
    {
     "data": {
      "text/plain": [
       "<Figure size 640x480 with 1 Axes>"
      ],
      "image/png": "[encoded data removed]"
     },
     "metadata": {},
     "output_type": "display_data"
    }
   ],
   "execution_count": 37
  },
  {
   "metadata": {
    "ExecuteTime": {
     "end_time": "2025-03-15T08:29:55.480960Z",
     "start_time": "2025-03-15T08:29:55.423379Z"
    }
   },
   "cell_type": "code",
   "source": [
    "from matplotlib.image import imread\n",
    "\n",
    "img = imread('../../../../../Downloads/pngegg.png')\n",
    "\n",
    "plt.imshow(img)\n",
    "plt.show()\n"
   ],
   "id": "63916e39f8da61a6",
   "outputs": [
    {
     "data": {
      "text/plain": [
       "<Figure size 640x480 with 1 Axes>"
      ],
      "image/png": "[encoded data removed]"
     },
     "metadata": {},
     "output_type": "display_data"
    }
   ],
   "execution_count": 53
  }
 ],
 "metadata": {
  "kernelspec": {
   "display_name": "Python 3",
   "language": "python",
   "name": "python3"
  },
  "language_info": {
   "codemirror_mode": {
    "name": "ipython",
    "version": 2
   },
   "file_extension": ".py",
   "mimetype": "text/x-python",
   "name": "python",
   "nbconvert_exporter": "python",
   "pygments_lexer": "ipython2",
   "version": "2.7.6"
  }
 },
 "nbformat": 4,
 "nbformat_minor": 5
}
