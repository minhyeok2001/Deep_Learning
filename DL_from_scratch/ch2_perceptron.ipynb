{
 "cells": [
  {
   "metadata": {},
   "cell_type": "markdown",
   "source": "simple AND perceptron",
   "id": "aec00a3aae19620c"
  },
  {
   "metadata": {
    "collapsed": true,
    "ExecuteTime": {
     "end_time": "2025-03-15T08:40:42.288718Z",
     "start_time": "2025-03-15T08:40:42.285521Z"
    }
   },
   "cell_type": "code",
   "source": [
    "def perceptron_and(x1,x2):\n",
    "    w1,w2,theta,beta = 0.3,0.3,0.5,0.0\n",
    "\n",
    "    tmp = x1*w1 + x2*w2 + beta\n",
    "    if tmp <= theta:\n",
    "        print(0)\n",
    "    else :\n",
    "        print(1)\n",
    "    return"
   ],
   "id": "initial_id",
   "outputs": [],
   "execution_count": 8
  },
  {
   "metadata": {
    "ExecuteTime": {
     "end_time": "2025-03-15T08:41:05.493326Z",
     "start_time": "2025-03-15T08:41:05.490424Z"
    }
   },
   "cell_type": "code",
   "source": [
    "perceptron_and(1,1)\n",
    "perceptron_and(0,0)\n",
    "perceptron_and(1,0)\n",
    "perceptron_and(0,1)"
   ],
   "id": "133634b68988df78",
   "outputs": [
    {
     "name": "stdout",
     "output_type": "stream",
     "text": [
      "1\n",
      "0\n",
      "0\n",
      "0\n"
     ]
    }
   ],
   "execution_count": 12
  },
  {
   "metadata": {},
   "cell_type": "markdown",
   "source": "위 과정을 numpy로 진행",
   "id": "3a73cb5af98aeeda"
  },
  {
   "metadata": {
    "ExecuteTime": {
     "end_time": "2025-03-15T08:44:44.251560Z",
     "start_time": "2025-03-15T08:44:44.247638Z"
    }
   },
   "cell_type": "code",
   "source": [
    "import numpy as np\n",
    "def numpy_perceptron_and(x):\n",
    "    weight = np.array([0.3,0.4])\n",
    "    threshold = 0.6\n",
    "    if np.sum(x*weight) <= threshold:\n",
    "        print(0)\n",
    "    else :\n",
    "        print(1)\n",
    "    return"
   ],
   "id": "ad7e53ae3b2565cd",
   "outputs": [],
   "execution_count": 17
  },
  {
   "metadata": {
    "ExecuteTime": {
     "end_time": "2025-03-15T08:45:13.491554Z",
     "start_time": "2025-03-15T08:45:13.488965Z"
    }
   },
   "cell_type": "code",
   "source": [
    "x1 = np.array([0,0])\n",
    "x2 = np.array([1,0])\n",
    "x3 = np.array([0,1])\n",
    "x4 = np.array([1,1])\n",
    "numpy_perceptron_and(x1)\n",
    "numpy_perceptron_and(x2)\n",
    "numpy_perceptron_and(x3)\n",
    "numpy_perceptron_and(x4)"
   ],
   "id": "3e730a62326868a5",
   "outputs": [
    {
     "name": "stdout",
     "output_type": "stream",
     "text": [
      "0\n",
      "0\n",
      "0\n",
      "1\n"
     ]
    }
   ],
   "execution_count": 19
  },
  {
   "metadata": {},
   "cell_type": "markdown",
   "source": [
    "XOR은 어때요?\n",
    "- recap 해보자면, XOR은 퍼셉트론으로 해결되지 않아서 multi-layer를 구성\n",
    "- NAND + OR을 AND하여 만들 수 있음 ( 개념적으로 2 layer )"
   ],
   "id": "8004214a427dcc65"
  }
 ],
 "metadata": {
  "kernelspec": {
   "display_name": "Python 3",
   "language": "python",
   "name": "python3"
  },
  "language_info": {
   "codemirror_mode": {
    "name": "ipython",
    "version": 2
   },
   "file_extension": ".py",
   "mimetype": "text/x-python",
   "name": "python",
   "nbconvert_exporter": "python",
   "pygments_lexer": "ipython2",
   "version": "2.7.6"
  }
 },
 "nbformat": 4,
 "nbformat_minor": 5
}
