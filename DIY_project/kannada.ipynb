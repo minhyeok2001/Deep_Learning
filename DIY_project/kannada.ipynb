{
  "nbformat": 4,
  "nbformat_minor": 0,
  "metadata": {
    "colab": {
      "provenance": [],
      "gpuType": "V28",
      "authorship_tag": "ABX9TyOu+VgnuFRy/+iEDttav+gR",
      "include_colab_link": true
    },
    "kernelspec": {
      "name": "python3",
      "display_name": "Python 3"
    },
    "language_info": {
      "name": "python"
    },
    "accelerator": "TPU"
  },
  "cells": [
    {
      "cell_type": "markdown",
      "metadata": {
        "id": "view-in-github",
        "colab_type": "text"
      },
      "source": [
        "<a href=\"https://colab.research.google.com/github/minhyeok2001/Computer-Vision/blob/main/kannada.ipynb\" target=\"_parent\"><img src=\"https://colab.research.google.com/assets/colab-badge.svg\" alt=\"Open In Colab\"/></a>"
      ]
    },
    {
      "cell_type": "code",
      "execution_count": null,
      "metadata": {
        "colab": {
          "base_uri": "https://localhost:8080/"
        },
        "id": "9lUX_-BgQZET",
        "outputId": "1ddbf2f2-4415-4a41-9e9e-9af40923348b"
      },
      "outputs": [
        {
          "output_type": "stream",
          "name": "stdout",
          "text": [
            "Mounted at /content/drive\n"
          ]
        }
      ],
      "source": [
        "from google.colab import drive\n",
        "drive.mount('/content/drive')"
      ]
    },
    {
      "cell_type": "code",
      "source": [
        "train_file_path = '/content/drive/MyDrive/Kannada-MNIST/train.csv'\n",
        "test_file_path = '/content/drive/MyDrive/Kannada-MNIST/test.csv'"
      ],
      "metadata": {
        "id": "KI_TGPvWRYVX"
      },
      "execution_count": null,
      "outputs": []
    },
    {
      "cell_type": "code",
      "source": [
        "import pandas as pd\n",
        "\n",
        "train_data = pd.read_csv(train_file_path)\n",
        "test_data = pd.read_csv(test_file_path)"
      ],
      "metadata": {
        "id": "H08B8M2LRcGT"
      },
      "execution_count": null,
      "outputs": []
    },
    {
      "cell_type": "code",
      "source": [
        "print(train_data)"
      ],
      "metadata": {
        "colab": {
          "base_uri": "https://localhost:8080/"
        },
        "id": "GrhMKj1LTYeA",
        "outputId": "1e69b617-57d6-4fca-8266-fb5c01248680"
      },
      "execution_count": null,
      "outputs": [
        {
          "output_type": "stream",
          "name": "stdout",
          "text": [
            "       label  pixel0  pixel1  pixel2  pixel3  pixel4  pixel5  pixel6  pixel7  \\\n",
            "0          0       0       0       0       0       0       0       0       0   \n",
            "1          1       0       0       0       0       0       0       0       0   \n",
            "2          2       0       0       0       0       0       0       0       0   \n",
            "3          3       0       0       0       0       0       0       0       0   \n",
            "4          4       0       0       0       0       0       0       0       0   \n",
            "...      ...     ...     ...     ...     ...     ...     ...     ...     ...   \n",
            "59995      5       0       0       0       0       0       0       0       0   \n",
            "59996      6       0       0       0       0       0       0       0       0   \n",
            "59997      7       0       0       0       0       0       0       0       0   \n",
            "59998      8       0       0       0       0       0       0       0       0   \n",
            "59999      9       0       0       0       0       0       0       0       0   \n",
            "\n",
            "       pixel8  ...  pixel774  pixel775  pixel776  pixel777  pixel778  \\\n",
            "0           0  ...         0         0         0         0         0   \n",
            "1           0  ...         0         0         0         0         0   \n",
            "2           0  ...         0         0         0         0         0   \n",
            "3           0  ...         0         0         0         0         0   \n",
            "4           0  ...         0         0         0         0         0   \n",
            "...       ...  ...       ...       ...       ...       ...       ...   \n",
            "59995       0  ...         0         0         0         0         0   \n",
            "59996       0  ...         0         0         0         0         0   \n",
            "59997       0  ...         0         0         0         0         0   \n",
            "59998       0  ...         0         0         0         0         0   \n",
            "59999       0  ...         0         0         0         0         0   \n",
            "\n",
            "       pixel779  pixel780  pixel781  pixel782  pixel783  \n",
            "0             0         0         0         0         0  \n",
            "1             0         0         0         0         0  \n",
            "2             0         0         0         0         0  \n",
            "3             0         0         0         0         0  \n",
            "4             0         0         0         0         0  \n",
            "...         ...       ...       ...       ...       ...  \n",
            "59995         0         0         0         0         0  \n",
            "59996         0         0         0         0         0  \n",
            "59997         0         0         0         0         0  \n",
            "59998         0         0         0         0         0  \n",
            "59999         0         0         0         0         0  \n",
            "\n",
            "[60000 rows x 785 columns]\n"
          ]
        }
      ]
    },
    {
      "cell_type": "code",
      "source": [
        "import matplotlib.pyplot as plt\n",
        "import numpy as np\n",
        "\n",
        "# 데이터프레임에서 첫 번째 행의 픽셀 값 추출\n",
        "first_image = train_data.iloc[1, 1:].values  # 1번째부터 픽셀 값\n",
        "label = train_data.iloc[0, 0]  # 라벨 값\n",
        "\n",
        "print(first_image)\n",
        "\n",
        "# 28x28로 변환\n",
        "first_image = first_image.reshape(28, 28)\n",
        "\n",
        "# 이미지 출력\n",
        "plt.imshow(first_image, cmap='gray')\n",
        "plt.title(f'Label: {label}')\n",
        "plt.axis('off')\n",
        "plt.show()"
      ],
      "metadata": {
        "colab": {
          "base_uri": "https://localhost:8080/",
          "height": 1000
        },
        "id": "KUL_dwSMT3D5",
        "outputId": "9e712c99-83aa-42f6-df8d-ae022f54996e"
      },
      "execution_count": null,
      "outputs": [
        {
          "output_type": "stream",
          "name": "stdout",
          "text": [
            "[  0   0   0   0   0   0   0   0   0   0   0   0   0   0   0   0   0   0\n",
            "   0   0   0   0   0   0   0   0   0   0   0   0   0   0   0   0   0   0\n",
            "   0   0   0   0   0   0   0   0   0   0   0   0   0   0   0   0   0   0\n",
            "   0   0   0   0   0   0   0   0   0   0   0   0   0   0   0   0   0   0\n",
            "   0   0   0   0   0   0   0   0   0   0   0   0   0   0   0   0   0   0\n",
            "   0   0   0   0   0   0   0   0   0   0   0   0   0   0   0   0   0   0\n",
            "   0   0   0   0   0   0   0   0   0   0   0   0   0   0   0   0   0   0\n",
            "   0   0   0   0   0   0   0   0   0   0   0   0   0   0   0   0   0   0\n",
            "   0   0   0   0   0   0   0   0   0   0   0   0   0   0   0   0   0   0\n",
            "   0   0   0   0   0   0   0   0   0   0   0   0   0   0   0   0   0   0\n",
            "   0   0   6 255 255   6   0   0   0   0   0   0   0   0   0   0   0   0\n",
            "   0   0   0   0   0   0   0   0   0   0   0  19 255 236 236 255   0   0\n",
            "   0   0   0   0   0   0   0   0   0   0   0   0   0   0   0   0   0   0\n",
            "   0   0   0 255 255   0   0 223  32   0   0   0   0   0   0   0   0   0\n",
            "   0   0   0   0   0   0   0   0   0   0   0   0  45 255 210   0   0   0\n",
            " 255   0   0   0   0   0   0   0   0   0   0   0   0   0   0   0   0   0\n",
            "   0   0   0   0 255 198   0   0   0   0 255   0   0   0   0   0   0   0\n",
            "   0   0   0   0   0   0   0   0   0   0   0   0   0  70 255   0   0   0\n",
            "   0   0 255   0   0   0   0   0   0   0   0   0   0   0   0   0   0   0\n",
            "   0   0   0   0   0 255 172   0   0   0   0   0 255  83   0   0   0   0\n",
            "   0   0   0   0   0   0   0   0   0   0   0   0   0   0   0 255   0   0\n",
            "   0   0   0   0 255 255   0   0   0   0   0   0   0   0   0   0   0   0\n",
            "   0   0   0   0   0   0   0 255   0   0   0   0   0   0 255 255   0   0\n",
            "   0   0   0   0   0   0   0   0   0   0   0   0   0   0   0   0 121 134\n",
            "   0   0   0   0   0   0 255 255   0   0   0   0   0   0   0   0   0   0\n",
            "   0   0   0   0   0   0   0   0 255   0   0   0   0   0   0   0 255 121\n",
            "   0   0   0   0   0   0   0   0   0   0   0   0   0   0   0   0   0   0\n",
            " 255   0   0   0   0   0   0   0 255   0   0   0   0   0   0   0   0   0\n",
            "   0   0   0   0   0   0   0   0   0   0 255   0   0   0   0   0   0   0\n",
            " 255   0   0   0   0   0   0   0   0   0   0   0   0   0   0   0   0   0\n",
            "   0   0 255   0   0   0   0   0   0   0 255   0   0   0   0   0   0   0\n",
            "   0   0   0   0   0   0   0   0   0   0   0   0 255   0   0   0   0   0\n",
            "   0   0 255   0   0   0   0   0   0   0   0   0   0   0   0   0   0   0\n",
            "   0   0   0   0 255   0   0   0   0   0   0   0 255   0   0   0   0   0\n",
            "   0   0   0   0   0   0   0   0   0   0   0   0   0   0 255 210   0   0\n",
            "   0   0   0   0  45   0   0   0   0   0   0   0   0   0   0   0   0   0\n",
            "   0   0   0   0   0   0  32 255   0   0   0   0   0   0   0   0   0   0\n",
            "   0   0   0   0   0   0   0   0   0   0   0   0   0   0   0   0   0 255\n",
            "   0   0   0   0   0   0   0   0   0   0   0   0   0   0   0   0   0   0\n",
            "   0   0   0   0   0   0   0   0   0   6 249   0   0   0   0   0   0   0\n",
            "   0   0   0   0   0   0   0   0   0   0   0   0   0   0   0   0   0   0\n",
            "   0   0   0   0   0   0   0   0   0   0   0   0   0   0   0   0   0   0\n",
            "   0   0   0   0   0   0   0   0   0   0   0   0   0   0   0   0   0   0\n",
            "   0   0   0   0   0   0   0   0   0   0]\n"
          ]
        },
        {
          "output_type": "display_data",
          "data": {
            "text/plain": [
              "<Figure size 640x480 with 1 Axes>"
            ],
            "image/png": "[encoded data removed]"
          },
          "metadata": {}
        }
      ]
    },
    {
      "cell_type": "code",
      "source": [
        "import torch\n",
        "\n",
        "train_images = []\n",
        "train_labels = []\n",
        "\n",
        "# 각 행에서 데이터를 추출\n",
        "for idx in range(len(train_data)):\n",
        "    # 라벨 추출\n",
        "    label = train_data.iloc[idx,0]\n",
        "    train_labels.append(label)\n",
        "\n",
        "    # 픽셀 데이터 추출\n",
        "    pixels = train_data.iloc[idx,1:].values.reshape((1, 28, 28))\n",
        "    train_images.append(pixels)\n",
        "\n",
        "\n",
        "train_images = torch.tensor(train_images, dtype=torch.float32)  # 이미지는 float32 텐서로 변환\n",
        "train_labels = torch.tensor(train_labels, dtype=torch.long)    # 라벨은 long 텐서로 변환"
      ],
      "metadata": {
        "id": "BgI2V0AfUGsT"
      },
      "execution_count": null,
      "outputs": []
    },
    {
      "cell_type": "code",
      "source": [
        "print(train_images.shape)"
      ],
      "metadata": {
        "colab": {
          "base_uri": "https://localhost:8080/"
        },
        "id": "PMc9jI0SWFRE",
        "outputId": "9a8037a6-1000-4969-f614-0860f55f016a"
      },
      "execution_count": null,
      "outputs": [
        {
          "output_type": "stream",
          "name": "stdout",
          "text": [
            "torch.Size([60000, 28, 28, 1])\n"
          ]
        }
      ]
    },
    {
      "cell_type": "code",
      "source": [
        "train_set = torch.utils.data.TensorDataset(train_images, train_labels)"
      ],
      "metadata": {
        "id": "vRvpmI5qoa31"
      },
      "execution_count": null,
      "outputs": []
    },
    {
      "cell_type": "code",
      "source": [
        "print(train_set[0][0].shape)"
      ],
      "metadata": {
        "colab": {
          "base_uri": "https://localhost:8080/"
        },
        "id": "xgPQW0MEiFWv",
        "outputId": "d68832a5-19a8-4ca0-979b-d5f02f3b3196"
      },
      "execution_count": null,
      "outputs": [
        {
          "output_type": "stream",
          "name": "stdout",
          "text": [
            "torch.Size([1, 28, 28])\n"
          ]
        }
      ]
    },
    {
      "cell_type": "code",
      "source": [
        "test_images = []\n",
        "test_labels = []\n",
        "\n",
        "for idx in range(len(test_data)):\n",
        "    # 라벨 추출\n",
        "    label = test_data.iloc[idx,0]\n",
        "    test_labels.append(label)\n",
        "\n",
        "    pixels = test_data.iloc[idx,1:].values.reshape((1, 28, 28))\n",
        "    test_images.append(pixels)\n",
        "\n",
        "\n",
        "test_images = torch.tensor(train_images, dtype=torch.float32)  # 이미지는 float32 텐서로 변\n",
        "test_labels = torch.tensor(train_labels, dtype=torch.long)    # 라벨은 long 텐서로 변환"
      ],
      "metadata": {
        "colab": {
          "base_uri": "https://localhost:8080/"
        },
        "id": "se6z9wX4W8Tu",
        "outputId": "77f3ba04-8f3b-4ec1-80b0-dab407c8d2c9"
      },
      "execution_count": null,
      "outputs": [
        {
          "output_type": "stream",
          "name": "stderr",
          "text": [
            "<ipython-input-77-9fbed78e3bdd>:13: UserWarning: To copy construct from a tensor, it is recommended to use sourceTensor.clone().detach() or sourceTensor.clone().detach().requires_grad_(True), rather than torch.tensor(sourceTensor).\n",
            "  test_images = torch.tensor(train_images, dtype=torch.float32)  # 이미지는 float32 텐서로 변\n",
            "<ipython-input-77-9fbed78e3bdd>:14: UserWarning: To copy construct from a tensor, it is recommended to use sourceTensor.clone().detach() or sourceTensor.clone().detach().requires_grad_(True), rather than torch.tensor(sourceTensor).\n",
            "  test_labels = torch.tensor(train_labels, dtype=torch.long)    # 라벨은 long 텐서로 변환\n"
          ]
        }
      ]
    },
    {
      "cell_type": "code",
      "source": [
        "test_set = torch.utils.data.TensorDataset(test_images, test_labels)"
      ],
      "metadata": {
        "id": "NdOnCKvUokLc"
      },
      "execution_count": null,
      "outputs": []
    },
    {
      "cell_type": "markdown",
      "source": [
        "<< 사용자 데이터셋 정의 ( NO TensorDataset )>>"
      ],
      "metadata": {
        "id": "2xoI-0cc7R-p"
      }
    },
    {
      "cell_type": "code",
      "source": [
        "from torchvision import transforms\n",
        "transform = transforms.Compose([\n",
        "    transforms.RandomRotation(10),  # -10도 ~ 10도 사이로 랜덤 회전\n",
        "    transforms.RandomHorizontalFlip(),  # 랜덤 좌우 반전\n",
        "])"
      ],
      "metadata": {
        "id": "pe-e4f-r7lZW"
      },
      "execution_count": null,
      "outputs": []
    },
    {
      "cell_type": "code",
      "source": [
        "class CustomDataset(torch.utils.data.Dataset):\n",
        "  def __init__(self, images, labels, transform) :\n",
        "    self.images = images\n",
        "    self.labels = labels\n",
        "    self.transform = transform\n",
        "\n",
        "  def __len__(self):\n",
        "    return len(self.labels)\n",
        "\n",
        "  def __getitem__(self,idx):\n",
        "    image = self.images[idx]\n",
        "    label = self.labels[idx]\n",
        "\n",
        "    if self.transform :\n",
        "      image = self.transform(image)\n",
        "\n",
        "    return image, label\n"
      ],
      "metadata": {
        "id": "eBFB5okn7XSd"
      },
      "execution_count": null,
      "outputs": []
    },
    {
      "cell_type": "code",
      "source": [
        "train_set = CustomDataset(train_images, train_labels, transform=transform)"
      ],
      "metadata": {
        "id": "MZ8O5xZ87YQA"
      },
      "execution_count": null,
      "outputs": []
    },
    {
      "cell_type": "code",
      "source": [
        "import torch\n",
        "\n",
        "train_loader = torch.utils.data.DataLoader(train_set, batch_size=64, shuffle=True)\n",
        "test_loader = torch.utils.data.DataLoader(test_set, batch_size=64, shuffle=False)"
      ],
      "metadata": {
        "id": "_Pjjit1VSriQ"
      },
      "execution_count": null,
      "outputs": []
    },
    {
      "cell_type": "markdown",
      "source": [
        "\t•\tPyTorch는 CNN 입력 데이터를 (C, H, W) 또는 (N, C, H, W) 형식으로 처리합니다.\n",
        "\t•\t현재 데이터는 (N, H, W, C) 형태로 저장된 것으로 보이며, 이를 (N, C, H, W)로 변환해야 합니다."
      ],
      "metadata": {
        "id": "FXiR3RFddCX6"
      }
    },
    {
      "cell_type": "markdown",
      "source": [
        "데이터 로더에 넣었으니 이제 모델 제작\n",
        "\n",
        "인풋은 28x28 1차원."
      ],
      "metadata": {
        "id": "eQee3dLvXyYX"
      }
    },
    {
      "cell_type": "code",
      "source": [
        "import torch.nn as nn\n",
        "class CNN(nn.Module):\n",
        "  def __init__(self):\n",
        "    super(CNN, self).__init__()\n",
        "    self.k1 = nn.Conv2d(1,16,kernel_size=3,padding=1)\n",
        "    self.k2 = nn.Conv2d(16,8,kernel_size=3)\n",
        "    self.k3 = nn.Conv2d(8,4,kernel_size=2)\n",
        "    self.fc = nn.Linear(4*2*2,10)\n",
        "    self.pool = nn.AvgPool2d(2,2)\n",
        "    self.act = nn.ReLU()\n",
        "    self.dropout = nn.Dropout(0.2)\n",
        "\n",
        "  def forward(self,x):\n",
        "    x = self.k1(x)\n",
        "    x = self.act(x)\n",
        "    x = self.pool(x)\n",
        "\n",
        "    x = self.k2(x)\n",
        "    x = self.act(x)\n",
        "    x = self.pool(x)\n",
        "\n",
        "    x = self.k3(x)\n",
        "    x = self.act(x)\n",
        "    x = self.pool(x)\n",
        "\n",
        "    x = x.view(x.size(0),-1)\n",
        "    x = self.fc(x)\n",
        "    return x"
      ],
      "metadata": {
        "id": "FGvzzyH2Xx2Z"
      },
      "execution_count": null,
      "outputs": []
    },
    {
      "cell_type": "code",
      "source": [
        "model = CNN()\n",
        "model.train()\n",
        "\n",
        "loss_fn = nn.CrossEntropyLoss()\n",
        "optimizer = torch.optim.Adam(model.parameters(), lr=0.001)\n",
        "\n",
        "for epoch in range(5):\n",
        "  for input, labels in train_loader:\n",
        "      y = model(input)\n",
        "      loss = loss_fn(y,labels)\n",
        "      optimizer.zero_grad()\n",
        "      loss.backward()\n",
        "      optimizer.step()"
      ],
      "metadata": {
        "id": "79W7IMm3aAGZ"
      },
      "execution_count": null,
      "outputs": []
    },
    {
      "cell_type": "code",
      "source": [
        "model.eval()\n",
        "\n",
        "correct = 0\n",
        "total = 0\n",
        "\n",
        "with torch.no_grad():\n",
        "  for input, labels in test_loader:\n",
        "    outputs = model(input)\n",
        "    predictions = torch.argmax(outputs,dim=1)\n",
        "    correct += (predictions == labels).sum().item() # 그냥 sum만 하면 텐서꼴로 나옴. 이걸 숫자로 바꾸기 위해서 item 사용\n",
        "    total +=labels.size(0)\n",
        "\n",
        "\n",
        "print(f'accuracy: {correct/total}')"
      ],
      "metadata": {
        "colab": {
          "base_uri": "https://localhost:8080/"
        },
        "id": "UUNAxchCrPKv",
        "outputId": "627c962e-9912-44ae-e7b7-020cc9101404"
      },
      "execution_count": null,
      "outputs": [
        {
          "output_type": "stream",
          "name": "stdout",
          "text": [
            "accuracy: 0.9456166666666667\n"
          ]
        }
      ]
    },
    {
      "cell_type": "code",
      "source": [
        "import pandas as pd\n",
        "\n",
        "# 예측 결과를 DataFrame으로 생성\n",
        "submission = pd.DataFrame({\n",
        "    'id': test_ids,        # 테스트 데이터의 ID\n",
        "    'label': predictions   # 모델의 예측 결과\n",
        "})\n",
        "\n",
        "# CSV 파일로 저장\n",
        "submission.to_csv('submission.csv', index=False)"
      ],
      "metadata": {
        "id": "YGu8L73-lFmY"
      },
      "execution_count": null,
      "outputs": []
    }
  ]
}