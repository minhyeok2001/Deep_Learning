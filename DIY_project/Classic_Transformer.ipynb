{
  "cells": [
    {
      "cell_type": "markdown",
      "metadata": {
        "id": "view-in-github",
        "colab_type": "text"
      },
      "source": [
        "<a href=\"https://colab.research.google.com/github/minhyeok2001/Computer-Vision/blob/main/Classic_Transformer.ipynb\" target=\"_parent\"><img src=\"https://colab.research.google.com/assets/colab-badge.svg\" alt=\"Open In Colab\"/></a>"
      ]
    },
    {
      "cell_type": "markdown",
      "metadata": {
        "id": "lUJCLtaIlluj"
      },
      "source": [
        "# 데이터 준비"
      ]
    },
    {
      "cell_type": "markdown",
      "metadata": {
        "id": "V7kFJ5CrlqJS"
      },
      "source": []
    },
    {
      "cell_type": "code",
      "execution_count": 1,
      "metadata": {
        "colab": {
          "base_uri": "https://localhost:8080/"
        },
        "id": "0y7SqrcTLlvA",
        "outputId": "bc6acb38-9ee5-4826-d3fb-cc078a9fd52c"
      },
      "outputs": [
        {
          "output_type": "stream",
          "name": "stdout",
          "text": [
            "Requirement already satisfied: transformers in /usr/local/lib/python3.11/dist-packages (4.47.1)\n",
            "Collecting datasets\n",
            "  Downloading datasets-3.2.0-py3-none-any.whl.metadata (20 kB)\n",
            "Requirement already satisfied: filelock in /usr/local/lib/python3.11/dist-packages (from transformers) (3.17.0)\n",
            "Requirement already satisfied: huggingface-hub<1.0,>=0.24.0 in /usr/local/lib/python3.11/dist-packages (from transformers) (0.27.1)\n",
            "Requirement already satisfied: numpy>=1.17 in /usr/local/lib/python3.11/dist-packages (from transformers) (1.26.4)\n",
            "Requirement already satisfied: packaging>=20.0 in /usr/local/lib/python3.11/dist-packages (from transformers) (24.2)\n",
            "Requirement already satisfied: pyyaml>=5.1 in /usr/local/lib/python3.11/dist-packages (from transformers) (6.0.2)\n",
            "Requirement already satisfied: regex!=2019.12.17 in /usr/local/lib/python3.11/dist-packages (from transformers) (2024.11.6)\n",
            "Requirement already satisfied: requests in /usr/local/lib/python3.11/dist-packages (from transformers) (2.32.3)\n",
            "Requirement already satisfied: tokenizers<0.22,>=0.21 in /usr/local/lib/python3.11/dist-packages (from transformers) (0.21.0)\n",
            "Requirement already satisfied: safetensors>=0.4.1 in /usr/local/lib/python3.11/dist-packages (from transformers) (0.5.2)\n",
            "Requirement already satisfied: tqdm>=4.27 in /usr/local/lib/python3.11/dist-packages (from transformers) (4.67.1)\n",
            "Requirement already satisfied: pyarrow>=15.0.0 in /usr/local/lib/python3.11/dist-packages (from datasets) (17.0.0)\n",
            "Collecting dill<0.3.9,>=0.3.0 (from datasets)\n",
            "  Downloading dill-0.3.8-py3-none-any.whl.metadata (10 kB)\n",
            "Requirement already satisfied: pandas in /usr/local/lib/python3.11/dist-packages (from datasets) (2.2.2)\n",
            "Collecting xxhash (from datasets)\n",
            "  Downloading xxhash-3.5.0-cp311-cp311-manylinux_2_17_x86_64.manylinux2014_x86_64.whl.metadata (12 kB)\n",
            "Collecting multiprocess<0.70.17 (from datasets)\n",
            "  Downloading multiprocess-0.70.16-py311-none-any.whl.metadata (7.2 kB)\n",
            "Collecting fsspec<=2024.9.0,>=2023.1.0 (from fsspec[http]<=2024.9.0,>=2023.1.0->datasets)\n",
            "  Downloading fsspec-2024.9.0-py3-none-any.whl.metadata (11 kB)\n",
            "Requirement already satisfied: aiohttp in /usr/local/lib/python3.11/dist-packages (from datasets) (3.11.11)\n",
            "Requirement already satisfied: aiohappyeyeballs>=2.3.0 in /usr/local/lib/python3.11/dist-packages (from aiohttp->datasets) (2.4.4)\n",
            "Requirement already satisfied: aiosignal>=1.1.2 in /usr/local/lib/python3.11/dist-packages (from aiohttp->datasets) (1.3.2)\n",
            "Requirement already satisfied: attrs>=17.3.0 in /usr/local/lib/python3.11/dist-packages (from aiohttp->datasets) (25.1.0)\n",
            "Requirement already satisfied: frozenlist>=1.1.1 in /usr/local/lib/python3.11/dist-packages (from aiohttp->datasets) (1.5.0)\n",
            "Requirement already satisfied: multidict<7.0,>=4.5 in /usr/local/lib/python3.11/dist-packages (from aiohttp->datasets) (6.1.0)\n",
            "Requirement already satisfied: propcache>=0.2.0 in /usr/local/lib/python3.11/dist-packages (from aiohttp->datasets) (0.2.1)\n",
            "Requirement already satisfied: yarl<2.0,>=1.17.0 in /usr/local/lib/python3.11/dist-packages (from aiohttp->datasets) (1.18.3)\n",
            "Requirement already satisfied: typing-extensions>=3.7.4.3 in /usr/local/lib/python3.11/dist-packages (from huggingface-hub<1.0,>=0.24.0->transformers) (4.12.2)\n",
            "Requirement already satisfied: charset-normalizer<4,>=2 in /usr/local/lib/python3.11/dist-packages (from requests->transformers) (3.4.1)\n",
            "Requirement already satisfied: idna<4,>=2.5 in /usr/local/lib/python3.11/dist-packages (from requests->transformers) (3.10)\n",
            "Requirement already satisfied: urllib3<3,>=1.21.1 in /usr/local/lib/python3.11/dist-packages (from requests->transformers) (2.3.0)\n",
            "Requirement already satisfied: certifi>=2017.4.17 in /usr/local/lib/python3.11/dist-packages (from requests->transformers) (2024.12.14)\n",
            "Requirement already satisfied: python-dateutil>=2.8.2 in /usr/local/lib/python3.11/dist-packages (from pandas->datasets) (2.8.2)\n",
            "Requirement already satisfied: pytz>=2020.1 in /usr/local/lib/python3.11/dist-packages (from pandas->datasets) (2024.2)\n",
            "Requirement already satisfied: tzdata>=2022.7 in /usr/local/lib/python3.11/dist-packages (from pandas->datasets) (2025.1)\n",
            "Requirement already satisfied: six>=1.5 in /usr/local/lib/python3.11/dist-packages (from python-dateutil>=2.8.2->pandas->datasets) (1.17.0)\n",
            "Downloading datasets-3.2.0-py3-none-any.whl (480 kB)\n",
            "\u001b[2K   \u001b[90m━━━━━━━━━━━━━━━━━━━━━━━━━━━━━━━━━━━━━━━━\u001b[0m \u001b[32m480.6/480.6 kB\u001b[0m \u001b[31m25.7 MB/s\u001b[0m eta \u001b[36m0:00:00\u001b[0m\n",
            "\u001b[?25hDownloading dill-0.3.8-py3-none-any.whl (116 kB)\n",
            "\u001b[2K   \u001b[90m━━━━━━━━━━━━━━━━━━━━━━━━━━━━━━━━━━━━━━━━\u001b[0m \u001b[32m116.3/116.3 kB\u001b[0m \u001b[31m8.8 MB/s\u001b[0m eta \u001b[36m0:00:00\u001b[0m\n",
            "\u001b[?25hDownloading fsspec-2024.9.0-py3-none-any.whl (179 kB)\n",
            "\u001b[2K   \u001b[90m━━━━━━━━━━━━━━━━━━━━━━━━━━━━━━━━━━━━━━━━\u001b[0m \u001b[32m179.3/179.3 kB\u001b[0m \u001b[31m10.7 MB/s\u001b[0m eta \u001b[36m0:00:00\u001b[0m\n",
            "\u001b[?25hDownloading multiprocess-0.70.16-py311-none-any.whl (143 kB)\n",
            "\u001b[2K   \u001b[90m━━━━━━━━━━━━━━━━━━━━━━━━━━━━━━━━━━━━━━━━\u001b[0m \u001b[32m143.5/143.5 kB\u001b[0m \u001b[31m11.5 MB/s\u001b[0m eta \u001b[36m0:00:00\u001b[0m\n",
            "\u001b[?25hDownloading xxhash-3.5.0-cp311-cp311-manylinux_2_17_x86_64.manylinux2014_x86_64.whl (194 kB)\n",
            "\u001b[2K   \u001b[90m━━━━━━━━━━━━━━━━━━━━━━━━━━━━━━━━━━━━━━━━\u001b[0m \u001b[32m194.8/194.8 kB\u001b[0m \u001b[31m13.3 MB/s\u001b[0m eta \u001b[36m0:00:00\u001b[0m\n",
            "\u001b[?25hInstalling collected packages: xxhash, fsspec, dill, multiprocess, datasets\n",
            "  Attempting uninstall: fsspec\n",
            "    Found existing installation: fsspec 2024.10.0\n",
            "    Uninstalling fsspec-2024.10.0:\n",
            "      Successfully uninstalled fsspec-2024.10.0\n",
            "\u001b[31mERROR: pip's dependency resolver does not currently take into account all the packages that are installed. This behaviour is the source of the following dependency conflicts.\n",
            "torch 2.5.1+cu124 requires nvidia-cublas-cu12==12.4.5.8; platform_system == \"Linux\" and platform_machine == \"x86_64\", but you have nvidia-cublas-cu12 12.5.3.2 which is incompatible.\n",
            "torch 2.5.1+cu124 requires nvidia-cuda-cupti-cu12==12.4.127; platform_system == \"Linux\" and platform_machine == \"x86_64\", but you have nvidia-cuda-cupti-cu12 12.5.82 which is incompatible.\n",
            "torch 2.5.1+cu124 requires nvidia-cuda-nvrtc-cu12==12.4.127; platform_system == \"Linux\" and platform_machine == \"x86_64\", but you have nvidia-cuda-nvrtc-cu12 12.5.82 which is incompatible.\n",
            "torch 2.5.1+cu124 requires nvidia-cuda-runtime-cu12==12.4.127; platform_system == \"Linux\" and platform_machine == \"x86_64\", but you have nvidia-cuda-runtime-cu12 12.5.82 which is incompatible.\n",
            "torch 2.5.1+cu124 requires nvidia-cudnn-cu12==9.1.0.70; platform_system == \"Linux\" and platform_machine == \"x86_64\", but you have nvidia-cudnn-cu12 9.3.0.75 which is incompatible.\n",
            "torch 2.5.1+cu124 requires nvidia-cufft-cu12==11.2.1.3; platform_system == \"Linux\" and platform_machine == \"x86_64\", but you have nvidia-cufft-cu12 11.2.3.61 which is incompatible.\n",
            "torch 2.5.1+cu124 requires nvidia-curand-cu12==10.3.5.147; platform_system == \"Linux\" and platform_machine == \"x86_64\", but you have nvidia-curand-cu12 10.3.6.82 which is incompatible.\n",
            "torch 2.5.1+cu124 requires nvidia-cusolver-cu12==11.6.1.9; platform_system == \"Linux\" and platform_machine == \"x86_64\", but you have nvidia-cusolver-cu12 11.6.3.83 which is incompatible.\n",
            "torch 2.5.1+cu124 requires nvidia-cusparse-cu12==12.3.1.170; platform_system == \"Linux\" and platform_machine == \"x86_64\", but you have nvidia-cusparse-cu12 12.5.1.3 which is incompatible.\n",
            "torch 2.5.1+cu124 requires nvidia-nvjitlink-cu12==12.4.127; platform_system == \"Linux\" and platform_machine == \"x86_64\", but you have nvidia-nvjitlink-cu12 12.5.82 which is incompatible.\n",
            "gcsfs 2024.10.0 requires fsspec==2024.10.0, but you have fsspec 2024.9.0 which is incompatible.\u001b[0m\u001b[31m\n",
            "\u001b[0mSuccessfully installed datasets-3.2.0 dill-0.3.8 fsspec-2024.9.0 multiprocess-0.70.16 xxhash-3.5.0\n"
          ]
        }
      ],
      "source": [
        "!pip install transformers datasets"
      ]
    },
    {
      "cell_type": "code",
      "execution_count": 2,
      "metadata": {
        "colab": {
          "base_uri": "https://localhost:8080/",
          "height": 454,
          "referenced_widgets": [
            "c5481fd57a7a42bd9c3590ebbc729cf9",
            "5cfde00cddee4f50a5b50b0937d84d1c",
            "614692907d474767bcbdc9dd14922ea8",
            "ed255b5f482c4bc7b48955aa771e5543",
            "b1ce713c13ae4574936edec665cdeb57",
            "9d4feb9418d1460f82e72a05f0b30fd1",
            "949ffc4ca80e44fd9879b32812c75f50",
            "c3b5ec46e4ba43248304d04516c7c705",
            "8eeb158e4eff440dab2291c19e1f9eda",
            "60a306930c594f8097d644936c6fb744",
            "397c8dff9b1543209e37a4d7deedf0ed",
            "1fe34ae2f7a846a0abf449ee648c18fc",
            "db722ec5844d4002862dcb951032a390",
            "45b3eb6b9de546eaa3e7cc19428f5a5e",
            "37a929dec1db4bba941002a3401934e5",
            "c36c3719c23548e3ac578cbce69987b6",
            "e97c58c3ee244f7d8128f44bec2ff058",
            "ac7a9449cc5445808fb0a4922f4046ac",
            "45e94561c183473cbc226ec661058d67",
            "9aa089a2defe48cd8bef235f7ec1b804",
            "4318058361cb40ab997ac39b9faacfa6",
            "48da05bd90b643b1af4391760a996128",
            "642a2fd20fad4e9e8de22743556a7ff1",
            "17f4439b65d54cb1966d9e17c9a45b13",
            "ace6aa62235d4c2eb556119a9331ab0f",
            "9a330fcbd9994bcdb31fe3519aefddb3",
            "4154b1c6937740a28f9b9048ce114656",
            "4589a54a1f954b5ca9266e40b75e1ff6",
            "da9e420a08564442a17dadd64ffd623e",
            "826d7fa17032498f8dae494ef822bb85",
            "e6b553d7fbc14eac8b9886c68973d516",
            "ebc6657060764e269672bea0950fa000",
            "f53461b347a94036a2c214514b1a68f6",
            "e7087e5d20114feaaf1279d046eaf645",
            "d80ff0e1c2dc482dafdcc7645ae9ece6",
            "9b0f6178f26f4e589d81cc6ece0599e0",
            "987bdb31af224f8e8f011845cfa29282",
            "cd00ebde004b45bba1538ec62059aaff",
            "2e290d0f45b444568d77ffc1ea73a981",
            "bcd8f654ca414f8c84f2b7d2b2da41b9",
            "3889e00b38a7453c8cfc58d86d861bac",
            "bf3f0bba36c74eb8a0c89fb8a8e8a99b",
            "a37d3b906bc54952b88142559f511421",
            "5554e373215643ce9d996d54ae649a70",
            "502d6d89f1914bb98cda155cdcf4d59f",
            "d0534701466f4e1a81e80e9c18a3c860",
            "ca258f6e09ef401cbb5f39c44fa8668e",
            "16576e8b6f6e4a1f83e319aa527db6ce",
            "0f6ea938858d47cbba6762d47e1af7ae",
            "dc90ad9734404bdba68657187d5d837c",
            "2d4854723d8940f4b18ed607f6187af9",
            "a0625df173ca4515b51c112c9f4b1855",
            "c955a71e125f43a5b4a39b97192f5a39",
            "74a4ab55da24445092f1bfdb2d81347d",
            "d36b6995c930429a8b225d81d09f62eb",
            "f7b099f15b8244dcbdde488b24e61e9a",
            "6d01460f76134fe0a25b54e2fa28c4ae",
            "97b59c51c4e24e2ba648b1569c921dff",
            "f91f113bc4ec448dba09fb26aa58220f",
            "91e6f861a91848ca9383d915afe800d8",
            "71dcbcaeae654a87a3bf35affa450d2d",
            "6b84a2cf04884033aeae58b283a15c17",
            "6be98b884db34637b1de13df7fcac4a0",
            "bff84ed721414d4b90712717c2d796a1",
            "041bc2baf0d7404abfd375443c2ef567",
            "1ef043b9c92c4fffbc1ec59bd5084c40",
            "fe04a081077b4e61a677189aae32130a",
            "50c8662f5573458e8e68f3f004b2e23e",
            "886ea5d9b82644a0bf6b0347e7095d15",
            "605e541bb6664681b7578a60214ac864",
            "497c360ad2254e42b4706d567777df2e",
            "2c6b972a55e645dbb30469c9d8a0d8a8",
            "50488b7b3f1942a28505b0ffb672071a",
            "9f9cb2fd89cd443286450867a3234618",
            "5fd9e6a5d5754d00bd5b2aa3c71c883a",
            "42ffb1cc31fe45728961c2d81af992c9",
            "7044b0fe95f1413eaee62b1ed6e77212",
            "f5b89f5b2f1f455a8bfae823c6c409c9",
            "d745dffaac054de283c403ce4cc1c5de",
            "d3f2b824782b4a27af096ff4b84ec419",
            "314d617b9506481da39a21b935082a10",
            "dbc7a15d503b4bf39a80709f9e7b58dc",
            "b0918aa411404b3894ce44419c727cd8",
            "8676301ec88d4779b0a717128063fffe",
            "cdf59a33b72b4bb0a0d4ae89d1e54172",
            "a6d3b9f1adac4112a9ff11ce238bd853",
            "8cf6f1464be74728b9928f99d477149a",
            "a43a5491356c4dfe9baf5061fa632586",
            "e900ece8e68a4729acc1098b788d5f3b",
            "0225f509e8c44a00b27b34143da3fa63",
            "dc85b578981f410f9edaa370851b3c27",
            "253814be97274d59ab7982f9bc7179ee",
            "68db2cc250e54348b925b2d88111de6b",
            "0497a8dfa8844d138d4d7a67217f9c51",
            "0b5d209870d4473482cf0df518958e54",
            "c01bd1b18a0b48d983f3afdb10f3c9df",
            "562912dae9f94379bcdf55ea5b1e0c16",
            "e964370327914f33a59fcd5c7292f3d8",
            "99b2d94164bf4796a302b4cba46e8cda"
          ]
        },
        "id": "ORP9lBrymUH_",
        "outputId": "5ccc8fea-85c9-4908-dedd-031fa8bf72ca"
      },
      "outputs": [
        {
          "output_type": "stream",
          "name": "stderr",
          "text": [
            "/usr/local/lib/python3.11/dist-packages/huggingface_hub/utils/_auth.py:94: UserWarning: \n",
            "The secret `HF_TOKEN` does not exist in your Colab secrets.\n",
            "To authenticate with the Hugging Face Hub, create a token in your settings tab (https://huggingface.co/settings/tokens), set it as secret in your Google Colab and restart your session.\n",
            "You will be able to reuse this secret in all of your notebooks.\n",
            "Please note that authentication is recommended but still optional to access public models or datasets.\n",
            "  warnings.warn(\n"
          ]
        },
        {
          "output_type": "display_data",
          "data": {
            "text/plain": [
              "README.md:   0%|          | 0.00/11.1k [00:00<?, ?B/s]"
            ],
            "application/vnd.jupyter.widget-view+json": {
              "version_major": 2,
              "version_minor": 0,
              "model_id": "c5481fd57a7a42bd9c3590ebbc729cf9"
            }
          },
          "metadata": {}
        },
        {
          "output_type": "display_data",
          "data": {
            "text/plain": [
              "train-00000-of-00003.parquet:   0%|          | 0.00/282M [00:00<?, ?B/s]"
            ],
            "application/vnd.jupyter.widget-view+json": {
              "version_major": 2,
              "version_minor": 0,
              "model_id": "1fe34ae2f7a846a0abf449ee648c18fc"
            }
          },
          "metadata": {}
        },
        {
          "output_type": "display_data",
          "data": {
            "text/plain": [
              "train-00001-of-00003.parquet:   0%|          | 0.00/267M [00:00<?, ?B/s]"
            ],
            "application/vnd.jupyter.widget-view+json": {
              "version_major": 2,
              "version_minor": 0,
              "model_id": "642a2fd20fad4e9e8de22743556a7ff1"
            }
          },
          "metadata": {}
        },
        {
          "output_type": "display_data",
          "data": {
            "text/plain": [
              "train-00002-of-00003.parquet:   0%|          | 0.00/277M [00:00<?, ?B/s]"
            ],
            "application/vnd.jupyter.widget-view+json": {
              "version_major": 2,
              "version_minor": 0,
              "model_id": "e7087e5d20114feaaf1279d046eaf645"
            }
          },
          "metadata": {}
        },
        {
          "output_type": "display_data",
          "data": {
            "text/plain": [
              "validation-00000-of-00001.parquet:   0%|          | 0.00/343k [00:00<?, ?B/s]"
            ],
            "application/vnd.jupyter.widget-view+json": {
              "version_major": 2,
              "version_minor": 0,
              "model_id": "502d6d89f1914bb98cda155cdcf4d59f"
            }
          },
          "metadata": {}
        },
        {
          "output_type": "display_data",
          "data": {
            "text/plain": [
              "test-00000-of-00001.parquet:   0%|          | 0.00/475k [00:00<?, ?B/s]"
            ],
            "application/vnd.jupyter.widget-view+json": {
              "version_major": 2,
              "version_minor": 0,
              "model_id": "f7b099f15b8244dcbdde488b24e61e9a"
            }
          },
          "metadata": {}
        },
        {
          "output_type": "display_data",
          "data": {
            "text/plain": [
              "Generating train split:   0%|          | 0/4548885 [00:00<?, ? examples/s]"
            ],
            "application/vnd.jupyter.widget-view+json": {
              "version_major": 2,
              "version_minor": 0,
              "model_id": "fe04a081077b4e61a677189aae32130a"
            }
          },
          "metadata": {}
        },
        {
          "output_type": "display_data",
          "data": {
            "text/plain": [
              "Generating validation split:   0%|          | 0/2169 [00:00<?, ? examples/s]"
            ],
            "application/vnd.jupyter.widget-view+json": {
              "version_major": 2,
              "version_minor": 0,
              "model_id": "f5b89f5b2f1f455a8bfae823c6c409c9"
            }
          },
          "metadata": {}
        },
        {
          "output_type": "display_data",
          "data": {
            "text/plain": [
              "Generating test split:   0%|          | 0/2999 [00:00<?, ? examples/s]"
            ],
            "application/vnd.jupyter.widget-view+json": {
              "version_major": 2,
              "version_minor": 0,
              "model_id": "e900ece8e68a4729acc1098b788d5f3b"
            }
          },
          "metadata": {}
        },
        {
          "output_type": "stream",
          "name": "stdout",
          "text": [
            "{'de': 'Ich erkläre die am Freitag, dem 17. Dezember unterbrochene Sitzungsperiode des Europäischen Parlaments für wiederaufgenommen, wünsche Ihnen nochmals alles Gute zum Jahreswechsel und hoffe, daß Sie schöne Ferien hatten.', 'en': 'I declare resumed the session of the European Parliament adjourned on Friday 17 December 1999, and I would like once again to wish you a happy new year in the hope that you enjoyed a pleasant festive period.'}\n"
          ]
        }
      ],
      "source": [
        "from datasets import load_dataset\n",
        "from transformers import AutoTokenizer\n",
        "\n",
        "dataset = load_dataset(\"wmt16\", \"de-en\", split=\"train[:1%]\")  # WMT16 영어-독일어 데이터\n",
        "\n",
        "print(dataset['translation'][1])"
      ]
    },
    {
      "cell_type": "code",
      "execution_count": 3,
      "metadata": {
        "colab": {
          "base_uri": "https://localhost:8080/",
          "height": 214,
          "referenced_widgets": [
            "08dd7dbd26144d048aab4623b62f16a9",
            "efb315df22f743d69909b3c6ad1b0dc1",
            "7bbef8503fd94d34a74bd76a61cf4f7b",
            "5fe81f760ba5483b9b9ef2338cd84378",
            "811b984cc26041fda41b5d1af9850e90",
            "285810bcd2dc433ab3f8f04998d504c7",
            "ede46ba58d54460d9fc1d0906e890e6e",
            "926fc4decd3f45769086faa4e3a78f58",
            "390d117e51b6456a8347c91c22470e78",
            "bee8df1bb0aa4088a402dab33b438dfd",
            "c9d8dc2e15be4f8fb46db99f1db88626",
            "26b6b64254414943a162a4bd95e1980e",
            "ed00ec43e3004236b605ab1aede54656",
            "4f3bffb9391a4f04863d55a85d39c4ec",
            "23bb71bd87794fc18297063690e20b79",
            "627d3b07ee334f429303e9bb76260e69",
            "387e1da3b1534e0c9f36aa49b8beb5db",
            "3779b3b25ecf492980694adb5ed06f6b",
            "e038f6d7983e496e8b514ebfdbf8a900",
            "8d066b83103949c39008ea07bd72e470",
            "881f3e13d72245a6bc5f1849e53f8b06",
            "89b5206b9f574d0bb3908d43252eebfb",
            "b7f8df82376a4813b1516d0ddaba79fe",
            "f68a6ad18264459989bd5de6df8aa06f",
            "6d29d88149c24ed190873157adef2171",
            "854edc0938874f4189de0ca5918f7464",
            "1ed36365bc0447738288e7ef7ed1ae90",
            "1ca1ea5169124106acb34a7ed7615977",
            "0248e3e2c5c44144bf07823d352d4dab",
            "5a003b24108045c88009b10f0e6ebb64",
            "ba426133a75e443499abf5dfd89ee121",
            "94380e11bf0b4571b7e5bca99ddb957c",
            "95590d737714493cb37c0d8c05df7f8e",
            "0d95822620c14de4873092a571a67135",
            "710f24fb3dd042788f725cf8c76d2b1d",
            "1c5db2af48974167b81a77e968df64aa",
            "a73a814aa7464f0ea8fab6fdfef47351",
            "fe47901e26e74c519a6d1208b3a04fb2",
            "ddbf599796234c0ab2fd2ca53ffe693a",
            "635ff2cc8c814958882adcdc662b21ac",
            "d35f18a71e38408fa3a8189dbe79ac3b",
            "64383c5e26c44c67bdd6ffb1bf0f722a",
            "c40c3a272462446cac26a8247f04dda1",
            "36fd73a228b2456e8d3b4c2d44cad349",
            "b2e5e11e6dde42b58c6626ed3a10ee53",
            "f3ba26e121d94dcea9440b10a0a812c6",
            "c98b734e70524598b3cffbb61415bc18",
            "cd5915c7b3c2480da58e0afa652fbb15",
            "ff8cc565e8c34cfc9cd6fcd1c13db9d9",
            "cfc330c72cae4f159ce3b7a4a8a968b2",
            "4fd4fdafe5b0485e961f3be09304dc13",
            "7fd50ae1a5d7403ca47989947b8604fd",
            "42e51a5d40b343e9a663da31c0656629",
            "f217e1bbd60e425f9c92c250e1a11c2f",
            "54359363b52f48f5b87ced449ab5a633"
          ]
        },
        "id": "dkKlVq3yQXw1",
        "outputId": "9046788a-aeaf-4424-c86a-f6237687af36"
      },
      "outputs": [
        {
          "output_type": "display_data",
          "data": {
            "text/plain": [
              "tokenizer_config.json:   0%|          | 0.00/42.0 [00:00<?, ?B/s]"
            ],
            "application/vnd.jupyter.widget-view+json": {
              "version_major": 2,
              "version_minor": 0,
              "model_id": "08dd7dbd26144d048aab4623b62f16a9"
            }
          },
          "metadata": {}
        },
        {
          "output_type": "display_data",
          "data": {
            "text/plain": [
              "config.json:   0%|          | 0.00/1.33k [00:00<?, ?B/s]"
            ],
            "application/vnd.jupyter.widget-view+json": {
              "version_major": 2,
              "version_minor": 0,
              "model_id": "26b6b64254414943a162a4bd95e1980e"
            }
          },
          "metadata": {}
        },
        {
          "output_type": "display_data",
          "data": {
            "text/plain": [
              "source.spm:   0%|          | 0.00/768k [00:00<?, ?B/s]"
            ],
            "application/vnd.jupyter.widget-view+json": {
              "version_major": 2,
              "version_minor": 0,
              "model_id": "b7f8df82376a4813b1516d0ddaba79fe"
            }
          },
          "metadata": {}
        },
        {
          "output_type": "display_data",
          "data": {
            "text/plain": [
              "target.spm:   0%|          | 0.00/797k [00:00<?, ?B/s]"
            ],
            "application/vnd.jupyter.widget-view+json": {
              "version_major": 2,
              "version_minor": 0,
              "model_id": "0d95822620c14de4873092a571a67135"
            }
          },
          "metadata": {}
        },
        {
          "output_type": "display_data",
          "data": {
            "text/plain": [
              "vocab.json:   0%|          | 0.00/1.27M [00:00<?, ?B/s]"
            ],
            "application/vnd.jupyter.widget-view+json": {
              "version_major": 2,
              "version_minor": 0,
              "model_id": "b2e5e11e6dde42b58c6626ed3a10ee53"
            }
          },
          "metadata": {}
        },
        {
          "output_type": "stream",
          "name": "stderr",
          "text": [
            "/usr/local/lib/python3.11/dist-packages/transformers/models/marian/tokenization_marian.py:175: UserWarning: Recommended: pip install sacremoses.\n",
            "  warnings.warn(\"Recommended: pip install sacremoses.\")\n"
          ]
        }
      ],
      "source": [
        "from sklearn.model_selection import train_test_split\n",
        "\n",
        "tokenizer_name = \"Helsinki-NLP/opus-mt-en-de\"\n",
        "tokenizer = AutoTokenizer.from_pretrained(tokenizer_name)\n",
        "tokenizer.add_special_tokens({\"bos_token\": \"<s>\"})\n",
        "\n",
        "tokenizer.src_lang = \"en\"  # 영어\n",
        "tokenizer.tgt_lang = \"de\"  # 독일어\n",
        "\n",
        "# 2. 데이터 분리 (영어와 독일어 추출)\n",
        "src_texts = [example[\"translation\"][\"en\"] for example in dataset]  # 영어 문장\n",
        "tgt_texts = [example[\"translation\"][\"de\"] for example in dataset]  # 독일어 문장"
      ]
    },
    {
      "cell_type": "code",
      "execution_count": 4,
      "metadata": {
        "colab": {
          "base_uri": "https://localhost:8080/"
        },
        "id": "Wnw1cmktQY9r",
        "outputId": "3b55f75c-a752-4b84-bee8-7640e2dca86a"
      },
      "outputs": [
        {
          "output_type": "stream",
          "name": "stdout",
          "text": [
            "Resumption of the session\n"
          ]
        }
      ],
      "source": [
        "print(src_texts[0])"
      ]
    },
    {
      "cell_type": "code",
      "execution_count": 5,
      "metadata": {
        "colab": {
          "base_uri": "https://localhost:8080/"
        },
        "id": "YM26JPRvNp-Y",
        "outputId": "5842bfbb-8688-47b0-a936-4cab3ad44b34"
      },
      "outputs": [
        {
          "output_type": "stream",
          "name": "stdout",
          "text": [
            "Train 데이터 개수: 36391\n",
            "Test 데이터 개수: 9098\n"
          ]
        }
      ],
      "source": [
        "src_texts = [tokenizer.bos_token + \" \" + sentence for sentence in src_texts]\n",
        "tgt_texts = [tokenizer.bos_token + \" \" + sentence for sentence in tgt_texts]\n",
        "\n",
        "# 3. Train/Test Split\n",
        "train_src, test_src, train_tgt, test_tgt = train_test_split(src_texts, tgt_texts, test_size=0.2, random_state=42)\n",
        "\n",
        "print(\"Train 데이터 개수:\", len(train_src))\n",
        "print(\"Test 데이터 개수:\", len(test_src))\n",
        "\n",
        "# 5. Train 데이터 토크나이즈\n",
        "train_encodings = tokenizer(\n",
        "    train_src,\n",
        "    text_target=train_tgt,  # 번역 대상 (독일어)\n",
        "    padding=True,\n",
        "    truncation=True,\n",
        "    max_length=64,\n",
        "    return_tensors=\"pt\"  # PyTorch 텐서 반환\n",
        ")\n",
        "\n",
        "# 6. Test 데이터 토크나이즈\n",
        "test_encodings = tokenizer(\n",
        "    test_src,\n",
        "    text_target=test_tgt,\n",
        "    padding=True,\n",
        "    truncation=True,\n",
        "    max_length=64,\n",
        "    return_tensors=\"pt\"\n",
        ")"
      ]
    },
    {
      "cell_type": "markdown",
      "metadata": {
        "id": "OjIhqs5L0XP3"
      },
      "source": [
        "# Data loader 올리기"
      ]
    },
    {
      "cell_type": "markdown",
      "metadata": {
        "id": "66VDTMM20eOv"
      },
      "source": [
        "- data 형식 출력부터"
      ]
    },
    {
      "cell_type": "code",
      "execution_count": 6,
      "metadata": {
        "colab": {
          "base_uri": "https://localhost:8080/"
        },
        "id": "VUKF-0zR0gzP",
        "outputId": "f423f308-1952-4bf7-f1e0-445d0a9264dd"
      },
      "outputs": [
        {
          "output_type": "stream",
          "name": "stdout",
          "text": [
            "torch.Size([36391, 64])\n",
            "torch.Size([36391, 64])\n"
          ]
        }
      ],
      "source": [
        "print(train_encodings[\"input_ids\"].shape)\n",
        "print(train_encodings[\"labels\"].shape)"
      ]
    },
    {
      "cell_type": "markdown",
      "metadata": {
        "id": "y1tsVj2u4UQq"
      },
      "source": [
        "- 직접 뽑아보니, 각 문장 앞에 __en__이거 제거 필요함"
      ]
    },
    {
      "cell_type": "code",
      "execution_count": 7,
      "metadata": {
        "colab": {
          "base_uri": "https://localhost:8080/"
        },
        "id": "uJFIiElm3ZTw",
        "outputId": "da597977-d7ff-4868-83df-9f64d239fe38"
      },
      "outputs": [
        {
          "output_type": "stream",
          "name": "stdout",
          "text": [
            "Token: ▁We\n"
          ]
        }
      ],
      "source": [
        "decoded_token = tokenizer.convert_ids_to_tokens(157)\n",
        "print(\"Token:\", decoded_token)"
      ]
    },
    {
      "cell_type": "code",
      "execution_count": 8,
      "metadata": {
        "colab": {
          "base_uri": "https://localhost:8080/"
        },
        "id": "9NBNt_4COVFH",
        "outputId": "73d67595-2b62-4170-8cf9-7b76d6d12b2e"
      },
      "outputs": [
        {
          "output_type": "stream",
          "name": "stdout",
          "text": [
            "2034\n"
          ]
        }
      ],
      "source": [
        "count = 0\n",
        "for value in train_encodings[\"input_ids\"]:\n",
        "  if value[-1] != 58100:\n",
        "    count += 1\n",
        "\n",
        "print(count)"
      ]
    },
    {
      "cell_type": "markdown",
      "metadata": {
        "id": "n7BZWNmSghuJ"
      },
      "source": [
        "- 근데 마침 sos 토큰 없으니까, -> 그냥 일단 __en__ 이런걸로 sos 를 대체할 수도 있을거같음"
      ]
    },
    {
      "cell_type": "code",
      "execution_count": 9,
      "metadata": {
        "colab": {
          "base_uri": "https://localhost:8080/",
          "height": 54
        },
        "id": "6PQNMyYT5bGh",
        "outputId": "d4f31fe8-9ca6-4193-a969-06c8081fc110"
      },
      "outputs": [
        {
          "output_type": "execute_result",
          "data": {
            "text/plain": [
              "'\\ntrain_encodings[\"input_ids\"] = train_encodings[\"input_ids\"][:, 1:]\\ntrain_encodings[\"attention_mask\"] = train_encodings[\"attention_mask\"][:, 1:]\\ntrain_encodings[\"labels\"] = train_encodings[\"labels\"][:, 1:]\\n\\ntest_encodings[\"input_ids\"] = test_encodings[\"input_ids\"][:,1:]\\ntest_encodings[\"attention_mask\"] = test_encodings[\"attention_mask\"][:,1:]\\ntest_encodings[\"labels\"] = test_encodings[\"labels\"][:,1:]\\n'"
            ],
            "application/vnd.google.colaboratory.intrinsic+json": {
              "type": "string"
            }
          },
          "metadata": {},
          "execution_count": 9
        }
      ],
      "source": [
        "'''\n",
        "train_encodings[\"input_ids\"] = train_encodings[\"input_ids\"][:, 1:]\n",
        "train_encodings[\"attention_mask\"] = train_encodings[\"attention_mask\"][:, 1:]\n",
        "train_encodings[\"labels\"] = train_encodings[\"labels\"][:, 1:]\n",
        "\n",
        "test_encodings[\"input_ids\"] = test_encodings[\"input_ids\"][:,1:]\n",
        "test_encodings[\"attention_mask\"] = test_encodings[\"attention_mask\"][:,1:]\n",
        "test_encodings[\"labels\"] = test_encodings[\"labels\"][:,1:]\n",
        "'''"
      ]
    },
    {
      "cell_type": "code",
      "execution_count": 10,
      "metadata": {
        "colab": {
          "base_uri": "https://localhost:8080/"
        },
        "id": "JmR1WsYcJwNR",
        "outputId": "af7ab107-dbfe-489f-b89a-0dd7df646dbb"
      },
      "outputs": [
        {
          "output_type": "stream",
          "name": "stdout",
          "text": [
            "{'bos_token': '<s>', 'eos_token': '</s>', 'unk_token': '<unk>', 'pad_token': '<pad>'}\n",
            "0\n",
            "1\n",
            "58100\n"
          ]
        }
      ],
      "source": [
        "print(tokenizer.special_tokens_map)\n",
        "print(tokenizer.convert_tokens_to_ids(\"</s>\"))\n",
        "print(tokenizer.convert_tokens_to_ids(\"<unk>\"))\n",
        "print(tokenizer.convert_tokens_to_ids(\"<pad>\"))"
      ]
    },
    {
      "cell_type": "markdown",
      "metadata": {
        "id": "Ics0SSg2L6_1"
      },
      "source": [
        "- 현재 트랜스포머 모델에서는 굳이 eos sos 토큰 구분 필요 없어보이므로 일단 eos로 통일 -> ㄴㄴㄴㄴ 필요할거같아"
      ]
    },
    {
      "cell_type": "code",
      "execution_count": 10,
      "metadata": {
        "id": "yyp9qRoXLzXf"
      },
      "outputs": [],
      "source": []
    },
    {
      "cell_type": "markdown",
      "metadata": {
        "id": "2RmrCeiS1DIB"
      },
      "source": [
        "- 위 결과를 통해서, 각 서브워드가 하나의 토큰으로 변환되었음을 확인 ( vector는 나중에 embedding에서 이루어짐 )"
      ]
    },
    {
      "cell_type": "code",
      "execution_count": 11,
      "metadata": {
        "colab": {
          "base_uri": "https://localhost:8080/"
        },
        "id": "t2LV-dU71Uaz",
        "outputId": "daade280-66f9-4b69-92b5-41ae7dedee23"
      },
      "outputs": [
        {
          "output_type": "execute_result",
          "data": {
            "text/plain": [
              "dict_keys(['input_ids', 'attention_mask', 'labels'])"
            ]
          },
          "metadata": {},
          "execution_count": 11
        }
      ],
      "source": [
        "train_encodings.keys()"
      ]
    },
    {
      "cell_type": "markdown",
      "metadata": {
        "id": "vixwHuP022Ae"
      },
      "source": [
        "- 주의 !! 그 앞에서 unet 하던때랑 똑같이, 들어가는 값 다 연결해서 dataset에 넣고 dataloader 올려야함"
      ]
    },
    {
      "cell_type": "code",
      "execution_count": 12,
      "metadata": {
        "id": "WBR5e1oN0a1F"
      },
      "outputs": [],
      "source": [
        "import torch\n",
        "\n",
        "train_dataset = torch.utils.data.TensorDataset(\n",
        "    train_encodings[\"input_ids\"],\n",
        "    train_encodings[\"attention_mask\"],\n",
        "    train_encodings[\"labels\"]\n",
        ")\n",
        "\n",
        "test_dataset = torch.utils.data.TensorDataset(\n",
        "    test_encodings[\"input_ids\"],\n",
        "    test_encodings[\"attention_mask\"],\n",
        "    test_encodings[\"labels\"]\n",
        ")\n",
        "\n",
        "train_loader = torch.utils.data.DataLoader(dataset=train_dataset, batch_size=64,shuffle=True)\n",
        "test_loader =  torch.utils.data.DataLoader(dataset=test_dataset, batch_size=64)"
      ]
    },
    {
      "cell_type": "code",
      "execution_count": 13,
      "metadata": {
        "colab": {
          "base_uri": "https://localhost:8080/"
        },
        "id": "BZTRVQAp2Cpc",
        "outputId": "1096f8e4-946a-4865-a415-a8781891317a"
      },
      "outputs": [
        {
          "output_type": "stream",
          "name": "stdout",
          "text": [
            "tensor([[58101,   432,    14,  ..., 58100, 58100, 58100],\n",
            "        [58101, 14519,   377,  ..., 58100, 58100, 58100],\n",
            "        [58101,    38,   206,  ...,  1033,     8,     0],\n",
            "        ...,\n",
            "        [58101,  2286,  1915,  ..., 58100, 58100, 58100],\n",
            "        [58101, 18687,   301,  ..., 58100, 58100, 58100],\n",
            "        [58101,  6223,  5902,  ..., 58100, 58100, 58100]])\n",
            "tensor([[1, 1, 1,  ..., 0, 0, 0],\n",
            "        [1, 1, 1,  ..., 0, 0, 0],\n",
            "        [1, 1, 1,  ..., 1, 1, 1],\n",
            "        ...,\n",
            "        [1, 1, 1,  ..., 0, 0, 0],\n",
            "        [1, 1, 1,  ..., 0, 0, 0],\n",
            "        [1, 1, 1,  ..., 0, 0, 0]])\n",
            "tensor([[58101,   105,   921,  ..., 58100, 58100, 58100],\n",
            "        [58101,  1019, 14519,  ..., 58100, 58100, 58100],\n",
            "        [58101,   105, 16412,  ...,    21, 19650,     0],\n",
            "        ...,\n",
            "        [58101,   323,  3219,  ..., 58100, 58100, 58100],\n",
            "        [58101,    55,   411,  ..., 58100, 58100, 58100],\n",
            "        [58101,   525,   410,  ..., 58100, 58100, 58100]])\n"
          ]
        }
      ],
      "source": [
        "for input, mask, label in train_loader:\n",
        "  print(input)\n",
        "  print(mask)\n",
        "  print(label)\n",
        "  break"
      ]
    },
    {
      "cell_type": "markdown",
      "metadata": {
        "id": "qugWtKM3o05a"
      },
      "source": [
        "-아 .... 이 mask가 attention 마스크가 아니라 padding용 마스크 ....."
      ]
    },
    {
      "cell_type": "code",
      "execution_count": 14,
      "metadata": {
        "colab": {
          "base_uri": "https://localhost:8080/"
        },
        "id": "gt65tM0kmci8",
        "outputId": "bcf19a18-69b0-4c20-8d38-64d33dff5b8f"
      },
      "outputs": [
        {
          "output_type": "stream",
          "name": "stdout",
          "text": [
            "tensor([58101,   248,     5,  6418,     2,   381,   710,     2,     8,    32,\n",
            "         3802,     7,     4, 27123,   952,     2,    38,  3210,    60,   714,\n",
            "           86,    95,    73,  3793,    32,  6562,     3,     0, 58100, 58100,\n",
            "        58100, 58100, 58100, 58100, 58100, 58100, 58100, 58100, 58100, 58100,\n",
            "        58100, 58100, 58100, 58100, 58100, 58100, 58100, 58100, 58100, 58100,\n",
            "        58100, 58100, 58100, 58100, 58100, 58100, 58100, 58100, 58100, 58100,\n",
            "        58100, 58100, 58100, 58100])\n",
            "tensor([1, 1, 1, 1, 1, 1, 1, 1, 1, 1, 1, 1, 1, 1, 1, 1, 1, 1, 1, 1, 1, 1, 1, 1,\n",
            "        1, 1, 1, 1, 0, 0, 0, 0, 0, 0, 0, 0, 0, 0, 0, 0, 0, 0, 0, 0, 0, 0, 0, 0,\n",
            "        0, 0, 0, 0, 0, 0, 0, 0, 0, 0, 0, 0, 0, 0, 0, 0])\n",
            "28\n"
          ]
        }
      ],
      "source": [
        "for input, mask, label in train_loader:\n",
        "  print(input[0])\n",
        "  for idx,_ in enumerate(input[0]):\n",
        "    if _ == 1 :\n",
        "      print(idx)\n",
        "      break\n",
        "\n",
        "  print(mask[0])\n",
        "  for idx,_ in enumerate(mask[0]):\n",
        "    if _ == 0 :\n",
        "      print(idx)\n",
        "      break\n",
        "  break"
      ]
    },
    {
      "cell_type": "code",
      "execution_count": 15,
      "metadata": {
        "colab": {
          "base_uri": "https://localhost:8080/"
        },
        "id": "0U3nXe9m3fkX",
        "outputId": "49f50d06-6e37-45d4-cf00-474ac37fb8f3"
      },
      "outputs": [
        {
          "output_type": "stream",
          "name": "stdout",
          "text": [
            "['<s>', '▁In', '▁the', '▁event', '▁we', '▁had', '▁to', '▁have', '▁several', '▁meetings', '▁before', '▁the', '▁Council', '▁finally', '▁increased', '▁this', '▁to', '▁a', '▁substantial', '▁amount', '.', '</s>', '<pad>', '<pad>', '<pad>', '<pad>', '<pad>', '<pad>', '<pad>', '<pad>', '<pad>', '<pad>', '<pad>', '<pad>', '<pad>', '<pad>', '<pad>', '<pad>', '<pad>', '<pad>', '<pad>', '<pad>', '<pad>', '<pad>', '<pad>', '<pad>', '<pad>', '<pad>', '<pad>', '<pad>', '<pad>', '<pad>', '<pad>', '<pad>', '<pad>', '<pad>', '<pad>', '<pad>', '<pad>', '<pad>', '<pad>', '<pad>', '<pad>', '<pad>']\n",
            "['<s>', '▁And', '▁we', '▁asked', '▁for', '▁more', '▁precise', '▁measuring', '▁methods', ';', '▁in', '▁my', '▁opinion', ',', '▁the', '▁I', 's', 'pra', '▁research', '▁institute', '▁has', '▁a', 'c', 'quit', 'ted', '▁itself', '▁of', '▁this', '▁task', '▁quite', '▁ad', 'mir', 'ably', '.', '</s>', '<pad>', '<pad>', '<pad>', '<pad>', '<pad>', '<pad>', '<pad>', '<pad>', '<pad>', '<pad>', '<pad>', '<pad>', '<pad>', '<pad>', '<pad>', '<pad>', '<pad>', '<pad>', '<pad>', '<pad>', '<pad>', '<pad>', '<pad>', '<pad>', '<pad>', '<pad>', '<pad>', '<pad>', '<pad>']\n",
            "['<s>', '▁Point', '▁47', '▁of', '▁your', '▁action', '▁plan', '▁makes', '▁reference', '▁to', '▁this', '▁situation', '▁but', '▁offers', '▁no', '▁remedy', '▁for', '▁it', '.', '</s>', '<pad>', '<pad>', '<pad>', '<pad>', '<pad>', '<pad>', '<pad>', '<pad>', '<pad>', '<pad>', '<pad>', '<pad>', '<pad>', '<pad>', '<pad>', '<pad>', '<pad>', '<pad>', '<pad>', '<pad>', '<pad>', '<pad>', '<pad>', '<pad>', '<pad>', '<pad>', '<pad>', '<pad>', '<pad>', '<pad>', '<pad>', '<pad>', '<pad>', '<pad>', '<pad>', '<pad>', '<pad>', '<pad>', '<pad>', '<pad>', '<pad>', '<pad>', '<pad>', '<pad>']\n",
            "['<s>', '▁I', '▁would', '▁like', '▁to', '▁know', '▁from', '▁the', '▁Commission', '▁how', '▁it', '▁has', '▁processed', '▁this', '▁recommendation', ',', '▁which', '▁is', '▁also', '▁endorsed', '▁by', '▁the', '▁Advisory', '▁Committee', '.', '</s>', '<pad>', '<pad>', '<pad>', '<pad>', '<pad>', '<pad>', '<pad>', '<pad>', '<pad>', '<pad>', '<pad>', '<pad>', '<pad>', '<pad>', '<pad>', '<pad>', '<pad>', '<pad>', '<pad>', '<pad>', '<pad>', '<pad>', '<pad>', '<pad>', '<pad>', '<pad>', '<pad>', '<pad>', '<pad>', '<pad>', '<pad>', '<pad>', '<pad>', '<pad>', '<pad>', '<pad>', '<pad>', '<pad>']\n",
            "['<s>', '▁I', '▁shall', '▁therefore', '▁reserve', '▁the', '▁right', ',', '▁if', '▁you', '▁permit', ',', '▁sir', ',', '▁to', '▁give', '▁you', '▁my', '▁own', '▁opinion', ',', '▁which', ',', '▁to', '▁a', '▁great', '▁extent', ',', '▁matches', '▁your', '▁own', '▁recommendation', '▁regarding', '▁what', '▁action', '▁we', '▁might', '▁take', '▁to', '▁combat', '▁the', '▁oil', '▁spill', 'age', '▁using', '▁Objective', '▁2.', '</s>', '<pad>', '<pad>', '<pad>', '<pad>', '<pad>', '<pad>', '<pad>', '<pad>', '<pad>', '<pad>', '<pad>', '<pad>', '<pad>', '<pad>', '<pad>', '<pad>']\n",
            "tensor([[1, 1, 1,  ..., 0, 0, 0],\n",
            "        [1, 1, 1,  ..., 0, 0, 0],\n",
            "        [1, 1, 1,  ..., 0, 0, 0],\n",
            "        ...,\n",
            "        [1, 1, 1,  ..., 0, 0, 0],\n",
            "        [1, 1, 1,  ..., 1, 1, 0],\n",
            "        [1, 1, 1,  ..., 0, 0, 0]])\n",
            "tensor([[58101, 18830, 26634,  ..., 58100, 58100, 58100],\n",
            "        [58101,   228,   100,  ..., 58100, 58100, 58100],\n",
            "        [58101,    64,  3224,  ..., 58100, 58100, 58100],\n",
            "        ...,\n",
            "        [58101,  2956,  1028,  ..., 58100, 58100, 58100],\n",
            "        [58101,    55,  4574,  ..., 58100, 58100, 58100],\n",
            "        [58101,   690,  1250,  ..., 58100, 58100, 58100]])\n",
            "torch.Size([64, 64])\n"
          ]
        }
      ],
      "source": [
        "i=0\n",
        "for input, mask, label in train_loader:\n",
        "  for k in input :\n",
        "    print(tokenizer.convert_ids_to_tokens(k))\n",
        "    if i > 3:\n",
        "      break\n",
        "    i += 1\n",
        "  print(mask)\n",
        "  print(label)\n",
        "  print(label.shape)\n",
        "  break"
      ]
    },
    {
      "cell_type": "code",
      "execution_count": 16,
      "metadata": {
        "colab": {
          "base_uri": "https://localhost:8080/"
        },
        "id": "l-6dMkHoU4_H",
        "outputId": "37645f97-a06a-4513-a5e7-297a4cbee844"
      },
      "outputs": [
        {
          "output_type": "stream",
          "name": "stdout",
          "text": [
            "Vocabulary Size: 58101\n",
            "Vocabulary Size: 58102\n"
          ]
        }
      ],
      "source": [
        "print(\"Vocabulary Size:\", tokenizer.vocab_size)\n",
        "print(\"Vocabulary Size:\", len(tokenizer))\n"
      ]
    },
    {
      "cell_type": "markdown",
      "metadata": {
        "id": "FYzSgAa5zBCg"
      },
      "source": [
        "# 모델 만들기"
      ]
    },
    {
      "cell_type": "markdown",
      "metadata": {
        "id": "tVg1_igFzE2I"
      },
      "source": [
        "![image.png](data:image/png;base64,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)"
      ]
    },
    {
      "cell_type": "markdown",
      "metadata": {
        "id": "i6_11F5ixLls"
      },
      "source": [
        "## input embedding"
      ]
    },
    {
      "cell_type": "markdown",
      "metadata": {
        "id": "NTXhW-ShBIvY"
      },
      "source": [
        "  - point 1 : self.embed.out_features로 outdim 구하기\n",
        "  - point 2 : unsqueeze로 dim 맞추기. 여기서, 1 이거는 0차원임 !! [1] 이게 1차원이고\n",
        "  - point 3 : torch.empty 와 torch.cat 이용하기 이때 empty는 생성할 차원 넣어줘야함\n",
        "    -> 근데 torch.cat을 하면 stack 느낌이 아니라 그냥 말 그대로 concat이라, 이런 상황에는 stack이 더 좋을듯\n",
        "  - point 4 : stack을 하려면, list로 해야함. 반면 cat은 tensor끼리만 ㄱ나으"
      ]
    },
    {
      "cell_type": "code",
      "execution_count": 17,
      "metadata": {
        "id": "gJqTO7G0onap"
      },
      "outputs": [],
      "source": [
        "import torch.nn as nn\n",
        "\n",
        "# 아마 forward의 x로는 문장이 들어오겠지?\n",
        "# 그러면 토큰 개수 -> embedding_dim 인 nn.linear가 필요하겠지??\n",
        "## 근데 이렇게하면,하나의 문장이 embedding dim 처럼 되는데?? 우리가 원하는거는 하나의 단어 당 embedding dim만큼 나와야하는데\n",
        "\n",
        "# len(tokenizer)를 통해서 알아낸 결과를 input_dim에 넣어야함.\n",
        "# embedding_dim : hidden dim\n",
        "\n",
        "class input_embedding(nn.Module):\n",
        "  def __init__(self,input_dim,embedding_dim):\n",
        "    super().__init__()\n",
        "    self.embedding_dim = embedding_dim\n",
        "    self.embed = nn.Embedding(input_dim,embedding_dim)\n",
        "\n",
        "  def forward(self,x): ## x : [ batch , words ]\n",
        "    num_batch, num_token = x.shape\n",
        "    #print(x.shape)\n",
        "    embedding_result = torch.empty((0,num_token,self.embedding_dim))\n",
        "    #print(embedding_result)\n",
        "    for sentence in x :\n",
        "      sentence_embedding = torch.empty((0,self.embedding_dim))\n",
        "      for word in sentence :  ## 지금 word는 0차원임. 따라서 1차원으로 늘려줘야함\n",
        "        #print((word.unsqueeze(0).shape))  ## 0번째에 차원 늘려주기\n",
        "        #print((self.embed(word.unsqueeze(0)).shape))\n",
        "        #print(sentence_embedding.shape)\n",
        "        sentence_embedding = torch.cat([sentence_embedding,self.embed(word).unsqueeze(0)]) ## [ words, embedding ]\n",
        "      sentence_embedding = sentence_embedding.unsqueeze(0)\n",
        "      #print(embedding_result.shape)\n",
        "      #print(sentence_embedding.shape)\n",
        "      embedding_result = torch.cat([embedding_result,sentence_embedding])\n",
        "      #print(embedding_result.shape)\n",
        "\n",
        "    return embedding_result"
      ]
    },
    {
      "cell_type": "markdown",
      "metadata": {
        "id": "7T3__HYdBNfc"
      },
      "source": [
        "- 테스트"
      ]
    },
    {
      "cell_type": "code",
      "execution_count": 18,
      "metadata": {
        "colab": {
          "base_uri": "https://localhost:8080/"
        },
        "id": "dYWgNxVfxNzF",
        "outputId": "e0f4fea3-7906-4a9c-f882-dc7a4a56deb6"
      },
      "outputs": [
        {
          "output_type": "stream",
          "name": "stdout",
          "text": [
            "torch.Size([64, 64])\n",
            "torch.Size([64, 64, 10])\n"
          ]
        }
      ],
      "source": [
        "# test\n",
        "\n",
        "model = input_embedding(input_dim=len(tokenizer), embedding_dim=10)\n",
        "\n",
        "for batch in train_loader:\n",
        "    input_ids = batch[0]\n",
        "    break\n",
        "\n",
        "output=model(input_ids)\n",
        "\n",
        "print(input_ids.shape)\n",
        "print(output.shape)\n",
        "#print(output)\n"
      ]
    },
    {
      "cell_type": "markdown",
      "metadata": {
        "id": "h7WzwjBdonwM"
      },
      "source": [
        "## positional encoding"
      ]
    },
    {
      "cell_type": "markdown",
      "metadata": {
        "id": "vKQJNP3QomSV"
      },
      "source": [
        "![image.png](data:image/png;base64,iVBORw0KGgoAAAANSUhEUgAAA/YAAADQCAIAAAAiZ221AAAAAXNSR0IArs4c6QAAAERlWElmTU0AKgAAAAgAAYdpAAQAAAABAAAAGgAAAAAAA6ABAAMAAAABAAEAAKACAAQAAAABAAAD9qADAAQAAAABAAAA0AAAAABZm2+lAABAAElEQVR4AeydeeB11fT/EZkiiSRClJSUJuFJVBIZEqUSRYokKUOjKImkuZ6KJqJkaFBJEg8phZQpDRKKkpJ5Hvq9vt/1+75b7XPOvuece8+999zP+vzxPPvss/bae7/PufusvaZ977vuuute8RcIBAKBQCAQCAQCgUAgEAgEArOCwH1mZSIxj0AgEAgEAoFAIBAIBAKBQCAQ+B8EQsSP9yAQCAQCgUAgEAgEAoFAIBCYKQRCxJ+pxxmTCQQCgUAgEAgEAoFAIBAIBELEj3cgEAgEAoFAIBAIBAKBQCAQmCkEQsSfqccZkwkEAoFAIBAIBAKBQCAQCARCxI93IBAIBAKBQCAQCAQCgUAgEJgpBELEn6nHGZMJBAKBQCAQCAQCgUAgEAgEQsSPdyAQCAQCgUAgEAgEAoFAIBCYKQRCxJ+pxxmTCQQCgUAgEAgEAoFAIBAIBELEj3cgEAgEAoFAIBAIBAKBQCAQmCkEQsSfqccZkwkEAoFAIBAIBAKBQCAQCARCxI93IBAIBAKBQCAQCAQCgUAgEJgpBELEn6nHGZMJBAKBQCAQCAQCgUAgEAgEQsSPdyAQCAQCgUAgEAgEAoFAIBCYKQRCxJ+pxxmTCQQCgUAgEAgEAoFAwBD473//+9GPfvSkk04KQOYgAve+66675uC0Y8qBQCAQCAQCgUAgEAjMNgKnn376lltuyRyvvfba5ZdffrYnG7NLELhvch2XgUAgEAgEAoFAIBAIBAIzgMD8+fOZxUILLbTooouOZDp//etf77jjjt///veLLLLIE5/4xJHwDCYdIRAifkfABttAIBAIBAKBQCAQCAQmhsCPf/zjSy65hO5f+tKXLrnkkq3Hceedd2666aa/+MUvbrvttr/85S/GZ+GFF/7zn/98v/vdrzXbaNg1AiHid41w8A8EAoFAIBAIBAKBWUbgvPPOu+yyy374v3+/+93vll566Sc84QnLLrvsq1/96jXXXLPpzP/2t7+94x3vOPfcc+HzsY997MlPfnJTDkaPF74V3vjGN7bjYK2uuuqqBQsWJBzYM4R8n2AybZfhiz9tTyTGEwgEAoFAIBAIBAL9QOCaa67Zcccdv/a1r1UNd6211tpzzz033njjKoJi/e67737QQQdZPbL+wQcfXKQZWPP3v/99qaWWYr/x+Mc//sYbb7zPfYZKr3LllVf+4Q9/+MQnPnHyySdb19tssw3bj4HDCIIJIjDUI5/guKPrQCAQCAQCgUAgEAgEJogAIu8qq6yCfI/O/v3vf/8PfvCDW2+99etf//ohhxyywgor2MC+9a1vvfzlL991111JblNzqHAQZeucKJ/97GeR7+Gz3XbbDSnfw2S11VZbd911l1tuOQ3sec97nspRmE4EQos/nc8lRhUIBAKBQCAQCAQC04vA1VdfjRMOTjVbbbXVRz7ykQc/+MF+rPiso90/5ZRTVPnud797//3312WmcOihh6K8h2CJJZa4/PLLl1lmmQxx1a2111770ksvve9973vTTTc9+tGPriJrVL/hhhteeOGF1uRnP/sZG5tGzYN4zAiEiD9mwKO7QCAQCAQCgUAgEOg3Av/5z39WXnll4lnR0J911llVk+Hu5z//ebt773vfG41+Hdf8f/3rX1/84hf/+Mc/vvCFL3zEIx5RxTxTz/ZjpZVWgmCTTTY588wzM5T1bzGqxRZbzMJtcf75+c9/Xr9tUE4EgXDUmQjs0WkgEAgEAoFAIBAI9BUBfHKQ7xk9CvKMsPvhD39YMam43Bx55JF1JkyTl73sZa95zWvayfd0MapAWz/a7373u0qnE146HpmpLYeIP7WPJgYWCAQCgUAgEAgEAtOIwDe/+U0b1rHHHvusZz2LbPGlo8R5HecW3SLxjsrdFfAdIkgA/jjSvOAFLxhVRz6kOET8UaHaKZ8Q8TuFN5gHAoFAIBAIBAKBwKwhQB5JTenXv/412TJ1mRSe+tSnqoYTo8hLo8uOCqMNtNUgQ8QXFH0phIjflycV4wwEAoFAoFsECM5DHHnlK1/ZbTdzj/sNN9zwzGc+E5Xqj370o7k3+9mccXKw6+KLL141z0c+8pH+lmW58TUjL5uXDoG222677aiY//vf/2Z9MG444s/xQFuOElt11VXxXBoVvB3xCRG/I2CDbSAQCAQCfULgc5/73HrrrYd7sdxt+zT66R4rHtjEWXI46Cc/+cnpHmmMri4CnGllYu5CCy3EwVKcclXVkpz0ugXxYx7zGF36ws0337zPPvsQnvuKV7xi3333xTLg79YvE2hrsjhiaItEOmT2vOCCC0jMv9lmm734xS/eaaedvvGNb9D7FVdcwVm2Nozw0rnjjju+973vrbPOOkRF138046eM023Hj3n0GAgEAoHAdCFw/PHH77DDDnzd0eKffvrp0zW4no+GPCSCtPUxpT3HYAaHj3zPoVf45zzucY971KMelZnh97//fd1F96/oW1VS+MIXvrDppptyWJVVkqLn6KOPvuSSS57ylKd4sjpl0nca2Zve9KY69J6GFJ9k9mSz4Svnz5/P3uNBD3qQKkPEP/vss5/73Oded911REVz/hdZUwXOdBUI8Y6/QCAQCAQCgTmLwKc//Wn7LCGpkBtkzuLQ0cTPPfdcg/f+978/Thod9RJspxMBXLPIlSmx773vfW9xnBx09cAHPhAFP4dn8YZsvfXWRo9zV5E4X0PU78Me9jCak0qftJ55Yn+XIAESdFq/DOaDH/zgb3/72zvvvPPUU09ddNFFNX4rkBHft52bZawldhICDw67x3SCEFr85NW9+5KX+PnPf/4tt9zC7+Tu2iYlfifs79nr47iG8ga7XrsEWNdff/3b3/722267rf7ZeE2G+T+0D3jAA8jt9exnP7tpw6APBAKBXiOAufn1r389U0BLhzDKYtXr6Uzh4C23CQPDccLErykcZAypIwQOOugghD9jvsgii+D3knSEbI1zDjlwcKDffvvtuYvMYDTf+c53/vSnPz3kIQ9JmmQuP/OZz8AQgkYn2v7mN78h7Q9LAQ3Z55P2Z4011rBekFue9KQnzZs3T4JQOOIbMiuuuCIGExKbgszmm2+OJ97yyy9vt6bo3+nceUzDqEbuYoUYTewLNrumszvuuOPG8MYcddRRTQcW9IFAIFCKAJ6a++23H5Z3Nuf41JbSTEPl7bffLpn+pJNOmoYhzdgYkLdY+W0B5wikFrPDk3uttdZCYbT33nu3aJ40IdaCY1MJukBugyf7OlyzEFDw0MBLJCGuf9kRWwbQR87CbcGCBfe5z90Rj0Ri6JYKOMbwerD9Uw0e8Prio0dXfZ2C6ekItL311lvr0BvNBhtsYD0yWkwKxYZbbLGFhrTNNtsUCaanhtD2gw8++Je//GWLIZnVAqep+m3f/OY3GzKocafQRhen2+q9TQsYvDBRkd+KhY9D5jjn4ktf+lJCxM8JTT/GGiw1usXLwYvCd50/IlT4iOqWFVipOcXaG+8SguQScQHrHpEuhLTDmc1iMSSfmH322SgJ/IIiPgyJWaAn4GfPB6PYHEqccdn3q0kUAoFAoB0CeLIik/Fbs+arr74660A7Vp22YllYf/31kULoBR0etuZOu5ubzE844QRTzWLCxSZc6oedQYbshzS3NItEYZ5xxhkZ4vwtXkKE+4svvriKjBHusssue+65Z+lHpKpVR2zpro+cPUp8Z5/+9KffdNNNVgn4iJ6egDJixpJLLomqniz7JNenBoGBeFziNyijzsebIGmSucQp6GlPexoEjV6Vj3/846973euMLcIJzkLFLqjEHd/qTz75ZNEXKSdVQ3IbIl4Q0ix7KQYQGSIGDgnzBckGWAkRrlDJo5c55JBDBrYygn/+859rr7023XGJX75OMq7ZvHOy+puVoExCajjSgqebhwUC1ujnPOc5yYNkT5xvmLmLTS3hhnzfaPuIXoSA/cT8h9Ui02ncCgQCgZoIJKFXqAAGLhQ1OY+WjCgxW0lYCkj2Mlrmwc0QIOeGgYyHRn1M0Mjw4fDaXJhssskm9TkklEg/6Oz1uHfddVciBZFm+JqcdtppK620kt3iX05Kwgk7aV512RFbuusjZ48SP3kfk3rAAQf4uyp/5StfAfOVV15ZNTj26Fmw3VJ9ncJb3/pWa4ukW4ceGhyAH/7wh1srvMjQJJY29K/idDriI1tvvPHG2kIjc5dOpLQS6wo5kZTbFBG/lKyqkvglSVPnnHNOFdlE6u81kV772Kl0cvr5kVWq5kTYkftfiHE4/PDDazZPyL797W9rDFbg7Uxo6lwi6GvRhw8KgDqtgiYQCATyCCQJs/GFmEIRH8WhEuqhXMzPKO62QwBhSNZaFIRVTAiyYlUnNSFxzxh4t9xyy1KX/dYiPqGT+mRgU8K8nIyEAZi7iJHxAtdx8+iILWPrI2cPKb93HS6Bz0zGBQ6c+Xx/+ctfVnNUh3pYP/nJT1Q/sOADbXmgA+mNAFd7dfe2t72ttBXuAw996EONDL++UpopqdS2qpGIb4Mns63NsamIT/N3vvOd1pbfDu4SU4IGwwgRv+6zQKmgX4IVLrzwwrqN77qLn18SioGDZn1lie/I7/JtJOh7PEH98hFHHKFJ4YxUv2FQBgKBQBUCSdg6/m9VlBOs32uvvey3v8QSS5AIf4IjmeGu5fPA4p+ZJl8HrcOZQjsR/7LLLpPjzWMf+9jMRwdZU73jcpAZMLc6YttTzh4r5HvCZw1JlLuErvq7+bI/PpacjHni5K6Mch/4wAeSW1WXGP+l9mbAOHGVUpoXis1oyh3x5UHUQsRX+GULER/nTCH5vve9rxTGiVSGiF8XdpJGa/mjwONs+l2UEU18DjvssLrdO7qNNtpIHKyAsdXdb1Bkr4/7PkxQGjVoFqSBQCBQjQDGd7PbosEl/13ThaKa8cjuoF1WDCiptEbGNxjdEwGpdZD173nnHleJiI8rNi4HBEd96lOf8kt9CxEfAzJOIGJCxqR7dHzPC5S16PhFTCKge96/+6ojtnTQR85343LXXf/4xz/YHRmGxF9iKvd3B5ZJz1IH/1I+5sqPZFLHAmMclOuJTnHX4QUo5cwSoVHhiF9KMyWVlhyM0bYQ8RVs2ULEZ/qvfe1rDSWcI6Yn9XCI+HXfzOQEChR1dVv+Hx1BLfqdWMEH0f8f1YD/vcnMmJC5aUCb7G3zwiRGJ0sVNwOBQKABAmjyyJrcKEKmAfehSZUfg+96lfft0J3MdQZ45tgSzU4v/8nHJx4FKgGXHKXk3xkye/hPRgsR35t8+VIM9N8488wz1eNiiy1WpTzqiC1vTB8560UngkIeuWjiSKakW1bgQfOXVOqSR6+NN6no2fjp1sAC6UDsweEgNJBYBHIvoW3GbuO1itPpiK8ZTVDE9wecveENb9CQJlu4O52TfthRKCJASMq1117r6+Xy5SvzZdOXexrWfX9Zp3zllVfiUeMpW4zEN7cUvOTv95VRDgQCgWEQQJeGRFXqUT0M25G0RW4jfYSxwu3bTm8ZCedg4hGQipR0C8pM6glUxpEGGrSwKJJG+M6gUcZnQ71gUFJggCqTwkte8hIFDiJxkkkzIeCyI7Y95Sx8kO/Zg9mujDg9DCbFE6OwqPB8LT+SGqpABj+Y2CXqfB8pJ5qqAjn17VajE23JLCmGJAFT2RfYk3DIrtXwGitnv6dBQCJDPJ5FTJx6Nqv48yy77LLkY8UhkJSAVCLpEtVKPd7q2DeIPtdkPatf/epXpO7hPSSp6worrIDIztR4FT2NymQrItkgIhCRshwTRhocdKC66wvoXA499FD2KksvvTRWMnQcOFB5guHLPFxC1Y0Pft0EOw3PcwQcJrvD6EvvOv1RiDdyxLdpKphDTHjXmyLglRzGh6MumjLx9Oa7hhuSr4xyIBAIzCoCPnPf5ZdfPqvTnOy8ECl00CF5M9sNZkgtvjZy9qVA8KozDGzL+kKVWnc7YsvY+sjZICXC0sQ79vYnnnhiKc7QEHqL4F6lyCfDppDX+TmIvAjWb3nLW0p5WiWugLadQKIYaKjxfJCk1WNVzIBP7yFHfHohJSWn4ZLFe80119TWEe31jjvuqEtjTkQveknFJ6hHMnv6wVAmuRO2Iw6BZmOARxDbAFNALLXUUl/96lcTYgxfSPYAjl8NEtoee+yx8MILi7l31MHEwW4Bzsg5pIVFyjeyd73rXZ7nkI46sCJsWgNgZ+KZT6ocjjq1kNfpBvb8eKta+Nd6NzvjQ1LqWt07Im8yMyZsoN39xkX74dUP0GncQTQIBAKBaUIA1ZotHejSpmlcMzUWcucZyLheFB02ak51SBEfh34bA/8iXLLrqNMvmdHVigJ246RVR2zppY+cGTYeNRyPA1aknbnooosSuHRp+TFXXXVV1fgCOAt2FNK6xQl61GOBUU2xgDRsbclEVLybqfEqf/LKl1KSuFMDkyM+2Z+oZJxsVxi5P7J3mWWWIYYEU+H5558v7wBi+tkuggCCE95o0NCcnYB3+7GfDBYtH/WL0IzEDzGyPpK6RsjGAzEMYh9eQrysdhcS8XFEZKFjv01ErDUn4lzbb35i4jm8iM/OZ/HFFze42PmI8wQL4ahjj2PAvz7OHVIeHonwBrQp3E6YcF/BWAXa8gpvMjMK9qb8eMqp/7eWd44Tbci9VUXDb4xb2tdWkUV9IBAIzAACfBoJErCJKC5wBuY1bVOQlw4gFx02xjBa3GmUIYTukGkQier0a+KXKBHUVKbQEduecmbYyPfowpHsyVaEQwtqOw8XZb7ayLWcO0GabC7x30sI7BItteq33XZbK/P5JuEmZRzqdLdYwEmGSp6vPNGLNKU1PkEnO8AiDflVOfZe9bjiWBl1OwXOxEXIZtPCDsTqEWnIvo0bDPr1F73oRcrIyeuH/MOZyghOeKPZ1gLBl5N0rSEwWj4STgT35wixd7I9Jxj6jE+cI0ZkNsjzZxz4F6sCuw5dWgHt/vXXX7/bbrvxgKyGACSd8ln/iKuEbeklGwyOwbJb7DEUIFFKPJ7KEPEH44yanH2np2vh/s5n1fu9GTf/dnr+VeWrrrqqqSM+8j2/tMQK4fmbn1zeVdTTRzkQCAT6iwDusBp8lfetCKLQDgHU9igXra3ybLRj1boVZ3x6oU1qy4EMpXk1SiQV36QjtnTRR87IncTXmnTO9x1vbIS85A/7CWF4uLDbKyEbmkfVpq8axFwrsytgb/CMZzwD4VV3kwJyJO52VGIDSU7nTCiLl5tvvjnDs3qS/yQEyAb0ixbc6rFH2fYP2Zo83UxTGSr1dqEv99pPlKHWlqVGB2xRg0OR1bOFsALO68yUsuKVrZ5/EcdtkEyTY2ipYe9qZgTthUScqE3ZRZiXNQ1xVdAf+xBrwgnK0Kj58AW/P0kyYg3PvAWH//90W7ScO0200dSUW4j4ts8WBwrs5jO/W0+pctEOMHAk9pJllPTcIpbFn26o7qIQCAQCM4aAVxYiOszY7KZkOghAFkqIibXpIj+qKeB34VlJCPOVpWUvikGQiPgdsaWj3nFG9sVv1mTNUiRLK6u0+JJ6CXfGa5y2cMYlHem2GIDnOSvQ1iu5PUGmjGIbBbwZCgjRYTsqUw+PAx08+m8155Vm70q4MO46Jv1rzKJJClWCh1KP4MpvTdjgWSHZYVLJCX2oxk34QconYgFPHiNOBHoq2XjYLfsX5eztt99OGRE/2cMo8gEd7pJLLulbDVP2Ir7GOQzDIduGiD8YwESw5jcwb968wc0cBXv9YsZMzkdIXkfXoryYjAQiGc5KGxDfw6nOeTLc47AG6idXyicqA4HZRgDjGDo2PjO33HILXqT4ffL14g87W9VXygOC9wLZMPCBwe0NPRbrA7ooZSbxlEn5pz/9KSZvvqbYu/n2Y+Au3WwjTKBtQvPEH13g7snYUBmSwUOf5IRz6SVOqPrO8VUrfk1LW/lKPoecsIPYx5QZA+F3q622miegjFYMr1aCOzFdQkZiDYaKp0GjDCHiyYBZ95g1+cdYSHFNxDGATvm6L7TQQiJrVBjycQ/sS146PFBpSQe2Gi2BT+EH5/oifuJWxC8CeU7NO2LLCHvHmbMOmsr3TLNKxCcoDh0zvxcysSDT81Pl2Bzyw/Bzy3zl8W8xuxz5ZyweoOlbdPTRR2MHYHlBGmbh4oBb5AHEhrPPPhsXo5133pljj5GGeQ3gjNac3/KBBx6IRh8BZmBfVRKO6qVBZ2UzbjIaeOZYD0z4MU2/X8Q8WbGsxLXMiIWoSDDyGpYm7Bg8FziDKjJYu3VvZAMD4vjLI8BHxcPdIiM+vxPPgTKeM/lOi3eLGfHxaSuS+RrtK5AkfH2UA4FAwBAgYcVWW23lUzH4nyoCNF+1fEQ7qhq+r74VZRZ6tEd5kPnqJFtrPpx4vvpWaM7QriWKVfXF9uOss87y9Pkyn221zaTBrmLCgaZJ5A87E5YyH05KF8TVqRcVSFRXlWmktDsmPn/+fBn6xUcF5n7GGWeUts1UDv+4M8zt1o033igJhr3QQPoMwTDhtptttpmwolA/Zxpvu29ImYTRGmRHbOHfO87FsywT3IqXRI7yHReYSYH32e+vKA/MymIKeDpqGmjru2bnTFIaFh8/YMQeDkkwMrbrSPa6y6qFncpz4J23u8lRPzIBESTg6RUlopw2cho89thjPaWVSaNp/O3gWCnvb7jhhoRY0Qj201MgQTEhT9KQy+HDbY0nIQfCasGCBcWOxlkTWnw9i/ICKr0hHfGJE0/SZWLKYYNe3l91bVNHfFLGkh8Kfhjj0LdVM447gcAcRQAhG9u0JTBGNY5PBV8yJFTUMPzckJ4R3/mIUsZbr1QrDwGxLuhsSOvG54p/+dFxuiRZJtC90bBq84DYhB2cjys6aXTh8OGDilyL3MAtVGs8EswCyD38kCmzn4ee4eFWx4ftQx/6ELICOSJw28WNVc67+QdJLyJo6qWDWpFTdVgP2c/suuuuKMLxIkDhxycZ/TpBmSggiYFDLqcL9iRMCoUllai00aUhW5NQD2X8/vvvrzFUFQheJPWekgQg6/CYCGSkd9R42D3okbkzHvyPyRpcBXLCf/jHnTAsvcSewyecW0yfxIKlNGOoTKK2LC1JnX6LZgfPypfhNiq2sOodZz7ryZe9DrwZGpJI8pJjGeDHgoWNcxIGHpLQOtDWD4PljqhTdPOYMXFo4ZLVRn4sUDISljJ2+PjtEEeLuSDZD3hu7crM1zTu2i14PqwzdmnqAx3lwWpQVK/4hizIdsmmYt111/W3rMySy4uXaC6KZI1qEPDkD8mSO9CbuhHzxsTj3E/0sS++HwmmjTLi8wvU62h8UJ4hELSAwh8ibazws6/iwwutbTeSQRVZ1AcCcxYBPHMkzSDcl576jl7NxMdEC2Wg0cT066zp0vQjm2rFwLhcBe+GG24IGWHupuxHXleoHKpxXFwIlLelA50Z5riEDxpx9UJDzMEJQenlOuuso1aN1jG4oeejLTIHkrcxX3311cUNMJVLBFHe6/VZ7vxH7vjjjy8dm1WyJZAezpizZWIj5JuAmHd4xQiDBOAJSsvDP+5StsVKPLVs5PhdFO82qhlGi49YpqdDgcdXs2uenW9ImcSFatsRW/j3kbNgmUjBYk95QCgCJjIAdSq5vLUWH68ne+twpxFbFRTXa2p7aTRQiIjGClo9TIvPzsTY4tBfalbFSEsMg7UdlRZfNgq6TgBJRjuGy9Di2wtQ+W/i/l7fEZ/9LqdD810Ra77caL9Qv7VzIU1GAlvkgGOOOUb8yZ/A1xSdH2oAOatx13/XRRyFQKAFAqiQ0fQk+rYWfOo3IdX0Kqus4u3X9dtmKPml4GGCYA0NDtNVqQ/4zVpakkTYMs58YAgXQ63FToB/rRJpW/2iyyn1o73uuuvsc4IW0LycWRMQ981HAoGVPHHoxekaTxXGVtRUodXGaGDBarRCE6G8deq9WECJrkovoKuyqsATRzTnLjp4ubQyKoVI8iXjLnAdd9xx22+/veeDKyrCLv6NVsmqCOCJh5LdohcUmZY+nBoeOnsbnyvdyEAMcIDLpo/WHEsIBgS7W/rvSB53KeekEk2kRSjiq1M8CCUh7vQy+ZHyaGp2p32v6P1prB2xpa8+chZEEykME2g7kQFnOkWI33fffVmQEeIxF/j9HuuhCT+oRWwlJPrWTkkj8JfTbZWKHv780q0X8+nHpYfYZT5bqGNYWzAPeosfPpDYGFmNMwNrccsH72JvbMFhlE3GsI3odRdJcEzeEZ8XlKgRFGyYhOSOaU8LnTpm99ZQwLm1lIO437rfpCHxN0T/sG9J6uNy/AgQA4d1VSrV8QygKGuOcjGq4IW3w8hnZwfK0CFbiFL9PT0mdjM2z34Y/KzsN54cL424qXm86lWv8k1UJlUzNMSQ8YNSpRxM1RxdNVptESQF/xWUS2tC4y9hJTmPHYW/NbCMNw6jwlUJOUzESVp90NDJOKJRQRsD+OCGpHoVUB573wBGmDlFiFY+2o9vagYoiId/3BpnvsAppPb4+ATkKevcTTaWRFfXaWU0SZj47rvvXrOt36PaXHwQRUdsGVsfOdeEtAsyTFusXTwg1uQ6VqwuxiCeUiliDlUlBYUj41Pn6xUUhM1T9Wz+7X3jnGDycqrepHlcwvSxw7VSLkwsGrKgXnrppZLgCYDEr48FVr99mBNPbOHFrC1I/NSwFKsjPDNtAPmzhEVfVbCYYGOFLqOKbDz1cbptDmdTqtmj0r8I68U/YlOIJyt1UGNXgBCAjJ7radA9QrM1gEYFnMwG8a57n6WfHyq9Jz/Xuu2DbqQIEALFs8BRBK3nSBnnmJUqXxu9kC2I+WXlxtT8Hl8Iuc9h861i4JVDyK+08pSmq0ag95WJzgYnE39XZZPmLXTMKnEJ1cfJIEJLzSdKTYoFjBsCs2ov4VvJtZ1WvDb+1sCyJesgQbWnTPYkeb8Uc0yyAbN+ej6UkVGSQ0KOOOKIhCa5TEKkTjnllIRAlyN53OKWKWB1UeYZQjgylDVvDSPiJyohAidqdmpmK71aFIgcU9uO2MK/j5wFy/gLctXDh378vSc96gApPhDeSY9sPPYiYeQkBb614seunTCnBGAjsnpkJGkN8C5Gnc+qiHzPWo1yIdGkEFejZGLYCYlw5RyuxABFQ0xq8K+yWHofP3QEOl+MBcrrMpLJDrxkwfE/H5RxA5t0RxCOOv5ZpOViRnwo6pxYxtcaHRvOqeTOKyaVS7upcV300uFAB9uGqjXvKO8WH3LC7/j9c8kt77QqyhYFbOL8/NglozOwWMAWTKLJCBHgBeNocRIpIDwR49giKXKLwZxwwgn4cCdLWAs+9ZugrUmEv/ptqyj5CaMDs7ulQbTcQv3jPQeQp/32hthTS4wo10/jZsesqF+v0Vcl6a3MNEycrirZw3vRim8VKiU5/4jMF+T/SqW+dp4gKfvtRyJOJZTJJSZvWwn9gEHAPFKMmI8ieuKkob+0VN9WQzwxn3mZFKjERn/eeeeJnk9vMQuZ7lqBs4TYd/FptEsLpU1o7HL4x13KtliJDy6fc+qROeQuXCQbT02SfNAsTu269ln/OmLLwPrIuR2eI2llXjr88JMlaCTM6zPB9w85Rx6APETLtY8bJBp94oaNFX7wGC05aYuknMji9jPhFs7GWG/4kKFNx3CHdh+DIT6BLKRE1VOD8h4Zhg9cYkBGGmHFwKHRElPiEolNA8cbUq+yMmMHYA3Bx89UOcS84lRJFiB9uVAboWEhJYD9LmjIpe6yYmAYxGjmDwqsjwlfCiRArecsvF5bVJ/PSChDxM/BWBSs8TTNBF/zXLlL9BvvR6KTy3VT415xJBiCkz0rl7zQdM1PgjHgowbjkTjic24fajzkEn4YWLjoosaQg6RzBNCb4nqIvpPzwPkM45/ddZes0fx13UvX/BWDRUeEErJ9tahZ3y9fF5Q66Iap5EedHF2Hr5rp3dE2+Vb+k4BNj1zX/q6VLdkC4rvXLSXaBFIclm4PxA0Doz5IVNZJmeV3LDJzi2GmwMYeuznLiwJqIWbAEq+55IvuRfYiN7YEquTjx7dfjhk49Ps0O0gtBxxwgIirCsDLOy/XWwkZRfrhH3eRZ2mN7fq4xXOv2jqWNpyqSja3yXhwZU5qWlx2xJaR9JFzCwB9EwRZyz/Dm5YRSHyTjsoI7l7X4HtBbPCXKiPuq5wUELhx3eGPrQLLApoIzglJ5Bw1QY7nD7EExxgy5+BTzRKEpzSnCsiYZsTkCELpifDGfgDOBMSTwMdvevERkpuQ+A9TQKMhH5Bi/PownJu2DRE/h1giWPNVRlfq34xc49HdYwmTT5tx5W3Oa/hkxC+N9ms0NMxnuAHwQ0IMQh5Cedao+VwjRrVAtBAxqfzxaUSOATEckZEFM0m+S1HCM4ogQqRJmBACoUwdnhgbOgscyg/SmLDMeSHMk0XZI+DDB/kOsSVmfUegTxztwHynnXZCuuXXZNogMSEnJmW0RF49QyUPXTTomcxZVjVWMBo+Tn4lIX2yyPik2f5cNcWC4lztVqLiKtJTI8MF5UZafBswViPfKlkbvR9Oae92dI5u8dJKxAd8v1tA/YaTkiirCmyxJN9DkxHxh3/cVWPw9fzY+alazRg2277r0jI6Ju9Vj9mklKxYWZSY/XalI7YMo4+ci+iNp0YaB5Q74+lxzL2gCK8puuAu6D0GS48OtMGjO/DxS53OiO+CRHy/THXaaSnzEPFLYfmfShxhFURiRGjE/Ve5suWob5Aby3+lYO+T0JX2Zq8XurrSY2hKm1RV4k6HzMpdjFnJKWBVTeZmPc7BqB8S0YcHZ+f2HX744ZzugUWymCGkCi68FyzMETEUsyz4Fyl5IXGeIUEYalFiJNDu1BGPinzmVI2ES5s1P3NSpyFo4tCJuM+nhV8NCiGwrdqVkSyFDwbbKo8bWwJ/WSXn0RZphh5FzC7CIiushk4TLZQoVVB+N6up8zP3X5pGWnz2KgjoyclEfk+CSgxlnsZWLCA1ejchCCRH4m6e/GTyuXHE3I4L0CUPi31C6fo8/ONWL5kCbgDmG4mRk/1bhnI8t3g/vYiPpqZmv3o0ovdbu47Y0lcfOQuicRZYLsgiRY9ojvwpS+McQ/SVR8Cbhf3Cm2/Vxd26ibS66HvKefpjYmyoAwXrjmaUfALpZeBI7DBwcktlrOckpCPYBcebzLCRJDB7QYDoo9y0Gfo5ewsbPbpenhQ6e1L84sxHnhacGYhD0r4I0yp2VRKn1tSoeecNr+ZMQEZhgD8Jwg3biVlV6iRTHvKy9HeBuw6hXbiKkqIBCZsclMkO33fKuVE8WZ9uC+cTn3kTiwquqL6JyrRlt+bbkmvLfwbqfLa9iM9o81491rUX+ErNCxphUsB8dOihh3oFGKZ2nGhFNnA5gtjbEGhImmprngT2cOZORg+nHimYIUU1iNel8j0Ewz9u9ZIpyEsHcxBeXhnK8dxKTFLIhTX7LW4G/NvSEVvG1kfONSEdLRnvuUVHYGOseudH22Nwa4qADz2qfzxc017q0IeIX4lSUbCuaTmq5Nj2RouRmKNe5tPLik+oCkJMlSMdg+WrTDwKwiX6FdTJsZpUPUAkGGRrIMXHAJ09wKJVRZmH2YcTZ1Cx+5zlqPMHumFYR/hHWQFvS1bzqt6pRyg0t28kP4kaGfo5fguVM77jGRBwugBGZH0sJBkyfwsnDcWQUU8MXJULqW9l5eQHPlDEx8vFAnatOXEydX6bniazYywOr1iD+sNzyKwz1vbyyy9PmNipk+CsLPhGkKQQSFr5y8RViSA/f9eXu3jcnj9lVlEiFqyyynqTNOn6MvHkVPDfwH6LWnwv4nfEllH1kfNAMLsgYGHhV8NSTwhpF/yD52gR8LqV0XKuwy1E/EqUku8uutKa6qVKjq1uoPFNHPHRCg+MsME3F4cNyYjFnsm6g2sHihPLg1kkoAbnEHP4QfGMvr+UJir5IoIzP2OEbKItE6dt8KEmOcGHaELk/oHQsYKTJwRZky1E3hECVu95z3uMIYlN6n/OB45hVgmOOuqogTlb2LORGVMpnPNQkBLeE7A39pf5sl9qUPl4fXlpQ94KX1/TLYSYM7VKHP9UX7PgvXRo0lTEx4pt6YmYSKJdJotFzTGYFkPEiTeO6q0w8sed8MdxwvY8fCPqWFSS5l1cyk5izL2ZKN9dYm+B2Iv4HbGllz5yziPZ3V0+x/zqMyb67roOznUQ8AvsZG16IeKXPy8s0YmZvkeO+EyJnFM4v2Y+e5bIlhhQHy/oscDwbc7fqPDt7Hp/N8pCAJ8ce1X4RCUOx6KhwDlKIGk1SAMca+rvlpahxw0a1+2Bntk0R+UMMQUchCwPTCnPqDQEUGmTiYjElGSmymNChP3AlAhgfsEFF4gPR2Est9xyuswX2I95R/xnPvOZPkdhaVufmhOVnp0sW0rpK72I77PreJqaZb8nGeiID89EVW9Z9qlPNrqIkjVTDPNELEBIA66KmjCC0T5udaqCTGeTPdFW46GQ5D3zMocnK5Z5mZNK74vfEdvuBtwp5wSouAwEDAH/c/ML7/jxCRG/HPMkJRxEAzVV5YyGrvVfU2M2/EhwKjBn/YylD8WzJcEgPJQUnEPPY2YZSD7Dlwn9a5W2DJnPZx3xWcBHBQ1+5MaK7YT3oxgV/9njg+GFFJaYqvDC54BYRPOiYozdfvE3mEDBnsq7NzRS4SeO+AN/3TfffLOXbtmi1NkBMmD/pfFfoGQuAy/JQ9DIER/XtSQ0VgcdMBffHWJ6EX9PoDIZ6BOX8Tp56Ef1uDUMK+CGZMeKMXhc9ZK7k7pMkizVf+KJiI+iwTtBdcQWlPrIeVIPN/qdcgS8Vqho2B/n4COjTjnaxY96jxzxy6f0f7UIf+bUQRQaqt//q07/P+aYY6yqkbyScpkD1z7rNgf4kWGQzDml88a6KsmeJYCPrlePlTZpVImhCYaw5UwisjB14TBAJn5SoNQXFxqNv0iM8hXNLn5Q2r0UaYavwe0NdzXzWMOfnq0aIeb+IB7crC3Uoaovn0sH57eMg1yRQ7LUDLQq2CmP4lO/L2+vG+YJ+ihwhjFwT3L++edrtBQwO+gIrUT0x4LhKTPlc845x9/lWICa6n9aDf+4fdeUpcLn2XlpOCEb82UCpg8UyY+ERcwTsGr5eMGO2NJjHzl7oKIcCAgBv8D60FsRjK0QIn451Ml3F+dRjm8sJ+2ytuiIT8aJIXXqiAjIf4w6o8LHTd/U/GT3GyhzdAlAD3gnpw55QSoZfRJPRqzhaEV8hCcMBTxf+uUEgy5EfI4AtMyAydQ6veQk85GI+AiUJL0hAylSC072pS6SaMT32WcfDqVmA6wwKdKhZiaIEpfjWkWA1cunpCQulhOIt9hii6oEO36pQZaq2h+Kvz9dCw1rEp9KolW+LiTA8cG11tafaOG/QOJcs+AHTJOBIn4SzEDoucwOib9QndSf9EjuI2WgtzGTrLY4+I4ed9IRflbym5qSQFsbIS8S74CseRkfwmRGiRZ/jTXW8AQdsaWLPnL2yEQ5EDAE+NH5lc0vvOOHKET8EsyLjvikjCx+MktajroKWdxbfGA/8IOaHwLciJ2FhnNqE+HAN5TiDdeFmmYmdgU4N2OUR8bl2E5EKDXEhwGtG0HDmLNRymKOZxYZA4IfiZU55gZfZ2QpLPuooxAR+Nlg7h8YmOhZoW5Hic6nDscMTOoggEhBhrshN9nEM3DgNmwRGUmUTq5i36kv++RFEDMAf9fKTJAoZ0wBjJBdJaecJs6vxSa+BkxMxL/wwgt32203f2skZZ7dJZdcMhJW9ZkkQkb9hp4SfyqEbJ0Ii1BOaiNP4MuohJEaLV6F+vxOTEpc45BYvZC28Xljq1wq4ieO+OTTTFIH+lFR5sWw/bnVb7TRRj4BMzEh++23H7eI5/ZuOUbM+8aWwMJbEfH5DrVb03ys7UBHfN5571bEa7/XXnvZePiXvDr+yCpLs6O7VQXMLD4klKWgmG+qu8edjAqXITu4l+XODEEJwaQuWdY4EkibT2QOdAp11rpExOfb56fQEVu66CNnj0yUAwFDgK+M8mKj7vEanwlAxEIffwkCOOYmT4LvdEIznksJGRoPmXCG6ZpcfsaKE+MzfHQ8Ey49GTLdQr5PBFYukUUgwK9D2WC8oy3KPL7T4lBVQKDH2uCPV/RMSEWP4F7VVvV4DyvCj+kjRSmikTIgi7JdAXUvHtUYuPPN582bp+eIa36RmB1IIuGxX0KFXKSsqpGRHX0wUQFVZK3rWbnYIKFWH9sfL0Dr0fqGaO4FPgWsYf5usezTZR544IFFAqvBpuHtNgip+IiLmLsmVLFtU6UvJIdvcMycv1ssEzDgZ8FxS55mjz324C4z9ZW+7C1OmBf8rZplvWA2DH7F+YbJsfCsP54+8Vwnct3fLS3zW0vyiWGZKVJ29LiLHUmsZy7Fu0PWsHj6x026oUYMMen45oSd1GnulS9sFNkbJK06YksvfeScgBOXgYAPVcKWPllA7jXZ7qez96JOiGNWJjLUYq4MVCytR6LjUdEpIqhl+MilpPTzmTRE7DM3SnKNk7FbjrZofPWBJ9EEeayhRLCQzyU6SHSKCTd/SSJC7YA5fwftHQYWmKCa2nzzze3rhWISBb9vlZRJrmfbDyQDZDXM90aASYH8kqbI5FOatBr5JfYNrzQlNX7SBS7ObDxQc3JyFvo2pdIHroQyfym1LvrFPOXcucsez8s6lHk589P3ZxdkRE8FWxt/LCeeLRl7qGe7VfVzw/HJDwzbi29eLPtEPdgWkHdFg63MMmjx/qgyKWywwQbq7rTTTkvu1rmUU4rxIWIn04qfmHfjxk8dHxtP70GGYf6HbA2JBtEUKLAOeIZW7u5xJ30xHU2wzuCT5gMvhxTx0bzgvCe4MAkO7JEFXPQUMHIWm3TElo76yLmIT9TMcQR8aBZpACaLRoj4JfgnGiCkTD6fJXQdV9GpBFxbdjG8tu5z/vz5EjHxGc3wMbuz9Vhnb2N+sTi9mP7Sqz9hQgJsCxBUj6zjUqLj4qJ6X2Du3v2aj1NRJ41XjA0SWQdzv2+uMh4+5gmHbw97a9Vb4aSTTjIOdT5+SdumlxLZDRP2Kp6DbOhS9yrPPUJ/UZHm2yZlOS/VtMAkzWfysnj0kiUdqposLxsuKPZuEGdfRUZ9kvyUCBZPbG51HAvtK33Zn3KFNEaMr7+blP0Pk7Hx/nsC205gBUpeLU+DlcAmxb/veMc7/K2aZX4p4kAh/475FFIY34paZPbqWpTghqdffhg4+3mZFSNeqSWwu8edDO+4444zNEiY6603CVnrS0XnWy/EfDdlJSMDHFDcDBwkBwhYX/Yv2U5Le+yILX31kXMpRFE5ZxF4y1veoh8RetXJ4hAifop/osbgUaFKT4nGcp2ceMVIOEK1Rc988pOMcniVZPjomEZ6zMscxsS8epDs7RIhVe83KvZSxaRlcIeMY7xKR+JDgcnKX0qDxIM5wvpiP1BKg4eVERRlERzmpIErVVaVMmxXifuy9y8iYjLhY7KXf9OI+BSMie4zaZtcyhe83duScJuNS34CXpRETs2bj8yjHfzZX6Gnz4Cwyy676DGhpfaUOqDKPNb8LSuz//R+WQPNNd5tnU4JYxVPPIIsCCSR+0VgBU7E1GjZfiR361zi4CQOFPDBw6pW2vAjH/mIp/zQhz5USubP7SKSpJTGKlmZvbM+e7CqjX13jzsZnlzv2u2XEm7FSx9aDZhkPijS5GtY6v2miCCrDD2PUgoCuuPRVBF3xJbu+si5CqWon5sIYCLW0ocTwWRBCBE/xZ84UT0eKyTG97RBN9eoW+TxovHUcZvRcIjkI9Bt2223lcrc+JC4QDSlBSz4Ron8UUrgK9kDICgjCSFwW73c/WFy4oknemKVvQRfdLY++uijNWVAyJhQlIIDc4eY+wJ5JI3Vnnvu6espe6/ivL9B0rDpJQK6VMIMpigNoIm0YANJk3gasDuykWOFaNSjnKMIp27UcLaJ5WFcJRdq+ojO2vvtvffeqi8teJsVbjCi4edgMje7WVUmBb+X5lnjSZ8QJJesCT7w1wdpmBMzP1jypSat/CXbWn6q9l7Bqko690182Q7KsOb6t/Q3TsiQ39Pij+T5+DIg6FWHJ5sQf1dlFPM+kxj6e4yBulssdPS4fUeEowiEql2cp29aZt1LQrSxiOafb2kXOG5pnBx5njHy4McoSrzwid4uZWiVHbGFeR85Z4CKW3MKARQ30jwSgp/XJY0Bmbku4uMgjrGVgEtcPHHBR6msNU4FxEcUomS+O+yww7BjJrb4UT0kAu8QNBkJCxwHaipEVcOggNAGAebs0j9u4dtKwhyEbFJzSEzxHCgXVcjJFKR+w7Cb3CpeYnyHJ5K0bmnkfJCq3m8mqFFxwqXaUiCljFLxII54OcaTWdl7ApS6OysImC8WW7VELOBpIoHx6DO7iGKnjWrYaPkkSKQ6KTa3sz/Jn6Nb5GUXPsXNichKCwpZIxVGKcHcrDz11FNNkY/jTZX7GZuxnXfeWUIwG9GBQrDXrEsvjhSFDMoTZOlIXjkPPj9YPWUKVdKtbyLzF/RaiCSZZcKCxcSnJ8JXXvV1CqgY/ICtzDqjrSlMeOFZKqU5psDLnGeOt57YshlGMeHpSf7DkujNHZgNB7qudfS4/cBk6vG/XE/QqEzqIVZ1PjHARdpWgncVECVwKIA2mQNYygBZ3wIfklHslMXNL0GUS5dlLI16anQEgEVWvqYjtnTRR84emSjPZQRQ2+sH65U+k8Jkrov4EgH1VAYWhnGIr3rM2NklWAwcwDAEaMLoq2oYVi/JA2E9T8ldwn+R1+Vl692ckL+rmq+//vqaRRIV6nNLD0xS4VO/l8or3tfZeuQMRUL0cKEemACnavD16xF35FrK5xPX/9K2hiGZ7HXXR1WWzkuUxYKCqgcmjSm2ne0a72eMoI/vFsGjRDSS9RK5CnuRdsVouDEl1USDqHF7tTCXofUn2yae2dSwq7RDsqv4KJgEYroudStP2hLTKZ03Kl5kXx1bgcf/wA0J3HxOnqbpudB02EztX2Zn+3kmjsMSuUHR1ntPHn5raN+TKZRe8tIKfFZCbI9oXvgDTJ/nkQ0AIQelHIqVHT1udaT0uPm4DtHnC4kvpcd5YFkW1Kou2HP6SOuVVlrJ7yfZROHoKPkei+IZZ5xRxcrXd8SWLvrI2SMT5TmLgPdBqPJOHCc4c13E54AbFlBWN75SqNyQgDFlkrxlxRVXRKOPpMU3DBdbgjXRSUOG9TkTPNf6ySEL8vXy7sIDl/UWBHxEyVEzcJDKWQEOA4kTAj7zGhh8krt2iSAC1CK74oorREbafq+uS6R/kVkBXZTEArgRupcQcIlWTB0lBdoiSdBjsdVIanimOhKVryaRczXZ+qOF8rGepQyV7p3taynBXK5E34wsldlO8zMk9qPUIlSFG3tmshkmbxeSLgcIVDWxevYYaoWwnifWXVz8ZQi25lwSy1HTEkV2IHW63XbbiW2dAguC2lrgAc4qHJ2hShXIzkkYDH5BddgaDb/f4oZcDAlUIGFAnV2Q77GLx2384Wxj413KGGr8YPJlXiFWJD40AAt6QM0HiMQPiOP84ZFoBT5MvFrsLvhOcWIGXyXKeS2+9cvrgX3Pv/lswFCR4DfMXlQ402necJrMoiO29NJHzgk4cTkHEVAi4FGtDENiePfpd/qRR2GOI4DyjPSXgECWSWSdRmggNLOLsCZ8BX3wlvjwCeFDpUu06fKyRZ+qzDNo7+hdOkvRq4C7BWds6ZIsKEnUAbf4TuDboJO8RKwCHk2ozzmQSzUjKSDfb7bZZhz4BTe+1rh3l/qAlfaFHUNhdgBCvtFSsqpKnLUsFaM/+KaKeG7W4wzGxhKLE3+EPaCzR++OwITE4/1Y6oPDa4a6Gpme1KjsrHgt2d1lXl3jzBuLmgdXH3wncK6rv8Pnd8E+ENc+drl4iWB/QFyrP1qicQhqhJ78qvz6Bo7TOOOI722evKWnnHKK3cK2gLsd5iZ+R7x1CKNsTb0vfv2x8UT4tYIJA0PkRZAlFoUBe7tWfW5GOfLHDVvMC+TwpUBMqg9ibjq2MdMDBdEjJPUjd7DvmneA+H60V5ikar4PvnlHbOmij5w9MlGeUwiw2eY7ghshs2ZZzgge44NlyC1CNJ89BHTyF1aLprMzwz2vL/70iLmlzeUIBBkqKE9jZ/fY259Pr0ErE2SNmD2D55OUkbDxZ/D2AWtl/6LpT+iHvCTgRvlw+GQWDQVIhPyV9kL2TI0T0bOYKrS0la+07RlTY/fi66McCBgC3vc9n2LFI6YofPvV1LEH+uazVMZuo9Mn2IT3cWr49hDoTL5j9oqYYurYAepMsyO2dN1HznUQC5pZQsAfG5KcSzipac51R51J4T7N/eJiKwnYDrqvOVo0cGqYCTSR9zDEHD7lmb/61a8WB6LZ/K1iebXVVhNxaRhr0gSVJ0pWVI/04j18EMcTymEu+ViyfbeBMbtSUR77O647RdGffr0nH+l1W4xETr2ZnHct2EaTmUEA/xkcPOwVxUZUc15JqrGf//znNRvOHpkdQQCAwFgnrfDsIRAzCgQCgSIC6CVtXeXI84FBj8XmXdTcxwYU/wYCQsBnckB3ovqBBe9E7nM4+IYkjhAZH0ipnI1GIV9cesdfz8HKeCngqGNlLAaYmD0NZ+gSGogk7c0CMKcGBwOSRZDkDh8Aa+KT33kmLcro70n3QQgBxm6SCZLhpOiuAA3DIwEiUn6xC5+EUXmH8JHAXaF46HKxOTUkIbV6C/ospYnKuYwAvzvtpTmWDlfyOmjoZwsxb6N+PnXazhgNmnubEQ70Sv81Y3OM6QQCgUAjBHAvxGXRmiDYJBFTjViNkDhE/BGCOSOsOF9GbsGSF+vMzQsBOOOWNiFmjq2q3cIROREUEB3UyivaVakC4Ykq433uz8TBuQVDASdwkdfZfJ1FqQIha9pdZLzk0cETnkggoBpmCujvObuKo77wSEbKJyyhlJgQBeR7BlCU/q+66ir2HtaK+ELcrK2M3I+FBOVrKcOkkmQUVmN5G5O7cRkIgACRl7bDxJsuE5IurNgG4Gqvy6oNvAhmuEBmVR06q8ChGZ5vTC0QCATqIEAeW77sUCKNeN1inbbd0YSI3x22feWMC7gOjiGKrv40vIhfqoOHgGyVxpA9gIRsdeHDcznkRfVJAT9gYmStEmnDnzBKJVIyaSjtLlHt8klImMhA4ZPrexoMbQRfIiizB8CvHZ8lfzcps6/ASHfRRReREIOwS58V1CjZLZAPBEndMt74gGOxskMG7FI7BBIQkW2TSo7gFWVVgSVG7lLaIVQRR/2cRQALj/L5cA4GESB5KPxPG0qdKJdvNZN3sXuwL2JqBB9nUgDN5NxjUoFAIFCKAHHhSieIrD9Fxr0uvH+CZ98RwInc3mPSwtSciyRLa1g8L5bfACl67C4/ANxjipyRg0kYZzRVJzdxUJRMYOSSK3q0c4aLceBfHIiLvVDDHsD8kRC1Sw+CgUZpbYwbhyKVsqISf9ymes3SjKLbbLONRo6y0Lqz6OSasbPsLowDexv2MFUDjvpAADlV9ivyhOYB8Sn8ecGantWQZ96vu0oSygkD/Rp5jDYQCAQ6QoAExPbl5Utd53ySjoZRZBvhtkVMouYuO2+VVxahvCYc2sLai44AffXVV6vtL3/5S6UjJBlFcoClyCignlfyZlJr+1vI4jjeyF8fV/XSQy5RqJuTD5uE0h/bD3/4Q/xkGCce8+wHfBe+TLSrzUUz8ndVxn+GjjxlnTJJfsRBBZ2XiROFVRJywFyYMmpUkWUK+CxZ75yLlCGLW4EACMgUxi/OH0+RgMOPiOMC9FbXXxMSPjNwnzq5LwAAQABJREFU6b2VWEZmYEYxhUAgEBgSATKUyLcZR9whuY22eYj4o8VzRrgREqrzULyknpkeib0lBODqQxkp/53vfCehadgElHgeF/PSM6o8ZwJV5YhP0knccsg/hfCKD4x1gQc/0olvkpTxbLGfHFm6OeydTP/EweAfjwe/8vAQ805l0tBfKqhO8yrdUcjiIbI6BdyQfF9W/v73v6+Js5lh5GxCmAjbpyJxac28efOs96YHl5Zyi8qZR0CnLvC7wMurOF98eLRvtFeLxLiY4EqJi81nrIYYBgMBV8YZm1pMJxAIBFoggEpRp3a89a1vbcGh0yYh4ncKb4+Zowa2j5kFyA6ciTLik9Ydt3X87KWMNz6cK0TYaKlavcgcDRmu7VLYGwf+JY8+B3mWitoJEwwRBL8WQ1phwjlBe+65J7JL0iS5xGsIBwZ2AsqBXZookF+1hlezgBxfJSFxdLxtkIwVZeKGk4FVXQK7IcbhwWzSqsiiPhAQAsSHaNOLKK96fh1Yuoo/QP+G80vnR111/IVYzVJBR4zhPjdL84q5BAKBQDsEdt11V1sVcdatcvptx3kkreJ0W//NivLdCHCIwxZbbME1X3Glp7z79j1LnJWo3Dhks7GwUZxzOESTBC8EmCMuaKd7z6a5K/L5oNiGDwIxwW12rnuuQeEeHEjTST4QDjEl7pZjdEnawz6hQDigguBXlPrIQwoDGNBgiNtI6t/4xjcYM94RxB8jr9dkpkfG/opYiJqtgmyOI8Dva8011+Q0WexFnG9lv3psdxxSOxAZtvH8KGR6GkjfawJM8GYlY9aAxjGWvZ5ODD4QCASGRAADuyXsRv7B1/ERj3jEkAxH3jxE/JFDOiMM0WHj5fLTn/6U+Xz+859/2ctelpkY50kpVBSHciXryDTp1y3ietlmXHPNNVM7bHb8OA+Q4pMRfutb3yLoZ2qHGgObNgSIjWFnTgopFPPszy2xFf5yxHw/8IEPxGePf7nFOwYNBiL7Q3/PNkAHOU/bpEY+HnbOuPzBFgsnXn8j5x8MA4FAoEcIECDH+ZJo7kkfwlnR05ml+r49AjSGOk4E0FSRMmKHHXag0/e97315Ed/n1GsRezrOebXoi5OnUGq+4hWvaNF2bE0IVzD5Ho1syPdjg302OkKmP/fcc3nDyQ3F2W18rrC5JVl0ZmOmrWeBh+HnPvc5a87xea35RMNAIBCYAQQ4dYcFE/l+scUWO//886dTvgfnyIs/Ay9bV1MgD5Slwfnud7/7hS98IdONRHzCQwmozVD28RaRr+gvp1lbifxhgYA4Tx9//PF9BDnGPFkENthgA/T3GJrxrCM/7GQHM4W9Y7IgBIiBEZnDobZTOMIYUiAQCIwNgZe//OUELOGEjFftNMs8IeKP7ZXoX0co8gmQtZA7QvHwVCmdA87uHN1st9AfY9MvJetp5XXXXUfAK552yj0yhRM59dRTzYkIw8vUqhOmELcYkkcA+w9H3b3yla9UXiZ/d46X8VNiq7/22muTfmDGlrg5/mRj+oFACwQ4/o/DKPG/f+pTn9qi+diahC/+2KDua0ckmtxnn30YPXnoOQgzmQb6Y3R+fPasnrBUXHgTmv5eEq3LBp2ABFTjOtti2qZDElKO40GjQOwEJ/sii0zbCGM8gUAgEAgEAoFAIDBmBELEHzPgveyOUFoCahn6QQcdhJ7Y5oCH+lprrcUxsQTm+lmh9ScL/pFHHrnVVlv5+j6WiUHEB4nNOplGpnP8uFWwCcGQgosFGT9apC2aznnFqAKBQCAQCAQCgUBgGATCUWcY9OZKW9x11l9/fWbLMU9nnnmmTRvhksSOOKlzFOujH/1ozqUihTwmbCR+NMqlCen7hRcGCg6zxG9hau0SJDbBIxD5noh+giVCvu/XCxajDQQCgUAgEAgEukMgtPjdYTtTnDnCbeutt+ZgJjLoXXzxxauvvjrTI5yc+Npkngj9eO0X6xOyuBwSAbZSpDAnyweJ83ku66233pAMo3kgEAgEAoFAIBAIzAwCocWfmUfZ7USQ7EnLyMmyyPrmmk9/pXI8B+iU1nc7vrnHfcGCBcj3+N+T1Dzk+7n3/GPGgUAgEAgEAoFADoHQ4ufQiXtFBC6//HIccsInpIjMmGswlXzlK19BuI8N1ZiRj+4CgUAgEAgEAoHpRyBE/Ol/RjHCQCAQCAQCgUAgEAgEAoFAoAEC4ajTAKwgDQQCgUAgEAgEAoFAIBAIBKYfgRDxp/8ZxQgDgUAgEAgEAoFAIBAIBAKBBgiEiN8ArCANBAKBQCAQCAQCgUAgEAgEph+BEPGn/xnFCAOBQCAQCAQCgUAgEAgEAoEGCISI3wCsIA0EAoFAIBAIBAKBQCAQCASmH4EQ8af/GcUIA4FAIBAIBAKBQCAQCAQCgQYIhIjfAKwgDQQCgUAgEAgEAoFAIBAIBKYfgRDxp/8ZxQgDgUAgEAgEAoFAIBAIBAKBBgiEiN8ArCANBAKBQCAQCAQCgUAgEAgEph+BEPGn/xnFCAOBQCAQCAQCgUAgEAgEAoEGCISI3wCsIA0EAoFAIBAIBAKBQCAQCASmH4EQ8af/GcUIA4FAIBAIBAKBQCAQCAQCgQYIhIjfAKwgDQQCgUAgEAgEAoFAIBAIBKYfgRDxp/8ZxQgDgUAgEAgEAoFAIBAIBAKBBgiEiN8ArCANBAKBQCAQCAQCgUAgEAgEph+BEPGn/xnFCAOBQCAQCAQCgUAgEAgEAoEGCISI3wCsIA0EAoFAIBAIBAKBQCAQCASmH4EQ8af/GcUIA4FAIBAIBAKBQCAQCAQCgQYIhIjfAKwgDQQCgUAgEAgEAoFAIBAIBKYfgRDxp/8ZxQgDgUAgEAgEAoFAIBAIBAKBBgiEiN8ArCANBAKBQCAQCAQCgUAgEAgEph+BEPGn/xnFCAOBQCAQCAQCgUAgEGiMwH//+9+PfvSjJ510UuOW0aD/CNz7rrvu6v8sYgaBQCAQCAQCgUAgEAgEAvdA4PTTT99yyy2puvbaa5dffvl73IuLWUfgvrM+wZhfIBAIBAKBQCAQCAQCcxGB+fPnM+2FFlpo0UUXHcn8//rXv95xxx2///3vF1lkkSc+8Ykj4RlMOkIgRPyOgA22gUAgEAgEAoFAIBAITAyBH//4x5dccgndv/SlL11yySVbj+POO+/cdNNNf/GLX9x2221/+ctfjM/CCy/85z//+X73u19rttGwawRCxO8a4eAfCAQCgUAgEAgEArOMwHnnnXfZZZf98H//fve73y299NJPeMITll122Ve/+tVrrrlm05n/7W9/e8c73nHuuefC52Mf+9iTn/zkphyMHi98K7zxjW9sx8FaXXXVVQsWLEg4sGcI+T7BZNouwxd/2p5IjCcQCAQCgUAgEAgE+oHANddcs+OOO37ta1+rGu5aa6215557brzxxlUExfrdd9/9oIMOsnpk/YMPPrhIM7Dm73//+1JLLcV+4/GPf/yNN954n/sMlV7lyiuv/MMf/vCJT3zi5JNPtq632WYbth8DhxEEE0RgqEc+wXFH14FAIBAIBAKBQCAQCEwQAUTeVVZZBfkenf373//+H/zgB7feeuvXv/71Qw45ZIUVVrCBfetb33r5y1++6667ktym5lDhIMrWOVE++9nPIt/DZ7vtthtSvofJaquttu666y633HIa2POe9zyVozCdCIQWfzqfS4wqEAgEAoFAIBAIBKYXgauvvhonHJxqttpqq4985CMPfvCD/VjxWUe7f8opp6jy3e9+9/7776/LTOHQQw9FeQ/BEksscfnlly+zzDIZ4qpba6+99qWXXnrf+973pptuevSjH11F1qh+ww03vPDCC63Jz372MzY2jZoH8ZgRCBF/zIBHd4FAIBAIBAKBQCDQbwT+85//rLzyysSzoqE/66yzqibD3c9//vN29973vjca/Tqu+f/617+++MUv/vGPf3zhC1/4iEc8oop5pp7tx0orrQTBJptscuaZZ2Yo699iVIsttpiF2+L88/Of/7x+26CcCALhqDMR2KPTQCAQCAQCgUAgEOgrAvjkIN8zehTkGWH3wx/+sGJScbk58sgj60yYJi972cte85rXtJPv6WJUgbZ+tN/97neVTie8dDwyU1sOEX9qH00MLBAIBAKBQCAQCASmEYFvfvObNqxjjz32Wc96FtniS0eJ8zrOLbpF4h2VuyvgO0SQAPxxpHnBC14wqo58SHGI+KNCtVM+IeJ3Cm8wDwQCgUAgEAgEAoFZQ4A8kprSr3/9a7Jl6jIpPPWpT1UNJ0aRl0aXHRVGG2irQYaILyj6UggRvy9PKsYZCAQCgUC3CBCchzjyyle+sttu5h73G2644ZnPfCYq1R/96Edzb/azOePkYNfFF1+8ap6PfOQj/S3LcuNrRl42Lx0CbbfddttRMf/3v//N+mDccMSf44G2HCW26qqr4rk0Kng74hMifkfABttAIBAIBPqEwOc+97n11lsP92K52/Zp9NM9VjywibPkcNBPfvKT0z3SGF1dBDjTysTchRZaiIOlOOWqqiU56XUL4sc85jG69IWbb755n332ITz3Fa94xb777otlwN+tXybQ1mRxxNAWiXTI7HnBBReQmH+zzTZ78YtfvNNOO33jG9+g9yuuuIKzbG0Y4aVzxx13fO9731tnnXWIiq7/aMZPGafbjh/z6DEQCAQCgelC4Pjjj99hhx34uqPFP/3006drcD0fDXlIBGnrY0p7jsEMDh/5nkOv8M953OMe96hHPSozw+9///u6i+5f0beqpPCFL3xh00035bAqqyRFz9FHH33JJZc85SlP8WR1yqTvNLI3velNdeg9DSk+yezJZsNXzp8/n73Hgx70IFWGiH/22Wc/97nPve6664iK5vwvsqYKnOkqEOIdf4FAIBAIBAJzFoFPf/rT9llCUiE3yJzFoaOJn3vuuQbv/e9/f5w0Ouol2E4nArhmkStTYt973/ve4jg56OqBD3wgCn4Oz+IN2XrrrY0e564icb6GqN+HPexhNCeVPmk988T+LkECJOi0fhnMBz/4wd/+9rd33nnnqaeeuuiii2r8ViAjvm87N8tYS+wkBB4cdo/pBGGsWnxei+c///m33HILb17yxtS85M1jx8zuGVcw1CFYytqllLr++uvf/va333bbbfVPm6s5QpE94AEPIFvWs5/9bNVEIRAIBAKBaUMAc/PrX/96RoWWDmGUpXXaRtj38VhuE2aB44SJX32fUYy/PgIHHXQQwp/RL7LIIvi9JG2RrXHOIQcODvTbb789d5FwjOY73/nOn/70p4c85CFJk8zlZz7zGRhC0OhE29/85jek/WEpoCH7fNL+rLHGGtYLUtaTnvSkefPmSWwLR3xDZsUVV8RgQmJTkNl8883xxFt++eXt1hT9O86dx8idlhCjiSbBCtZ0Fscdd9wYnsFRRx3VdGBBHwgEAoHA2BC4/fbbJdOfdNJJY+t37nSEvMV3yj43HIHUYuJ4cq+11lqot/bee+8WzZMmxFpwbCpBF8ht8GRfh2sWAgoeGniJJMT1LztiywD6yFm4LViw4D73uTvikUgM3VIBxxheD7Z/qsEDXvIJenTV1ymYVpFA21tvvbUOvdFssMEG1iOjxaRQbLjFFltoSNtss02RYHpqCG0/+OCDf/nLX7YYklktcJqq3/bNb36zIYPSeQptdGM93RYTEkYfMkaxlHBsGydHfOlLX9J7YwVeUDT9mD+wfegWcAM90Sf8EfPBZ0m3rMDax7nQ3hyWECSXhEpgLyN2hCBxOLP9Kga5EwXPzpVtt/+Jig9DYhbsvPkhsQQXm0OJeys7aTWJQiAQCAQC04MAi9j666+PFMKQ0OFha56esc3MSE444QRTzWJwxoJd6oedmSzZD2luaRaJwjzjjDMyxPlbfDoR7i+++OIqMka4yy677LnnnqWfvKpWHbGluz5y9ighFTz96U+/6aabrBLwET09AWWEoiWXXBJVPVn2Sa5PDeIN8bjEb1BGnY/vQ9Ikc4lT0NOe9jQIGr0qH//4x1/3utcZW0QpnIWKXVCJO77Vn3zyyaIvUk6qhuQ2RLwgUlr2UgwgMkQMHBLmC5INsBIiCqKSx8XjkEMOGdjKCP75z3+uvfbadMclfvk6ybhm887J6m9WuqBMglQ4JAK88h1BwKr3nOc8J4GGXWa+YeYuVqqEG/J9ow0ZmgZC4BODGlaLTKdxKxAIBAKBCSJAlJiteyxcJHuZ4EhmuGtybhjIeGjUnyb6Iz5zXpsLk0022aQ+h4QS6QedvR73rrvuSqQg0gzfvtNOO22llVayW/zLSUk4YSfNqy47Ykt3feTsUUJQ8TGpBxxwgL+r8le+8hUwX3nllVWDY4+eBdst1dcpvPWtb7W2SLp16KHBXfnhD3+4tcKLDL1naUP/Kk6nIz6y9cYbb6wtNDJ36URKK7GukBNJuU0R8UvJqiqJX5Lsd84551SRTaT+XhPp1TpF/61X2Qrkaao5Hva4/p2z5ocffnjN5gnZt7/97WQkPO+Eps4lgr6WURiypa7TKmgCgUAgEBgzAigOlVAP5eKYe58j3SEMybaMgrBq1oSE8Q0iNSFxz5ijt9xyy1KX/dYiPqGT+sCtvvrqGMOTkTAAcxcxMrK+1HHz6IgtY+sjZw8p8r0Ol8BnJuMCB84IG1/+8pfVHEWnHtZPfvIT1Q8s+EBbHuhAeiPA1V7dve1tbytthbPDQx/6UCPDr6+UZkoqta1qJOLb4Mlsa3NsKuLT/J3vfKe15beDc8eUoMEwJinis03Xu2WFCy+8sD40vNBJcAMuj/XVD74jv2+2kaBB8QT1y0cccYQmhTNS/YZBGQgEAoHA2BDYa6+9bKVaYoklSIQ/tn7nVEfyeeBTlZk43zJ9NTKFdiL+ZZddJsebxz72sZlPJLKmesflIDNgbnXEtqecPVbI94TPGpIodwld9XfzZX98LDkZ88TJXRnlPvCBDyS3qi5xVZDamwHjxFVKaV4oNqMpd8SXB1ELEV/Boi1EfNKMCsn3ve99pTBOpHKSIj5pmLWgUACgpl8amaXE57DDDmuB40YbbSQOVsB82YIPTdg9474PE9Qw7ThEq0AgEAgEOkUA7bJiQEn81Wlfc5m5lFDI+hkcEhEfV2xcDgjl+tSnPuU/TC1EfMzdOIGICRmTMsNAWYuOX8QkAqoi7ogt3fWRs0fpH//4B7sjw5D4Swz7/u7AMulZ6uBfysdc+ZGj6lhgjINyPdEp7jq8AKWcWSI0KhzxS2mmpNKSgzHaFiK+QkNbiPhM/7Wvfa2hhCvH9KQenqSIn5zpQKBt07eEMBG9eVbwYek1uXkjlDEhF1LNtqVk5tdI1Evp3agMBAKBQGCyCCg/Bt/1Ku/byY5wBnrHM8c+KPjq5D/5+MSjQCXgkqOUfAwYmT38B66FiO8N1HzXBvpvnHnmmepxscUWq1J1dcSWh95HznpXiaCQ/zB6Q5Ip6ZYVeND8JZW65NFr400qejZ+ujWwQPISe3A4CA0kFoHcS2ibsdt4Heh0OuJrRhMU8f0BZ294wxs0pMkW7k7npB/2eAoEeVx77bW+LzlR+cp82fTlnoaV1F/WKV955ZV41HjKFiPxzS2pLfn7fWWUA4FAIBCYBgSQ20gfYSPB7dtOb5mGgc3YGKQiJTmEMpOWzhFHGmjQwqL2KvXCL201sBKNMj4bIuNAJQUGqDIpvOQlL1HgIBInmTQTAi47YttTzsIH+Z49mO3KiCrEYFI8MQqLCs/X8iOpoQrkG4SJXaLO93F9oqkqkFPfbjU60ZbMkmJIYlaVfYE9CYfsWg2vsXL2exrEOTLE41nExKlns4o/z7LLLks+VhwCSWBIJZIuUa3U462OfYPoc03Ws/rVr35F6h7eQ5K6rrDCCojsTI1X0dOoTLYiUiMisBEpyzFhpMFBY6u7voD31KGHHspeZemll8ZKho4DBypPMHyZh0uouvHBC51gp+F5joDDpHYYOk9Rc2jkiG/DVniEmPD2NJ2RVxsYHw6PaMrE05s3GG5IvjLKgUAgEAhMAwI+c9/ll18+DUOavTEgUuhYRvJmtpvgkFp8beTsu4bgVWcYWML1PS21RXfElrH1kbNBSoSliXf4yZx44omlOEND6C2Ce5UinwybQl6n/SDyIli/5S1vKeVplXg423YC+WegocbzQZJWj1UxAz4ZiRzx6YWUlJyGS87xNddcU1tHtNc77rijLo05Eb1oURWfoB7J7OkHQ5nkTtiOOASajQEeQWwDTAGx1FJLffWrX02IMXwh2QM4fjXIk3vsscfCCy8s5t5RBxMHuwU4I5WRFhYp38je9a53eZ5DOurAirBpDYCdiWc+qfLEHHV0XoAh0sIRH8i845rxIc1zUyi9EcqYsCVtysTT26tcP+TFt41yIBAIBAKdIoBqzRY6dGmddjSXmZM7z0DG9aLosFETmSFFfBz6bQz8i3DJrqNOv2RGVysKWLmTVh2xpZc+cmbYeNRwmA9YkXbmoosuSuDSpeXHXHXVVVXjC+As2FFI69Z+++1HPRYY1RQLSMPWlkxExbuZGq/yJ698KSWJOzUwOeKT/YlKxsl2hZH7I3uXWWYZYkgwFZ5//vnyZSCmn+0iCLAbwRsNGpqzE/BuP/aTwaLlo34RmpH4IUbWR1LXCNl4IDRC7MNLiJfV7kIiPo6ILHTst4mIteZEnGv7zU9MPIcX8dn5LL744gYXOx9xnmBhYo46PnIcRICDY/YMmvr/JkxoqPCmmky8EcqasNvjdcw05ylyRgzZrKpoeGu5pZ1iFVnUBwKBQCAwZgT4NF599dXWqeICxzyGudCdvHQAueiwMQYEcKdRhhC6Q6ZBJKrTr4lfokRQU5lCR2x7yplhI9+jC0eyJ1sRDi0oGT1clJExkGs5d4Kk3lwSEZEQ2CVaatVvu+22VkbYIOEmZRzqdLdYwEmGSp6vPNGLNKU1PkEnO8AiDflVjzrqKNXjimNl1O0UOBMXIZtNCzsQq0cAI1c4bjDo11/0ohcpIyevH9IaZyoj5uGNZlsLBF9O0rWGwGjZUzbddFN/6hF7J9tzgqHP+MQ5YkRmgzx/xoF/sSqw69ClFdDuX3/99bvtthsPyGoIQNKZpPWPuErYll6yweAYLLvFHkMBEqXE46mcjIiPmpydnJ9hC/d3PlTek8y4+eft+VeVr7rqqqaO+Mj3vLuJFcLzN8+zvPOlp49yIBAIBALjQQB3WHVU5X0rgii0QwC1PcpFa6s8G+1YtW7FGZ9eaJPaciBDaV6NEknFN+mILV30kTNyJ/G1Jp0jjeCNjZCX/GE/IWgQF3Z7JWRD86ja9FWDmGtldgXsDZ7xjGcgvOpuUkCOxN2OSmwgyVmiCWXxcvPNN2d4Vk/yn4QASYZ+0YJbPfYo2/4hW5NVnGkqQ6XeLvTlXleL6tbastTogC1qcCiyerYQVsB5nZlSVryy1fMv4rgNkmlyDC017F3NjKC9kIgTJS+7CPMJpyGOFfpjH2JNOEEZGjUfvuD3J0lGrOGZt+Dw/59ui5bDNNHWTUxaiPi2cxUHCuyPM78ET6ly0Q4wcCT22DJKem4RHeLPC1R3UQgEAoFAYIIIeGUhosMERzLDXSMAWSghBuGmn6RRwYLfhWclIcxXlpa9KAZBIuJ3xJaOescZ2RcvX5M1S5EsrazS4kvqJdwZr3HawhmXdKTbYrig56xAW6/k9gSZMoptFPBmKCBEh+2oTD08DnTw6L/VnFeavSvhwrjrmPSvMYsmKVSJSUqUgiu/NWGDZ4Vkh0klJ/ShGjdRDSmfiAU8eYw4EeipZONht+xfVMm33347ZUT8ZA+jyAc0zksuuaRvNUzZi/ga5zAMh2w7GRE/Eax5q+bNm9doJuyeixkzOXEgecADeSYjgV6mqNK2RMxwTnKeDIcz7Gt6iUv5RGUgEAhMIQJ8BlgT8LUjNxcpEfgEorgisIxYuqZri2fFeoUHIBbt1VZbjc/SQgst1G7umBzRBfI5vOWWW/B2xT+Vryx/WC+rvqa+I5xQ9Z3jq1b8mnri0jKfQ07YQezDYYN+Cb9jRgklWjG8WgnuxNAKGYk10G7iadAoQ4h4TiGMGltVQV46eCxIS1pF3FG9T+FHF/VF/MStiDcNeU7NO2LLCHvHmbMOmsr3TLNKxCeEDx0zvxeWHWR6fqoc8kN+GH5uGZkE/xazy5F/xuIBmr5ORx99NHYAlNlIw4hhHHCL9IKQc/bZZ+NitPPOO3PsMdIwrwGc0ZrzWz7wwAPR6CNuDeyras1UvTToUqvLaOCZswibqGaafr+IebJiWYlrmRELUZFg5DWsh9gxeC5wBlUkxnbr3sgGBsTj/+Nr5yfQIiM+b57nQBnPmaYTKWbEx0ssz0T7ip/+9Kd5yrgbCAQCfUGAhZhPHaJ8sqroEvM6H4k600HXNX/+fFmoxUEFZPEzzjijDitPQ2KNrbbayqeMEEMKaEn4+g7ME8BnW60yabB9v77MgaZJnBKeuCy8PpyULoirUy8qkKiuKtOI70LlaYZRgywt3HjjjZJg2AuV0tSsHCbcdrPNNhP4FOpneOMt8g0pk95aA+6ILfx7x7l48maCW/GSyFGkDoGZFFgW/P6K8sCsLKaAp6Omgba+axQQJKVBavcDRkjjkAQjY7uOZK+7qC+xU3kOvPN2NzmYSCYgggQ8vaJElNNGToPHHnusp7QyaTSNvx0cK+X9DTfckBArGsF+egokKCbkSRpyOXy4rfEk5EBYLViwoNjROGsmoMVH+TSkIz6R10m6TIwjbHkFa81CU0d8krCScQnm6PbQYNXsJcgCgUBgmhEgaQOJ3vha2CCxRGOwRuNOxBjCDfkikLRQSJPijaR+xdRvfmpE3cFKsfh8pGFFBB6LHvonYtQwDpDYgeNpcJwlOW+VyO55UmZ3AR9LtEzGBnw/+OIiSaMuYhE766yzsAjzsaeMD6TymidMuPSG46ZeOqgVGTYTQV+46667Yk/AiwCFH59kJkVQJgpIYuDY3tARzh4o+FFYUolKG10aWxQS6mEe2X///YsDS2qmHMZktMkl2c35hFPJ9DObxqTVyC+TGDNLS1Knl6LZwbPyZbiNii2sescZISSRQ+rAm6FhhWGtwDLAjwULG+cksBZl6LnVOtDWs2UZIeoU3TzmQRxauETXKT8WKBkJaws7fPx2WBUxFyT7Ac+tXZn5msZduwXPh3XGLk19oKM8WFRZjjxlUibbptWwqVh33XWTu1yiSuDFSzQXRbJGNYij8odkyR3o+92IeWPice4nrC8+bMkoG2XE553WAzY+qKMwi7SYiD+W2VjhZ1/Fh1dEG1l81KrIoj4QCAT6ggACqCLGWAHQhSOkIssm4+dAePMkRKDBaSG5a5ewkgLJFhPUAajHPDFeod5TE608ny5PUFrGM0dSF8J96en06P9st5BoyxKG66yzjo2NfxutuvBBz0crZA42MMZ29dVXFzcGqVwiiPJer8/i7D9yxx9/fDIqf9kLGP2Ai2UiDg0W/C6KdxvVDKPFRyzT06HA46vZNc/ON6TMHlhtO2IL/z5yFiwTKVjsKQ8IA8hEBqBOJZe31uLj9WRvHe40YquCVmlT2yscGUOKaKygRdi0+OxMjC0O/Sy/CTGXGD+JYbD6UWnxZaOg6wSQ4gC6rpmAFj9xf6/viM8OkvOWLSzdHhtmYvRJH/rQh9r5tiYjgSe6umOOOcaY8y8ZCfg+obxnYy33L+r9l1LEUQgE5gIChJKj7ElUbp1OnGzTq6yyijdhj6Q7psBplFK3oLtCUC4GR+JPiS8K/9IpAiiLBsrsZACwQgNnea+5xVDx6PNJvo0eh2a03eTasiAz1L3YCthUJNz8JesPvduRjTh2V6VoYCW09CmJUOhZUbZ8vlbpBfSErHjJBBHNqUcHL5dW9GcKkeRLxl2Gcdxxx22//faeA66oCLt4Y1olazgTKQ1V6guMfnZJGU2kRSjiq1M8tiUh7vQSMD1/Ho2/zJS1nxSNP421I7b01UfOgmgihWECbScy4EynCPH77rsvCx1CPOYCv99DD2Ki2oYbbmg6e6Jv7ZQ0An853Vap6OHPgmm9mE8/Lj3ELvPNQjPCEo150BtOiTDGxnjddddlBtbilg/excLZgsMom3S9hyjyT8JN8o74PHLiMHDixMgiB0ebPzp1cjwX+desgXNroQFxv2YvA8mIaCGehn3LQMogCAQSBNAoY2CVVjW529Fl3jA6yrXJ8cLhYbTTQVXpLdE4t1x66aXFLvBLSWy4ZFlOyBJWqBv4kCQ0/tKHqfExYNvg7yZlO/gGJNjnlOrvoU+skagkEiZ2SUeS8xhkKU1VJd44jAGUkMNEk6TVZ33WyTiiUUEbA/gQ9qB6FfoCowZcWuAUUntt+WCVEjSqTDZs7EjrN0/Cr3ffffeabYlLsSnoXx9E0RFbxtZHzjUh7YIMCyFrAs+IBbmOMbCLMYinFKCoSFRJQeHIqEV8vYKCcGtUPZt/e+XIbUBeTtWbNI8FVV86XBblwsQyrhgk1nBJ8IRrsnojX2kJhTnGWAsvZolG4qfGr+d4PNoA8mcJa2BVBYsJNlboMqrIxlM/7tNti6E8AIGwXvwj2oMIrVKXL3YFePsgow+Dkanl7DE0+pdP/jD9+rYspqYRTH4AnibKgUAVAkRB8eri94z+uIpm5PWl+tdGv6AWxCwFI5wIX8Qk+7IXYnxHxYNRUPx4AlglZ3EcccQRnqBYTiKRTjnllCKN1fAlk1MitukqMq/EQs6mVSmlIgTsnSmlqaq0ZB0kqPYECnqzB5r3S0EDp+fOau/5UO4RjMnI/SWGFGWeITTC32pXHkbETxRYBE7UHIPPpm+PjDg3te2ILfz7yFmwjL/AkmVPBx/68fee9Kh1kq8De3XdJRuPDRIPflLgWz0/du2ESWOAjcjqkeikNcAXGnU+jvLI96yBKBcQ+cSWAuFJOIAYc+yERLhyDldigKIhJjX4V1ksvaskGhCdL8YC5XUZvt86ZQuasrHxb5VvZx1Ww9OM21GnmBEfCOqcAcbmDNsN7p58m4tp2oRm/ULRS4cjEmxjJyY8dZ4Wn0bOZeAXxSW3vDetKFsUMNbzQrPvZBfOzrIFh2gyxxHgF8Hp4uRSQH4izLFFXuQWAJ5wwgm4cSerWAs+9ZugsEnE6PptSymxCHvhiZ9h8QgVa1hUSSSnJ8LqvPPOUy98M4rJvnTXChyCgyDO2m2XFkqb0NglCyO6OitXBdGipvIeDng0Ve3BvMk4EadKe1clJm9btznyT5VELJhHitXwUURPrLvFgqX6tnqCmPnMy6RAZY9gLE5NNfjg8jnnEplD7sK6O+ZCknwwsYE3GozP+tcRW8bTR86NYBwtsXnpIObK+3y0/Gtyw/cPqUwegDxEy7WPeyEafeKGjQ9+8CS+5KQtknIii9vPhFu4RmO94SuGNh3TItp9DIb4BCKMkZyAGpT3SFx83RLrMYs2Cy8H31piSvwtsWmgfyH1Kr432AFYinGVNBUJMa947ZMFSJ8tdEZYU0kJYL8LGnKpuyy82FcxmvmDAmsCAhkrMPKqtsosvF4LU5/PSCjHLeIXBWt8NxNTuJ8YSHGXM9tAXCYYT9C6XBwJptVkF8glrwhd85IxBry+6G4kjvichIdiDCcwXjVsRnTReiLRcC4jgOoU70M0xxwJzpeYvCtdo8EyzV/XvXTHH/dxn9SFr0gmLYZ3CWVI6Jb8CR4JKz63BxxwwMCRY5nkSclnVF/HYkPFinGLkEeUAsmxRNQzfpRPmAIos1QWDwQUW78TkJlbdzMF1BDYzVkMFVALMUK/dilc8kX3InuRG1sCVfLx49svx4x+wahZFAtKh0/apaotWbHVtNWwaUyGhCtzUtPisiO2jKSPnFsA6JsgyFr+Gd60jPjkm3RURnBXrG3SBUJOUmOXdhZV6S0Eblx3+GOrwLKAJoIjRBOpTA2R4/lDiMIxhsw5eICzBOHXzakCMqYZMXFWqGgRNdkPwJmAeBL4+E0vPkJyExL/YQpoNKQewqwxDKsh205YxMd8g+rRYz3kfGo2Z1GQl5g14f1gMJnmqMfsbuYcikxzfwuD1Kte9SpeTT7YfLnR6vm7UfYIsFMn+Ib4Tv740iAWABd+vQhbmdTjnoMv4xlFdCORD/AhBEK5LzzNxMtYJNEEI7qhJTUlRH5ImNFZ49B/kMmElc7LYfmGc/OuZWLW3DHcEf+qy6TAFxRtGS8hnxk+J0kgKV8FL+aiN8qwEmesz5LvqcyI+D7Mke8ligZ6RKBP3Bd5k3faaSekcNaozAsjgwCdNtLi89OjCbsd3ypRkXg/HM3UF+zoHNXwxkrE7xeMmkJSYHVSKogx7LST3ouXaMS8Vz1mkyJNaU1RYvbblY7YMpI+ci4FcAyV2smj2RlDd+PvAkV4TUELd0HvMciWoGq0qGASlU0V5fD1qO0l4vvVfnjOjTkM7+tTn4PmrFFOyge96IjPxjE/EftRof1iBcxTDrwri/ZI/DUHdtdTAiJ4fK49vTMqcFgGcm2j2e22225qjqzfqG1CzD4Nu15SOeQlWlvERI0QTWdNhtg9MQfRECEMs2DNVnOQzPvnGM7EM7TDwfvnGCtE4TqskgQO7PMRv0obmm5e74MVoMcJBLsNKfMarUUoscSKrUtpj6WVDJjEZQlQ/lOKSqy0oSr5sSR7D3YIdrd3MGpSSUFSFyZZ5pvcbXeZvK6Nwm0tFlNPXGcMDRyJ31hac6wTatURW/j3kbNgGWcBI5hhhaqraukY53iiryIC5PzRTw837yLB2GrqJtLScIcp+INXjE9ehhumr3zbRAUF8cCR2PHaPLmMPZpMeYSP4HiT6Z3cqxiSIEAnp2yvGfq5eYuPCipJHhM6ezLm4htHOhF8Awjr0dHIWCqRVBA+6iuofCgIv7HW2NIjASGoIb0rRQtul1xyCWkQDz30UPwcmBcpFEmk2IIPOgPEQaxhfJ5nVa/TApZiEx12aLfAvLVeJ4mf4bAYL/UWu1YNZ2mpTIEInyozZulqg7sOIWi4tJJKAnv01ltvrXQWnm2x7HW6iThVJPY1GLt4RT1QmNpxohXNwMUTYm9DoCFpqq1572DUrJOCvHQws2CCS+6O/zIx9WDkqTkG9icJpX9bOmJLj33knAA1nkuWC4uOwHZXtXSMZyTRSxUCPvSo/vFwVdyGqR+riF8UrGvaYoaZYWnbFiMx17fMx4w1lOAPPrdVrmmMhO8cER4Il9iMCCuJ32fp00EgQE4FT1TauNaBKmfaoRsjCoIDXDjSArFGDQ8//HCLkVBNpoB/lN3Ff5H1MUOZv0U2LnYd+Ngl4lq+VfEuIT54HGFPQMNKDCI6+NbLASkF2PDQBXtISRvFHudyDa4USl1vOBCz1Q6QIqskUj/DFh9Tf5foNH/py/i5svfzNUmZYfCskfWJgU5uFS/9ajPM/hbOKGs8h8yqaMO4/PLLk/HYqZN9hDGZiF2y5hOxYOVp8NJhJInfqYL/SsfvK4uOOl7E74htdwPulLPHbWxlnAZZx1jnCSEdW6fRUWsEvG6lNZPWDScp4qN6rKn3aj290oaoYBNHfJR5A2NWCOjG0VYyYpEz5hg8K1BFWB7MIgE1+PWatxK6Z/T9pTRzvJIPDCDzq0BgJZ49se8DDjXJuULEOCL318GNNZEEJkhF7CKQn+o0KaXRV1CFUrKBlUgDbGPIIMbxbURlYKkYJpj7Pe95j/WIJ1j9L/rAQc4MAY8+0WXagU0tJlhkhRNFTT6mLBCxXNJV4wuYHQam6GFSBAko1bRv7svEnOmy6IyhW3UKCxYs8GRNRXx8jSztTx9h9BNXGeOb7Xn4omGLU/0EC7KT2BjqOwQn9haaexG/I7b00kfOk3q+CA+EBmUcCiY1sOjXEPAL7GRteuMT8bHtJgZlpBmvWBrby4EPq38A9DvwEwUNWZzwcs58jy01LErZqgRJWOTJzQQrVPh2GvzYptyjjtCO23vCiu/T/CVT4LgfYLRKPq6ZpCi+IU1Q3HLqZBJx72nGWUbEZxuDrwJBAmRY8snpWgwDba6ppdkqlLpxt+A5S004Kc9PB1uqdz7xtwaWky0lMlDNTL5Yfggf9/zzUeOskLjdcyYL+b58q2KZvAX51A1exPfZdYqsBtZ4KyiO+AN3y4nxxLLs00sfYSwFR3azyZ5o68eWZGlLPnmeMimzeiQ1Psy6I7b02EfOCVBxGQgYAv7n5hfe8eMzPhE/SbLGVOsI1l0g4r9Pxn/4kZBLwZz1M7YzdM+WVoJ0raTg7GJqM8DTjnNiIjgyIYFVKZ+WW245n8SjGLQ3A1C0mAIu2taKLZB3pWjBavaa3HzzzX5SnIfSWg2WsEJMr8mK1OmJr3OdBOpYtEj8jAEQL3ziJjn7r9gdOpTiyubn6780/gvkaeqU8VJr5IiPrx0H7nrOOuWgjzD6iVgZNyQ7VoyH4sPli5TjrEnyiNd/4omIj1rE+5J1xBZk+sh5nA80+uoRAl7bUvREGOdExpc0s/j56ZEjfv6RIEuZjwThcWhSq4iPOeYYu4U7fhVN1PsAVs7DI0sJmXNKYcFYKcmeXxTfMK9tKm0y85VYxgABKEi4ibWqC58BMvGT6KO+xDAk5qix0ZHju6XdS2uGiUC5xhprtGaVyKzJeVgZtuecc46/+8QnPrGm+p9WOBPiBGh+gORQYg9M4L4/MAh3cIvH8F2o7K2Lwzw+H7MO84H6kfPPP19joIAnsY7Q6iOMfi5WlgofS4uXhouU46xJ3kkdNjRwDKy6noZl1gcIdcSWHvvI2QMV5UBACPgF1ofeimBshYmJ+LhjciDi2OapjoqO+KTCGFKnTiJzxCm6yKjwcdM3NT/Zfwfa3DXaOVhA6PGz9nKJr6ecBH4RuhciPvITxg1eSPDBub8LEZ8QYTvmOXkcnV5ymPnwIn7inTIMOAkrwsHrTJ9kOEqdbvTk6i02RPAlzxKJ8JGucLIvdeXE02yfffbhqG/UCgrnuuaaa4rcVOPP3/BfIBHULCTKmoEifhIkQKy83OT6CGOCEkEv+HBa5ZQE2tpg0IywPZYpL+P0mMwo0eInO+GO2DKGPnJOoIvLQAAE+NH5lc0vvOPHZ0wiftERn5SRk3LE9zYUEB/4ico/FbgROwsNickzWTWkysLIXtNww64AN1zM3Ii5OBXwsVdDojxRBxI0jIEYHSd+AswiY0AoToHzdy644AJMzKg2UfDw0eVFxIDeyDsZjTt6dD4euBBgpAYBZB1yxg2zbSWYgfOr4Ylkw1lOpP4tDt5qfOYiiC0xfJGYCRLljDWAEbKr3GGHHRKnz2KTXtfwEE3Ev/DCC/05AKOaFC8buT5Hxa0mn0TOqNkqISOLiz9nahiFa8LK8sMk3RUv0bv7WEZ+ccW0TjiqcfC7jlInzxI5o4qsrAYLAJsEiwKiJr/F5QeC04UFHCPi8x1qtwL7WNuBjvj8SH3sAb/TvfbaS9PpI4wavBXwvLKDe1mczcCSEEzqkkWYI4F4f2wAyBwoQeqszImIz5faT6EjtnTRR84emSgHAoYAq7cSeXOSEn+TRIaFfgx/uJAmkyTR8hj6LXahz6HGM+TBBK9//euN1f7771/sTjX43xsZLj2qzBSQ7xOZlUtsBTTBTULxbd4lF/UYAkSGp91CoMfa4A8s9EzIRo/gPpAJ/riKmWNe5BFSqChlQB7IIUOAVpLISOzFGRpuzZs3Tw8R1/xSYnYgSbpl9ksoO0uJ61fqaG7Ou6nfqg7lBhtsoEnxDtRpktDIzo55nUiG5O7wlyxe7OhQq4/tjzd2+GHDIfGTxqG8EVuU65ttttlnP/vZIitixAey4q1O0nahqi+2QnOvF4ACNsYija/x6TIPPPBAf6tY9iYyDrQqEgys0dtlg2TNyTdJjoVntfT0yRPpC4x+ChLrmYuvH0l5mKOvGMC+++7r3yXCOeqMyquKiN9gb5C06ohtdwPulHMCTlwGAj5UCVvxZAH5H5vCGP6KyioSio+h32IXxTR5KC2KZDVrLEMOyyjuN8g9mVbyKin9ricNkaLMMZGs2Jz0LtdVFKj6ZJK6gQTbUPKplhfjRhtthJYu4eYvTz75ZO0pOdEGtSIGFpig7Nl8883te4CqDwW/b5WUyfpn2w9EFqQKRB8jwKRAukZTDfJxSlqN9hLjhtdBkhq/yB+nYTYeKA45PAsNlrLpA1eRuFHNNIv4TAQvOHuUqBgbzWu2iRPRBIeT+vNlT4u0DaosILRKjmLI/16sF2IY7KHYv/zcir3Ti6ehzE++SOZr/EgGish+A3naaad5PjXLckqxcRJflGnIguDduDGb4Krk6f3gYdgXGDUFpqMJ1hm8GtYsDCnioyPAc09vFAbMgf3yuRE9BUyyxSYdsaWjPnIu4hM1cxyBj33sY/oRkU1hsmiMScRPVFNImbiajH/mdCoB154BpszWw5g/f76kTLwwM3zMkms91tnbmMMuTi92ELpX1MGElNJ4YvjuWBmlRMfLxd9Smbl7b2aW+6KKF8cYGyQWf1wa1NYX8PAx3zJ8e4p60JNOOsk41PmceLZNy5LXDRA2KgkHWaXx0rFbShuP0F9UTSXN85dTLuLL26qmySg/2Zm5i8SpHyyvDdvdmlPjXTLHfd4cU4WyJfascKjLs8Knzgtb2MpKDW7FI6IsM1IVc37CuMrYL47sBVVkqn/3u99txPzLgWuqr1/gdy0OFPIvmM95hamwqEXuKYyCixPrDA0y/NparVsjKSidgPVCLHVTtjIywAE108BBJsc/k+20tMeO2NJXHzmXQhSVcxYBDrqxHyz/ogWeLA7jEPETxQDTNk3Y+GeenHjFSDhFtcUwECiTVHc4lmT46OBDeiQDRobSbplXD5K9XSKk0tD+ULHjY13koHM6OcareJcaHwpMVv5SGrYimCOsI/YDpTR4WBlB8euOC5p0WqXqn1KGLSrxBvbORaSWLzIxaca/acQm/n8Q73WvRJtYbJ6vmXIRXymb2r3e+bn3+i5u7noHUGnXmQt+a5bOD5ne7585ekasiH/IsGIB9M76COVV+2cWFr9zQJ7OG+X2228/GwN7D5z4M2OwW5yIqTETvTOQvkhgpgwxwWMQG2CRjBp82ERGgcPdSsn6CKMmIl/Bdvsl8akqsLJ5DMnTUEVZVc+Hye8tCQmroqSeRyntAP3yaKqIO2JLd33kXIVS1M9NBDC96meLy8NkQRiHiE+cqCZsBaIAxz9tFBjyeNF46rjNaKgkTyB0bNttt5XK3PiQCkA0pQVs4kaJX3gpga9kD4CgzDcbgdvq5e4PkxNPPNETq+wl+KLvMocracqAkDGhKDcI5g4x9wUdv7rnnnv6esreTzdvwU8aNrpEOpfmkkmVflxRkVqwgeQeXCDYHRkIWCEa9VgknnIRX95cxH8XBz+Xa/j9ahPLy8DRSxk0eIsIsLFYDv5NdpLs2/VGwQrpuZQVinmfsAv9PTa3UkqrlCd01TZAbclUox313nvvrfpMgU04C4v9CrDUVUnnVRzsWA9rrn9LVyQCnPwmnCxMVTz7CKPNhVgUgWBRUlVzbFfPKu13pPSF/ZZkuE254aaocXJAe9HgKYZ4XYoSL3yOINStYqEjtnTUR85FfKJmbiKAm4M+MYTg53U0Y4Bo9CI+DuKYLwm4xPcUF3yUylo1VEB8RL/4wQ9+8LDDDsMySDbJLqZ68cUXI2gyEpYMjn5UiKqGQQEZCALs7KV/3MJblIQ5CNnPeMYz9EH1HCgn3/7iXKTQwlRavJvUYM6GJ5K06jVylviqN4YJalSJ4EJKGaXi4QOfDzb1tvXS6AIFAfMNYKuWyCs8TewJPPrMLkLzalFgl+UzIB1wwAGlTOw0TfLn6C4ZxIVPcXMispqFKRfx5XRONoyaM5o7ZPjn6E1A+EboL86d+BxWJ73q/PavuOKKIhlKfbFi25mwImsNK4+P9sY6N9BD7NRTTzVFPo43VU597HJ33nlnCets7+sL6z43EZ5LxUllalCIaL4qsCpqI01bfqFAJ80xBX56GZ7c6iOMDFsmFL/O5GeauUvqIb5BfBCBi3SoBO8qfEtQUwBt8hyw8AKyvlxEcmc4sxT7NZNy6UcE06ieGh3xHmZ4cqsjtj3lnMcq7s4dBFDb6wdb01DcKTijF/H1XdQ8BxaGcYivQofU3foEDhzAMARICfRVNQyrZy22LhDW85TcRbxAXpffqndzQv6uar7++utrFkmQpc/WPDDtg08WXioBrLfeeurICrgxEDt45JFHDsyBUzX4mvVID/LU5GuE339VQ8OQxPAiIOWOhl06LygRv5gdaTqZUf4PZZhx4zOcp7S76G5rRuP5gMhk+6S5DCwoCnxgPpaBrGaSAHy0XafA28svlAAYXOP46SGxaelAQ3HmmWdmQPCsaIWJDwUHf+Sy9AkK2QCcddZZGT7+lveHRtDHI44gVyIvOWIJ+Q8rnAaPJh4DnW87sMzhuPohNE0mhl5GbSkQzm7aB6yau+yyC6d3o633njy8/BgxBg4Jgt7ByJiVzzcfL1Fn+tAknp8e54Fl2Xur+kJz7xeWlVZayRud2Ivilin5HvvnGWecUcXK13fEli76yNkjE+U5i4D3mKjyThwnOKMX8TmKhSWJ9YJ1H209EjDyEMlbVlxxRb6XSFp8FUitQLAmOmnIsOe+7nWvG/mcEQf5rHrH1oELZQsCvrV1gvaUTAMcms6UD6cGBp/S5ujwfBix1ziStt/rERPpP+GGdkfSA50SDJcQcImeSeNJCrRFxKHHYqvha3igOrmTjxCBaPV5+sN6MlGJCGHJjEZ4iS2ozoD9l7i1iK9M6uy363Q6B2nwsvCxGcmDZlFCc89Pe2B4ItDxMynue8WQ9E3E5ZcG12ZgRy+OzKedhripwOJGRE2pnS3Dlltk3RGT7bbbLk+c3GX5UlvWcO4CIwd9qFIFsnMStINfUMIhc9kvGHlANlmeUevfqUdjk002Yf3kswiwoAfUfC5JU4E4zh/+k1bgM8omit0FX1XO9+AbSjmvxbdeULpj3PNvFBswFDr4DWOP1YOj07yZ14+Zckdse8o5AScu5yACSgQ8qpVhSAzvPv1OP/IojBwBtHqkv4QtWSb5Kjfij9As1wK+Kz4cSnxYlFn6dYk2Xe6/aP6UfAa1Ir17B2I1sQKOAZyxpUrydSRRB9xiTccVRyd5iVgFZCPU5xzIpZrhC8j3pCTntC9Y8fHDC5lPUX222DEUuAYg5BstbYsWHzUkFoDSu74SZOzMTgxQHjFP48ugQfhvHQMXIW6gZ20RHXyYpmeYL+NdxkSg8Wff5JvMzbsoCzkTjT9ysLK/5efJDwcBC2cGr4OvAw7WNn4UONDz60NWQwIj5IMoHW8+qsPH0+Bix3YdzvwRTILOnswtCHZIZt7fxjepU2ZUBDVCSXJVRptZEDw3HPH9C8xv6pRTTjECLFQ4B2Ic4z3nlUMYZSPtffE9n3yZmfYCRqw0ZBxmLvxgfRBzfnYTv8sbhamKpH5kOvaD4R1gx4uujbTLNd8H37wjtnTRR84emSjPKQTYbLM+I0gwa8ytGTFpfLAMuUWI5nUQ0MlfWC3q0HsaM4XzQuBPj6Trb6ksRyDIUOqonsIee+yhlymf9wNikwuNnj2D55OUEXBJ7+DtA+qFApr+hH6YS+JXpHDlC1S0ErDr4K+qCzIeapwIScVUoVUNM/VT7otv+0keBNutzCzi1txEwPu+8xGqCYJyBtgvvY71sibn3pHhmamjJ1AZ9G78DBjfHgKdcU7Dwokppo4doM40O2Lb3YA75VwHsaCZJQT8sSF2SOLEZ3f3uRheRIvyaBFQ4BR2f3Z49TXc6FrQC9pgMIhX6Vd8+mR5q1srr63xuS4zQ10AAAyRSURBVJxKJ2iaabsle1MpJYGD/DEdDt5C948aD/dNvnxGfNFFF+GbW9qwaeX/a+/cVaVYugD8c/hfQHwTDQw0EgTBRNBAFBQxEcTMxMDE0FcwE8xEUDEUwQuaGBiIGAi+yTnfYcE6tfu2e+/pmemu/naw6amurqr1dU/Pqqp1Qb/HJRr7Ii4krxamSu3VQYynEZP1HjT4dvv4jdFIlLN+396XaF+y9BIWp0OE0nxr6UI5/qkIXLt2DbMxInfRIIo7q01jWsYds6zGDL/8uKpj5kV4PCMydjIY2CxRdqYonRZWG8qypWYZ1RJb3hCmly+OABP+GPPJkyczjvl+pfhrv92vpPdU8ZGXdY7xUpdG5GVUhLIFQjFkNX5ycgU36qQTFR9LU9qyhTgmABHKehyzY8CmbVkHVR5nO2xDy20BGqeELXvUaMLGpRNqGU6ubOSox6jmTCTQ75nbEJuPmG5t/Z46jI3JRkTJbHdRJg7LuENYHWBH0U663L58iSVETY1hY9exxPE75q0S4C1x/fr16IIketiDjekuXzJU5ruTX/Yx11ZWJ3/I0e8zWFllMiqOBCRwJAKsxrLWGZeghmXozCM1MnllVfzJkXY0iEV1Ov6m+tVRr1VU/qxi3to6/28BznxsBsUpPLgbP738GMcp/peutFmYB2U0Yoy5SytwjFtYtCMDF5GS6SI3FvJaDnACy9nFgKE8FjU4/OFaV17beczeMYmryPPFpgdaPj4JndXwT0C/p/e29k998hYx94gLcXxkvT+O0fux+sUdsLPNpRfmKj6RfJYui+PfBgE8L2NKjO3fgAN9ds00AFP7/Ni33JAVKj5g/T53TdPNqWJ5FU0CEhhDgDi2qCLURHcqV0LHXLu9Oqr422P7X8sYkGRGG/zS/jtx2FGp4neuwVOBaJXRDHOAVLKz4dI9l7QpWd44wLI2vTz5/W6Y2aAlpxMqfuKsAjYuj4+5QVEG1y9rYsmDmyB6J3MAzMQJ1laeLY+ZVOA5gMEP8SU+ffpUhgSNakwViFKCmh7RY0pv47KdSDIQJTlJIAARATcpJAVvWbmOY94yYAlZckpTh2hKMRUBtneIxRmtkbUDf5XhlssXETUz/93wVVWeZd+DeRGi4Xw8EEmpStkVSgIS6CSAnXAGP0TXn9Hm3t69AVYyAOzI48kgMsxIkVNRiwvb+WJ5qogBEmd5pDCPabeMKkyEkKjTlwiJRFG5qUR0trY/a2mGS67idi+UMAcIeyS07c7UKtTJsDYxHtL3dDaFlfBRlwn7woneunUr+uI/y2/RXXgnb+KKuj1321J5+v37dyef4UJmRCEykzEmXcOVPbtaAuipudtG/M1hDnfu3MnvEQd9mSWGG6njbJqwk2GgDomUQgIS2JAAAYjjDYleMT4R4Yadjrl8+rj4Y3pdYZ3It8pDgFI+UvycFMajgwL948ePvBYtMwPn4YrUyKyZ1ThgeT7DIROsujyFLo7hTdrrY6qON3BZIY5ZUw8jHyYJnY8vYQcj5Q1G88wH2i1Eyb1790KWlKhdE+MZeimrjTnGUbjdFCWZgRKzhKiAywGyIDILk52XjCmcXMXHowD3AILZlcZUuEMAFiCdzPvGiZFVELt48WJfHcslAIHcuOP9UCbTaMDh8SMMf34Nx7/BGu1U8LG0VuK7WYFEiiABCWxIgCSAaYmN5fCGrU17uSr+tDx7W0OHywwjpabee8Hff9++fTt/ViNWDFr+gwcPcPZiTyDD8mBijmn7QDucwlc1dUfiTmKWQ0QndEHMYKILLPj5vR9oBMuWeIiJe036dCL941mCiTwW/KdOnYpG8CKncKCRdFNLudozitzuyDpjDrBB6uz3+/fvKTiTGUbOJARBmD511h9ZOJWKj5EVw8sJWJ+kDJhqBEQaM7yzZ89GO0fNXTqmcetURiBzRPAtxsSrLR02PDlpjOeKML5sGHZWbl9eWQk+DAEBw8vKRFMcCUjgGARYAM3kJ/fv3z9GC1u9RBV/q3gPNM6qavw8hIPsgXNdHzIiPmHdMVvHzr6hC5IBB7fRkUu8rDlh3Z4L9jES/hNHn6xMbVW7PSI2IvB/7fRqJVHiw4cP0QbaV5UlWA1hEsBMgG2HGMCfP3/KChzzJcmxjTxA/R1QOIjmWQbT5Bi/4UanR/04lYqPpyN3BN8GgGAezVopJJlEsSXCW4N5F447JLxkOoeMwD90nDwncYsJl8ms8tD6Vlg5ARxacoqOKp80+C7zELZfF+VXkvcSr6C+ZB3ZVE0HfD2DAMZ+NcmlLBKQwPEIEIA43glYF/eZKB+v5UmuMrtt+Zu13WPSIhCRmj74XczwlH1dEug9Y+MQzSbcRtEsSUtJvBQ0v9AC+y7vKyeeDwvbtINOjLtYZErvq9xZTguE6STCBuk20U3JBkrQHuYJnZUHCnF+ZVEfDSPdAAYqb3gKxffjx4+MGR0a/+PNo8XTVGyA4KqYgTg3HOQkl+czxoQQ541J2rSRugnwNmCDiDS3bBYRJj/eUew0kqT2UMFZdOArzPzz0JoVVGALPrbIkBpopLGsQChFkIAEjk0Ac4AIL462hq0j63HHbmpLF/5/S+3abJvA1atXWQTCh5JIjq9fvx7OjFCGsEjfU9TK0CzbjY8s4RFsR6cZeW1UowX+jnRJZ2UiCzEx2IF+T++s3LOD0TmMmgqZ9ON2HBI10hrUJKayTEuAV8rLly9ZRyDgFcaB/FYxDSbfBTuEeKiTKg4LQ/6zZs8DRh12h+KP9XumASvR72GedoYXLlxQv5/2IbQ1CSyOAEoa0UcYNsFOXr16NYleNDkEVfzJkfY2yNoPQRju3r1LjcePH49X8Y/hfto7iHmcwLWUZULS1s5jOJWMAv8Kcg4gDIuy+PVXIpVibJ8AOv2bN2/4PhLMimRznz9/xk6sEUVn+6OYdQ/YQ7548SKGSLK/WY/VwUlAAlsmQI4gXphY5pw4cYJ017NNQWNc/C0/CAebJ7JShMH59u3b27dvD5488ClX8XEPxaH2wLnlf8DzlRXBS5cuLVSUXLnMg70LggoSvoDYTz99+nTv43EAyyLAyjTWgCxEYQdINNtlDX4Ho2XLAoclOsJthqS2O+jRLiQggdkSuHz5Mg5LmExjAzxnDU0Vf6ePEAv5bH+HExvObRjEd3aPsXtmkGU5ll3yzmoLLfz16xcOr9gDZDSPxQmCJkTE/XPnzqUN1d5FeP78+c+fPxkGO0WzXVHYOyUHMECAzR/M565cuZJBmQYqr+0UdkosTPCVJ1hCZS/ktd1K5ZXA5gTIYEPqTOzvsWncvLXttaC77fbY9rZMoMlHjx5xGk9N/DUb9ViOZRWNH5Ioxy2VkJeNOsv9iLcuU14cElhpzmwRyxVnJiMnaioZeVhUIBoPqYhRR2YyMIchAQlIQAISkMBeCKji7wX7/1gDfvbsGX0/efKEZdcYBBbqZ86cIU0swSXLYbHqT9hEYqjfuHGjLF/iMV592CAx/SV2xxLHP8MxY1nBrImdH/YWCPqRMXpnOFSHJAEJSEACEpDAbghoqLMbzs1eMNeJyDZkeiKcRZxGVyMaI0bqpGIlSjqRLgghz6YwGj8LtJ0B6ZvtzvszGxSkh8QSoKZ9if0iJ7YJRoHo9zj1492hfr/f22HvEpCABCQggZkQcBV/bzeCpGg3b94kMRMx6T58+HD69GmGgoM2/rWNMaH0Y7XfLm9U8+PaCDD3I4o5gT6I9M+DdP78+bURUF4JSEACEpCABDoJuIrfiWUXhWj2RDkksyy6fpjm02unHk9Kms7yXYzSPmZM4P379+j32N9/+fJF/X7GN8qhSUACEpCABHZNwFX8XRNv9/f161cMcjSxaJOxZJgAezvv3r1DuXcGOAzKsxKQgAQkIIG1EVDFX9sdV14JSEACEpCABCQggcoJaKhT+Q1WPAlIQAISkIAEJCCBtRFQxV/bHVdeCUhAAhKQgAQkIIHKCajiV36DFU8CEpCABCQgAQlIYG0EVPHXdseVVwISkIAEJCABCUigcgKq+JXfYMWTgAQkIAEJSEACElgbAVX8td1x5ZWABCQgAQlIQAISqJyAKn7lN1jxJCABCUhAAhKQgATWRkAVf213XHklIAEJSEACEpCABConoIpf+Q1WPAlIQAISkIAEJCCBtRFQxV/bHVdeCUhAAhKQgAQkIIHKCajiV36DFU8CEpCABCQgAQlIYG0EVPHXdseVVwISkIAEJCABCUigcgKq+JXfYMWTgAQkIAEJSEACElgbAVX8td1x5ZWABCQgAQlIQAISqJzAP0OtS0D/0cJKAAAAAElFTkSuQmCC)"
      ]
    },
    {
      "cell_type": "markdown",
      "metadata": {
        "id": "ftdtT33zfNo8"
      },
      "source": [
        "Q. 이거 SOS, EOS도 PE 더해줘야하나??\n",
        "\n",
        "- A. 이거 이후에 decoder에서 명시적으로 SOS, EOS 이용하는지 확인해봐야할듯"
      ]
    },
    {
      "cell_type": "code",
      "execution_count": 19,
      "metadata": {
        "id": "p0QOM-3lom9x"
      },
      "outputs": [],
      "source": [
        "import math\n",
        "\n",
        "class sinusoidal:\n",
        "    def __init__(self, token_len, embedding_dim):\n",
        "        self.embedding_dim = embedding_dim\n",
        "        self.token_len = token_len\n",
        "\n",
        "    def calculate(self):\n",
        "        pe = torch.zeros(self.token_len, self.embedding_dim)  # (token_len, embedding_dim)\n",
        "        position = torch.arange(self.token_len, dtype=torch.float).unsqueeze(1)  # 여기서 pos 맞게 숫자 설정\n",
        "        div_term = torch.exp(torch.arange(0, self.embedding_dim, 2).float() * (-math.log(10000.0) / self.embedding_dim))  # (embedding_dim/2,) -> 이렇게 지수를 ln꼴로 바꿔서 구하는 것이 더 빠르다고함\n",
        "        pe[:, 0::2] = torch.sin(position * div_term)\n",
        "        pe[:, 1::2] = torch.cos(position * div_term)\n",
        "\n",
        "        return pe\n",
        "\n",
        "class positional_encoding(nn.Module):\n",
        "  def __init__(self, token_len, embedding_dim):\n",
        "    super().__init__()\n",
        "    self.sinusoidal = sinusoidal(token_len,embedding_dim)\n",
        "\n",
        "  def forward(self,x):  # x : [num batch, num token, embedding]\n",
        "    num_batch,num_token,embedding = x.shape\n",
        "    pos_encoding = self.sinusoidal.calculate()\n",
        "\n",
        "    pos_encoding = pos_encoding.unsqueeze(0).expand(num_batch, -1, -1)  # expand 통해서 배치사이즈만큼 확장\n",
        "\n",
        "    return x + pos_encoding"
      ]
    },
    {
      "cell_type": "markdown",
      "metadata": {
        "id": "Q47k9TEmitgM"
      },
      "source": [
        "- 확인"
      ]
    },
    {
      "cell_type": "code",
      "execution_count": 20,
      "metadata": {
        "colab": {
          "base_uri": "https://localhost:8080/",
          "height": 487
        },
        "id": "Gn1x9wngiiW3",
        "outputId": "7c92dec5-17dc-4502-f4f0-aa80e8f9c7f5"
      },
      "outputs": [
        {
          "output_type": "display_data",
          "data": {
            "text/plain": [
              "<Figure size 1000x500 with 2 Axes>"
            ],
            "image/png": "[encoded data removed]"
          },
          "metadata": {}
        }
      ],
      "source": [
        "import matplotlib.pyplot as plt\n",
        "import seaborn as sns\n",
        "\n",
        "ex_token_len = 128\n",
        "ex_embedding_dim = 128\n",
        "ex_sinusoidal = sinusoidal(ex_token_len, ex_embedding_dim)\n",
        "ex_positional_encoding = ex_sinusoidal.calculate()\n",
        "\n",
        "ex_positional_encoding = ex_positional_encoding.numpy()\n",
        "plt.figure(figsize=(10, 5))\n",
        "sns.heatmap(ex_positional_encoding, cmap=\"coolwarm\", xticklabels=20, yticklabels=10)\n",
        "plt.xlabel(\"Encoding depth (i)\")\n",
        "plt.ylabel(\"Position\")\n",
        "plt.title(\"Sinusoidal Positional Encoding\")\n",
        "plt.show()"
      ]
    },
    {
      "cell_type": "markdown",
      "metadata": {
        "id": "TWc46i7Rj504"
      },
      "source": [
        "## multihead attention"
      ]
    },
    {
      "cell_type": "markdown",
      "metadata": {
        "id": "3cdoFkVNfTuQ"
      },
      "source": [
        "- multi-head 부분은, 파라미터를 각각 헤드마다 설정하는게 아니라 마지막 forward에서 view를 통해서 조정함\n",
        "- add & norm에서 norm은 batch 아니고 layer norm임 >> 노션에 정리해뒀음\n",
        "- softmax의 dim은 마지막 차원으로 ( 헷갈리면 torch,tf 정리본 보기 )\n",
        "- 저번에도 했는데 왜 까먹지? MHA 끝에는 반드시 linear 붙어야함"
      ]
    },
    {
      "cell_type": "markdown",
      "metadata": {
        "id": "t3fEQW9iGHts"
      },
      "source": [
        "\n",
        "![스크린샷 2025-02-02 오후 2.18.13.png](data:image/png;base64,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)"
      ]
    },
    {
      "cell_type": "code",
      "execution_count": 21,
      "metadata": {
        "id": "n0RgIOPnfDuX"
      },
      "outputs": [],
      "source": [
        "class multihead_attention(nn.Module):\n",
        "  def __init__(self,num_head,token_len,embedding_dim):\n",
        "    super().__init__()\n",
        "    if embedding_dim % num_head != 0 :\n",
        "      assert False, \" division failure \"\n",
        "\n",
        "    self.num_head = num_head\n",
        "\n",
        "    self.key= nn.Linear(embedding_dim,embedding_dim)\n",
        "    self.query= nn.Linear(embedding_dim,embedding_dim)\n",
        "    self.value= nn.Linear(embedding_dim,embedding_dim)\n",
        "\n",
        "    self.fc = nn.Linear(embedding_dim,embedding_dim)\n",
        "\n",
        "    self.layernorm = nn.LayerNorm(embedding_dim)\n",
        "\n",
        "  def forward(self,x):  # x : [batch, token, embedding]\n",
        "    num_batch,num_token,num_embedding = x.shape\n",
        "    x_residual = x\n",
        "\n",
        "    K = self.key(x)\n",
        "    Q = self.query(x)\n",
        "    V = self.value(x)\n",
        "\n",
        "    ## 지금 각 KQV는 batch * token * embedding dim임\n",
        "    ## 이걸 우리는 batch * head * token * per_embedding 으로 바꾸고싶음\n",
        "\n",
        "    \"\"\"\n",
        "    K = K.view(num_batch,self.num_head,num_token,num_embedding//self.num_head)\n",
        "    -> 주의 !!!\n",
        "    이따구로 하면 안됨. 왜냐하면, 이렇게 하면 차원만 맞춰지는거지 실제 의도한대로 텐서가 잘리는게 아님 !!!\n",
        "    \"\"\"\n",
        "\n",
        "    K = K.view(num_batch,num_token,self.num_head,-1).permute(0,2,1,3)  ## 마지막은 embedding dim을 head로 나눈 값\n",
        "    Q = Q.view(num_batch,num_token,self.num_head,-1).permute(0,2,1,3)\n",
        "    V = V.view(num_batch,num_token,self.num_head,-1).permute(0,2,1,3)\n",
        "\n",
        "    attention = torch.matmul(Q,K.transpose(2,3))/math.sqrt(num_embedding//self.num_head) ## batch * head * token * embedding\n",
        "    attention = torch.softmax(attention,dim=-1) ## attention은 batch * head * embedding * embedding 꼴임\n",
        "    x = torch.matmul(attention,V)\n",
        "\n",
        "    ## 이제 잘린거 붙이기  x : batch * head * token * per_embedding\n",
        "\n",
        "    x = x.permute(0,2,1,3).contiguous()\n",
        "    x = x.view(num_batch,num_token,-1)\n",
        "\n",
        "    ## 마지막 fc\n",
        "\n",
        "    x = self.fc(x)\n",
        "\n",
        "    ## add norm\n",
        "\n",
        "    x = x + x_residual\n",
        "    x = self.layernorm(x)\n",
        "\n",
        "    return x, attention\n"
      ]
    },
    {
      "cell_type": "markdown",
      "metadata": {
        "id": "pQVmyhOHkAsx"
      },
      "source": [
        "## feed forward"
      ]
    },
    {
      "cell_type": "code",
      "execution_count": 22,
      "metadata": {
        "id": "vEZPHxZqErIE"
      },
      "outputs": [],
      "source": [
        "class feed_forward(nn.Module):\n",
        "  def __init__(self,input_dim,hidden_dim):\n",
        "    super().__init__()\n",
        "    self.fc1 = nn.Linear(input_dim,hidden_dim)\n",
        "    self.fc2 = nn.Linear(hidden_dim,input_dim)\n",
        "    self.ln = nn.LayerNorm(input_dim)\n",
        "    self.relu = nn.ReLU()\n",
        "    self.dropout = nn.Dropout(0.3)\n",
        "\n",
        "  def forward(self,x):\n",
        "    residual_x = x\n",
        "    x = self.fc1(x)\n",
        "    x = self.relu(x)\n",
        "    x = self.dropout(x)\n",
        "    x = self.fc2(x)\n",
        "\n",
        "    x = x + residual_x\n",
        "    x = self.ln(x)\n",
        "\n",
        "    return x"
      ]
    },
    {
      "cell_type": "markdown",
      "metadata": {
        "id": "RpvWK69-Kf0T"
      },
      "source": [
        "## masked multihead attention"
      ]
    },
    {
      "cell_type": "markdown",
      "metadata": {
        "id": "5r5PwqIGLgnX"
      },
      "source": [
        "-> 위에거 보지말고 다시짜기"
      ]
    },
    {
      "cell_type": "markdown",
      "metadata": {
        "id": "zHdKKpRVNUqY"
      },
      "source": [
        "- masking 위치가 어디?? 만약 q k 곱한뒤에 더하는거라면, ... q k -> 이거 attention 구할때는 뒤에 정보 학습되는거 아잉교???"
      ]
    },
    {
      "cell_type": "markdown",
      "metadata": {
        "id": "SF5DWMFZqyFn"
      },
      "source": [
        "헷갈렸던 부분\n",
        "- trg랑 src랑 문장 길이가 다를 수 있는데 마스크 어떻게하지"
      ]
    },
    {
      "cell_type": "code",
      "execution_count": 23,
      "metadata": {
        "id": "SXFbTATzKnfy"
      },
      "outputs": [],
      "source": [
        "class masked_multihead_attention(nn.Module):\n",
        "  def __init__(self,num_head,token_len,embedding_dim):\n",
        "    super().__init__()\n",
        "\n",
        "    if embedding_dim%num_head != 0:\n",
        "      assert False, \"invalid division !!\"\n",
        "\n",
        "    self.num_head = num_head\n",
        "    self.key= nn.Linear(embedding_dim,embedding_dim)\n",
        "    self.query= nn.Linear(embedding_dim,embedding_dim)\n",
        "    self.value= nn.Linear(embedding_dim,embedding_dim)\n",
        "\n",
        "    self.fc = nn.Linear(embedding_dim,embedding_dim)\n",
        "    self.ln = nn.LayerNorm(embedding_dim)\n",
        "\n",
        "  def forward(self,x):\n",
        "    num_batch, num_token, embedding_dim = x.shape\n",
        "    residual_x = x\n",
        "\n",
        "    # k q v 행렬 만들기\n",
        "    K = self.key(x)\n",
        "    Q = self.query(x)\n",
        "    V = self.value(x)\n",
        "\n",
        "    # 이거 multi-head로 바꾸기\n",
        "    # 지금은 batch * token * embedding dim 꼴임\n",
        "    K = K.view(num_batch,num_token,self.num_head,-1).permute(0,2,1,3)\n",
        "    Q = Q.view(num_batch,num_token,self.num_head,-1).permute(0,2,1,3)\n",
        "    V = V.view(num_batch,num_token,self.num_head,-1).permute(0,2,1,3)\n",
        "    # 이제는 batch * head * token * segmented_embedding_dim 꼴\n",
        "\n",
        "    ## attention 연산\n",
        "    attention = torch.matmul(Q,K.transpose(2,3))/math.sqrt(embedding_dim//self.num_head)\n",
        "\n",
        "    #print(attention.shape)\n",
        "\n",
        "    ## mask 추가\n",
        "\n",
        "    attention_mask = torch.triu(torch.ones(attention.shape[-1],attention.shape[-1]),diagonal=1) * -1e9\n",
        "    #print(attention_mask) ## 출력 정상\n",
        "\n",
        "    #print(\"Is any inf in attention?\", torch.isinf(attention).any())  문제없음\n",
        "    #print(\"Is any NaN in attention?\", torch.isnan(attention).any())  문제없음\n",
        "\n",
        "    #print(attention.shape)\n",
        "    #print(attention_mask.shape)\n",
        "    #print(\"before add mask : \", attention) ## 출력 정상\n",
        "    attention = torch.add(attention,attention_mask)\n",
        "\n",
        "\n",
        "    #print(\"attention : \",attention) ## -> ?? 이거 왜 여기부터 NAN??\n",
        "\n",
        "    attention = torch.softmax(attention,dim=-1)\n",
        "    #print(\"softmaxed attention : \", attention)\n",
        "    x = torch.matmul(attention,V)\n",
        "\n",
        "\n",
        "    ## 차원 복구\n",
        "    ## 현재 x는 batch * head * token * segmented_embedding_dim\n",
        "\n",
        "    x = x.permute(0,2,1,3).contiguous()\n",
        "    x = x.view(num_batch,num_token,-1)\n",
        "\n",
        "    x = self.fc(x)\n",
        "\n",
        "    ## add norm\n",
        "    x = x + residual_x\n",
        "    x = self.ln(x)\n",
        "\n",
        "    return x , attention"
      ]
    },
    {
      "cell_type": "markdown",
      "metadata": {
        "id": "MeVrRySDP7uG"
      },
      "source": [
        "## encoder-decoder MHA"
      ]
    },
    {
      "cell_type": "markdown",
      "metadata": {
        "id": "apd6t5qzQedb"
      },
      "source": [
        "- 지금은 다 짰으니까 그냥 하는데, 다음부터는 forward 받을때 key query value에 쓸 행렬 따로따로 설정해주는게 좋을듯 (self,k,q,v)"
      ]
    },
    {
      "cell_type": "markdown",
      "metadata": {
        "id": "96B02-kzQ8mR"
      },
      "source": [
        "- Q. ?? 근데 만약 src랑 trg랑 단어 개수가 다르면 어떻게해??\n",
        "  - A. 내 생각에는, 이거 어차피 max token은 128같은걸로 우리가 fix 시키니까 괜찮을거같은데"
      ]
    },
    {
      "cell_type": "code",
      "execution_count": 24,
      "metadata": {
        "id": "r3O8m6LEQCxV"
      },
      "outputs": [],
      "source": [
        "class encoder_decoder_multihead_attention(nn.Module):\n",
        "  def __init__(self,num_head,token_len,embedding_dim):\n",
        "    super().__init__()\n",
        "\n",
        "    if embedding_dim%num_head != 0:\n",
        "      assert False, \"invalid division !!\"\n",
        "\n",
        "    self.num_head = num_head\n",
        "\n",
        "    self.key= nn.Linear(embedding_dim,embedding_dim)\n",
        "    self.query= nn.Linear(embedding_dim,embedding_dim)\n",
        "    self.value= nn.Linear(embedding_dim,embedding_dim)\n",
        "\n",
        "    self.fc = nn.Linear(embedding_dim,embedding_dim)\n",
        "    self.ln = nn.LayerNorm(embedding_dim)\n",
        "\n",
        "  def forward(self,src,x): ## 코드 재활용을 위해 x가 trg임\n",
        "    num_batch, num_token, embedding_dim = src.shape\n",
        "    residual_x = x\n",
        "\n",
        "    # k q v 행렬 만들기\n",
        "    K = self.key(src)\n",
        "    Q = self.query(x)\n",
        "    V = self.value(src)\n",
        "\n",
        "    # 이거 multi-head로 바꾸기\n",
        "    # 지금은 batch * token * embedding dim 꼴임\n",
        "    K = K.view(num_batch,num_token,self.num_head,-1).permute(0,2,1,3)\n",
        "    Q = Q.view(num_batch,num_token,self.num_head,-1).permute(0,2,1,3)\n",
        "    V = V.view(num_batch,num_token,self.num_head,-1).permute(0,2,1,3)\n",
        "    # 이제는 batch * head * token * segmented_embedding_dim 꼴\n",
        "\n",
        "    ## attention 연산\n",
        "    attention = torch.matmul(Q,K.transpose(2,3))/math.sqrt(embedding_dim//self.num_head)\n",
        "    attention = torch.softmax(attention,dim=-1)\n",
        "    x = torch.matmul(attention,V)\n",
        "\n",
        "    ## 차원 복구\n",
        "    ## 현재 x는 batch * head * token * segmented_embedding_dim\n",
        "\n",
        "    x = x.permute(0,2,1,3).contiguous()\n",
        "    x = x.view(num_batch,num_token,-1)\n",
        "\n",
        "    x = self.fc(x)\n",
        "\n",
        "    ## add norm\n",
        "    x = x + residual_x\n",
        "    x = self.ln(x)\n",
        "\n",
        "    return x , attention"
      ]
    },
    {
      "cell_type": "markdown",
      "metadata": {
        "id": "5Tt1u9asi9QV"
      },
      "source": [
        "## encoder layer"
      ]
    },
    {
      "cell_type": "markdown",
      "metadata": {
        "id": "P9CT6wdBWLq6"
      },
      "source": [
        "- 블록 만들때 nn.ModuleList 사용"
      ]
    },
    {
      "cell_type": "code",
      "execution_count": 25,
      "metadata": {
        "id": "dJ44E-isKc-v"
      },
      "outputs": [],
      "source": [
        "class encoder_layer(nn.Module):\n",
        "  def __init__(self,num_head,token_len,embedding_dim,hidden_dim):\n",
        "    super().__init__()\n",
        "    self.multihead_attention = multihead_attention(num_head,token_len,embedding_dim)\n",
        "    self.feed_forward = feed_forward(embedding_dim,hidden_dim)\n",
        "\n",
        "  def forward(self,x):\n",
        "    x,attention = self.multihead_attention(x)\n",
        "    x = self.feed_forward(x)\n",
        "    #print(\"encoder!!\",x[0])\n",
        "    return x"
      ]
    },
    {
      "cell_type": "markdown",
      "metadata": {
        "id": "_cbwyyo2kC67"
      },
      "source": [
        "## decoder layer"
      ]
    },
    {
      "cell_type": "code",
      "execution_count": 26,
      "metadata": {
        "id": "FTNFy6fIi8-j"
      },
      "outputs": [],
      "source": [
        "class decoder_layer(nn.Module):\n",
        "  def __init__(self,num_head,token_len,embedding_dim,hidden_dim):\n",
        "    super().__init__()\n",
        "    self.masked_multihead_attention = masked_multihead_attention(num_head,token_len,embedding_dim)\n",
        "    self.encoder_decoder_multihead_attention = encoder_decoder_multihead_attention(num_head,token_len,embedding_dim)\n",
        "    self.feed_forward = feed_forward(embedding_dim,hidden_dim)\n",
        "\n",
        "  def forward(self,src,trg):\n",
        "    x,attention = self.masked_multihead_attention(trg)\n",
        "    #print(\"decoder!! 2\",x[0]) -> 여기부터 전부다 NAN. 아마 마스킹에서 문제가 있는듯\n",
        "    x,attention = self.encoder_decoder_multihead_attention(src,x)\n",
        "    #print(\"decoder!! 3\",x[0])\n",
        "    x = self.feed_forward(x)\n",
        "    #print(\"decoder!! 4\",x[0])\n",
        "\n",
        "    return x"
      ]
    },
    {
      "cell_type": "markdown",
      "metadata": {
        "id": "8b_W869BXYDM"
      },
      "source": [
        "## TRANSFORMER"
      ]
    },
    {
      "cell_type": "code",
      "execution_count": 27,
      "metadata": {
        "id": "I7AaNw1hXaSO"
      },
      "outputs": [],
      "source": [
        "class transformer(nn.Module):\n",
        "  def __init__(self,num_head,token_len,embedding_dim,hidden_dim,num_layers,input_dim,output_dim):\n",
        "    super().__init__()\n",
        "    self.input_embedding = input_embedding(input_dim,embedding_dim)\n",
        "    self.src_pe = positional_encoding(token_len,embedding_dim)\n",
        "    self.trg_pe =  positional_encoding(token_len,embedding_dim)\n",
        "    self.encoder = nn.ModuleList([encoder_layer(num_head,token_len,embedding_dim,hidden_dim) for _ in range(num_layers)])\n",
        "    self.decoder = nn.ModuleList([decoder_layer(num_head,token_len,embedding_dim,hidden_dim) for _ in range(num_layers)])\n",
        "    self.fc = nn.Linear(embedding_dim,output_dim)\n",
        "\n",
        "  def forward(self,src,trg):\n",
        "    x = self.input_embedding(src)\n",
        "    x = self.src_pe(x)\n",
        "\n",
        "    y = self.input_embedding(trg)\n",
        "    y = self.trg_pe(y)\n",
        "\n",
        "    for layer in self.encoder:\n",
        "        x = layer(x)\n",
        "\n",
        "    for layer in self.decoder:\n",
        "        x = layer(x, y)\n",
        "\n",
        "    x = self.fc(x)\n",
        "    return x\n"
      ]
    },
    {
      "cell_type": "markdown",
      "metadata": {
        "id": "4MEIWDG_ZAL5"
      },
      "source": [
        "- 파라미터 확인"
      ]
    },
    {
      "cell_type": "code",
      "execution_count": 28,
      "metadata": {
        "id": "KtDIRnfbZJ5o"
      },
      "outputs": [],
      "source": [
        "model = transformer(num_head=4,token_len=64,embedding_dim=128,hidden_dim=256,num_layers=2,input_dim=len(tokenizer),output_dim=len(tokenizer))"
      ]
    },
    {
      "cell_type": "code",
      "execution_count": 29,
      "metadata": {
        "colab": {
          "base_uri": "https://localhost:8080/"
        },
        "id": "MDq5fSy_Y_lK",
        "outputId": "ec805240-15c1-4edd-c695-5416c12c4879"
      },
      "outputs": [
        {
          "output_type": "stream",
          "name": "stdout",
          "text": [
            "The model has 15,594,742 trainable parameters\n"
          ]
        }
      ],
      "source": [
        "def count_parameters(model):\n",
        "    return sum(p.numel() for p in model.parameters() if p.requires_grad)\n",
        "\n",
        "print(f'The model has {count_parameters(model):,} trainable parameters')"
      ]
    },
    {
      "cell_type": "code",
      "execution_count": 30,
      "metadata": {
        "colab": {
          "base_uri": "https://localhost:8080/"
        },
        "id": "-UsNrsX1ZGqm",
        "outputId": "912d5dd5-10c5-48a9-d8c1-335729c2a57f"
      },
      "outputs": [
        {
          "output_type": "execute_result",
          "data": {
            "text/plain": [
              "transformer(\n",
              "  (input_embedding): input_embedding(\n",
              "    (embed): Embedding(58102, 128)\n",
              "  )\n",
              "  (src_pe): positional_encoding()\n",
              "  (trg_pe): positional_encoding()\n",
              "  (encoder): ModuleList(\n",
              "    (0-1): 2 x encoder_layer(\n",
              "      (multihead_attention): multihead_attention(\n",
              "        (key): Linear(in_features=128, out_features=128, bias=True)\n",
              "        (query): Linear(in_features=128, out_features=128, bias=True)\n",
              "        (value): Linear(in_features=128, out_features=128, bias=True)\n",
              "        (fc): Linear(in_features=128, out_features=128, bias=True)\n",
              "        (layernorm): LayerNorm((128,), eps=1e-05, elementwise_affine=True)\n",
              "      )\n",
              "      (feed_forward): feed_forward(\n",
              "        (fc1): Linear(in_features=128, out_features=256, bias=True)\n",
              "        (fc2): Linear(in_features=256, out_features=128, bias=True)\n",
              "        (ln): LayerNorm((128,), eps=1e-05, elementwise_affine=True)\n",
              "        (relu): ReLU()\n",
              "        (dropout): Dropout(p=0.3, inplace=False)\n",
              "      )\n",
              "    )\n",
              "  )\n",
              "  (decoder): ModuleList(\n",
              "    (0-1): 2 x decoder_layer(\n",
              "      (masked_multihead_attention): masked_multihead_attention(\n",
              "        (key): Linear(in_features=128, out_features=128, bias=True)\n",
              "        (query): Linear(in_features=128, out_features=128, bias=True)\n",
              "        (value): Linear(in_features=128, out_features=128, bias=True)\n",
              "        (fc): Linear(in_features=128, out_features=128, bias=True)\n",
              "        (ln): LayerNorm((128,), eps=1e-05, elementwise_affine=True)\n",
              "      )\n",
              "      (encoder_decoder_multihead_attention): encoder_decoder_multihead_attention(\n",
              "        (key): Linear(in_features=128, out_features=128, bias=True)\n",
              "        (query): Linear(in_features=128, out_features=128, bias=True)\n",
              "        (value): Linear(in_features=128, out_features=128, bias=True)\n",
              "        (fc): Linear(in_features=128, out_features=128, bias=True)\n",
              "        (ln): LayerNorm((128,), eps=1e-05, elementwise_affine=True)\n",
              "      )\n",
              "      (feed_forward): feed_forward(\n",
              "        (fc1): Linear(in_features=128, out_features=256, bias=True)\n",
              "        (fc2): Linear(in_features=256, out_features=128, bias=True)\n",
              "        (ln): LayerNorm((128,), eps=1e-05, elementwise_affine=True)\n",
              "        (relu): ReLU()\n",
              "        (dropout): Dropout(p=0.3, inplace=False)\n",
              "      )\n",
              "    )\n",
              "  )\n",
              "  (fc): Linear(in_features=128, out_features=58102, bias=True)\n",
              ")"
            ]
          },
          "metadata": {},
          "execution_count": 30
        }
      ],
      "source": [
        "def initialize_weights(m):\n",
        "    if hasattr(m, 'weight') and m.weight.dim() > 1:\n",
        "        nn.init.xavier_uniform_(m.weight.data)\n",
        "\n",
        "model.apply(initialize_weights)"
      ]
    },
    {
      "cell_type": "markdown",
      "metadata": {
        "id": "Ty6Ccz6arWIg"
      },
      "source": [
        "- output embedding 부분에 들어가는 trg 문장들은, 병렬처리를 위해서 입력에는 SOS 넣고 밀고, 출력에는 EOS 넣고 미는 식으로\n",
        "  - 그치만 지금은 이미 토큰단계에서 두개 모두 들어갔으므로, 그냥 한번 밀고 당기는 식으로 진행 ( 끝에는 padding 토큰 추가 )"
      ]
    },
    {
      "cell_type": "code",
      "execution_count": 31,
      "metadata": {
        "colab": {
          "base_uri": "https://localhost:8080/"
        },
        "id": "7zu2_4x-XDhY",
        "outputId": "947022e0-639f-4701-a80d-6c5194dca0c8"
      },
      "outputs": [
        {
          "output_type": "stream",
          "name": "stderr",
          "text": [
            "  0%|          | 0/1 [00:00<?, ?it/s]\n",
            "  0%|          | 0/569 [00:00<?, ?it/s]\u001b[A\n",
            "  0%|          | 1/569 [00:12<2:01:05, 12.79s/it]\u001b[A"
          ]
        },
        {
          "output_type": "stream",
          "name": "stdout",
          "text": [
            "loss :  10.965188026428223\n"
          ]
        },
        {
          "output_type": "stream",
          "name": "stderr",
          "text": [
            "\n",
            "  0%|          | 2/569 [00:24<1:57:34, 12.44s/it]\u001b[A"
          ]
        },
        {
          "output_type": "stream",
          "name": "stdout",
          "text": [
            "loss :  21.747846603393555\n"
          ]
        },
        {
          "output_type": "stream",
          "name": "stderr",
          "text": [
            "\n",
            "  1%|          | 3/569 [00:36<1:55:08, 12.21s/it]\u001b[A"
          ]
        },
        {
          "output_type": "stream",
          "name": "stdout",
          "text": [
            "loss :  32.40770626068115\n"
          ]
        },
        {
          "output_type": "stream",
          "name": "stderr",
          "text": [
            "\n",
            "  1%|          | 4/569 [00:49<1:55:34, 12.27s/it]\u001b[A"
          ]
        },
        {
          "output_type": "stream",
          "name": "stdout",
          "text": [
            "loss :  42.98297691345215\n"
          ]
        },
        {
          "output_type": "stream",
          "name": "stderr",
          "text": [
            "\n",
            "  1%|          | 5/569 [01:01<1:55:25, 12.28s/it]\u001b[A"
          ]
        },
        {
          "output_type": "stream",
          "name": "stdout",
          "text": [
            "loss :  53.45705318450928\n"
          ]
        },
        {
          "output_type": "stream",
          "name": "stderr",
          "text": [
            "\n",
            "  1%|          | 6/569 [01:13<1:54:53, 12.24s/it]\u001b[A"
          ]
        },
        {
          "output_type": "stream",
          "name": "stdout",
          "text": [
            "loss :  63.847702980041504\n"
          ]
        },
        {
          "output_type": "stream",
          "name": "stderr",
          "text": [
            "\n",
            "  1%|          | 7/569 [01:25<1:53:52, 12.16s/it]\u001b[A"
          ]
        },
        {
          "output_type": "stream",
          "name": "stdout",
          "text": [
            "loss :  74.12872409820557\n"
          ]
        },
        {
          "output_type": "stream",
          "name": "stderr",
          "text": [
            "\n",
            "  1%|▏         | 8/569 [01:37<1:53:25, 12.13s/it]\u001b[A"
          ]
        },
        {
          "output_type": "stream",
          "name": "stdout",
          "text": [
            "loss :  84.31666374206543\n"
          ]
        },
        {
          "output_type": "stream",
          "name": "stderr",
          "text": [
            "\n",
            "  2%|▏         | 9/569 [01:49<1:53:01, 12.11s/it]\u001b[A"
          ]
        },
        {
          "output_type": "stream",
          "name": "stdout",
          "text": [
            "loss :  94.39122295379639\n"
          ]
        },
        {
          "output_type": "stream",
          "name": "stderr",
          "text": [
            "\n",
            "  2%|▏         | 10/569 [02:02<1:53:06, 12.14s/it]\u001b[A"
          ]
        },
        {
          "output_type": "stream",
          "name": "stdout",
          "text": [
            "loss :  104.43935871124268\n"
          ]
        },
        {
          "output_type": "stream",
          "name": "stderr",
          "text": [
            "\n",
            "  2%|▏         | 11/569 [02:14<1:52:31, 12.10s/it]\u001b[A"
          ]
        },
        {
          "output_type": "stream",
          "name": "stdout",
          "text": [
            "loss :  114.33835506439209\n"
          ]
        },
        {
          "output_type": "stream",
          "name": "stderr",
          "text": [
            "\n",
            "  2%|▏         | 12/569 [02:26<1:52:57, 12.17s/it]\u001b[A"
          ]
        },
        {
          "output_type": "stream",
          "name": "stdout",
          "text": [
            "loss :  124.17194938659668\n"
          ]
        },
        {
          "output_type": "stream",
          "name": "stderr",
          "text": [
            "\n",
            "  2%|▏         | 13/569 [02:38<1:53:12, 12.22s/it]\u001b[A"
          ]
        },
        {
          "output_type": "stream",
          "name": "stdout",
          "text": [
            "loss :  133.94200611114502\n"
          ]
        },
        {
          "output_type": "stream",
          "name": "stderr",
          "text": [
            "\n",
            "  2%|▏         | 14/569 [02:50<1:52:34, 12.17s/it]\u001b[A"
          ]
        },
        {
          "output_type": "stream",
          "name": "stdout",
          "text": [
            "loss :  143.55536460876465\n"
          ]
        },
        {
          "output_type": "stream",
          "name": "stderr",
          "text": [
            "\n",
            "  3%|▎         | 15/569 [03:02<1:51:47, 12.11s/it]\u001b[A"
          ]
        },
        {
          "output_type": "stream",
          "name": "stdout",
          "text": [
            "loss :  153.17540836334229\n"
          ]
        },
        {
          "output_type": "stream",
          "name": "stderr",
          "text": [
            "\n",
            "  3%|▎         | 16/569 [03:14<1:50:46, 12.02s/it]\u001b[A"
          ]
        },
        {
          "output_type": "stream",
          "name": "stdout",
          "text": [
            "loss :  162.69041633605957\n"
          ]
        },
        {
          "output_type": "stream",
          "name": "stderr",
          "text": [
            "\n",
            "  3%|▎         | 17/569 [03:26<1:50:40, 12.03s/it]\u001b[A"
          ]
        },
        {
          "output_type": "stream",
          "name": "stdout",
          "text": [
            "loss :  172.02676486968994\n"
          ]
        },
        {
          "output_type": "stream",
          "name": "stderr",
          "text": [
            "\n",
            "  3%|▎         | 18/569 [03:38<1:50:44, 12.06s/it]\u001b[A"
          ]
        },
        {
          "output_type": "stream",
          "name": "stdout",
          "text": [
            "loss :  181.2795696258545\n"
          ]
        },
        {
          "output_type": "stream",
          "name": "stderr",
          "text": [
            "\n",
            "  3%|▎         | 19/569 [03:51<1:51:38, 12.18s/it]\u001b[A"
          ]
        },
        {
          "output_type": "stream",
          "name": "stdout",
          "text": [
            "loss :  190.46846771240234\n"
          ]
        },
        {
          "output_type": "stream",
          "name": "stderr",
          "text": [
            "\n",
            "  4%|▎         | 20/569 [04:03<1:51:12, 12.15s/it]\u001b[A"
          ]
        },
        {
          "output_type": "stream",
          "name": "stdout",
          "text": [
            "loss :  199.57250499725342\n"
          ]
        },
        {
          "output_type": "stream",
          "name": "stderr",
          "text": [
            "\n",
            "  4%|▎         | 21/569 [04:15<1:51:21, 12.19s/it]\u001b[A"
          ]
        },
        {
          "output_type": "stream",
          "name": "stdout",
          "text": [
            "loss :  208.52722454071045\n"
          ]
        },
        {
          "output_type": "stream",
          "name": "stderr",
          "text": [
            "\n",
            "  4%|▍         | 22/569 [04:27<1:50:53, 12.16s/it]\u001b[A"
          ]
        },
        {
          "output_type": "stream",
          "name": "stdout",
          "text": [
            "loss :  217.3886194229126\n"
          ]
        },
        {
          "output_type": "stream",
          "name": "stderr",
          "text": [
            "\n",
            "  4%|▍         | 23/569 [04:39<1:49:37, 12.05s/it]\u001b[A"
          ]
        },
        {
          "output_type": "stream",
          "name": "stdout",
          "text": [
            "loss :  226.13712882995605\n"
          ]
        },
        {
          "output_type": "stream",
          "name": "stderr",
          "text": [
            "\n",
            "  4%|▍         | 24/569 [04:51<1:50:02, 12.12s/it]\u001b[A"
          ]
        },
        {
          "output_type": "stream",
          "name": "stdout",
          "text": [
            "loss :  234.78362464904785\n"
          ]
        },
        {
          "output_type": "stream",
          "name": "stderr",
          "text": [
            "\n",
            "  4%|▍         | 25/569 [05:03<1:49:20, 12.06s/it]\u001b[A"
          ]
        },
        {
          "output_type": "stream",
          "name": "stdout",
          "text": [
            "loss :  243.39204692840576\n"
          ]
        },
        {
          "output_type": "stream",
          "name": "stderr",
          "text": [
            "\n",
            "  5%|▍         | 26/569 [05:15<1:48:40, 12.01s/it]\u001b[A"
          ]
        },
        {
          "output_type": "stream",
          "name": "stdout",
          "text": [
            "loss :  251.86715412139893\n"
          ]
        },
        {
          "output_type": "stream",
          "name": "stderr",
          "text": [
            "\n",
            "  5%|▍         | 27/569 [05:27<1:48:31, 12.01s/it]\u001b[A"
          ]
        },
        {
          "output_type": "stream",
          "name": "stdout",
          "text": [
            "loss :  260.2053985595703\n"
          ]
        },
        {
          "output_type": "stream",
          "name": "stderr",
          "text": [
            "\n",
            "  5%|▍         | 28/569 [05:39<1:48:11, 12.00s/it]\u001b[A"
          ]
        },
        {
          "output_type": "stream",
          "name": "stdout",
          "text": [
            "loss :  268.5399694442749\n"
          ]
        },
        {
          "output_type": "stream",
          "name": "stderr",
          "text": [
            "\n",
            "  5%|▌         | 29/569 [05:51<1:47:51, 11.98s/it]\u001b[A"
          ]
        },
        {
          "output_type": "stream",
          "name": "stdout",
          "text": [
            "loss :  276.7586488723755\n"
          ]
        },
        {
          "output_type": "stream",
          "name": "stderr",
          "text": [
            "\n",
            "  5%|▌         | 30/569 [06:03<1:48:27, 12.07s/it]\u001b[A"
          ]
        },
        {
          "output_type": "stream",
          "name": "stdout",
          "text": [
            "loss :  284.92651081085205\n"
          ]
        },
        {
          "output_type": "stream",
          "name": "stderr",
          "text": [
            "\n",
            "  5%|▌         | 31/569 [06:16<1:48:59, 12.16s/it]\u001b[A"
          ]
        },
        {
          "output_type": "stream",
          "name": "stdout",
          "text": [
            "loss :  292.8720488548279\n"
          ]
        },
        {
          "output_type": "stream",
          "name": "stderr",
          "text": [
            "\n",
            "  6%|▌         | 32/569 [06:28<1:49:01, 12.18s/it]\u001b[A"
          ]
        },
        {
          "output_type": "stream",
          "name": "stdout",
          "text": [
            "loss :  300.80709171295166\n"
          ]
        },
        {
          "output_type": "stream",
          "name": "stderr",
          "text": [
            "\n",
            "  6%|▌         | 33/569 [06:40<1:48:21, 12.13s/it]\u001b[A"
          ]
        },
        {
          "output_type": "stream",
          "name": "stdout",
          "text": [
            "loss :  308.54391050338745\n"
          ]
        },
        {
          "output_type": "stream",
          "name": "stderr",
          "text": [
            "\n",
            "  6%|▌         | 34/569 [06:52<1:48:55, 12.22s/it]\u001b[A"
          ]
        },
        {
          "output_type": "stream",
          "name": "stdout",
          "text": [
            "loss :  316.2995777130127\n"
          ]
        },
        {
          "output_type": "stream",
          "name": "stderr",
          "text": [
            "\n",
            "  6%|▌         | 35/569 [07:05<1:48:53, 12.24s/it]\u001b[A"
          ]
        },
        {
          "output_type": "stream",
          "name": "stdout",
          "text": [
            "loss :  323.93292808532715\n"
          ]
        },
        {
          "output_type": "stream",
          "name": "stderr",
          "text": [
            "\n",
            "  6%|▋         | 36/569 [07:17<1:49:00, 12.27s/it]\u001b[A"
          ]
        },
        {
          "output_type": "stream",
          "name": "stdout",
          "text": [
            "loss :  331.49002742767334\n"
          ]
        },
        {
          "output_type": "stream",
          "name": "stderr",
          "text": [
            "\n",
            "  7%|▋         | 37/569 [07:29<1:48:15, 12.21s/it]\u001b[A"
          ]
        },
        {
          "output_type": "stream",
          "name": "stdout",
          "text": [
            "loss :  338.96275901794434\n"
          ]
        },
        {
          "output_type": "stream",
          "name": "stderr",
          "text": [
            "\n",
            "  7%|▋         | 38/569 [07:41<1:47:31, 12.15s/it]\u001b[A"
          ]
        },
        {
          "output_type": "stream",
          "name": "stdout",
          "text": [
            "loss :  346.4040198326111\n"
          ]
        },
        {
          "output_type": "stream",
          "name": "stderr",
          "text": [
            "\n",
            "  7%|▋         | 39/569 [07:53<1:47:19, 12.15s/it]\u001b[A"
          ]
        },
        {
          "output_type": "stream",
          "name": "stdout",
          "text": [
            "loss :  353.7227921485901\n"
          ]
        },
        {
          "output_type": "stream",
          "name": "stderr",
          "text": [
            "\n",
            "  7%|▋         | 40/569 [08:05<1:46:50, 12.12s/it]\u001b[A"
          ]
        },
        {
          "output_type": "stream",
          "name": "stdout",
          "text": [
            "loss :  361.05363941192627\n"
          ]
        },
        {
          "output_type": "stream",
          "name": "stderr",
          "text": [
            "\n",
            "  7%|▋         | 41/569 [08:17<1:46:55, 12.15s/it]\u001b[A"
          ]
        },
        {
          "output_type": "stream",
          "name": "stdout",
          "text": [
            "loss :  368.1626272201538\n"
          ]
        },
        {
          "output_type": "stream",
          "name": "stderr",
          "text": [
            "\n",
            "  7%|▋         | 42/569 [08:30<1:47:00, 12.18s/it]\u001b[A"
          ]
        },
        {
          "output_type": "stream",
          "name": "stdout",
          "text": [
            "loss :  375.24365282058716\n"
          ]
        },
        {
          "output_type": "stream",
          "name": "stderr",
          "text": [
            "\n",
            "  8%|▊         | 43/569 [08:42<1:46:45, 12.18s/it]\u001b[A"
          ]
        },
        {
          "output_type": "stream",
          "name": "stdout",
          "text": [
            "loss :  382.2076783180237\n"
          ]
        },
        {
          "output_type": "stream",
          "name": "stderr",
          "text": [
            "\n",
            "  8%|▊         | 44/569 [08:54<1:46:29, 12.17s/it]\u001b[A"
          ]
        },
        {
          "output_type": "stream",
          "name": "stdout",
          "text": [
            "loss :  389.0057997703552\n"
          ]
        },
        {
          "output_type": "stream",
          "name": "stderr",
          "text": [
            "\n",
            "  8%|▊         | 45/569 [09:06<1:46:21, 12.18s/it]\u001b[A"
          ]
        },
        {
          "output_type": "stream",
          "name": "stdout",
          "text": [
            "loss :  395.8381304740906\n"
          ]
        },
        {
          "output_type": "stream",
          "name": "stderr",
          "text": [
            "\n",
            "  8%|▊         | 46/569 [09:18<1:45:44, 12.13s/it]\u001b[A"
          ]
        },
        {
          "output_type": "stream",
          "name": "stdout",
          "text": [
            "loss :  402.4839177131653\n"
          ]
        },
        {
          "output_type": "stream",
          "name": "stderr",
          "text": [
            "\n",
            "  8%|▊         | 47/569 [09:30<1:44:52, 12.06s/it]\u001b[A"
          ]
        },
        {
          "output_type": "stream",
          "name": "stdout",
          "text": [
            "loss :  409.16118335723877\n"
          ]
        },
        {
          "output_type": "stream",
          "name": "stderr",
          "text": [
            "\n",
            "  8%|▊         | 48/569 [09:42<1:45:28, 12.15s/it]\u001b[A"
          ]
        },
        {
          "output_type": "stream",
          "name": "stdout",
          "text": [
            "loss :  415.68465423583984\n"
          ]
        },
        {
          "output_type": "stream",
          "name": "stderr",
          "text": [
            "\n",
            "  9%|▊         | 49/569 [09:55<1:45:01, 12.12s/it]\u001b[A"
          ]
        },
        {
          "output_type": "stream",
          "name": "stdout",
          "text": [
            "loss :  422.2550415992737\n"
          ]
        },
        {
          "output_type": "stream",
          "name": "stderr",
          "text": [
            "\n",
            "  9%|▉         | 50/569 [10:06<1:44:13, 12.05s/it]\u001b[A"
          ]
        },
        {
          "output_type": "stream",
          "name": "stdout",
          "text": [
            "loss :  428.7541494369507\n"
          ]
        },
        {
          "output_type": "stream",
          "name": "stderr",
          "text": [
            "\n",
            "  9%|▉         | 51/569 [10:19<1:45:05, 12.17s/it]\u001b[A"
          ]
        },
        {
          "output_type": "stream",
          "name": "stdout",
          "text": [
            "loss :  434.9557113647461\n"
          ]
        },
        {
          "output_type": "stream",
          "name": "stderr",
          "text": [
            "\n",
            "  9%|▉         | 52/569 [10:31<1:44:38, 12.14s/it]\u001b[A"
          ]
        },
        {
          "output_type": "stream",
          "name": "stdout",
          "text": [
            "loss :  441.146089553833\n"
          ]
        },
        {
          "output_type": "stream",
          "name": "stderr",
          "text": [
            "\n",
            "  9%|▉         | 53/569 [10:43<1:44:39, 12.17s/it]\u001b[A"
          ]
        },
        {
          "output_type": "stream",
          "name": "stdout",
          "text": [
            "loss :  447.28704500198364\n"
          ]
        },
        {
          "output_type": "stream",
          "name": "stderr",
          "text": [
            "\n",
            "  9%|▉         | 54/569 [10:55<1:43:52, 12.10s/it]\u001b[A"
          ]
        },
        {
          "output_type": "stream",
          "name": "stdout",
          "text": [
            "loss :  453.5132384300232\n"
          ]
        },
        {
          "output_type": "stream",
          "name": "stderr",
          "text": [
            "\n",
            " 10%|▉         | 55/569 [11:07<1:43:44, 12.11s/it]\u001b[A"
          ]
        },
        {
          "output_type": "stream",
          "name": "stdout",
          "text": [
            "loss :  459.3606586456299\n"
          ]
        },
        {
          "output_type": "stream",
          "name": "stderr",
          "text": [
            "\n",
            " 10%|▉         | 56/569 [11:19<1:43:14, 12.07s/it]\u001b[A"
          ]
        },
        {
          "output_type": "stream",
          "name": "stdout",
          "text": [
            "loss :  465.4003052711487\n"
          ]
        },
        {
          "output_type": "stream",
          "name": "stderr",
          "text": [
            "\n",
            " 10%|█         | 57/569 [11:31<1:42:38, 12.03s/it]\u001b[A"
          ]
        },
        {
          "output_type": "stream",
          "name": "stdout",
          "text": [
            "loss :  471.37307929992676\n"
          ]
        },
        {
          "output_type": "stream",
          "name": "stderr",
          "text": [
            "\n",
            " 10%|█         | 58/569 [11:43<1:42:40, 12.06s/it]\u001b[A"
          ]
        },
        {
          "output_type": "stream",
          "name": "stdout",
          "text": [
            "loss :  477.2414402961731\n"
          ]
        },
        {
          "output_type": "stream",
          "name": "stderr",
          "text": [
            "\n",
            " 10%|█         | 59/569 [11:56<1:44:52, 12.34s/it]\u001b[A"
          ]
        },
        {
          "output_type": "stream",
          "name": "stdout",
          "text": [
            "loss :  482.92593145370483\n"
          ]
        },
        {
          "output_type": "stream",
          "name": "stderr",
          "text": [
            "\n",
            " 11%|█         | 60/569 [12:09<1:44:30, 12.32s/it]\u001b[A"
          ]
        },
        {
          "output_type": "stream",
          "name": "stdout",
          "text": [
            "loss :  488.52890491485596\n"
          ]
        },
        {
          "output_type": "stream",
          "name": "stderr",
          "text": [
            "\n",
            " 11%|█         | 61/569 [12:21<1:43:39, 12.24s/it]\u001b[A"
          ]
        },
        {
          "output_type": "stream",
          "name": "stdout",
          "text": [
            "loss :  494.111385345459\n"
          ]
        },
        {
          "output_type": "stream",
          "name": "stderr",
          "text": [
            "\n",
            " 11%|█         | 62/569 [12:33<1:44:01, 12.31s/it]\u001b[A"
          ]
        },
        {
          "output_type": "stream",
          "name": "stdout",
          "text": [
            "loss :  499.81534481048584\n"
          ]
        },
        {
          "output_type": "stream",
          "name": "stderr",
          "text": [
            "\n",
            " 11%|█         | 63/569 [12:46<1:44:10, 12.35s/it]\u001b[A"
          ]
        },
        {
          "output_type": "stream",
          "name": "stdout",
          "text": [
            "loss :  505.3806743621826\n"
          ]
        },
        {
          "output_type": "stream",
          "name": "stderr",
          "text": [
            "\n",
            " 11%|█         | 64/569 [12:58<1:43:53, 12.34s/it]\u001b[A"
          ]
        },
        {
          "output_type": "stream",
          "name": "stdout",
          "text": [
            "loss :  510.81449937820435\n"
          ]
        },
        {
          "output_type": "stream",
          "name": "stderr",
          "text": [
            "\n",
            " 11%|█▏        | 65/569 [13:10<1:42:26, 12.19s/it]\u001b[A"
          ]
        },
        {
          "output_type": "stream",
          "name": "stdout",
          "text": [
            "loss :  516.0702948570251\n"
          ]
        },
        {
          "output_type": "stream",
          "name": "stderr",
          "text": [
            "\n",
            " 12%|█▏        | 66/569 [13:22<1:42:06, 12.18s/it]\u001b[A"
          ]
        },
        {
          "output_type": "stream",
          "name": "stdout",
          "text": [
            "loss :  521.2457451820374\n"
          ]
        },
        {
          "output_type": "stream",
          "name": "stderr",
          "text": [
            "\n",
            " 12%|█▏        | 67/569 [13:34<1:42:03, 12.20s/it]\u001b[A"
          ]
        },
        {
          "output_type": "stream",
          "name": "stdout",
          "text": [
            "loss :  526.5016670227051\n"
          ]
        },
        {
          "output_type": "stream",
          "name": "stderr",
          "text": [
            "\n",
            " 12%|█▏        | 68/569 [13:46<1:41:20, 12.14s/it]\u001b[A"
          ]
        },
        {
          "output_type": "stream",
          "name": "stdout",
          "text": [
            "loss :  531.872793674469\n"
          ]
        },
        {
          "output_type": "stream",
          "name": "stderr",
          "text": [
            "\n",
            " 12%|█▏        | 69/569 [13:58<1:41:08, 12.14s/it]\u001b[A"
          ]
        },
        {
          "output_type": "stream",
          "name": "stdout",
          "text": [
            "loss :  537.1406846046448\n"
          ]
        },
        {
          "output_type": "stream",
          "name": "stderr",
          "text": [
            "\n",
            " 12%|█▏        | 70/569 [14:10<1:40:41, 12.11s/it]\u001b[A"
          ]
        },
        {
          "output_type": "stream",
          "name": "stdout",
          "text": [
            "loss :  542.2433996200562\n"
          ]
        },
        {
          "output_type": "stream",
          "name": "stderr",
          "text": [
            "\n",
            " 12%|█▏        | 71/569 [14:22<1:40:41, 12.13s/it]\u001b[A"
          ]
        },
        {
          "output_type": "stream",
          "name": "stdout",
          "text": [
            "loss :  547.309769153595\n"
          ]
        },
        {
          "output_type": "stream",
          "name": "stderr",
          "text": [
            "\n",
            " 13%|█▎        | 72/569 [14:35<1:41:43, 12.28s/it]\u001b[A"
          ]
        },
        {
          "output_type": "stream",
          "name": "stdout",
          "text": [
            "loss :  551.9792857170105\n"
          ]
        },
        {
          "output_type": "stream",
          "name": "stderr",
          "text": [
            "\n",
            " 13%|█▎        | 73/569 [14:48<1:43:25, 12.51s/it]\u001b[A"
          ]
        },
        {
          "output_type": "stream",
          "name": "stdout",
          "text": [
            "loss :  557.0602235794067\n"
          ]
        },
        {
          "output_type": "stream",
          "name": "stderr",
          "text": [
            "\n",
            " 13%|█▎        | 74/569 [15:00<1:42:48, 12.46s/it]\u001b[A"
          ]
        },
        {
          "output_type": "stream",
          "name": "stdout",
          "text": [
            "loss :  562.0204544067383\n"
          ]
        },
        {
          "output_type": "stream",
          "name": "stderr",
          "text": [
            "\n",
            " 13%|█▎        | 75/569 [15:13<1:42:02, 12.39s/it]\u001b[A"
          ]
        },
        {
          "output_type": "stream",
          "name": "stdout",
          "text": [
            "loss :  566.6678032875061\n"
          ]
        },
        {
          "output_type": "stream",
          "name": "stderr",
          "text": [
            "\n",
            " 13%|█▎        | 76/569 [15:25<1:41:11, 12.32s/it]\u001b[A"
          ]
        },
        {
          "output_type": "stream",
          "name": "stdout",
          "text": [
            "loss :  571.413950920105\n"
          ]
        },
        {
          "output_type": "stream",
          "name": "stderr",
          "text": [
            "\n",
            " 14%|█▎        | 77/569 [15:37<1:41:45, 12.41s/it]\u001b[A"
          ]
        },
        {
          "output_type": "stream",
          "name": "stdout",
          "text": [
            "loss :  576.1941475868225\n"
          ]
        },
        {
          "output_type": "stream",
          "name": "stderr",
          "text": [
            "\n",
            " 14%|█▎        | 78/569 [15:50<1:40:47, 12.32s/it]\u001b[A"
          ]
        },
        {
          "output_type": "stream",
          "name": "stdout",
          "text": [
            "loss :  580.7149200439453\n"
          ]
        },
        {
          "output_type": "stream",
          "name": "stderr",
          "text": [
            "\n",
            " 14%|█▍        | 79/569 [16:02<1:39:58, 12.24s/it]\u001b[A"
          ]
        },
        {
          "output_type": "stream",
          "name": "stdout",
          "text": [
            "loss :  585.2453322410583\n"
          ]
        },
        {
          "output_type": "stream",
          "name": "stderr",
          "text": [
            "\n",
            " 14%|█▍        | 80/569 [16:14<1:39:46, 12.24s/it]\u001b[A"
          ]
        },
        {
          "output_type": "stream",
          "name": "stdout",
          "text": [
            "loss :  589.5824398994446\n"
          ]
        },
        {
          "output_type": "stream",
          "name": "stderr",
          "text": [
            "\n",
            " 14%|█▍        | 81/569 [16:26<1:39:46, 12.27s/it]\u001b[A"
          ]
        },
        {
          "output_type": "stream",
          "name": "stdout",
          "text": [
            "loss :  594.3472514152527\n"
          ]
        },
        {
          "output_type": "stream",
          "name": "stderr",
          "text": [
            "\n",
            " 14%|█▍        | 82/569 [16:39<1:40:00, 12.32s/it]\u001b[A"
          ]
        },
        {
          "output_type": "stream",
          "name": "stdout",
          "text": [
            "loss :  598.7120676040649\n"
          ]
        },
        {
          "output_type": "stream",
          "name": "stderr",
          "text": [
            "\n",
            " 15%|█▍        | 83/569 [16:51<1:39:25, 12.27s/it]\u001b[A"
          ]
        },
        {
          "output_type": "stream",
          "name": "stdout",
          "text": [
            "loss :  603.3293285369873\n"
          ]
        },
        {
          "output_type": "stream",
          "name": "stderr",
          "text": [
            "\n",
            " 15%|█▍        | 84/569 [17:04<1:40:37, 12.45s/it]\u001b[A"
          ]
        },
        {
          "output_type": "stream",
          "name": "stdout",
          "text": [
            "loss :  607.4600172042847\n"
          ]
        },
        {
          "output_type": "stream",
          "name": "stderr",
          "text": [
            "\n",
            " 15%|█▍        | 85/569 [17:16<1:40:56, 12.51s/it]\u001b[A"
          ]
        },
        {
          "output_type": "stream",
          "name": "stdout",
          "text": [
            "loss :  612.0064187049866\n"
          ]
        },
        {
          "output_type": "stream",
          "name": "stderr",
          "text": [
            "\n",
            " 15%|█▌        | 86/569 [17:29<1:41:19, 12.59s/it]\u001b[A"
          ]
        },
        {
          "output_type": "stream",
          "name": "stdout",
          "text": [
            "loss :  616.3711400032043\n"
          ]
        },
        {
          "output_type": "stream",
          "name": "stderr",
          "text": [
            "\n",
            " 15%|█▌        | 87/569 [17:41<1:40:26, 12.50s/it]\u001b[A"
          ]
        },
        {
          "output_type": "stream",
          "name": "stdout",
          "text": [
            "loss :  620.9300832748413\n"
          ]
        },
        {
          "output_type": "stream",
          "name": "stderr",
          "text": [
            "\n",
            " 15%|█▌        | 88/569 [17:53<1:39:10, 12.37s/it]\u001b[A"
          ]
        },
        {
          "output_type": "stream",
          "name": "stdout",
          "text": [
            "loss :  625.2135038375854\n"
          ]
        },
        {
          "output_type": "stream",
          "name": "stderr",
          "text": [
            "\n",
            " 16%|█▌        | 89/569 [18:06<1:38:39, 12.33s/it]\u001b[A"
          ]
        },
        {
          "output_type": "stream",
          "name": "stdout",
          "text": [
            "loss :  629.1910157203674\n"
          ]
        },
        {
          "output_type": "stream",
          "name": "stderr",
          "text": [
            "\n",
            " 16%|█▌        | 90/569 [18:18<1:38:46, 12.37s/it]\u001b[A"
          ]
        },
        {
          "output_type": "stream",
          "name": "stdout",
          "text": [
            "loss :  633.4061756134033\n"
          ]
        },
        {
          "output_type": "stream",
          "name": "stderr",
          "text": [
            "\n",
            " 16%|█▌        | 91/569 [18:30<1:37:52, 12.29s/it]\u001b[A"
          ]
        },
        {
          "output_type": "stream",
          "name": "stdout",
          "text": [
            "loss :  637.6022090911865\n"
          ]
        },
        {
          "output_type": "stream",
          "name": "stderr",
          "text": [
            "\n",
            " 16%|█▌        | 92/569 [18:42<1:36:59, 12.20s/it]\u001b[A"
          ]
        },
        {
          "output_type": "stream",
          "name": "stdout",
          "text": [
            "loss :  641.7827377319336\n"
          ]
        },
        {
          "output_type": "stream",
          "name": "stderr",
          "text": [
            "\n",
            " 16%|█▋        | 93/569 [18:55<1:37:16, 12.26s/it]\u001b[A"
          ]
        },
        {
          "output_type": "stream",
          "name": "stdout",
          "text": [
            "loss :  646.0491237640381\n"
          ]
        },
        {
          "output_type": "stream",
          "name": "stderr",
          "text": [
            "\n",
            " 17%|█▋        | 94/569 [19:07<1:36:37, 12.21s/it]\u001b[A"
          ]
        },
        {
          "output_type": "stream",
          "name": "stdout",
          "text": [
            "loss :  650.009610414505\n"
          ]
        },
        {
          "output_type": "stream",
          "name": "stderr",
          "text": [
            "\n",
            " 17%|█▋        | 95/569 [19:19<1:36:18, 12.19s/it]\u001b[A"
          ]
        },
        {
          "output_type": "stream",
          "name": "stdout",
          "text": [
            "loss :  654.147796869278\n"
          ]
        },
        {
          "output_type": "stream",
          "name": "stderr",
          "text": [
            "\n",
            " 17%|█▋        | 96/569 [19:31<1:36:05, 12.19s/it]\u001b[A"
          ]
        },
        {
          "output_type": "stream",
          "name": "stdout",
          "text": [
            "loss :  658.2786982059479\n"
          ]
        },
        {
          "output_type": "stream",
          "name": "stderr",
          "text": [
            "\n",
            " 17%|█▋        | 97/569 [19:43<1:35:49, 12.18s/it]\u001b[A"
          ]
        },
        {
          "output_type": "stream",
          "name": "stdout",
          "text": [
            "loss :  662.4404404163361\n"
          ]
        },
        {
          "output_type": "stream",
          "name": "stderr",
          "text": [
            "\n",
            " 17%|█▋        | 98/569 [19:55<1:35:35, 12.18s/it]\u001b[A"
          ]
        },
        {
          "output_type": "stream",
          "name": "stdout",
          "text": [
            "loss :  666.5464761257172\n"
          ]
        },
        {
          "output_type": "stream",
          "name": "stderr",
          "text": [
            "\n",
            " 17%|█▋        | 99/569 [20:08<1:36:30, 12.32s/it]\u001b[A"
          ]
        },
        {
          "output_type": "stream",
          "name": "stdout",
          "text": [
            "loss :  670.593715429306\n"
          ]
        },
        {
          "output_type": "stream",
          "name": "stderr",
          "text": [
            "\n",
            " 18%|█▊        | 100/569 [20:20<1:35:34, 12.23s/it]\u001b[A"
          ]
        },
        {
          "output_type": "stream",
          "name": "stdout",
          "text": [
            "loss :  674.4865889549255\n"
          ]
        },
        {
          "output_type": "stream",
          "name": "stderr",
          "text": [
            "\n",
            " 18%|█▊        | 101/569 [20:32<1:35:22, 12.23s/it]\u001b[A"
          ]
        },
        {
          "output_type": "stream",
          "name": "stdout",
          "text": [
            "loss :  678.4780583381653\n"
          ]
        },
        {
          "output_type": "stream",
          "name": "stderr",
          "text": [
            "\n",
            " 18%|█▊        | 102/569 [20:44<1:35:01, 12.21s/it]\u001b[A"
          ]
        },
        {
          "output_type": "stream",
          "name": "stdout",
          "text": [
            "loss :  682.126092672348\n"
          ]
        },
        {
          "output_type": "stream",
          "name": "stderr",
          "text": [
            "\n",
            " 18%|█▊        | 103/569 [20:57<1:34:48, 12.21s/it]\u001b[A"
          ]
        },
        {
          "output_type": "stream",
          "name": "stdout",
          "text": [
            "loss :  686.2469289302826\n"
          ]
        },
        {
          "output_type": "stream",
          "name": "stderr",
          "text": [
            "\n",
            " 18%|█▊        | 104/569 [21:09<1:34:59, 12.26s/it]\u001b[A"
          ]
        },
        {
          "output_type": "stream",
          "name": "stdout",
          "text": [
            "loss :  690.1376366615295\n"
          ]
        },
        {
          "output_type": "stream",
          "name": "stderr",
          "text": [
            "\n",
            " 18%|█▊        | 105/569 [21:21<1:34:40, 12.24s/it]\u001b[A"
          ]
        },
        {
          "output_type": "stream",
          "name": "stdout",
          "text": [
            "loss :  693.9464344978333\n"
          ]
        },
        {
          "output_type": "stream",
          "name": "stderr",
          "text": [
            "\n",
            " 19%|█▊        | 106/569 [21:34<1:34:43, 12.27s/it]\u001b[A"
          ]
        },
        {
          "output_type": "stream",
          "name": "stdout",
          "text": [
            "loss :  697.9610686302185\n"
          ]
        },
        {
          "output_type": "stream",
          "name": "stderr",
          "text": [
            "\n",
            " 19%|█▉        | 107/569 [21:46<1:33:57, 12.20s/it]\u001b[A"
          ]
        },
        {
          "output_type": "stream",
          "name": "stdout",
          "text": [
            "loss :  701.8703782558441\n"
          ]
        },
        {
          "output_type": "stream",
          "name": "stderr",
          "text": [
            "\n",
            " 19%|█▉        | 108/569 [21:59<1:35:31, 12.43s/it]\u001b[A"
          ]
        },
        {
          "output_type": "stream",
          "name": "stdout",
          "text": [
            "loss :  705.5213353633881\n"
          ]
        },
        {
          "output_type": "stream",
          "name": "stderr",
          "text": [
            "\n",
            " 19%|█▉        | 109/569 [22:11<1:34:29, 12.32s/it]\u001b[A"
          ]
        },
        {
          "output_type": "stream",
          "name": "stdout",
          "text": [
            "loss :  709.1576282978058\n"
          ]
        },
        {
          "output_type": "stream",
          "name": "stderr",
          "text": [
            "\n",
            " 19%|█▉        | 110/569 [22:23<1:33:36, 12.24s/it]\u001b[A"
          ]
        },
        {
          "output_type": "stream",
          "name": "stdout",
          "text": [
            "loss :  713.048903465271\n"
          ]
        },
        {
          "output_type": "stream",
          "name": "stderr",
          "text": [
            "\n",
            " 20%|█▉        | 111/569 [22:35<1:33:21, 12.23s/it]\u001b[A"
          ]
        },
        {
          "output_type": "stream",
          "name": "stdout",
          "text": [
            "loss :  716.7376174926758\n"
          ]
        },
        {
          "output_type": "stream",
          "name": "stderr",
          "text": [
            "\n",
            " 20%|█▉        | 112/569 [22:48<1:34:52, 12.46s/it]\u001b[A"
          ]
        },
        {
          "output_type": "stream",
          "name": "stdout",
          "text": [
            "loss :  720.9357962608337\n"
          ]
        },
        {
          "output_type": "stream",
          "name": "stderr",
          "text": [
            "\n",
            " 20%|█▉        | 113/569 [23:00<1:33:21, 12.28s/it]\u001b[A"
          ]
        },
        {
          "output_type": "stream",
          "name": "stdout",
          "text": [
            "loss :  724.5731382369995\n"
          ]
        },
        {
          "output_type": "stream",
          "name": "stderr",
          "text": [
            "\n",
            " 20%|██        | 114/569 [23:12<1:33:14, 12.30s/it]\u001b[A"
          ]
        },
        {
          "output_type": "stream",
          "name": "stdout",
          "text": [
            "loss :  728.7473125457764\n"
          ]
        },
        {
          "output_type": "stream",
          "name": "stderr",
          "text": [
            "\n",
            " 20%|██        | 115/569 [23:24<1:31:51, 12.14s/it]\u001b[A"
          ]
        },
        {
          "output_type": "stream",
          "name": "stdout",
          "text": [
            "loss :  732.7002508640289\n"
          ]
        },
        {
          "output_type": "stream",
          "name": "stderr",
          "text": [
            "\n",
            " 20%|██        | 116/569 [23:36<1:31:48, 12.16s/it]\u001b[A"
          ]
        },
        {
          "output_type": "stream",
          "name": "stdout",
          "text": [
            "loss :  736.2723853588104\n"
          ]
        },
        {
          "output_type": "stream",
          "name": "stderr",
          "text": [
            "\n",
            " 21%|██        | 117/569 [23:49<1:33:04, 12.35s/it]\u001b[A"
          ]
        },
        {
          "output_type": "stream",
          "name": "stdout",
          "text": [
            "loss :  739.9847195148468\n"
          ]
        },
        {
          "output_type": "stream",
          "name": "stderr",
          "text": [
            "\n",
            " 21%|██        | 118/569 [24:01<1:32:04, 12.25s/it]\u001b[A"
          ]
        },
        {
          "output_type": "stream",
          "name": "stdout",
          "text": [
            "loss :  743.6180400848389\n"
          ]
        },
        {
          "output_type": "stream",
          "name": "stderr",
          "text": [
            "\n",
            " 21%|██        | 119/569 [24:13<1:31:22, 12.18s/it]\u001b[A"
          ]
        },
        {
          "output_type": "stream",
          "name": "stdout",
          "text": [
            "loss :  747.8683471679688\n"
          ]
        },
        {
          "output_type": "stream",
          "name": "stderr",
          "text": [
            "\n",
            " 21%|██        | 120/569 [24:25<1:30:27, 12.09s/it]\u001b[A"
          ]
        },
        {
          "output_type": "stream",
          "name": "stdout",
          "text": [
            "loss :  751.4112005233765\n"
          ]
        },
        {
          "output_type": "stream",
          "name": "stderr",
          "text": [
            "\n",
            " 21%|██▏       | 121/569 [24:37<1:30:28, 12.12s/it]\u001b[A"
          ]
        },
        {
          "output_type": "stream",
          "name": "stdout",
          "text": [
            "loss :  755.0376372337341\n"
          ]
        },
        {
          "output_type": "stream",
          "name": "stderr",
          "text": [
            "\n",
            " 21%|██▏       | 122/569 [24:49<1:30:17, 12.12s/it]\u001b[A"
          ]
        },
        {
          "output_type": "stream",
          "name": "stdout",
          "text": [
            "loss :  758.6862308979034\n"
          ]
        },
        {
          "output_type": "stream",
          "name": "stderr",
          "text": [
            "\n",
            " 22%|██▏       | 123/569 [25:01<1:29:52, 12.09s/it]\u001b[A"
          ]
        },
        {
          "output_type": "stream",
          "name": "stdout",
          "text": [
            "loss :  762.1801137924194\n"
          ]
        },
        {
          "output_type": "stream",
          "name": "stderr",
          "text": [
            "\n",
            " 22%|██▏       | 124/569 [25:13<1:30:12, 12.16s/it]\u001b[A"
          ]
        },
        {
          "output_type": "stream",
          "name": "stdout",
          "text": [
            "loss :  765.7667491436005\n"
          ]
        },
        {
          "output_type": "stream",
          "name": "stderr",
          "text": [
            "\n",
            " 22%|██▏       | 125/569 [25:26<1:29:52, 12.15s/it]\u001b[A"
          ]
        },
        {
          "output_type": "stream",
          "name": "stdout",
          "text": [
            "loss :  769.2600748538971\n"
          ]
        },
        {
          "output_type": "stream",
          "name": "stderr",
          "text": [
            "\n",
            " 22%|██▏       | 126/569 [25:38<1:29:39, 12.14s/it]\u001b[A"
          ]
        },
        {
          "output_type": "stream",
          "name": "stdout",
          "text": [
            "loss :  773.1813321113586\n"
          ]
        },
        {
          "output_type": "stream",
          "name": "stderr",
          "text": [
            "\n",
            " 22%|██▏       | 127/569 [25:50<1:29:42, 12.18s/it]\u001b[A"
          ]
        },
        {
          "output_type": "stream",
          "name": "stdout",
          "text": [
            "loss :  776.5632245540619\n"
          ]
        },
        {
          "output_type": "stream",
          "name": "stderr",
          "text": [
            "\n",
            " 22%|██▏       | 128/569 [26:02<1:29:22, 12.16s/it]\u001b[A"
          ]
        },
        {
          "output_type": "stream",
          "name": "stdout",
          "text": [
            "loss :  779.963591337204\n"
          ]
        },
        {
          "output_type": "stream",
          "name": "stderr",
          "text": [
            "\n",
            " 23%|██▎       | 129/569 [26:14<1:29:42, 12.23s/it]\u001b[A"
          ]
        },
        {
          "output_type": "stream",
          "name": "stdout",
          "text": [
            "loss :  784.3142158985138\n"
          ]
        },
        {
          "output_type": "stream",
          "name": "stderr",
          "text": [
            "\n",
            " 23%|██▎       | 130/569 [26:27<1:29:07, 12.18s/it]\u001b[A"
          ]
        },
        {
          "output_type": "stream",
          "name": "stdout",
          "text": [
            "loss :  788.2581346035004\n"
          ]
        },
        {
          "output_type": "stream",
          "name": "stderr",
          "text": [
            "\n",
            " 23%|██▎       | 131/569 [26:39<1:28:56, 12.18s/it]\u001b[A"
          ]
        },
        {
          "output_type": "stream",
          "name": "stdout",
          "text": [
            "loss :  791.803816318512\n"
          ]
        },
        {
          "output_type": "stream",
          "name": "stderr",
          "text": [
            "\n",
            " 23%|██▎       | 132/569 [26:51<1:29:22, 12.27s/it]\u001b[A"
          ]
        },
        {
          "output_type": "stream",
          "name": "stdout",
          "text": [
            "loss :  795.3227727413177\n"
          ]
        },
        {
          "output_type": "stream",
          "name": "stderr",
          "text": [
            "\n",
            " 23%|██▎       | 133/569 [27:04<1:29:16, 12.29s/it]\u001b[A"
          ]
        },
        {
          "output_type": "stream",
          "name": "stdout",
          "text": [
            "loss :  799.098700761795\n"
          ]
        },
        {
          "output_type": "stream",
          "name": "stderr",
          "text": [
            "\n",
            " 24%|██▎       | 134/569 [27:16<1:28:51, 12.26s/it]\u001b[A"
          ]
        },
        {
          "output_type": "stream",
          "name": "stdout",
          "text": [
            "loss :  802.5931191444397\n"
          ]
        },
        {
          "output_type": "stream",
          "name": "stderr",
          "text": [
            "\n",
            " 24%|██▎       | 135/569 [27:28<1:28:38, 12.26s/it]\u001b[A"
          ]
        },
        {
          "output_type": "stream",
          "name": "stdout",
          "text": [
            "loss :  806.399158000946\n"
          ]
        },
        {
          "output_type": "stream",
          "name": "stderr",
          "text": [
            "\n",
            " 24%|██▍       | 136/569 [27:40<1:28:21, 12.24s/it]\u001b[A"
          ]
        },
        {
          "output_type": "stream",
          "name": "stdout",
          "text": [
            "loss :  809.7770273685455\n"
          ]
        },
        {
          "output_type": "stream",
          "name": "stderr",
          "text": [
            "\n",
            " 24%|██▍       | 137/569 [27:52<1:27:37, 12.17s/it]\u001b[A"
          ]
        },
        {
          "output_type": "stream",
          "name": "stdout",
          "text": [
            "loss :  813.5128328800201\n"
          ]
        },
        {
          "output_type": "stream",
          "name": "stderr",
          "text": [
            "\n",
            " 24%|██▍       | 138/569 [28:04<1:26:52, 12.09s/it]\u001b[A"
          ]
        },
        {
          "output_type": "stream",
          "name": "stdout",
          "text": [
            "loss :  817.2384190559387\n"
          ]
        },
        {
          "output_type": "stream",
          "name": "stderr",
          "text": [
            "\n",
            " 24%|██▍       | 139/569 [28:17<1:27:33, 12.22s/it]\u001b[A"
          ]
        },
        {
          "output_type": "stream",
          "name": "stdout",
          "text": [
            "loss :  820.4407057762146\n"
          ]
        },
        {
          "output_type": "stream",
          "name": "stderr",
          "text": [
            "\n",
            " 25%|██▍       | 140/569 [28:29<1:27:01, 12.17s/it]\u001b[A"
          ]
        },
        {
          "output_type": "stream",
          "name": "stdout",
          "text": [
            "loss :  824.7546005249023\n"
          ]
        },
        {
          "output_type": "stream",
          "name": "stderr",
          "text": [
            "\n",
            " 25%|██▍       | 141/569 [28:41<1:26:32, 12.13s/it]\u001b[A"
          ]
        },
        {
          "output_type": "stream",
          "name": "stdout",
          "text": [
            "loss :  828.3541181087494\n"
          ]
        },
        {
          "output_type": "stream",
          "name": "stderr",
          "text": [
            "\n",
            " 25%|██▍       | 142/569 [28:53<1:26:05, 12.10s/it]\u001b[A"
          ]
        },
        {
          "output_type": "stream",
          "name": "stdout",
          "text": [
            "loss :  831.8702099323273\n"
          ]
        },
        {
          "output_type": "stream",
          "name": "stderr",
          "text": [
            "\n",
            " 25%|██▌       | 143/569 [29:05<1:26:11, 12.14s/it]\u001b[A"
          ]
        },
        {
          "output_type": "stream",
          "name": "stdout",
          "text": [
            "loss :  835.9937536716461\n"
          ]
        },
        {
          "output_type": "stream",
          "name": "stderr",
          "text": [
            "\n",
            " 25%|██▌       | 144/569 [29:17<1:26:05, 12.15s/it]\u001b[A"
          ]
        },
        {
          "output_type": "stream",
          "name": "stdout",
          "text": [
            "loss :  839.9241623878479\n"
          ]
        },
        {
          "output_type": "stream",
          "name": "stderr",
          "text": [
            "\n",
            " 25%|██▌       | 145/569 [29:29<1:25:39, 12.12s/it]\u001b[A"
          ]
        },
        {
          "output_type": "stream",
          "name": "stdout",
          "text": [
            "loss :  843.5368885993958\n"
          ]
        },
        {
          "output_type": "stream",
          "name": "stderr",
          "text": [
            "\n",
            " 26%|██▌       | 146/569 [29:41<1:25:29, 12.13s/it]\u001b[A"
          ]
        },
        {
          "output_type": "stream",
          "name": "stdout",
          "text": [
            "loss :  847.5068879127502\n"
          ]
        },
        {
          "output_type": "stream",
          "name": "stderr",
          "text": [
            "\n",
            " 26%|██▌       | 147/569 [29:54<1:26:19, 12.27s/it]\u001b[A"
          ]
        },
        {
          "output_type": "stream",
          "name": "stdout",
          "text": [
            "loss :  850.9664742946625\n"
          ]
        },
        {
          "output_type": "stream",
          "name": "stderr",
          "text": [
            "\n",
            " 26%|██▌       | 148/569 [30:07<1:26:59, 12.40s/it]\u001b[A"
          ]
        },
        {
          "output_type": "stream",
          "name": "stdout",
          "text": [
            "loss :  854.7488121986389\n"
          ]
        },
        {
          "output_type": "stream",
          "name": "stderr",
          "text": [
            "\n",
            " 26%|██▌       | 149/569 [30:19<1:26:21, 12.34s/it]\u001b[A"
          ]
        },
        {
          "output_type": "stream",
          "name": "stdout",
          "text": [
            "loss :  858.1176674365997\n"
          ]
        },
        {
          "output_type": "stream",
          "name": "stderr",
          "text": [
            "\n",
            " 26%|██▋       | 150/569 [30:31<1:25:36, 12.26s/it]\u001b[A"
          ]
        },
        {
          "output_type": "stream",
          "name": "stdout",
          "text": [
            "loss :  861.643461227417\n"
          ]
        },
        {
          "output_type": "stream",
          "name": "stderr",
          "text": [
            "\n",
            " 27%|██▋       | 151/569 [30:43<1:24:45, 12.17s/it]\u001b[A"
          ]
        },
        {
          "output_type": "stream",
          "name": "stdout",
          "text": [
            "loss :  865.2988770008087\n"
          ]
        },
        {
          "output_type": "stream",
          "name": "stderr",
          "text": [
            "\n",
            " 27%|██▋       | 152/569 [30:55<1:23:50, 12.06s/it]\u001b[A"
          ]
        },
        {
          "output_type": "stream",
          "name": "stdout",
          "text": [
            "loss :  868.985214471817\n"
          ]
        },
        {
          "output_type": "stream",
          "name": "stderr",
          "text": [
            "\n",
            " 27%|██▋       | 153/569 [31:07<1:23:57, 12.11s/it]\u001b[A"
          ]
        },
        {
          "output_type": "stream",
          "name": "stdout",
          "text": [
            "loss :  872.6820023059845\n"
          ]
        },
        {
          "output_type": "stream",
          "name": "stderr",
          "text": [
            "\n",
            " 27%|██▋       | 154/569 [31:19<1:23:38, 12.09s/it]\u001b[A"
          ]
        },
        {
          "output_type": "stream",
          "name": "stdout",
          "text": [
            "loss :  876.0992484092712\n"
          ]
        },
        {
          "output_type": "stream",
          "name": "stderr",
          "text": [
            "\n",
            " 27%|██▋       | 155/569 [31:31<1:23:45, 12.14s/it]\u001b[A"
          ]
        },
        {
          "output_type": "stream",
          "name": "stdout",
          "text": [
            "loss :  880.0976014137268\n"
          ]
        },
        {
          "output_type": "stream",
          "name": "stderr",
          "text": [
            "\n",
            " 27%|██▋       | 156/569 [31:43<1:23:41, 12.16s/it]\u001b[A"
          ]
        },
        {
          "output_type": "stream",
          "name": "stdout",
          "text": [
            "loss :  883.5067145824432\n"
          ]
        },
        {
          "output_type": "stream",
          "name": "stderr",
          "text": [
            "\n",
            " 28%|██▊       | 157/569 [31:55<1:23:12, 12.12s/it]\u001b[A"
          ]
        },
        {
          "output_type": "stream",
          "name": "stdout",
          "text": [
            "loss :  886.6555531024933\n"
          ]
        },
        {
          "output_type": "stream",
          "name": "stderr",
          "text": [
            "\n",
            " 28%|██▊       | 158/569 [32:07<1:22:44, 12.08s/it]\u001b[A"
          ]
        },
        {
          "output_type": "stream",
          "name": "stdout",
          "text": [
            "loss :  890.2363450527191\n"
          ]
        },
        {
          "output_type": "stream",
          "name": "stderr",
          "text": [
            "\n",
            " 28%|██▊       | 159/569 [32:20<1:22:46, 12.11s/it]\u001b[A"
          ]
        },
        {
          "output_type": "stream",
          "name": "stdout",
          "text": [
            "loss :  894.0503211021423\n"
          ]
        },
        {
          "output_type": "stream",
          "name": "stderr",
          "text": [
            "\n",
            " 28%|██▊       | 160/569 [32:32<1:22:31, 12.11s/it]\u001b[A"
          ]
        },
        {
          "output_type": "stream",
          "name": "stdout",
          "text": [
            "loss :  897.1490304470062\n"
          ]
        },
        {
          "output_type": "stream",
          "name": "stderr",
          "text": [
            "\n",
            " 28%|██▊       | 161/569 [32:44<1:22:24, 12.12s/it]\u001b[A"
          ]
        },
        {
          "output_type": "stream",
          "name": "stdout",
          "text": [
            "loss :  900.6795034408569\n"
          ]
        },
        {
          "output_type": "stream",
          "name": "stderr",
          "text": [
            "\n",
            " 28%|██▊       | 162/569 [32:56<1:22:08, 12.11s/it]\u001b[A"
          ]
        },
        {
          "output_type": "stream",
          "name": "stdout",
          "text": [
            "loss :  904.1643326282501\n"
          ]
        },
        {
          "output_type": "stream",
          "name": "stderr",
          "text": [
            "\n",
            " 29%|██▊       | 163/569 [33:08<1:22:01, 12.12s/it]\u001b[A"
          ]
        },
        {
          "output_type": "stream",
          "name": "stdout",
          "text": [
            "loss :  907.4309647083282\n"
          ]
        },
        {
          "output_type": "stream",
          "name": "stderr",
          "text": [
            "\n",
            " 29%|██▉       | 164/569 [33:20<1:21:36, 12.09s/it]\u001b[A"
          ]
        },
        {
          "output_type": "stream",
          "name": "stdout",
          "text": [
            "loss :  911.0775768756866\n"
          ]
        },
        {
          "output_type": "stream",
          "name": "stderr",
          "text": [
            "\n",
            " 29%|██▉       | 165/569 [33:32<1:21:18, 12.07s/it]\u001b[A"
          ]
        },
        {
          "output_type": "stream",
          "name": "stdout",
          "text": [
            "loss :  914.4494590759277\n"
          ]
        },
        {
          "output_type": "stream",
          "name": "stderr",
          "text": [
            "\n",
            " 29%|██▉       | 166/569 [33:44<1:21:14, 12.10s/it]\u001b[A"
          ]
        },
        {
          "output_type": "stream",
          "name": "stdout",
          "text": [
            "loss :  917.6287176609039\n"
          ]
        },
        {
          "output_type": "stream",
          "name": "stderr",
          "text": [
            "\n",
            " 29%|██▉       | 167/569 [33:57<1:21:28, 12.16s/it]\u001b[A"
          ]
        },
        {
          "output_type": "stream",
          "name": "stdout",
          "text": [
            "loss :  921.1005942821503\n"
          ]
        },
        {
          "output_type": "stream",
          "name": "stderr",
          "text": [
            "\n",
            " 30%|██▉       | 168/569 [34:09<1:21:08, 12.14s/it]\u001b[A"
          ]
        },
        {
          "output_type": "stream",
          "name": "stdout",
          "text": [
            "loss :  924.8281283378601\n"
          ]
        },
        {
          "output_type": "stream",
          "name": "stderr",
          "text": [
            "\n",
            " 30%|██▉       | 169/569 [34:24<1:27:35, 13.14s/it]\u001b[A"
          ]
        },
        {
          "output_type": "stream",
          "name": "stdout",
          "text": [
            "loss :  928.0518362522125\n"
          ]
        },
        {
          "output_type": "stream",
          "name": "stderr",
          "text": [
            "\n",
            " 30%|██▉       | 170/569 [34:36<1:25:29, 12.86s/it]\u001b[A"
          ]
        },
        {
          "output_type": "stream",
          "name": "stdout",
          "text": [
            "loss :  931.6685061454773\n"
          ]
        },
        {
          "output_type": "stream",
          "name": "stderr",
          "text": [
            "\n",
            " 30%|███       | 171/569 [34:48<1:23:40, 12.61s/it]\u001b[A"
          ]
        },
        {
          "output_type": "stream",
          "name": "stdout",
          "text": [
            "loss :  934.9764935970306\n"
          ]
        },
        {
          "output_type": "stream",
          "name": "stderr",
          "text": [
            "\n",
            " 30%|███       | 172/569 [35:01<1:22:43, 12.50s/it]\u001b[A"
          ]
        },
        {
          "output_type": "stream",
          "name": "stdout",
          "text": [
            "loss :  938.7412128448486\n"
          ]
        },
        {
          "output_type": "stream",
          "name": "stderr",
          "text": [
            "\n",
            " 30%|███       | 173/569 [35:13<1:22:16, 12.46s/it]\u001b[A"
          ]
        },
        {
          "output_type": "stream",
          "name": "stdout",
          "text": [
            "loss :  942.2620267868042\n"
          ]
        },
        {
          "output_type": "stream",
          "name": "stderr",
          "text": [
            "\n",
            " 31%|███       | 174/569 [35:25<1:21:31, 12.38s/it]\u001b[A"
          ]
        },
        {
          "output_type": "stream",
          "name": "stdout",
          "text": [
            "loss :  945.5698425769806\n"
          ]
        },
        {
          "output_type": "stream",
          "name": "stderr",
          "text": [
            "\n",
            " 31%|███       | 175/569 [35:37<1:20:25, 12.25s/it]\u001b[A"
          ]
        },
        {
          "output_type": "stream",
          "name": "stdout",
          "text": [
            "loss :  948.8040599822998\n"
          ]
        },
        {
          "output_type": "stream",
          "name": "stderr",
          "text": [
            "\n",
            " 31%|███       | 176/569 [35:49<1:19:44, 12.17s/it]\u001b[A"
          ]
        },
        {
          "output_type": "stream",
          "name": "stdout",
          "text": [
            "loss :  952.362218618393\n"
          ]
        },
        {
          "output_type": "stream",
          "name": "stderr",
          "text": [
            "\n",
            " 31%|███       | 177/569 [36:01<1:19:02, 12.10s/it]\u001b[A"
          ]
        },
        {
          "output_type": "stream",
          "name": "stdout",
          "text": [
            "loss :  955.7955164909363\n"
          ]
        },
        {
          "output_type": "stream",
          "name": "stderr",
          "text": [
            "\n",
            " 31%|███▏      | 178/569 [36:13<1:18:35, 12.06s/it]\u001b[A"
          ]
        },
        {
          "output_type": "stream",
          "name": "stdout",
          "text": [
            "loss :  958.7550854682922\n"
          ]
        },
        {
          "output_type": "stream",
          "name": "stderr",
          "text": [
            "\n",
            " 31%|███▏      | 179/569 [36:25<1:18:50, 12.13s/it]\u001b[A"
          ]
        },
        {
          "output_type": "stream",
          "name": "stdout",
          "text": [
            "loss :  961.9326174259186\n"
          ]
        },
        {
          "output_type": "stream",
          "name": "stderr",
          "text": [
            "\n",
            " 32%|███▏      | 180/569 [36:38<1:18:58, 12.18s/it]\u001b[A"
          ]
        },
        {
          "output_type": "stream",
          "name": "stdout",
          "text": [
            "loss :  965.3431165218353\n"
          ]
        },
        {
          "output_type": "stream",
          "name": "stderr",
          "text": [
            "\n",
            " 32%|███▏      | 181/569 [36:50<1:18:41, 12.17s/it]\u001b[A"
          ]
        },
        {
          "output_type": "stream",
          "name": "stdout",
          "text": [
            "loss :  968.535327911377\n"
          ]
        },
        {
          "output_type": "stream",
          "name": "stderr",
          "text": [
            "\n",
            " 32%|███▏      | 182/569 [37:02<1:19:09, 12.27s/it]\u001b[A"
          ]
        },
        {
          "output_type": "stream",
          "name": "stdout",
          "text": [
            "loss :  971.9975872039795\n"
          ]
        },
        {
          "output_type": "stream",
          "name": "stderr",
          "text": [
            "\n",
            " 32%|███▏      | 183/569 [37:15<1:19:09, 12.30s/it]\u001b[A"
          ]
        },
        {
          "output_type": "stream",
          "name": "stdout",
          "text": [
            "loss :  975.1245222091675\n"
          ]
        },
        {
          "output_type": "stream",
          "name": "stderr",
          "text": [
            "\n",
            " 32%|███▏      | 184/569 [37:27<1:18:22, 12.22s/it]\u001b[A"
          ]
        },
        {
          "output_type": "stream",
          "name": "stdout",
          "text": [
            "loss :  978.6765971183777\n"
          ]
        },
        {
          "output_type": "stream",
          "name": "stderr",
          "text": [
            "\n",
            " 33%|███▎      | 185/569 [37:39<1:18:27, 12.26s/it]\u001b[A"
          ]
        },
        {
          "output_type": "stream",
          "name": "stdout",
          "text": [
            "loss :  982.2246809005737\n"
          ]
        },
        {
          "output_type": "stream",
          "name": "stderr",
          "text": [
            "\n",
            " 33%|███▎      | 186/569 [37:51<1:18:12, 12.25s/it]\u001b[A"
          ]
        },
        {
          "output_type": "stream",
          "name": "stdout",
          "text": [
            "loss :  985.766028881073\n"
          ]
        },
        {
          "output_type": "stream",
          "name": "stderr",
          "text": [
            "\n",
            " 33%|███▎      | 187/569 [38:03<1:17:54, 12.24s/it]\u001b[A"
          ]
        },
        {
          "output_type": "stream",
          "name": "stdout",
          "text": [
            "loss :  989.4173562526703\n"
          ]
        },
        {
          "output_type": "stream",
          "name": "stderr",
          "text": [
            "\n",
            " 33%|███▎      | 188/569 [38:16<1:17:33, 12.21s/it]\u001b[A"
          ]
        },
        {
          "output_type": "stream",
          "name": "stdout",
          "text": [
            "loss :  992.6563317775726\n"
          ]
        },
        {
          "output_type": "stream",
          "name": "stderr",
          "text": [
            "\n",
            " 33%|███▎      | 189/569 [38:28<1:17:31, 12.24s/it]\u001b[A"
          ]
        },
        {
          "output_type": "stream",
          "name": "stdout",
          "text": [
            "loss :  995.8294861316681\n"
          ]
        },
        {
          "output_type": "stream",
          "name": "stderr",
          "text": [
            "\n",
            " 33%|███▎      | 190/569 [38:40<1:17:07, 12.21s/it]\u001b[A"
          ]
        },
        {
          "output_type": "stream",
          "name": "stdout",
          "text": [
            "loss :  999.5809185504913\n"
          ]
        },
        {
          "output_type": "stream",
          "name": "stderr",
          "text": [
            "\n",
            " 34%|███▎      | 191/569 [38:52<1:16:37, 12.16s/it]\u001b[A"
          ]
        },
        {
          "output_type": "stream",
          "name": "stdout",
          "text": [
            "loss :  1002.902464389801\n"
          ]
        },
        {
          "output_type": "stream",
          "name": "stderr",
          "text": [
            "\n",
            " 34%|███▎      | 192/569 [39:04<1:16:04, 12.11s/it]\u001b[A"
          ]
        },
        {
          "output_type": "stream",
          "name": "stdout",
          "text": [
            "loss :  1006.3535583019257\n"
          ]
        },
        {
          "output_type": "stream",
          "name": "stderr",
          "text": [
            "\n",
            " 34%|███▍      | 193/569 [39:16<1:15:47, 12.10s/it]\u001b[A"
          ]
        },
        {
          "output_type": "stream",
          "name": "stdout",
          "text": [
            "loss :  1009.910649061203\n"
          ]
        },
        {
          "output_type": "stream",
          "name": "stderr",
          "text": [
            "\n",
            " 34%|███▍      | 194/569 [39:28<1:15:25, 12.07s/it]\u001b[A"
          ]
        },
        {
          "output_type": "stream",
          "name": "stdout",
          "text": [
            "loss :  1013.2717547416687\n"
          ]
        },
        {
          "output_type": "stream",
          "name": "stderr",
          "text": [
            "\n",
            " 34%|███▍      | 195/569 [39:40<1:15:27, 12.10s/it]\u001b[A"
          ]
        },
        {
          "output_type": "stream",
          "name": "stdout",
          "text": [
            "loss :  1016.6836099624634\n"
          ]
        },
        {
          "output_type": "stream",
          "name": "stderr",
          "text": [
            "\n",
            " 34%|███▍      | 196/569 [39:53<1:15:25, 12.13s/it]\u001b[A"
          ]
        },
        {
          "output_type": "stream",
          "name": "stdout",
          "text": [
            "loss :  1020.2628402709961\n"
          ]
        },
        {
          "output_type": "stream",
          "name": "stderr",
          "text": [
            "\n",
            " 35%|███▍      | 197/569 [40:05<1:15:17, 12.14s/it]\u001b[A"
          ]
        },
        {
          "output_type": "stream",
          "name": "stdout",
          "text": [
            "loss :  1023.2342340946198\n"
          ]
        },
        {
          "output_type": "stream",
          "name": "stderr",
          "text": [
            "\n",
            " 35%|███▍      | 198/569 [40:17<1:15:02, 12.14s/it]\u001b[A"
          ]
        },
        {
          "output_type": "stream",
          "name": "stdout",
          "text": [
            "loss :  1026.3222410678864\n"
          ]
        },
        {
          "output_type": "stream",
          "name": "stderr",
          "text": [
            "\n",
            " 35%|███▍      | 199/569 [40:29<1:14:38, 12.10s/it]\u001b[A"
          ]
        },
        {
          "output_type": "stream",
          "name": "stdout",
          "text": [
            "loss :  1030.1031908988953\n"
          ]
        },
        {
          "output_type": "stream",
          "name": "stderr",
          "text": [
            "\n",
            " 35%|███▌      | 200/569 [40:41<1:14:30, 12.11s/it]\u001b[A"
          ]
        },
        {
          "output_type": "stream",
          "name": "stdout",
          "text": [
            "loss :  1033.946340560913\n"
          ]
        },
        {
          "output_type": "stream",
          "name": "stderr",
          "text": [
            "\n",
            " 35%|███▌      | 201/569 [40:53<1:14:02, 12.07s/it]\u001b[A"
          ]
        },
        {
          "output_type": "stream",
          "name": "stdout",
          "text": [
            "loss :  1037.0278100967407\n"
          ]
        },
        {
          "output_type": "stream",
          "name": "stderr",
          "text": [
            "\n",
            " 36%|███▌      | 202/569 [41:05<1:13:53, 12.08s/it]\u001b[A"
          ]
        },
        {
          "output_type": "stream",
          "name": "stdout",
          "text": [
            "loss :  1040.3471956253052\n"
          ]
        },
        {
          "output_type": "stream",
          "name": "stderr",
          "text": [
            "\n",
            " 36%|███▌      | 203/569 [41:17<1:13:38, 12.07s/it]\u001b[A"
          ]
        },
        {
          "output_type": "stream",
          "name": "stdout",
          "text": [
            "loss :  1043.6980879306793\n"
          ]
        },
        {
          "output_type": "stream",
          "name": "stderr",
          "text": [
            "\n",
            " 36%|███▌      | 204/569 [41:29<1:13:24, 12.07s/it]\u001b[A"
          ]
        },
        {
          "output_type": "stream",
          "name": "stdout",
          "text": [
            "loss :  1047.102021932602\n"
          ]
        },
        {
          "output_type": "stream",
          "name": "stderr",
          "text": [
            "\n",
            " 36%|███▌      | 205/569 [41:41<1:13:22, 12.09s/it]\u001b[A"
          ]
        },
        {
          "output_type": "stream",
          "name": "stdout",
          "text": [
            "loss :  1050.8792278766632\n"
          ]
        },
        {
          "output_type": "stream",
          "name": "stderr",
          "text": [
            "\n",
            " 36%|███▌      | 206/569 [41:53<1:13:11, 12.10s/it]\u001b[A"
          ]
        },
        {
          "output_type": "stream",
          "name": "stdout",
          "text": [
            "loss :  1054.0857179164886\n"
          ]
        },
        {
          "output_type": "stream",
          "name": "stderr",
          "text": [
            "\n",
            " 36%|███▋      | 207/569 [42:06<1:13:10, 12.13s/it]\u001b[A"
          ]
        },
        {
          "output_type": "stream",
          "name": "stdout",
          "text": [
            "loss :  1057.3406493663788\n"
          ]
        },
        {
          "output_type": "stream",
          "name": "stderr",
          "text": [
            "\n",
            " 37%|███▋      | 208/569 [42:18<1:13:01, 12.14s/it]\u001b[A"
          ]
        },
        {
          "output_type": "stream",
          "name": "stdout",
          "text": [
            "loss :  1060.5581793785095\n"
          ]
        },
        {
          "output_type": "stream",
          "name": "stderr",
          "text": [
            "\n",
            " 37%|███▋      | 209/569 [42:30<1:12:28, 12.08s/it]\u001b[A"
          ]
        },
        {
          "output_type": "stream",
          "name": "stdout",
          "text": [
            "loss :  1063.9985320568085\n"
          ]
        },
        {
          "output_type": "stream",
          "name": "stderr",
          "text": [
            "\n",
            " 37%|███▋      | 210/569 [42:42<1:13:07, 12.22s/it]\u001b[A"
          ]
        },
        {
          "output_type": "stream",
          "name": "stdout",
          "text": [
            "loss :  1067.842857837677\n"
          ]
        },
        {
          "output_type": "stream",
          "name": "stderr",
          "text": [
            "\n",
            " 37%|███▋      | 211/569 [42:54<1:12:41, 12.18s/it]\u001b[A"
          ]
        },
        {
          "output_type": "stream",
          "name": "stdout",
          "text": [
            "loss :  1071.2708840370178\n"
          ]
        },
        {
          "output_type": "stream",
          "name": "stderr",
          "text": [
            "\n",
            " 37%|███▋      | 212/569 [43:07<1:13:09, 12.30s/it]\u001b[A"
          ]
        },
        {
          "output_type": "stream",
          "name": "stdout",
          "text": [
            "loss :  1074.6599762439728\n"
          ]
        },
        {
          "output_type": "stream",
          "name": "stderr",
          "text": [
            "\n",
            " 37%|███▋      | 213/569 [43:19<1:12:34, 12.23s/it]\u001b[A"
          ]
        },
        {
          "output_type": "stream",
          "name": "stdout",
          "text": [
            "loss :  1077.9301762580872\n"
          ]
        },
        {
          "output_type": "stream",
          "name": "stderr",
          "text": [
            "\n",
            " 38%|███▊      | 214/569 [43:31<1:12:13, 12.21s/it]\u001b[A"
          ]
        },
        {
          "output_type": "stream",
          "name": "stdout",
          "text": [
            "loss :  1081.425077676773\n"
          ]
        },
        {
          "output_type": "stream",
          "name": "stderr",
          "text": [
            "\n",
            " 38%|███▊      | 215/569 [43:43<1:11:50, 12.18s/it]\u001b[A"
          ]
        },
        {
          "output_type": "stream",
          "name": "stdout",
          "text": [
            "loss :  1084.7526369094849\n"
          ]
        },
        {
          "output_type": "stream",
          "name": "stderr",
          "text": [
            "\n",
            " 38%|███▊      | 216/569 [43:55<1:11:14, 12.11s/it]\u001b[A"
          ]
        },
        {
          "output_type": "stream",
          "name": "stdout",
          "text": [
            "loss :  1088.0347692966461\n"
          ]
        },
        {
          "output_type": "stream",
          "name": "stderr",
          "text": [
            "\n",
            " 38%|███▊      | 217/569 [44:07<1:11:08, 12.13s/it]\u001b[A"
          ]
        },
        {
          "output_type": "stream",
          "name": "stdout",
          "text": [
            "loss :  1091.2696051597595\n"
          ]
        },
        {
          "output_type": "stream",
          "name": "stderr",
          "text": [
            "\n",
            " 38%|███▊      | 218/569 [44:20<1:11:11, 12.17s/it]\u001b[A"
          ]
        },
        {
          "output_type": "stream",
          "name": "stdout",
          "text": [
            "loss :  1094.2608745098114\n"
          ]
        },
        {
          "output_type": "stream",
          "name": "stderr",
          "text": [
            "\n",
            " 38%|███▊      | 219/569 [44:32<1:10:53, 12.15s/it]\u001b[A"
          ]
        },
        {
          "output_type": "stream",
          "name": "stdout",
          "text": [
            "loss :  1097.7187266349792\n"
          ]
        },
        {
          "output_type": "stream",
          "name": "stderr",
          "text": [
            "\n",
            " 39%|███▊      | 220/569 [44:44<1:10:39, 12.15s/it]\u001b[A"
          ]
        },
        {
          "output_type": "stream",
          "name": "stdout",
          "text": [
            "loss :  1100.685099363327\n"
          ]
        },
        {
          "output_type": "stream",
          "name": "stderr",
          "text": [
            "\n",
            " 39%|███▉      | 221/569 [44:56<1:10:31, 12.16s/it]\u001b[A"
          ]
        },
        {
          "output_type": "stream",
          "name": "stdout",
          "text": [
            "loss :  1103.8908157348633\n"
          ]
        },
        {
          "output_type": "stream",
          "name": "stderr",
          "text": [
            "\n",
            " 39%|███▉      | 222/569 [45:09<1:10:46, 12.24s/it]\u001b[A"
          ]
        },
        {
          "output_type": "stream",
          "name": "stdout",
          "text": [
            "loss :  1107.4748907089233\n"
          ]
        },
        {
          "output_type": "stream",
          "name": "stderr",
          "text": [
            "\n",
            " 39%|███▉      | 223/569 [45:21<1:10:28, 12.22s/it]\u001b[A"
          ]
        },
        {
          "output_type": "stream",
          "name": "stdout",
          "text": [
            "loss :  1110.9777376651764\n"
          ]
        },
        {
          "output_type": "stream",
          "name": "stderr",
          "text": [
            "\n",
            " 39%|███▉      | 224/569 [45:33<1:10:51, 12.32s/it]\u001b[A"
          ]
        },
        {
          "output_type": "stream",
          "name": "stdout",
          "text": [
            "loss :  1114.2481503486633\n"
          ]
        },
        {
          "output_type": "stream",
          "name": "stderr",
          "text": [
            "\n",
            " 40%|███▉      | 225/569 [45:45<1:10:08, 12.23s/it]\u001b[A"
          ]
        },
        {
          "output_type": "stream",
          "name": "stdout",
          "text": [
            "loss :  1117.3977537155151\n"
          ]
        },
        {
          "output_type": "stream",
          "name": "stderr",
          "text": [
            "\n",
            " 40%|███▉      | 226/569 [45:58<1:10:17, 12.30s/it]\u001b[A"
          ]
        },
        {
          "output_type": "stream",
          "name": "stdout",
          "text": [
            "loss :  1120.8055353164673\n"
          ]
        },
        {
          "output_type": "stream",
          "name": "stderr",
          "text": [
            "\n",
            " 40%|███▉      | 227/569 [46:10<1:09:27, 12.19s/it]\u001b[A"
          ]
        },
        {
          "output_type": "stream",
          "name": "stdout",
          "text": [
            "loss :  1124.365735054016\n"
          ]
        },
        {
          "output_type": "stream",
          "name": "stderr",
          "text": [
            "\n",
            " 40%|████      | 228/569 [46:22<1:09:00, 12.14s/it]\u001b[A"
          ]
        },
        {
          "output_type": "stream",
          "name": "stdout",
          "text": [
            "loss :  1127.4719712734222\n"
          ]
        },
        {
          "output_type": "stream",
          "name": "stderr",
          "text": [
            "\n",
            " 40%|████      | 229/569 [46:34<1:08:46, 12.14s/it]\u001b[A"
          ]
        },
        {
          "output_type": "stream",
          "name": "stdout",
          "text": [
            "loss :  1130.8837056159973\n"
          ]
        },
        {
          "output_type": "stream",
          "name": "stderr",
          "text": [
            "\n",
            " 40%|████      | 230/569 [46:46<1:08:22, 12.10s/it]\u001b[A"
          ]
        },
        {
          "output_type": "stream",
          "name": "stdout",
          "text": [
            "loss :  1134.1367673873901\n"
          ]
        },
        {
          "output_type": "stream",
          "name": "stderr",
          "text": [
            "\n",
            " 41%|████      | 231/569 [46:58<1:08:29, 12.16s/it]\u001b[A"
          ]
        },
        {
          "output_type": "stream",
          "name": "stdout",
          "text": [
            "loss :  1137.3825783729553\n"
          ]
        },
        {
          "output_type": "stream",
          "name": "stderr",
          "text": [
            "\n",
            " 41%|████      | 232/569 [47:10<1:08:00, 12.11s/it]\u001b[A"
          ]
        },
        {
          "output_type": "stream",
          "name": "stdout",
          "text": [
            "loss :  1140.8396487236023\n"
          ]
        },
        {
          "output_type": "stream",
          "name": "stderr",
          "text": [
            "\n",
            " 41%|████      | 233/569 [47:22<1:07:48, 12.11s/it]\u001b[A"
          ]
        },
        {
          "output_type": "stream",
          "name": "stdout",
          "text": [
            "loss :  1143.7977299690247\n"
          ]
        },
        {
          "output_type": "stream",
          "name": "stderr",
          "text": [
            "\n",
            " 41%|████      | 234/569 [47:35<1:08:00, 12.18s/it]\u001b[A"
          ]
        },
        {
          "output_type": "stream",
          "name": "stdout",
          "text": [
            "loss :  1147.2818031311035\n"
          ]
        },
        {
          "output_type": "stream",
          "name": "stderr",
          "text": [
            "\n",
            " 41%|████▏     | 235/569 [47:47<1:07:29, 12.12s/it]\u001b[A"
          ]
        },
        {
          "output_type": "stream",
          "name": "stdout",
          "text": [
            "loss :  1150.4950551986694\n"
          ]
        },
        {
          "output_type": "stream",
          "name": "stderr",
          "text": [
            "\n",
            " 41%|████▏     | 236/569 [47:59<1:07:38, 12.19s/it]\u001b[A"
          ]
        },
        {
          "output_type": "stream",
          "name": "stdout",
          "text": [
            "loss :  1153.7437534332275\n"
          ]
        },
        {
          "output_type": "stream",
          "name": "stderr",
          "text": [
            "\n",
            " 42%|████▏     | 237/569 [48:11<1:07:05, 12.13s/it]\u001b[A"
          ]
        },
        {
          "output_type": "stream",
          "name": "stdout",
          "text": [
            "loss :  1156.9282710552216\n"
          ]
        },
        {
          "output_type": "stream",
          "name": "stderr",
          "text": [
            "\n",
            " 42%|████▏     | 238/569 [48:23<1:06:42, 12.09s/it]\u001b[A"
          ]
        },
        {
          "output_type": "stream",
          "name": "stdout",
          "text": [
            "loss :  1160.0784611701965\n"
          ]
        },
        {
          "output_type": "stream",
          "name": "stderr",
          "text": [
            "\n",
            " 42%|████▏     | 239/569 [48:35<1:07:00, 12.18s/it]\u001b[A"
          ]
        },
        {
          "output_type": "stream",
          "name": "stdout",
          "text": [
            "loss :  1163.4615705013275\n"
          ]
        },
        {
          "output_type": "stream",
          "name": "stderr",
          "text": [
            "\n",
            " 42%|████▏     | 240/569 [48:47<1:06:33, 12.14s/it]\u001b[A"
          ]
        },
        {
          "output_type": "stream",
          "name": "stdout",
          "text": [
            "loss :  1167.0001277923584\n"
          ]
        },
        {
          "output_type": "stream",
          "name": "stderr",
          "text": [
            "\n",
            " 42%|████▏     | 241/569 [48:59<1:06:09, 12.10s/it]\u001b[A"
          ]
        },
        {
          "output_type": "stream",
          "name": "stdout",
          "text": [
            "loss :  1170.239042520523\n"
          ]
        },
        {
          "output_type": "stream",
          "name": "stderr",
          "text": [
            "\n",
            " 43%|████▎     | 242/569 [49:12<1:06:51, 12.27s/it]\u001b[A"
          ]
        },
        {
          "output_type": "stream",
          "name": "stdout",
          "text": [
            "loss :  1173.3278760910034\n"
          ]
        },
        {
          "output_type": "stream",
          "name": "stderr",
          "text": [
            "\n",
            " 43%|████▎     | 243/569 [49:24<1:06:15, 12.19s/it]\u001b[A"
          ]
        },
        {
          "output_type": "stream",
          "name": "stdout",
          "text": [
            "loss :  1176.4000897407532\n"
          ]
        },
        {
          "output_type": "stream",
          "name": "stderr",
          "text": [
            "\n",
            " 43%|████▎     | 244/569 [49:37<1:06:37, 12.30s/it]\u001b[A"
          ]
        },
        {
          "output_type": "stream",
          "name": "stdout",
          "text": [
            "loss :  1179.5923972129822\n"
          ]
        },
        {
          "output_type": "stream",
          "name": "stderr",
          "text": [
            "\n",
            " 43%|████▎     | 245/569 [49:49<1:05:55, 12.21s/it]\u001b[A"
          ]
        },
        {
          "output_type": "stream",
          "name": "stdout",
          "text": [
            "loss :  1182.698178768158\n"
          ]
        },
        {
          "output_type": "stream",
          "name": "stderr",
          "text": [
            "\n",
            " 43%|████▎     | 246/569 [50:01<1:05:19, 12.13s/it]\u001b[A"
          ]
        },
        {
          "output_type": "stream",
          "name": "stdout",
          "text": [
            "loss :  1185.989327430725\n"
          ]
        },
        {
          "output_type": "stream",
          "name": "stderr",
          "text": [
            "\n",
            " 43%|████▎     | 247/569 [50:13<1:05:04, 12.13s/it]\u001b[A"
          ]
        },
        {
          "output_type": "stream",
          "name": "stdout",
          "text": [
            "loss :  1189.1733176708221\n"
          ]
        },
        {
          "output_type": "stream",
          "name": "stderr",
          "text": [
            "\n",
            " 44%|████▎     | 248/569 [50:25<1:04:48, 12.11s/it]\u001b[A"
          ]
        },
        {
          "output_type": "stream",
          "name": "stdout",
          "text": [
            "loss :  1192.3497750759125\n"
          ]
        },
        {
          "output_type": "stream",
          "name": "stderr",
          "text": [
            "\n",
            " 44%|████▍     | 249/569 [50:37<1:04:23, 12.07s/it]\u001b[A"
          ]
        },
        {
          "output_type": "stream",
          "name": "stdout",
          "text": [
            "loss :  1195.6222043037415\n"
          ]
        },
        {
          "output_type": "stream",
          "name": "stderr",
          "text": [
            "\n",
            " 44%|████▍     | 250/569 [50:49<1:04:25, 12.12s/it]\u001b[A"
          ]
        },
        {
          "output_type": "stream",
          "name": "stdout",
          "text": [
            "loss :  1198.7162692546844\n"
          ]
        },
        {
          "output_type": "stream",
          "name": "stderr",
          "text": [
            "\n",
            " 44%|████▍     | 251/569 [51:01<1:04:40, 12.20s/it]\u001b[A"
          ]
        },
        {
          "output_type": "stream",
          "name": "stdout",
          "text": [
            "loss :  1201.8686804771423\n"
          ]
        },
        {
          "output_type": "stream",
          "name": "stderr",
          "text": [
            "\n",
            " 44%|████▍     | 252/569 [51:13<1:04:18, 12.17s/it]\u001b[A"
          ]
        },
        {
          "output_type": "stream",
          "name": "stdout",
          "text": [
            "loss :  1204.7420082092285\n"
          ]
        },
        {
          "output_type": "stream",
          "name": "stderr",
          "text": [
            "\n",
            " 44%|████▍     | 253/569 [51:25<1:03:50, 12.12s/it]\u001b[A"
          ]
        },
        {
          "output_type": "stream",
          "name": "stdout",
          "text": [
            "loss :  1208.3897054195404\n"
          ]
        },
        {
          "output_type": "stream",
          "name": "stderr",
          "text": [
            "\n",
            " 45%|████▍     | 254/569 [51:38<1:03:38, 12.12s/it]\u001b[A"
          ]
        },
        {
          "output_type": "stream",
          "name": "stdout",
          "text": [
            "loss :  1211.3952248096466\n"
          ]
        },
        {
          "output_type": "stream",
          "name": "stderr",
          "text": [
            "\n",
            " 45%|████▍     | 255/569 [51:50<1:03:42, 12.17s/it]\u001b[A"
          ]
        },
        {
          "output_type": "stream",
          "name": "stdout",
          "text": [
            "loss :  1214.7261567115784\n"
          ]
        },
        {
          "output_type": "stream",
          "name": "stderr",
          "text": [
            "\n",
            " 45%|████▍     | 256/569 [52:02<1:03:25, 12.16s/it]\u001b[A"
          ]
        },
        {
          "output_type": "stream",
          "name": "stdout",
          "text": [
            "loss :  1218.0662169456482\n"
          ]
        },
        {
          "output_type": "stream",
          "name": "stderr",
          "text": [
            "\n",
            " 45%|████▌     | 257/569 [52:15<1:03:50, 12.28s/it]\u001b[A"
          ]
        },
        {
          "output_type": "stream",
          "name": "stdout",
          "text": [
            "loss :  1221.543632030487\n"
          ]
        },
        {
          "output_type": "stream",
          "name": "stderr",
          "text": [
            "\n",
            " 45%|████▌     | 258/569 [52:27<1:03:08, 12.18s/it]\u001b[A"
          ]
        },
        {
          "output_type": "stream",
          "name": "stdout",
          "text": [
            "loss :  1224.9378025531769\n"
          ]
        },
        {
          "output_type": "stream",
          "name": "stderr",
          "text": [
            "\n",
            " 46%|████▌     | 259/569 [52:39<1:03:18, 12.25s/it]\u001b[A"
          ]
        },
        {
          "output_type": "stream",
          "name": "stdout",
          "text": [
            "loss :  1228.3549711704254\n"
          ]
        },
        {
          "output_type": "stream",
          "name": "stderr",
          "text": [
            "\n",
            " 46%|████▌     | 260/569 [52:51<1:03:10, 12.27s/it]\u001b[A"
          ]
        },
        {
          "output_type": "stream",
          "name": "stdout",
          "text": [
            "loss :  1231.6233565807343\n"
          ]
        },
        {
          "output_type": "stream",
          "name": "stderr",
          "text": [
            "\n",
            " 46%|████▌     | 261/569 [53:03<1:02:49, 12.24s/it]\u001b[A"
          ]
        },
        {
          "output_type": "stream",
          "name": "stdout",
          "text": [
            "loss :  1234.8716847896576\n"
          ]
        },
        {
          "output_type": "stream",
          "name": "stderr",
          "text": [
            "\n",
            " 46%|████▌     | 262/569 [53:16<1:02:30, 12.22s/it]\u001b[A"
          ]
        },
        {
          "output_type": "stream",
          "name": "stdout",
          "text": [
            "loss :  1238.2113797664642\n"
          ]
        },
        {
          "output_type": "stream",
          "name": "stderr",
          "text": [
            "\n",
            " 46%|████▌     | 263/569 [53:28<1:01:57, 12.15s/it]\u001b[A"
          ]
        },
        {
          "output_type": "stream",
          "name": "stdout",
          "text": [
            "loss :  1241.223774433136\n"
          ]
        },
        {
          "output_type": "stream",
          "name": "stderr",
          "text": [
            "\n",
            " 46%|████▋     | 264/569 [53:40<1:01:33, 12.11s/it]\u001b[A"
          ]
        },
        {
          "output_type": "stream",
          "name": "stdout",
          "text": [
            "loss :  1244.5183908939362\n"
          ]
        },
        {
          "output_type": "stream",
          "name": "stderr",
          "text": [
            "\n",
            " 47%|████▋     | 265/569 [53:52<1:01:39, 12.17s/it]\u001b[A"
          ]
        },
        {
          "output_type": "stream",
          "name": "stdout",
          "text": [
            "loss :  1247.8986358642578\n"
          ]
        },
        {
          "output_type": "stream",
          "name": "stderr",
          "text": [
            "\n",
            " 47%|████▋     | 266/569 [54:04<1:01:20, 12.15s/it]\u001b[A"
          ]
        },
        {
          "output_type": "stream",
          "name": "stdout",
          "text": [
            "loss :  1251.0000431537628\n"
          ]
        },
        {
          "output_type": "stream",
          "name": "stderr",
          "text": [
            "\n",
            " 47%|████▋     | 267/569 [54:16<1:01:07, 12.15s/it]\u001b[A"
          ]
        },
        {
          "output_type": "stream",
          "name": "stdout",
          "text": [
            "loss :  1254.35591506958\n"
          ]
        },
        {
          "output_type": "stream",
          "name": "stderr",
          "text": [
            "\n",
            " 47%|████▋     | 268/569 [54:28<1:00:56, 12.15s/it]\u001b[A"
          ]
        },
        {
          "output_type": "stream",
          "name": "stdout",
          "text": [
            "loss :  1257.390661239624\n"
          ]
        },
        {
          "output_type": "stream",
          "name": "stderr",
          "text": [
            "\n",
            " 47%|████▋     | 269/569 [54:41<1:01:02, 12.21s/it]\u001b[A"
          ]
        },
        {
          "output_type": "stream",
          "name": "stdout",
          "text": [
            "loss :  1260.2385048866272\n"
          ]
        },
        {
          "output_type": "stream",
          "name": "stderr",
          "text": [
            "\n",
            " 47%|████▋     | 270/569 [54:53<1:01:13, 12.29s/it]\u001b[A"
          ]
        },
        {
          "output_type": "stream",
          "name": "stdout",
          "text": [
            "loss :  1263.2340309619904\n"
          ]
        },
        {
          "output_type": "stream",
          "name": "stderr",
          "text": [
            "\n",
            " 48%|████▊     | 271/569 [55:05<1:00:32, 12.19s/it]\u001b[A"
          ]
        },
        {
          "output_type": "stream",
          "name": "stdout",
          "text": [
            "loss :  1266.2792313098907\n"
          ]
        },
        {
          "output_type": "stream",
          "name": "stderr",
          "text": [
            "\n",
            " 48%|████▊     | 272/569 [55:17<59:55, 12.11s/it]  \u001b[A"
          ]
        },
        {
          "output_type": "stream",
          "name": "stdout",
          "text": [
            "loss :  1269.3374104499817\n"
          ]
        },
        {
          "output_type": "stream",
          "name": "stderr",
          "text": [
            "\n",
            " 48%|████▊     | 273/569 [55:29<59:46, 12.12s/it]\u001b[A"
          ]
        },
        {
          "output_type": "stream",
          "name": "stdout",
          "text": [
            "loss :  1272.607895374298\n"
          ]
        },
        {
          "output_type": "stream",
          "name": "stderr",
          "text": [
            "\n",
            " 48%|████▊     | 274/569 [55:42<1:00:21, 12.28s/it]\u001b[A"
          ]
        },
        {
          "output_type": "stream",
          "name": "stdout",
          "text": [
            "loss :  1275.9670689105988\n"
          ]
        },
        {
          "output_type": "stream",
          "name": "stderr",
          "text": [
            "\n",
            " 48%|████▊     | 275/569 [55:54<59:59, 12.24s/it]  \u001b[A"
          ]
        },
        {
          "output_type": "stream",
          "name": "stdout",
          "text": [
            "loss :  1279.3120284080505\n"
          ]
        },
        {
          "output_type": "stream",
          "name": "stderr",
          "text": [
            "\n",
            " 49%|████▊     | 276/569 [56:06<59:41, 12.22s/it]\u001b[A"
          ]
        },
        {
          "output_type": "stream",
          "name": "stdout",
          "text": [
            "loss :  1282.2833981513977\n"
          ]
        },
        {
          "output_type": "stream",
          "name": "stderr",
          "text": [
            "\n",
            " 49%|████▊     | 277/569 [56:18<59:22, 12.20s/it]\u001b[A"
          ]
        },
        {
          "output_type": "stream",
          "name": "stdout",
          "text": [
            "loss :  1285.458859205246\n"
          ]
        },
        {
          "output_type": "stream",
          "name": "stderr",
          "text": [
            "\n",
            " 49%|████▉     | 278/569 [56:31<59:35, 12.29s/it]\u001b[A"
          ]
        },
        {
          "output_type": "stream",
          "name": "stdout",
          "text": [
            "loss :  1288.8078067302704\n"
          ]
        },
        {
          "output_type": "stream",
          "name": "stderr",
          "text": [
            "\n",
            " 49%|████▉     | 279/569 [56:43<59:20, 12.28s/it]\u001b[A"
          ]
        },
        {
          "output_type": "stream",
          "name": "stdout",
          "text": [
            "loss :  1291.811749458313\n"
          ]
        },
        {
          "output_type": "stream",
          "name": "stderr",
          "text": [
            "\n",
            " 49%|████▉     | 280/569 [56:56<59:28, 12.35s/it]\u001b[A"
          ]
        },
        {
          "output_type": "stream",
          "name": "stdout",
          "text": [
            "loss :  1294.589772939682\n"
          ]
        },
        {
          "output_type": "stream",
          "name": "stderr",
          "text": [
            "\n",
            " 49%|████▉     | 281/569 [57:08<58:53, 12.27s/it]\u001b[A"
          ]
        },
        {
          "output_type": "stream",
          "name": "stdout",
          "text": [
            "loss :  1297.7733981609344\n"
          ]
        },
        {
          "output_type": "stream",
          "name": "stderr",
          "text": [
            "\n",
            " 50%|████▉     | 282/569 [57:20<58:11, 12.17s/it]\u001b[A"
          ]
        },
        {
          "output_type": "stream",
          "name": "stdout",
          "text": [
            "loss :  1301.1300628185272\n"
          ]
        },
        {
          "output_type": "stream",
          "name": "stderr",
          "text": [
            "\n",
            " 50%|████▉     | 283/569 [57:32<57:54, 12.15s/it]\u001b[A"
          ]
        },
        {
          "output_type": "stream",
          "name": "stdout",
          "text": [
            "loss :  1304.338092803955\n"
          ]
        },
        {
          "output_type": "stream",
          "name": "stderr",
          "text": [
            "\n",
            " 50%|████▉     | 284/569 [57:44<57:40, 12.14s/it]\u001b[A"
          ]
        },
        {
          "output_type": "stream",
          "name": "stdout",
          "text": [
            "loss :  1307.4911861419678\n"
          ]
        },
        {
          "output_type": "stream",
          "name": "stderr",
          "text": [
            "\n",
            " 50%|█████     | 285/569 [57:56<57:41, 12.19s/it]\u001b[A"
          ]
        },
        {
          "output_type": "stream",
          "name": "stdout",
          "text": [
            "loss :  1310.5167813301086\n"
          ]
        },
        {
          "output_type": "stream",
          "name": "stderr",
          "text": [
            "\n",
            " 50%|█████     | 286/569 [58:08<57:10, 12.12s/it]\u001b[A"
          ]
        },
        {
          "output_type": "stream",
          "name": "stdout",
          "text": [
            "loss :  1313.0990035533905\n"
          ]
        },
        {
          "output_type": "stream",
          "name": "stderr",
          "text": [
            "\n",
            " 50%|█████     | 287/569 [58:20<56:48, 12.09s/it]\u001b[A"
          ]
        },
        {
          "output_type": "stream",
          "name": "stdout",
          "text": [
            "loss :  1316.195639848709\n"
          ]
        },
        {
          "output_type": "stream",
          "name": "stderr",
          "text": [
            "\n",
            " 51%|█████     | 288/569 [58:32<56:38, 12.09s/it]\u001b[A"
          ]
        },
        {
          "output_type": "stream",
          "name": "stdout",
          "text": [
            "loss :  1319.1844758987427\n"
          ]
        },
        {
          "output_type": "stream",
          "name": "stderr",
          "text": [
            "\n",
            " 51%|█████     | 289/569 [58:44<56:28, 12.10s/it]\u001b[A"
          ]
        },
        {
          "output_type": "stream",
          "name": "stdout",
          "text": [
            "loss :  1322.4323241710663\n"
          ]
        },
        {
          "output_type": "stream",
          "name": "stderr",
          "text": [
            "\n",
            " 51%|█████     | 290/569 [58:57<56:38, 12.18s/it]\u001b[A"
          ]
        },
        {
          "output_type": "stream",
          "name": "stdout",
          "text": [
            "loss :  1325.5156841278076\n"
          ]
        },
        {
          "output_type": "stream",
          "name": "stderr",
          "text": [
            "\n",
            " 51%|█████     | 291/569 [59:09<56:05, 12.10s/it]\u001b[A"
          ]
        },
        {
          "output_type": "stream",
          "name": "stdout",
          "text": [
            "loss :  1328.6691355705261\n"
          ]
        },
        {
          "output_type": "stream",
          "name": "stderr",
          "text": [
            "\n",
            " 51%|█████▏    | 292/569 [59:21<55:54, 12.11s/it]\u001b[A"
          ]
        },
        {
          "output_type": "stream",
          "name": "stdout",
          "text": [
            "loss :  1332.0060799121857\n"
          ]
        },
        {
          "output_type": "stream",
          "name": "stderr",
          "text": [
            "\n",
            " 51%|█████▏    | 293/569 [59:33<55:36, 12.09s/it]\u001b[A"
          ]
        },
        {
          "output_type": "stream",
          "name": "stdout",
          "text": [
            "loss :  1335.1994225978851\n"
          ]
        },
        {
          "output_type": "stream",
          "name": "stderr",
          "text": [
            "\n",
            " 52%|█████▏    | 294/569 [59:45<55:33, 12.12s/it]\u001b[A"
          ]
        },
        {
          "output_type": "stream",
          "name": "stdout",
          "text": [
            "loss :  1338.4922060966492\n"
          ]
        },
        {
          "output_type": "stream",
          "name": "stderr",
          "text": [
            "\n",
            " 52%|█████▏    | 295/569 [59:57<55:19, 12.12s/it]\u001b[A"
          ]
        },
        {
          "output_type": "stream",
          "name": "stdout",
          "text": [
            "loss :  1341.7287366390228\n"
          ]
        },
        {
          "output_type": "stream",
          "name": "stderr",
          "text": [
            "\n",
            " 52%|█████▏    | 296/569 [1:00:09<55:18, 12.16s/it]\u001b[A"
          ]
        },
        {
          "output_type": "stream",
          "name": "stdout",
          "text": [
            "loss :  1344.5394613742828\n"
          ]
        },
        {
          "output_type": "stream",
          "name": "stderr",
          "text": [
            "\n",
            " 52%|█████▏    | 297/569 [1:00:21<55:00, 12.14s/it]\u001b[A"
          ]
        },
        {
          "output_type": "stream",
          "name": "stdout",
          "text": [
            "loss :  1348.0108013153076\n"
          ]
        },
        {
          "output_type": "stream",
          "name": "stderr",
          "text": [
            "\n",
            " 52%|█████▏    | 298/569 [1:00:34<55:04, 12.19s/it]\u001b[A"
          ]
        },
        {
          "output_type": "stream",
          "name": "stdout",
          "text": [
            "loss :  1351.3441648483276\n"
          ]
        },
        {
          "output_type": "stream",
          "name": "stderr",
          "text": [
            "\n",
            " 53%|█████▎    | 299/569 [1:00:46<54:38, 12.14s/it]\u001b[A"
          ]
        },
        {
          "output_type": "stream",
          "name": "stdout",
          "text": [
            "loss :  1354.3897154331207\n"
          ]
        },
        {
          "output_type": "stream",
          "name": "stderr",
          "text": [
            "\n",
            " 53%|█████▎    | 300/569 [1:00:58<54:15, 12.10s/it]\u001b[A"
          ]
        },
        {
          "output_type": "stream",
          "name": "stdout",
          "text": [
            "loss :  1357.6435313224792\n"
          ]
        },
        {
          "output_type": "stream",
          "name": "stderr",
          "text": [
            "\n",
            " 53%|█████▎    | 301/569 [1:01:10<53:56, 12.08s/it]\u001b[A"
          ]
        },
        {
          "output_type": "stream",
          "name": "stdout",
          "text": [
            "loss :  1361.2167508602142\n"
          ]
        },
        {
          "output_type": "stream",
          "name": "stderr",
          "text": [
            "\n",
            " 53%|█████▎    | 302/569 [1:01:22<53:50, 12.10s/it]\u001b[A"
          ]
        },
        {
          "output_type": "stream",
          "name": "stdout",
          "text": [
            "loss :  1364.504950761795\n"
          ]
        },
        {
          "output_type": "stream",
          "name": "stderr",
          "text": [
            "\n",
            " 53%|█████▎    | 303/569 [1:01:34<53:36, 12.09s/it]\u001b[A"
          ]
        },
        {
          "output_type": "stream",
          "name": "stdout",
          "text": [
            "loss :  1367.687838792801\n"
          ]
        },
        {
          "output_type": "stream",
          "name": "stderr",
          "text": [
            "\n",
            " 53%|█████▎    | 304/569 [1:01:46<53:14, 12.05s/it]\u001b[A"
          ]
        },
        {
          "output_type": "stream",
          "name": "stdout",
          "text": [
            "loss :  1370.8959484100342\n"
          ]
        },
        {
          "output_type": "stream",
          "name": "stderr",
          "text": [
            "\n",
            " 54%|█████▎    | 305/569 [1:01:58<53:08, 12.08s/it]\u001b[A"
          ]
        },
        {
          "output_type": "stream",
          "name": "stdout",
          "text": [
            "loss :  1374.336008310318\n"
          ]
        },
        {
          "output_type": "stream",
          "name": "stderr",
          "text": [
            "\n",
            " 54%|█████▍    | 306/569 [1:02:11<53:29, 12.20s/it]\u001b[A"
          ]
        },
        {
          "output_type": "stream",
          "name": "stdout",
          "text": [
            "loss :  1377.6187674999237\n"
          ]
        },
        {
          "output_type": "stream",
          "name": "stderr",
          "text": [
            "\n",
            " 54%|█████▍    | 307/569 [1:02:23<52:58, 12.13s/it]\u001b[A"
          ]
        },
        {
          "output_type": "stream",
          "name": "stdout",
          "text": [
            "loss :  1380.6461255550385\n"
          ]
        },
        {
          "output_type": "stream",
          "name": "stderr",
          "text": [
            "\n",
            " 54%|█████▍    | 308/569 [1:02:35<52:52, 12.16s/it]\u001b[A"
          ]
        },
        {
          "output_type": "stream",
          "name": "stdout",
          "text": [
            "loss :  1384.1553258895874\n"
          ]
        },
        {
          "output_type": "stream",
          "name": "stderr",
          "text": [
            "\n",
            " 54%|█████▍    | 309/569 [1:02:47<52:49, 12.19s/it]\u001b[A"
          ]
        },
        {
          "output_type": "stream",
          "name": "stdout",
          "text": [
            "loss :  1387.0848088264465\n"
          ]
        },
        {
          "output_type": "stream",
          "name": "stderr",
          "text": [
            "\n",
            " 54%|█████▍    | 310/569 [1:02:59<52:26, 12.15s/it]\u001b[A"
          ]
        },
        {
          "output_type": "stream",
          "name": "stdout",
          "text": [
            "loss :  1390.0900733470917\n"
          ]
        },
        {
          "output_type": "stream",
          "name": "stderr",
          "text": [
            "\n",
            " 55%|█████▍    | 311/569 [1:03:11<51:58, 12.09s/it]\u001b[A"
          ]
        },
        {
          "output_type": "stream",
          "name": "stdout",
          "text": [
            "loss :  1393.3934149742126\n"
          ]
        },
        {
          "output_type": "stream",
          "name": "stderr",
          "text": [
            "\n",
            " 55%|█████▍    | 312/569 [1:03:23<51:42, 12.07s/it]\u001b[A"
          ]
        },
        {
          "output_type": "stream",
          "name": "stdout",
          "text": [
            "loss :  1396.8389143943787\n"
          ]
        },
        {
          "output_type": "stream",
          "name": "stderr",
          "text": [
            "\n",
            " 55%|█████▌    | 313/569 [1:03:35<51:23, 12.04s/it]\u001b[A"
          ]
        },
        {
          "output_type": "stream",
          "name": "stdout",
          "text": [
            "loss :  1400.1410658359528\n"
          ]
        },
        {
          "output_type": "stream",
          "name": "stderr",
          "text": [
            "\n",
            " 55%|█████▌    | 314/569 [1:03:48<51:54, 12.21s/it]\u001b[A"
          ]
        },
        {
          "output_type": "stream",
          "name": "stdout",
          "text": [
            "loss :  1403.113897562027\n"
          ]
        },
        {
          "output_type": "stream",
          "name": "stderr",
          "text": [
            "\n",
            " 55%|█████▌    | 315/569 [1:04:00<51:31, 12.17s/it]\u001b[A"
          ]
        },
        {
          "output_type": "stream",
          "name": "stdout",
          "text": [
            "loss :  1406.263100385666\n"
          ]
        },
        {
          "output_type": "stream",
          "name": "stderr",
          "text": [
            "\n",
            " 56%|█████▌    | 316/569 [1:04:12<51:30, 12.22s/it]\u001b[A"
          ]
        },
        {
          "output_type": "stream",
          "name": "stdout",
          "text": [
            "loss :  1409.1750738620758\n"
          ]
        },
        {
          "output_type": "stream",
          "name": "stderr",
          "text": [
            "\n",
            " 56%|█████▌    | 317/569 [1:04:24<51:04, 12.16s/it]\u001b[A"
          ]
        },
        {
          "output_type": "stream",
          "name": "stdout",
          "text": [
            "loss :  1412.1766500473022\n"
          ]
        },
        {
          "output_type": "stream",
          "name": "stderr",
          "text": [
            "\n",
            " 56%|█████▌    | 318/569 [1:04:36<50:35, 12.10s/it]\u001b[A"
          ]
        },
        {
          "output_type": "stream",
          "name": "stdout",
          "text": [
            "loss :  1415.3702092170715\n"
          ]
        },
        {
          "output_type": "stream",
          "name": "stderr",
          "text": [
            "\n",
            " 56%|█████▌    | 319/569 [1:04:48<50:20, 12.08s/it]\u001b[A"
          ]
        },
        {
          "output_type": "stream",
          "name": "stdout",
          "text": [
            "loss :  1418.7818522453308\n"
          ]
        },
        {
          "output_type": "stream",
          "name": "stderr",
          "text": [
            "\n",
            " 56%|█████▌    | 320/569 [1:05:00<49:59, 12.05s/it]\u001b[A"
          ]
        },
        {
          "output_type": "stream",
          "name": "stdout",
          "text": [
            "loss :  1421.9073610305786\n"
          ]
        },
        {
          "output_type": "stream",
          "name": "stderr",
          "text": [
            "\n",
            " 56%|█████▋    | 321/569 [1:05:12<50:11, 12.14s/it]\u001b[A"
          ]
        },
        {
          "output_type": "stream",
          "name": "stdout",
          "text": [
            "loss :  1424.944773197174\n"
          ]
        },
        {
          "output_type": "stream",
          "name": "stderr",
          "text": [
            "\n",
            " 57%|█████▋    | 322/569 [1:05:24<49:51, 12.11s/it]\u001b[A"
          ]
        },
        {
          "output_type": "stream",
          "name": "stdout",
          "text": [
            "loss :  1427.917491197586\n"
          ]
        },
        {
          "output_type": "stream",
          "name": "stderr",
          "text": [
            "\n",
            " 57%|█████▋    | 323/569 [1:05:36<49:29, 12.07s/it]\u001b[A"
          ]
        },
        {
          "output_type": "stream",
          "name": "stdout",
          "text": [
            "loss :  1431.0473141670227\n"
          ]
        },
        {
          "output_type": "stream",
          "name": "stderr",
          "text": [
            "\n",
            " 57%|█████▋    | 324/569 [1:05:49<49:24, 12.10s/it]\u001b[A"
          ]
        },
        {
          "output_type": "stream",
          "name": "stdout",
          "text": [
            "loss :  1433.731044769287\n"
          ]
        },
        {
          "output_type": "stream",
          "name": "stderr",
          "text": [
            "\n",
            " 57%|█████▋    | 325/569 [1:06:01<49:14, 12.11s/it]\u001b[A"
          ]
        },
        {
          "output_type": "stream",
          "name": "stdout",
          "text": [
            "loss :  1436.5679280757904\n"
          ]
        },
        {
          "output_type": "stream",
          "name": "stderr",
          "text": [
            "\n",
            " 57%|█████▋    | 326/569 [1:06:13<49:05, 12.12s/it]\u001b[A"
          ]
        },
        {
          "output_type": "stream",
          "name": "stdout",
          "text": [
            "loss :  1439.610799074173\n"
          ]
        },
        {
          "output_type": "stream",
          "name": "stderr",
          "text": [
            "\n",
            " 57%|█████▋    | 327/569 [1:06:25<48:44, 12.08s/it]\u001b[A"
          ]
        },
        {
          "output_type": "stream",
          "name": "stdout",
          "text": [
            "loss :  1442.4828140735626\n"
          ]
        },
        {
          "output_type": "stream",
          "name": "stderr",
          "text": [
            "\n",
            " 58%|█████▊    | 328/569 [1:06:40<52:45, 13.14s/it]\u001b[A"
          ]
        },
        {
          "output_type": "stream",
          "name": "stdout",
          "text": [
            "loss :  1445.623140335083\n"
          ]
        },
        {
          "output_type": "stream",
          "name": "stderr",
          "text": [
            "\n",
            " 58%|█████▊    | 329/569 [1:06:56<55:28, 13.87s/it]\u001b[A"
          ]
        },
        {
          "output_type": "stream",
          "name": "stdout",
          "text": [
            "loss :  1448.783186674118\n"
          ]
        },
        {
          "output_type": "stream",
          "name": "stderr",
          "text": [
            "\n",
            " 58%|█████▊    | 330/569 [1:07:08<53:16, 13.37s/it]\u001b[A"
          ]
        },
        {
          "output_type": "stream",
          "name": "stdout",
          "text": [
            "loss :  1451.5105769634247\n"
          ]
        },
        {
          "output_type": "stream",
          "name": "stderr",
          "text": [
            "\n",
            " 58%|█████▊    | 331/569 [1:07:20<51:24, 12.96s/it]\u001b[A"
          ]
        },
        {
          "output_type": "stream",
          "name": "stdout",
          "text": [
            "loss :  1454.8086459636688\n"
          ]
        },
        {
          "output_type": "stream",
          "name": "stderr",
          "text": [
            "\n",
            " 58%|█████▊    | 332/569 [1:07:32<49:57, 12.65s/it]\u001b[A"
          ]
        },
        {
          "output_type": "stream",
          "name": "stdout",
          "text": [
            "loss :  1457.7865493297577\n"
          ]
        },
        {
          "output_type": "stream",
          "name": "stderr",
          "text": [
            "\n",
            " 59%|█████▊    | 333/569 [1:07:44<49:13, 12.51s/it]\u001b[A"
          ]
        },
        {
          "output_type": "stream",
          "name": "stdout",
          "text": [
            "loss :  1460.9319820404053\n"
          ]
        },
        {
          "output_type": "stream",
          "name": "stderr",
          "text": [
            "\n",
            " 59%|█████▊    | 334/569 [1:07:56<48:29, 12.38s/it]\u001b[A"
          ]
        },
        {
          "output_type": "stream",
          "name": "stdout",
          "text": [
            "loss :  1463.8494763374329\n"
          ]
        },
        {
          "output_type": "stream",
          "name": "stderr",
          "text": [
            "\n",
            " 59%|█████▉    | 335/569 [1:08:09<48:02, 12.32s/it]\u001b[A"
          ]
        },
        {
          "output_type": "stream",
          "name": "stdout",
          "text": [
            "loss :  1466.8469641208649\n"
          ]
        },
        {
          "output_type": "stream",
          "name": "stderr",
          "text": [
            "\n",
            " 59%|█████▉    | 336/569 [1:08:20<47:18, 12.18s/it]\u001b[A"
          ]
        },
        {
          "output_type": "stream",
          "name": "stdout",
          "text": [
            "loss :  1469.9971928596497\n"
          ]
        },
        {
          "output_type": "stream",
          "name": "stderr",
          "text": [
            "\n",
            " 59%|█████▉    | 337/569 [1:08:32<46:53, 12.13s/it]\u001b[A"
          ]
        },
        {
          "output_type": "stream",
          "name": "stdout",
          "text": [
            "loss :  1473.0423986911774\n"
          ]
        },
        {
          "output_type": "stream",
          "name": "stderr",
          "text": [
            "\n",
            " 59%|█████▉    | 338/569 [1:08:44<46:26, 12.06s/it]\u001b[A"
          ]
        },
        {
          "output_type": "stream",
          "name": "stdout",
          "text": [
            "loss :  1476.0870609283447\n"
          ]
        },
        {
          "output_type": "stream",
          "name": "stderr",
          "text": [
            "\n",
            " 60%|█████▉    | 339/569 [1:08:57<46:41, 12.18s/it]\u001b[A"
          ]
        },
        {
          "output_type": "stream",
          "name": "stdout",
          "text": [
            "loss :  1479.0774495601654\n"
          ]
        },
        {
          "output_type": "stream",
          "name": "stderr",
          "text": [
            "\n",
            " 60%|█████▉    | 340/569 [1:09:09<46:26, 12.17s/it]\u001b[A"
          ]
        },
        {
          "output_type": "stream",
          "name": "stdout",
          "text": [
            "loss :  1482.0607340335846\n"
          ]
        },
        {
          "output_type": "stream",
          "name": "stderr",
          "text": [
            "\n",
            " 60%|█████▉    | 341/569 [1:09:21<46:11, 12.16s/it]\u001b[A"
          ]
        },
        {
          "output_type": "stream",
          "name": "stdout",
          "text": [
            "loss :  1485.5703523159027\n"
          ]
        },
        {
          "output_type": "stream",
          "name": "stderr",
          "text": [
            "\n",
            " 60%|██████    | 342/569 [1:09:33<45:43, 12.08s/it]\u001b[A"
          ]
        },
        {
          "output_type": "stream",
          "name": "stdout",
          "text": [
            "loss :  1488.776504278183\n"
          ]
        },
        {
          "output_type": "stream",
          "name": "stderr",
          "text": [
            "\n",
            " 60%|██████    | 343/569 [1:09:45<45:28, 12.07s/it]\u001b[A"
          ]
        },
        {
          "output_type": "stream",
          "name": "stdout",
          "text": [
            "loss :  1491.679358959198\n"
          ]
        },
        {
          "output_type": "stream",
          "name": "stderr",
          "text": [
            "\n",
            " 60%|██████    | 344/569 [1:09:57<45:15, 12.07s/it]\u001b[A"
          ]
        },
        {
          "output_type": "stream",
          "name": "stdout",
          "text": [
            "loss :  1494.7355198860168\n"
          ]
        },
        {
          "output_type": "stream",
          "name": "stderr",
          "text": [
            "\n",
            " 61%|██████    | 345/569 [1:10:09<45:07, 12.09s/it]\u001b[A"
          ]
        },
        {
          "output_type": "stream",
          "name": "stdout",
          "text": [
            "loss :  1498.0530352592468\n"
          ]
        },
        {
          "output_type": "stream",
          "name": "stderr",
          "text": [
            "\n",
            " 61%|██████    | 346/569 [1:10:21<44:52, 12.07s/it]\u001b[A"
          ]
        },
        {
          "output_type": "stream",
          "name": "stdout",
          "text": [
            "loss :  1500.8157498836517\n"
          ]
        },
        {
          "output_type": "stream",
          "name": "stderr",
          "text": [
            "\n",
            " 61%|██████    | 347/569 [1:10:33<44:39, 12.07s/it]\u001b[A"
          ]
        },
        {
          "output_type": "stream",
          "name": "stdout",
          "text": [
            "loss :  1504.0142705440521\n"
          ]
        },
        {
          "output_type": "stream",
          "name": "stderr",
          "text": [
            "\n",
            " 61%|██████    | 348/569 [1:10:45<44:30, 12.08s/it]\u001b[A"
          ]
        },
        {
          "output_type": "stream",
          "name": "stdout",
          "text": [
            "loss :  1507.051989555359\n"
          ]
        },
        {
          "output_type": "stream",
          "name": "stderr",
          "text": [
            "\n",
            " 61%|██████▏   | 349/569 [1:10:58<44:48, 12.22s/it]\u001b[A"
          ]
        },
        {
          "output_type": "stream",
          "name": "stdout",
          "text": [
            "loss :  1510.141135931015\n"
          ]
        },
        {
          "output_type": "stream",
          "name": "stderr",
          "text": [
            "\n",
            " 62%|██████▏   | 350/569 [1:11:10<44:47, 12.27s/it]\u001b[A"
          ]
        },
        {
          "output_type": "stream",
          "name": "stdout",
          "text": [
            "loss :  1512.979241847992\n"
          ]
        },
        {
          "output_type": "stream",
          "name": "stderr",
          "text": [
            "\n",
            " 62%|██████▏   | 351/569 [1:11:22<44:13, 12.17s/it]\u001b[A"
          ]
        },
        {
          "output_type": "stream",
          "name": "stdout",
          "text": [
            "loss :  1516.0180261135101\n"
          ]
        },
        {
          "output_type": "stream",
          "name": "stderr",
          "text": [
            "\n",
            " 62%|██████▏   | 352/569 [1:11:35<44:17, 12.25s/it]\u001b[A"
          ]
        },
        {
          "output_type": "stream",
          "name": "stdout",
          "text": [
            "loss :  1518.850664615631\n"
          ]
        },
        {
          "output_type": "stream",
          "name": "stderr",
          "text": [
            "\n",
            " 62%|██████▏   | 353/569 [1:11:47<43:53, 12.19s/it]\u001b[A"
          ]
        },
        {
          "output_type": "stream",
          "name": "stdout",
          "text": [
            "loss :  1521.6009879112244\n"
          ]
        },
        {
          "output_type": "stream",
          "name": "stderr",
          "text": [
            "\n",
            " 62%|██████▏   | 354/569 [1:11:59<43:34, 12.16s/it]\u001b[A"
          ]
        },
        {
          "output_type": "stream",
          "name": "stdout",
          "text": [
            "loss :  1524.628378868103\n"
          ]
        },
        {
          "output_type": "stream",
          "name": "stderr",
          "text": [
            "\n",
            " 62%|██████▏   | 355/569 [1:12:11<43:19, 12.15s/it]\u001b[A"
          ]
        },
        {
          "output_type": "stream",
          "name": "stdout",
          "text": [
            "loss :  1527.6776034832\n"
          ]
        },
        {
          "output_type": "stream",
          "name": "stderr",
          "text": [
            "\n",
            " 63%|██████▎   | 356/569 [1:12:24<43:29, 12.25s/it]\u001b[A"
          ]
        },
        {
          "output_type": "stream",
          "name": "stdout",
          "text": [
            "loss :  1530.8777468204498\n"
          ]
        },
        {
          "output_type": "stream",
          "name": "stderr",
          "text": [
            "\n",
            " 63%|██████▎   | 357/569 [1:12:36<43:07, 12.21s/it]\u001b[A"
          ]
        },
        {
          "output_type": "stream",
          "name": "stdout",
          "text": [
            "loss :  1534.1149549484253\n"
          ]
        },
        {
          "output_type": "stream",
          "name": "stderr",
          "text": [
            "\n",
            " 63%|██████▎   | 358/569 [1:12:48<42:52, 12.19s/it]\u001b[A"
          ]
        },
        {
          "output_type": "stream",
          "name": "stdout",
          "text": [
            "loss :  1536.7194695472717\n"
          ]
        },
        {
          "output_type": "stream",
          "name": "stderr",
          "text": [
            "\n",
            " 63%|██████▎   | 359/569 [1:13:00<42:32, 12.15s/it]\u001b[A"
          ]
        },
        {
          "output_type": "stream",
          "name": "stdout",
          "text": [
            "loss :  1539.9855983257294\n"
          ]
        },
        {
          "output_type": "stream",
          "name": "stderr",
          "text": [
            "\n",
            " 63%|██████▎   | 360/569 [1:13:12<42:16, 12.13s/it]\u001b[A"
          ]
        },
        {
          "output_type": "stream",
          "name": "stdout",
          "text": [
            "loss :  1543.1886126995087\n"
          ]
        },
        {
          "output_type": "stream",
          "name": "stderr",
          "text": [
            "\n",
            " 63%|██████▎   | 361/569 [1:13:24<41:52, 12.08s/it]\u001b[A"
          ]
        },
        {
          "output_type": "stream",
          "name": "stdout",
          "text": [
            "loss :  1546.3044290542603\n"
          ]
        },
        {
          "output_type": "stream",
          "name": "stderr",
          "text": [
            "\n",
            " 64%|██████▎   | 362/569 [1:13:36<41:49, 12.12s/it]\u001b[A"
          ]
        },
        {
          "output_type": "stream",
          "name": "stdout",
          "text": [
            "loss :  1549.4191982746124\n"
          ]
        },
        {
          "output_type": "stream",
          "name": "stderr",
          "text": [
            "\n",
            " 64%|██████▍   | 363/569 [1:13:48<41:47, 12.17s/it]\u001b[A"
          ]
        },
        {
          "output_type": "stream",
          "name": "stdout",
          "text": [
            "loss :  1552.1947736740112\n"
          ]
        },
        {
          "output_type": "stream",
          "name": "stderr",
          "text": [
            "\n",
            " 64%|██████▍   | 364/569 [1:14:01<41:40, 12.20s/it]\u001b[A"
          ]
        },
        {
          "output_type": "stream",
          "name": "stdout",
          "text": [
            "loss :  1555.1703810691833\n"
          ]
        },
        {
          "output_type": "stream",
          "name": "stderr",
          "text": [
            "\n",
            " 64%|██████▍   | 365/569 [1:14:13<41:21, 12.17s/it]\u001b[A"
          ]
        },
        {
          "output_type": "stream",
          "name": "stdout",
          "text": [
            "loss :  1558.492074251175\n"
          ]
        },
        {
          "output_type": "stream",
          "name": "stderr",
          "text": [
            "\n",
            " 64%|██████▍   | 366/569 [1:14:25<40:58, 12.11s/it]\u001b[A"
          ]
        },
        {
          "output_type": "stream",
          "name": "stdout",
          "text": [
            "loss :  1561.3323202133179\n"
          ]
        },
        {
          "output_type": "stream",
          "name": "stderr",
          "text": [
            "\n",
            " 64%|██████▍   | 367/569 [1:14:37<41:02, 12.19s/it]\u001b[A"
          ]
        },
        {
          "output_type": "stream",
          "name": "stdout",
          "text": [
            "loss :  1564.274199962616\n"
          ]
        },
        {
          "output_type": "stream",
          "name": "stderr",
          "text": [
            "\n",
            " 65%|██████▍   | 368/569 [1:14:50<41:04, 12.26s/it]\u001b[A"
          ]
        },
        {
          "output_type": "stream",
          "name": "stdout",
          "text": [
            "loss :  1567.2015521526337\n"
          ]
        },
        {
          "output_type": "stream",
          "name": "stderr",
          "text": [
            "\n",
            " 65%|██████▍   | 369/569 [1:15:02<40:49, 12.25s/it]\u001b[A"
          ]
        },
        {
          "output_type": "stream",
          "name": "stdout",
          "text": [
            "loss :  1569.911946773529\n"
          ]
        },
        {
          "output_type": "stream",
          "name": "stderr",
          "text": [
            "\n",
            " 65%|██████▌   | 370/569 [1:15:14<40:21, 12.17s/it]\u001b[A"
          ]
        },
        {
          "output_type": "stream",
          "name": "stdout",
          "text": [
            "loss :  1573.1294474601746\n"
          ]
        },
        {
          "output_type": "stream",
          "name": "stderr",
          "text": [
            "\n",
            " 65%|██████▌   | 371/569 [1:15:26<40:18, 12.22s/it]\u001b[A"
          ]
        },
        {
          "output_type": "stream",
          "name": "stdout",
          "text": [
            "loss :  1576.0688762664795\n"
          ]
        },
        {
          "output_type": "stream",
          "name": "stderr",
          "text": [
            "\n",
            " 65%|██████▌   | 372/569 [1:15:38<40:01, 12.19s/it]\u001b[A"
          ]
        },
        {
          "output_type": "stream",
          "name": "stdout",
          "text": [
            "loss :  1579.1066598892212\n"
          ]
        },
        {
          "output_type": "stream",
          "name": "stderr",
          "text": [
            "\n",
            " 66%|██████▌   | 373/569 [1:15:51<39:56, 12.23s/it]\u001b[A"
          ]
        },
        {
          "output_type": "stream",
          "name": "stdout",
          "text": [
            "loss :  1582.2762730121613\n"
          ]
        },
        {
          "output_type": "stream",
          "name": "stderr",
          "text": [
            "\n",
            " 66%|██████▌   | 374/569 [1:16:02<39:26, 12.14s/it]\u001b[A"
          ]
        },
        {
          "output_type": "stream",
          "name": "stdout",
          "text": [
            "loss :  1585.5587542057037\n"
          ]
        },
        {
          "output_type": "stream",
          "name": "stderr",
          "text": [
            "\n",
            " 66%|██████▌   | 375/569 [1:16:14<39:05, 12.09s/it]\u001b[A"
          ]
        },
        {
          "output_type": "stream",
          "name": "stdout",
          "text": [
            "loss :  1588.5145597457886\n"
          ]
        },
        {
          "output_type": "stream",
          "name": "stderr",
          "text": [
            "\n",
            " 66%|██████▌   | 376/569 [1:16:26<38:51, 12.08s/it]\u001b[A"
          ]
        },
        {
          "output_type": "stream",
          "name": "stdout",
          "text": [
            "loss :  1591.8446037769318\n"
          ]
        },
        {
          "output_type": "stream",
          "name": "stderr",
          "text": [
            "\n",
            " 66%|██████▋   | 377/569 [1:16:39<38:40, 12.09s/it]\u001b[A"
          ]
        },
        {
          "output_type": "stream",
          "name": "stdout",
          "text": [
            "loss :  1595.0189936161041\n"
          ]
        },
        {
          "output_type": "stream",
          "name": "stderr",
          "text": [
            "\n",
            " 66%|██████▋   | 378/569 [1:16:51<38:24, 12.06s/it]\u001b[A"
          ]
        },
        {
          "output_type": "stream",
          "name": "stdout",
          "text": [
            "loss :  1598.1628136634827\n"
          ]
        },
        {
          "output_type": "stream",
          "name": "stderr",
          "text": [
            "\n",
            " 67%|██████▋   | 379/569 [1:17:03<38:34, 12.18s/it]\u001b[A"
          ]
        },
        {
          "output_type": "stream",
          "name": "stdout",
          "text": [
            "loss :  1601.3342077732086\n"
          ]
        },
        {
          "output_type": "stream",
          "name": "stderr",
          "text": [
            "\n",
            " 67%|██████▋   | 380/569 [1:17:15<38:12, 12.13s/it]\u001b[A"
          ]
        },
        {
          "output_type": "stream",
          "name": "stdout",
          "text": [
            "loss :  1604.2626762390137\n"
          ]
        },
        {
          "output_type": "stream",
          "name": "stderr",
          "text": [
            "\n",
            " 67%|██████▋   | 381/569 [1:17:27<38:10, 12.18s/it]\u001b[A"
          ]
        },
        {
          "output_type": "stream",
          "name": "stdout",
          "text": [
            "loss :  1607.7476687431335\n"
          ]
        },
        {
          "output_type": "stream",
          "name": "stderr",
          "text": [
            "\n",
            " 67%|██████▋   | 382/569 [1:17:40<38:01, 12.20s/it]\u001b[A"
          ]
        },
        {
          "output_type": "stream",
          "name": "stdout",
          "text": [
            "loss :  1610.838098526001\n"
          ]
        },
        {
          "output_type": "stream",
          "name": "stderr",
          "text": [
            "\n",
            " 67%|██████▋   | 383/569 [1:17:52<37:39, 12.15s/it]\u001b[A"
          ]
        },
        {
          "output_type": "stream",
          "name": "stdout",
          "text": [
            "loss :  1613.731972694397\n"
          ]
        },
        {
          "output_type": "stream",
          "name": "stderr",
          "text": [
            "\n",
            " 67%|██████▋   | 384/569 [1:18:04<37:25, 12.14s/it]\u001b[A"
          ]
        },
        {
          "output_type": "stream",
          "name": "stdout",
          "text": [
            "loss :  1616.6796443462372\n"
          ]
        },
        {
          "output_type": "stream",
          "name": "stderr",
          "text": [
            "\n",
            " 68%|██████▊   | 385/569 [1:18:16<37:05, 12.09s/it]\u001b[A"
          ]
        },
        {
          "output_type": "stream",
          "name": "stdout",
          "text": [
            "loss :  1619.7487206459045\n"
          ]
        },
        {
          "output_type": "stream",
          "name": "stderr",
          "text": [
            "\n",
            " 68%|██████▊   | 386/569 [1:18:28<36:52, 12.09s/it]\u001b[A"
          ]
        },
        {
          "output_type": "stream",
          "name": "stdout",
          "text": [
            "loss :  1622.6944108009338\n"
          ]
        },
        {
          "output_type": "stream",
          "name": "stderr",
          "text": [
            "\n",
            " 68%|██████▊   | 387/569 [1:18:44<39:59, 13.19s/it]\u001b[A"
          ]
        },
        {
          "output_type": "stream",
          "name": "stdout",
          "text": [
            "loss :  1625.4773335456848\n"
          ]
        },
        {
          "output_type": "stream",
          "name": "stderr",
          "text": [
            "\n",
            " 68%|██████▊   | 388/569 [1:18:56<38:54, 12.90s/it]\u001b[A"
          ]
        },
        {
          "output_type": "stream",
          "name": "stdout",
          "text": [
            "loss :  1628.6790680885315\n"
          ]
        },
        {
          "output_type": "stream",
          "name": "stderr",
          "text": [
            "\n",
            " 68%|██████▊   | 389/569 [1:19:08<38:05, 12.69s/it]\u001b[A"
          ]
        },
        {
          "output_type": "stream",
          "name": "stdout",
          "text": [
            "loss :  1631.6484906673431\n"
          ]
        },
        {
          "output_type": "stream",
          "name": "stderr",
          "text": [
            "\n",
            " 69%|██████▊   | 390/569 [1:19:20<37:26, 12.55s/it]\u001b[A"
          ]
        },
        {
          "output_type": "stream",
          "name": "stdout",
          "text": [
            "loss :  1634.6477913856506\n"
          ]
        },
        {
          "output_type": "stream",
          "name": "stderr",
          "text": [
            "\n",
            " 69%|██████▊   | 391/569 [1:19:32<36:45, 12.39s/it]\u001b[A"
          ]
        },
        {
          "output_type": "stream",
          "name": "stdout",
          "text": [
            "loss :  1637.8866665363312\n"
          ]
        },
        {
          "output_type": "stream",
          "name": "stderr",
          "text": [
            "\n",
            " 69%|██████▉   | 392/569 [1:19:44<36:11, 12.27s/it]\u001b[A"
          ]
        },
        {
          "output_type": "stream",
          "name": "stdout",
          "text": [
            "loss :  1640.8519501686096\n"
          ]
        },
        {
          "output_type": "stream",
          "name": "stderr",
          "text": [
            "\n",
            " 69%|██████▉   | 393/569 [1:19:56<35:53, 12.24s/it]\u001b[A"
          ]
        },
        {
          "output_type": "stream",
          "name": "stdout",
          "text": [
            "loss :  1643.737939119339\n"
          ]
        },
        {
          "output_type": "stream",
          "name": "stderr",
          "text": [
            "\n",
            " 69%|██████▉   | 394/569 [1:20:08<35:26, 12.15s/it]\u001b[A"
          ]
        },
        {
          "output_type": "stream",
          "name": "stdout",
          "text": [
            "loss :  1646.4123969078064\n"
          ]
        },
        {
          "output_type": "stream",
          "name": "stderr",
          "text": [
            "\n",
            " 69%|██████▉   | 395/569 [1:20:20<35:01, 12.08s/it]\u001b[A"
          ]
        },
        {
          "output_type": "stream",
          "name": "stdout",
          "text": [
            "loss :  1649.6267228126526\n"
          ]
        },
        {
          "output_type": "stream",
          "name": "stderr",
          "text": [
            "\n",
            " 70%|██████▉   | 396/569 [1:20:32<34:36, 12.00s/it]\u001b[A"
          ]
        },
        {
          "output_type": "stream",
          "name": "stdout",
          "text": [
            "loss :  1652.5144610404968\n"
          ]
        },
        {
          "output_type": "stream",
          "name": "stderr",
          "text": [
            "\n",
            " 70%|██████▉   | 397/569 [1:20:44<34:20, 11.98s/it]\u001b[A"
          ]
        },
        {
          "output_type": "stream",
          "name": "stdout",
          "text": [
            "loss :  1655.7244865894318\n"
          ]
        },
        {
          "output_type": "stream",
          "name": "stderr",
          "text": [
            "\n",
            " 70%|██████▉   | 398/569 [1:20:56<34:16, 12.03s/it]\u001b[A"
          ]
        },
        {
          "output_type": "stream",
          "name": "stdout",
          "text": [
            "loss :  1658.5769510269165\n"
          ]
        },
        {
          "output_type": "stream",
          "name": "stderr",
          "text": [
            "\n",
            " 70%|███████   | 399/569 [1:21:08<34:21, 12.13s/it]\u001b[A"
          ]
        },
        {
          "output_type": "stream",
          "name": "stdout",
          "text": [
            "loss :  1661.492449760437\n"
          ]
        },
        {
          "output_type": "stream",
          "name": "stderr",
          "text": [
            "\n",
            " 70%|███████   | 400/569 [1:21:20<33:59, 12.07s/it]\u001b[A"
          ]
        },
        {
          "output_type": "stream",
          "name": "stdout",
          "text": [
            "loss :  1664.3733837604523\n"
          ]
        },
        {
          "output_type": "stream",
          "name": "stderr",
          "text": [
            "\n",
            " 70%|███████   | 401/569 [1:21:33<33:51, 12.09s/it]\u001b[A"
          ]
        },
        {
          "output_type": "stream",
          "name": "stdout",
          "text": [
            "loss :  1667.0728051662445\n"
          ]
        },
        {
          "output_type": "stream",
          "name": "stderr",
          "text": [
            "\n",
            " 71%|███████   | 402/569 [1:21:45<33:38, 12.09s/it]\u001b[A"
          ]
        },
        {
          "output_type": "stream",
          "name": "stdout",
          "text": [
            "loss :  1670.4903783798218\n"
          ]
        },
        {
          "output_type": "stream",
          "name": "stderr",
          "text": [
            "\n",
            " 71%|███████   | 403/569 [1:21:57<33:53, 12.25s/it]\u001b[A"
          ]
        },
        {
          "output_type": "stream",
          "name": "stdout",
          "text": [
            "loss :  1673.7666907310486\n"
          ]
        },
        {
          "output_type": "stream",
          "name": "stderr",
          "text": [
            "\n",
            " 71%|███████   | 404/569 [1:22:09<33:34, 12.21s/it]\u001b[A"
          ]
        },
        {
          "output_type": "stream",
          "name": "stdout",
          "text": [
            "loss :  1676.3630814552307\n"
          ]
        },
        {
          "output_type": "stream",
          "name": "stderr",
          "text": [
            "\n",
            " 71%|███████   | 405/569 [1:22:22<33:19, 12.19s/it]\u001b[A"
          ]
        },
        {
          "output_type": "stream",
          "name": "stdout",
          "text": [
            "loss :  1679.1053116321564\n"
          ]
        },
        {
          "output_type": "stream",
          "name": "stderr",
          "text": [
            "\n",
            " 71%|███████▏  | 406/569 [1:22:34<33:09, 12.20s/it]\u001b[A"
          ]
        },
        {
          "output_type": "stream",
          "name": "stdout",
          "text": [
            "loss :  1681.8259029388428\n"
          ]
        },
        {
          "output_type": "stream",
          "name": "stderr",
          "text": [
            "\n",
            " 72%|███████▏  | 407/569 [1:22:47<33:29, 12.40s/it]\u001b[A"
          ]
        },
        {
          "output_type": "stream",
          "name": "stdout",
          "text": [
            "loss :  1685.2026844024658\n"
          ]
        },
        {
          "output_type": "stream",
          "name": "stderr",
          "text": [
            "\n",
            " 72%|███████▏  | 408/569 [1:22:59<32:56, 12.27s/it]\u001b[A"
          ]
        },
        {
          "output_type": "stream",
          "name": "stdout",
          "text": [
            "loss :  1688.0062510967255\n"
          ]
        },
        {
          "output_type": "stream",
          "name": "stderr",
          "text": [
            "\n",
            " 72%|███████▏  | 409/569 [1:23:11<32:36, 12.23s/it]\u001b[A"
          ]
        },
        {
          "output_type": "stream",
          "name": "stdout",
          "text": [
            "loss :  1690.731591463089\n"
          ]
        },
        {
          "output_type": "stream",
          "name": "stderr",
          "text": [
            "\n",
            " 72%|███████▏  | 410/569 [1:23:23<32:33, 12.29s/it]\u001b[A"
          ]
        },
        {
          "output_type": "stream",
          "name": "stdout",
          "text": [
            "loss :  1693.8697323799133\n"
          ]
        },
        {
          "output_type": "stream",
          "name": "stderr",
          "text": [
            "\n",
            " 72%|███████▏  | 411/569 [1:23:36<32:29, 12.34s/it]\u001b[A"
          ]
        },
        {
          "output_type": "stream",
          "name": "stdout",
          "text": [
            "loss :  1696.8726835250854\n"
          ]
        },
        {
          "output_type": "stream",
          "name": "stderr",
          "text": [
            "\n",
            " 72%|███████▏  | 412/569 [1:23:48<32:05, 12.26s/it]\u001b[A"
          ]
        },
        {
          "output_type": "stream",
          "name": "stdout",
          "text": [
            "loss :  1699.5889449119568\n"
          ]
        },
        {
          "output_type": "stream",
          "name": "stderr",
          "text": [
            "\n",
            " 73%|███████▎  | 413/569 [1:24:03<34:23, 13.23s/it]\u001b[A"
          ]
        },
        {
          "output_type": "stream",
          "name": "stdout",
          "text": [
            "loss :  1702.7110476493835\n"
          ]
        },
        {
          "output_type": "stream",
          "name": "stderr",
          "text": [
            "\n",
            " 73%|███████▎  | 414/569 [1:24:19<35:49, 13.87s/it]\u001b[A"
          ]
        },
        {
          "output_type": "stream",
          "name": "stdout",
          "text": [
            "loss :  1705.6695873737335\n"
          ]
        },
        {
          "output_type": "stream",
          "name": "stderr",
          "text": [
            "\n",
            " 73%|███████▎  | 415/569 [1:24:31<34:22, 13.39s/it]\u001b[A"
          ]
        },
        {
          "output_type": "stream",
          "name": "stdout",
          "text": [
            "loss :  1708.9378559589386\n"
          ]
        },
        {
          "output_type": "stream",
          "name": "stderr",
          "text": [
            "\n",
            " 73%|███████▎  | 416/569 [1:24:43<33:09, 13.00s/it]\u001b[A"
          ]
        },
        {
          "output_type": "stream",
          "name": "stdout",
          "text": [
            "loss :  1712.1277787685394\n"
          ]
        },
        {
          "output_type": "stream",
          "name": "stderr",
          "text": [
            "\n",
            " 73%|███████▎  | 417/569 [1:24:55<32:07, 12.68s/it]\u001b[A"
          ]
        },
        {
          "output_type": "stream",
          "name": "stdout",
          "text": [
            "loss :  1715.2168068885803\n"
          ]
        },
        {
          "output_type": "stream",
          "name": "stderr",
          "text": [
            "\n",
            " 73%|███████▎  | 418/569 [1:25:07<31:23, 12.48s/it]\u001b[A"
          ]
        },
        {
          "output_type": "stream",
          "name": "stdout",
          "text": [
            "loss :  1718.306287765503\n"
          ]
        },
        {
          "output_type": "stream",
          "name": "stderr",
          "text": [
            "\n",
            " 74%|███████▎  | 419/569 [1:25:19<31:03, 12.42s/it]\u001b[A"
          ]
        },
        {
          "output_type": "stream",
          "name": "stdout",
          "text": [
            "loss :  1721.705152273178\n"
          ]
        },
        {
          "output_type": "stream",
          "name": "stderr",
          "text": [
            "\n",
            " 74%|███████▍  | 420/569 [1:25:31<30:32, 12.30s/it]\u001b[A"
          ]
        },
        {
          "output_type": "stream",
          "name": "stdout",
          "text": [
            "loss :  1724.6928310394287\n"
          ]
        },
        {
          "output_type": "stream",
          "name": "stderr",
          "text": [
            "\n",
            " 74%|███████▍  | 421/569 [1:25:43<30:05, 12.20s/it]\u001b[A"
          ]
        },
        {
          "output_type": "stream",
          "name": "stdout",
          "text": [
            "loss :  1728.1859412193298\n"
          ]
        },
        {
          "output_type": "stream",
          "name": "stderr",
          "text": [
            "\n",
            " 74%|███████▍  | 422/569 [1:25:55<29:38, 12.10s/it]\u001b[A"
          ]
        },
        {
          "output_type": "stream",
          "name": "stdout",
          "text": [
            "loss :  1730.8688914775848\n"
          ]
        },
        {
          "output_type": "stream",
          "name": "stderr",
          "text": [
            "\n",
            " 74%|███████▍  | 423/569 [1:26:07<29:24, 12.08s/it]\u001b[A"
          ]
        },
        {
          "output_type": "stream",
          "name": "stdout",
          "text": [
            "loss :  1733.720978975296\n"
          ]
        },
        {
          "output_type": "stream",
          "name": "stderr",
          "text": [
            "\n",
            " 75%|███████▍  | 424/569 [1:26:19<29:13, 12.09s/it]\u001b[A"
          ]
        },
        {
          "output_type": "stream",
          "name": "stdout",
          "text": [
            "loss :  1736.7784373760223\n"
          ]
        },
        {
          "output_type": "stream",
          "name": "stderr",
          "text": [
            "\n",
            " 75%|███████▍  | 425/569 [1:26:31<28:51, 12.02s/it]\u001b[A"
          ]
        },
        {
          "output_type": "stream",
          "name": "stdout",
          "text": [
            "loss :  1739.8396389484406\n"
          ]
        },
        {
          "output_type": "stream",
          "name": "stderr",
          "text": [
            "\n",
            " 75%|███████▍  | 426/569 [1:26:43<28:33, 11.98s/it]\u001b[A"
          ]
        },
        {
          "output_type": "stream",
          "name": "stdout",
          "text": [
            "loss :  1742.5556774139404\n"
          ]
        },
        {
          "output_type": "stream",
          "name": "stderr",
          "text": [
            "\n",
            " 75%|███████▌  | 427/569 [1:26:55<28:21, 11.98s/it]\u001b[A"
          ]
        },
        {
          "output_type": "stream",
          "name": "stdout",
          "text": [
            "loss :  1745.5969197750092\n"
          ]
        },
        {
          "output_type": "stream",
          "name": "stderr",
          "text": [
            "\n",
            " 75%|███████▌  | 428/569 [1:27:08<28:51, 12.28s/it]\u001b[A"
          ]
        },
        {
          "output_type": "stream",
          "name": "stdout",
          "text": [
            "loss :  1748.523989200592\n"
          ]
        },
        {
          "output_type": "stream",
          "name": "stderr",
          "text": [
            "\n",
            " 75%|███████▌  | 429/569 [1:27:20<28:30, 12.22s/it]\u001b[A"
          ]
        },
        {
          "output_type": "stream",
          "name": "stdout",
          "text": [
            "loss :  1751.3063933849335\n"
          ]
        },
        {
          "output_type": "stream",
          "name": "stderr",
          "text": [
            "\n",
            " 76%|███████▌  | 430/569 [1:27:32<28:07, 12.14s/it]\u001b[A"
          ]
        },
        {
          "output_type": "stream",
          "name": "stdout",
          "text": [
            "loss :  1754.0233700275421\n"
          ]
        },
        {
          "output_type": "stream",
          "name": "stderr",
          "text": [
            "\n",
            " 76%|███████▌  | 431/569 [1:27:44<27:54, 12.13s/it]\u001b[A"
          ]
        },
        {
          "output_type": "stream",
          "name": "stdout",
          "text": [
            "loss :  1756.7905156612396\n"
          ]
        },
        {
          "output_type": "stream",
          "name": "stderr",
          "text": [
            "\n",
            " 76%|███████▌  | 432/569 [1:27:57<27:57, 12.25s/it]\u001b[A"
          ]
        },
        {
          "output_type": "stream",
          "name": "stdout",
          "text": [
            "loss :  1759.5714175701141\n"
          ]
        },
        {
          "output_type": "stream",
          "name": "stderr",
          "text": [
            "\n",
            " 76%|███████▌  | 433/569 [1:28:09<27:54, 12.31s/it]\u001b[A"
          ]
        },
        {
          "output_type": "stream",
          "name": "stdout",
          "text": [
            "loss :  1762.9580886363983\n"
          ]
        },
        {
          "output_type": "stream",
          "name": "stderr",
          "text": [
            "\n",
            " 76%|███████▋  | 434/569 [1:28:21<27:34, 12.25s/it]\u001b[A"
          ]
        },
        {
          "output_type": "stream",
          "name": "stdout",
          "text": [
            "loss :  1765.9601418972015\n"
          ]
        },
        {
          "output_type": "stream",
          "name": "stderr",
          "text": [
            "\n",
            " 76%|███████▋  | 435/569 [1:28:33<27:10, 12.17s/it]\u001b[A"
          ]
        },
        {
          "output_type": "stream",
          "name": "stdout",
          "text": [
            "loss :  1769.2112166881561\n"
          ]
        },
        {
          "output_type": "stream",
          "name": "stderr",
          "text": [
            "\n",
            " 77%|███████▋  | 436/569 [1:28:45<26:52, 12.13s/it]\u001b[A"
          ]
        },
        {
          "output_type": "stream",
          "name": "stdout",
          "text": [
            "loss :  1772.2223434448242\n"
          ]
        },
        {
          "output_type": "stream",
          "name": "stderr",
          "text": [
            "\n",
            " 77%|███████▋  | 437/569 [1:28:58<26:51, 12.21s/it]\u001b[A"
          ]
        },
        {
          "output_type": "stream",
          "name": "stdout",
          "text": [
            "loss :  1775.4028420448303\n"
          ]
        },
        {
          "output_type": "stream",
          "name": "stderr",
          "text": [
            "\n",
            " 77%|███████▋  | 438/569 [1:29:09<26:15, 12.02s/it]\u001b[A"
          ]
        },
        {
          "output_type": "stream",
          "name": "stdout",
          "text": [
            "loss :  1778.4032995700836\n"
          ]
        },
        {
          "output_type": "stream",
          "name": "stderr",
          "text": [
            "\n",
            " 77%|███████▋  | 439/569 [1:29:21<25:39, 11.84s/it]\u001b[A"
          ]
        },
        {
          "output_type": "stream",
          "name": "stdout",
          "text": [
            "loss :  1781.710066318512\n"
          ]
        },
        {
          "output_type": "stream",
          "name": "stderr",
          "text": [
            "\n",
            " 77%|███████▋  | 440/569 [1:29:32<25:29, 11.85s/it]\u001b[A"
          ]
        },
        {
          "output_type": "stream",
          "name": "stdout",
          "text": [
            "loss :  1784.7393171787262\n"
          ]
        },
        {
          "output_type": "stream",
          "name": "stderr",
          "text": [
            "\n",
            " 78%|███████▊  | 441/569 [1:29:44<25:01, 11.73s/it]\u001b[A"
          ]
        },
        {
          "output_type": "stream",
          "name": "stdout",
          "text": [
            "loss :  1787.6236786842346\n"
          ]
        },
        {
          "output_type": "stream",
          "name": "stderr",
          "text": [
            "\n",
            " 78%|███████▊  | 442/569 [1:29:55<24:44, 11.69s/it]\u001b[A"
          ]
        },
        {
          "output_type": "stream",
          "name": "stdout",
          "text": [
            "loss :  1790.5065624713898\n"
          ]
        },
        {
          "output_type": "stream",
          "name": "stderr",
          "text": [
            "\n",
            " 78%|███████▊  | 443/569 [1:30:07<24:30, 11.67s/it]\u001b[A"
          ]
        },
        {
          "output_type": "stream",
          "name": "stdout",
          "text": [
            "loss :  1793.2249326705933\n"
          ]
        },
        {
          "output_type": "stream",
          "name": "stderr",
          "text": [
            "\n",
            " 78%|███████▊  | 444/569 [1:30:18<24:09, 11.60s/it]\u001b[A"
          ]
        },
        {
          "output_type": "stream",
          "name": "stdout",
          "text": [
            "loss :  1796.650508403778\n"
          ]
        },
        {
          "output_type": "stream",
          "name": "stderr",
          "text": [
            "\n",
            " 78%|███████▊  | 445/569 [1:30:30<23:59, 11.61s/it]\u001b[A"
          ]
        },
        {
          "output_type": "stream",
          "name": "stdout",
          "text": [
            "loss :  1799.5662693977356\n"
          ]
        },
        {
          "output_type": "stream",
          "name": "stderr",
          "text": [
            "\n",
            " 78%|███████▊  | 446/569 [1:30:42<23:40, 11.55s/it]\u001b[A"
          ]
        },
        {
          "output_type": "stream",
          "name": "stdout",
          "text": [
            "loss :  1802.3332855701447\n"
          ]
        },
        {
          "output_type": "stream",
          "name": "stderr",
          "text": [
            "\n",
            " 79%|███████▊  | 447/569 [1:30:53<23:25, 11.52s/it]\u001b[A"
          ]
        },
        {
          "output_type": "stream",
          "name": "stdout",
          "text": [
            "loss :  1805.467967748642\n"
          ]
        },
        {
          "output_type": "stream",
          "name": "stderr",
          "text": [
            "\n",
            " 79%|███████▊  | 448/569 [1:31:04<23:07, 11.47s/it]\u001b[A"
          ]
        },
        {
          "output_type": "stream",
          "name": "stdout",
          "text": [
            "loss :  1808.4109811782837\n"
          ]
        },
        {
          "output_type": "stream",
          "name": "stderr",
          "text": [
            "\n",
            " 79%|███████▉  | 449/569 [1:31:16<22:52, 11.44s/it]\u001b[A"
          ]
        },
        {
          "output_type": "stream",
          "name": "stdout",
          "text": [
            "loss :  1811.2909462451935\n"
          ]
        },
        {
          "output_type": "stream",
          "name": "stderr",
          "text": [
            "\n",
            " 79%|███████▉  | 450/569 [1:31:27<22:45, 11.47s/it]\u001b[A"
          ]
        },
        {
          "output_type": "stream",
          "name": "stdout",
          "text": [
            "loss :  1813.9598484039307\n"
          ]
        },
        {
          "output_type": "stream",
          "name": "stderr",
          "text": [
            "\n",
            " 79%|███████▉  | 451/569 [1:31:39<22:44, 11.56s/it]\u001b[A"
          ]
        },
        {
          "output_type": "stream",
          "name": "stdout",
          "text": [
            "loss :  1816.9484374523163\n"
          ]
        },
        {
          "output_type": "stream",
          "name": "stderr",
          "text": [
            "\n",
            " 79%|███████▉  | 452/569 [1:31:50<22:24, 11.49s/it]\u001b[A"
          ]
        },
        {
          "output_type": "stream",
          "name": "stdout",
          "text": [
            "loss :  1819.894966840744\n"
          ]
        },
        {
          "output_type": "stream",
          "name": "stderr",
          "text": [
            "\n",
            " 80%|███████▉  | 453/569 [1:32:02<22:10, 11.47s/it]\u001b[A"
          ]
        },
        {
          "output_type": "stream",
          "name": "stdout",
          "text": [
            "loss :  1822.706815481186\n"
          ]
        },
        {
          "output_type": "stream",
          "name": "stderr",
          "text": [
            "\n",
            " 80%|███████▉  | 454/569 [1:32:13<22:01, 11.49s/it]\u001b[A"
          ]
        },
        {
          "output_type": "stream",
          "name": "stdout",
          "text": [
            "loss :  1825.3227405548096\n"
          ]
        },
        {
          "output_type": "stream",
          "name": "stderr",
          "text": [
            "\n",
            " 80%|███████▉  | 455/569 [1:32:25<21:55, 11.54s/it]\u001b[A"
          ]
        },
        {
          "output_type": "stream",
          "name": "stdout",
          "text": [
            "loss :  1828.3391325473785\n"
          ]
        },
        {
          "output_type": "stream",
          "name": "stderr",
          "text": [
            "\n",
            " 80%|████████  | 456/569 [1:32:37<21:52, 11.62s/it]\u001b[A"
          ]
        },
        {
          "output_type": "stream",
          "name": "stdout",
          "text": [
            "loss :  1831.1967935562134\n"
          ]
        },
        {
          "output_type": "stream",
          "name": "stderr",
          "text": [
            "\n",
            " 80%|████████  | 457/569 [1:32:48<21:39, 11.61s/it]\u001b[A"
          ]
        },
        {
          "output_type": "stream",
          "name": "stdout",
          "text": [
            "loss :  1834.0904939174652\n"
          ]
        },
        {
          "output_type": "stream",
          "name": "stderr",
          "text": [
            "\n",
            " 80%|████████  | 458/569 [1:33:00<21:34, 11.66s/it]\u001b[A"
          ]
        },
        {
          "output_type": "stream",
          "name": "stdout",
          "text": [
            "loss :  1837.1801850795746\n"
          ]
        },
        {
          "output_type": "stream",
          "name": "stderr",
          "text": [
            "\n",
            " 81%|████████  | 459/569 [1:33:12<21:18, 11.62s/it]\u001b[A"
          ]
        },
        {
          "output_type": "stream",
          "name": "stdout",
          "text": [
            "loss :  1840.1392841339111\n"
          ]
        },
        {
          "output_type": "stream",
          "name": "stderr",
          "text": [
            "\n",
            " 81%|████████  | 460/569 [1:33:23<21:12, 11.67s/it]\u001b[A"
          ]
        },
        {
          "output_type": "stream",
          "name": "stdout",
          "text": [
            "loss :  1843.100444316864\n"
          ]
        },
        {
          "output_type": "stream",
          "name": "stderr",
          "text": [
            "\n",
            " 81%|████████  | 461/569 [1:33:35<20:55, 11.63s/it]\u001b[A"
          ]
        },
        {
          "output_type": "stream",
          "name": "stdout",
          "text": [
            "loss :  1846.316195487976\n"
          ]
        },
        {
          "output_type": "stream",
          "name": "stderr",
          "text": [
            "\n",
            " 81%|████████  | 462/569 [1:33:46<20:37, 11.57s/it]\u001b[A"
          ]
        },
        {
          "output_type": "stream",
          "name": "stdout",
          "text": [
            "loss :  1848.9632177352905\n"
          ]
        },
        {
          "output_type": "stream",
          "name": "stderr",
          "text": [
            "\n",
            " 81%|████████▏ | 463/569 [1:33:58<20:31, 11.62s/it]\u001b[A"
          ]
        },
        {
          "output_type": "stream",
          "name": "stdout",
          "text": [
            "loss :  1851.848541021347\n"
          ]
        },
        {
          "output_type": "stream",
          "name": "stderr",
          "text": [
            "\n",
            " 82%|████████▏ | 464/569 [1:34:09<20:11, 11.54s/it]\u001b[A"
          ]
        },
        {
          "output_type": "stream",
          "name": "stdout",
          "text": [
            "loss :  1855.078092098236\n"
          ]
        },
        {
          "output_type": "stream",
          "name": "stderr",
          "text": [
            "\n",
            " 82%|████████▏ | 465/569 [1:34:21<19:54, 11.49s/it]\u001b[A"
          ]
        },
        {
          "output_type": "stream",
          "name": "stdout",
          "text": [
            "loss :  1857.931503534317\n"
          ]
        },
        {
          "output_type": "stream",
          "name": "stderr",
          "text": [
            "\n",
            " 82%|████████▏ | 466/569 [1:34:32<19:41, 11.47s/it]\u001b[A"
          ]
        },
        {
          "output_type": "stream",
          "name": "stdout",
          "text": [
            "loss :  1860.673282623291\n"
          ]
        },
        {
          "output_type": "stream",
          "name": "stderr",
          "text": [
            "\n",
            " 82%|████████▏ | 467/569 [1:34:44<19:34, 11.52s/it]\u001b[A"
          ]
        },
        {
          "output_type": "stream",
          "name": "stdout",
          "text": [
            "loss :  1863.890683889389\n"
          ]
        },
        {
          "output_type": "stream",
          "name": "stderr",
          "text": [
            "\n",
            " 82%|████████▏ | 468/569 [1:34:56<19:52, 11.81s/it]\u001b[A"
          ]
        },
        {
          "output_type": "stream",
          "name": "stdout",
          "text": [
            "loss :  1866.7707648277283\n"
          ]
        },
        {
          "output_type": "stream",
          "name": "stderr",
          "text": [
            "\n",
            " 82%|████████▏ | 469/569 [1:35:08<19:23, 11.63s/it]\u001b[A"
          ]
        },
        {
          "output_type": "stream",
          "name": "stdout",
          "text": [
            "loss :  1869.642168521881\n"
          ]
        },
        {
          "output_type": "stream",
          "name": "stderr",
          "text": [
            "\n",
            " 83%|████████▎ | 470/569 [1:35:19<19:05, 11.57s/it]\u001b[A"
          ]
        },
        {
          "output_type": "stream",
          "name": "stdout",
          "text": [
            "loss :  1872.6512341499329\n"
          ]
        },
        {
          "output_type": "stream",
          "name": "stderr",
          "text": [
            "\n",
            " 83%|████████▎ | 471/569 [1:35:31<18:51, 11.55s/it]\u001b[A"
          ]
        },
        {
          "output_type": "stream",
          "name": "stdout",
          "text": [
            "loss :  1875.513918876648\n"
          ]
        },
        {
          "output_type": "stream",
          "name": "stderr",
          "text": [
            "\n",
            " 83%|████████▎ | 472/569 [1:35:42<18:42, 11.57s/it]\u001b[A"
          ]
        },
        {
          "output_type": "stream",
          "name": "stdout",
          "text": [
            "loss :  1878.7766366004944\n"
          ]
        },
        {
          "output_type": "stream",
          "name": "stderr",
          "text": [
            "\n",
            " 83%|████████▎ | 473/569 [1:35:54<18:44, 11.71s/it]\u001b[A"
          ]
        },
        {
          "output_type": "stream",
          "name": "stdout",
          "text": [
            "loss :  1881.5877757072449\n"
          ]
        },
        {
          "output_type": "stream",
          "name": "stderr",
          "text": [
            "\n",
            " 83%|████████▎ | 474/569 [1:36:06<18:38, 11.78s/it]\u001b[A"
          ]
        },
        {
          "output_type": "stream",
          "name": "stdout",
          "text": [
            "loss :  1884.4152982234955\n"
          ]
        },
        {
          "output_type": "stream",
          "name": "stderr",
          "text": [
            "\n",
            " 83%|████████▎ | 475/569 [1:36:18<18:22, 11.73s/it]\u001b[A"
          ]
        },
        {
          "output_type": "stream",
          "name": "stdout",
          "text": [
            "loss :  1887.2915670871735\n"
          ]
        },
        {
          "output_type": "stream",
          "name": "stderr",
          "text": [
            "\n",
            " 84%|████████▎ | 476/569 [1:36:29<18:06, 11.68s/it]\u001b[A"
          ]
        },
        {
          "output_type": "stream",
          "name": "stdout",
          "text": [
            "loss :  1890.3634963035583\n"
          ]
        },
        {
          "output_type": "stream",
          "name": "stderr",
          "text": [
            "\n",
            " 84%|████████▍ | 477/569 [1:36:41<18:00, 11.74s/it]\u001b[A"
          ]
        },
        {
          "output_type": "stream",
          "name": "stdout",
          "text": [
            "loss :  1893.2167825698853\n"
          ]
        },
        {
          "output_type": "stream",
          "name": "stderr",
          "text": [
            "\n",
            " 84%|████████▍ | 478/569 [1:36:53<17:47, 11.74s/it]\u001b[A"
          ]
        },
        {
          "output_type": "stream",
          "name": "stdout",
          "text": [
            "loss :  1895.9295156002045\n"
          ]
        },
        {
          "output_type": "stream",
          "name": "stderr",
          "text": [
            "\n",
            " 84%|████████▍ | 479/569 [1:37:05<17:40, 11.78s/it]\u001b[A"
          ]
        },
        {
          "output_type": "stream",
          "name": "stdout",
          "text": [
            "loss :  1898.825014591217\n"
          ]
        },
        {
          "output_type": "stream",
          "name": "stderr",
          "text": [
            "\n",
            " 84%|████████▍ | 480/569 [1:37:17<17:28, 11.78s/it]\u001b[A"
          ]
        },
        {
          "output_type": "stream",
          "name": "stdout",
          "text": [
            "loss :  1901.7499833106995\n"
          ]
        },
        {
          "output_type": "stream",
          "name": "stderr",
          "text": [
            "\n",
            " 85%|████████▍ | 481/569 [1:37:28<17:06, 11.67s/it]\u001b[A"
          ]
        },
        {
          "output_type": "stream",
          "name": "stdout",
          "text": [
            "loss :  1904.5191333293915\n"
          ]
        },
        {
          "output_type": "stream",
          "name": "stderr",
          "text": [
            "\n",
            " 85%|████████▍ | 482/569 [1:37:40<16:54, 11.66s/it]\u001b[A"
          ]
        },
        {
          "output_type": "stream",
          "name": "stdout",
          "text": [
            "loss :  1907.8930115699768\n"
          ]
        },
        {
          "output_type": "stream",
          "name": "stderr",
          "text": [
            "\n",
            " 85%|████████▍ | 483/569 [1:37:51<16:44, 11.68s/it]\u001b[A"
          ]
        },
        {
          "output_type": "stream",
          "name": "stdout",
          "text": [
            "loss :  1910.5509870052338\n"
          ]
        },
        {
          "output_type": "stream",
          "name": "stderr",
          "text": [
            "\n",
            " 85%|████████▌ | 484/569 [1:38:03<16:26, 11.61s/it]\u001b[A"
          ]
        },
        {
          "output_type": "stream",
          "name": "stdout",
          "text": [
            "loss :  1913.622215270996\n"
          ]
        },
        {
          "output_type": "stream",
          "name": "stderr",
          "text": [
            "\n",
            " 85%|████████▌ | 485/569 [1:38:14<16:10, 11.56s/it]\u001b[A"
          ]
        },
        {
          "output_type": "stream",
          "name": "stdout",
          "text": [
            "loss :  1916.4274644851685\n"
          ]
        },
        {
          "output_type": "stream",
          "name": "stderr",
          "text": [
            "\n",
            " 85%|████████▌ | 486/569 [1:38:26<16:03, 11.61s/it]\u001b[A"
          ]
        },
        {
          "output_type": "stream",
          "name": "stdout",
          "text": [
            "loss :  1919.4659950733185\n"
          ]
        },
        {
          "output_type": "stream",
          "name": "stderr",
          "text": [
            "\n",
            " 86%|████████▌ | 487/569 [1:38:37<15:45, 11.54s/it]\u001b[A"
          ]
        },
        {
          "output_type": "stream",
          "name": "stdout",
          "text": [
            "loss :  1922.4042105674744\n"
          ]
        },
        {
          "output_type": "stream",
          "name": "stderr",
          "text": [
            "\n",
            " 86%|████████▌ | 488/569 [1:38:49<15:39, 11.60s/it]\u001b[A"
          ]
        },
        {
          "output_type": "stream",
          "name": "stdout",
          "text": [
            "loss :  1925.3268694877625\n"
          ]
        },
        {
          "output_type": "stream",
          "name": "stderr",
          "text": [
            "\n",
            " 86%|████████▌ | 489/569 [1:39:00<15:19, 11.50s/it]\u001b[A"
          ]
        },
        {
          "output_type": "stream",
          "name": "stdout",
          "text": [
            "loss :  1928.519187927246\n"
          ]
        },
        {
          "output_type": "stream",
          "name": "stderr",
          "text": [
            "\n",
            " 86%|████████▌ | 490/569 [1:39:12<15:01, 11.42s/it]\u001b[A"
          ]
        },
        {
          "output_type": "stream",
          "name": "stdout",
          "text": [
            "loss :  1931.1718604564667\n"
          ]
        },
        {
          "output_type": "stream",
          "name": "stderr",
          "text": [
            "\n",
            " 86%|████████▋ | 491/569 [1:39:23<14:51, 11.43s/it]\u001b[A"
          ]
        },
        {
          "output_type": "stream",
          "name": "stdout",
          "text": [
            "loss :  1934.1312296390533\n"
          ]
        },
        {
          "output_type": "stream",
          "name": "stderr",
          "text": [
            "\n",
            " 86%|████████▋ | 492/569 [1:39:35<14:50, 11.57s/it]\u001b[A"
          ]
        },
        {
          "output_type": "stream",
          "name": "stdout",
          "text": [
            "loss :  1937.1636221408844\n"
          ]
        },
        {
          "output_type": "stream",
          "name": "stderr",
          "text": [
            "\n",
            " 87%|████████▋ | 493/569 [1:39:47<14:46, 11.67s/it]\u001b[A"
          ]
        },
        {
          "output_type": "stream",
          "name": "stdout",
          "text": [
            "loss :  1939.917905330658\n"
          ]
        },
        {
          "output_type": "stream",
          "name": "stderr",
          "text": [
            "\n",
            " 87%|████████▋ | 494/569 [1:39:59<14:37, 11.70s/it]\u001b[A"
          ]
        },
        {
          "output_type": "stream",
          "name": "stdout",
          "text": [
            "loss :  1942.8804020881653\n"
          ]
        },
        {
          "output_type": "stream",
          "name": "stderr",
          "text": [
            "\n",
            " 87%|████████▋ | 495/569 [1:40:10<14:29, 11.75s/it]\u001b[A"
          ]
        },
        {
          "output_type": "stream",
          "name": "stdout",
          "text": [
            "loss :  1945.6981678009033\n"
          ]
        },
        {
          "output_type": "stream",
          "name": "stderr",
          "text": [
            "\n",
            " 87%|████████▋ | 496/569 [1:40:22<14:16, 11.74s/it]\u001b[A"
          ]
        },
        {
          "output_type": "stream",
          "name": "stdout",
          "text": [
            "loss :  1948.1680297851562\n"
          ]
        },
        {
          "output_type": "stream",
          "name": "stderr",
          "text": [
            "\n",
            " 87%|████████▋ | 497/569 [1:40:34<14:06, 11.76s/it]\u001b[A"
          ]
        },
        {
          "output_type": "stream",
          "name": "stdout",
          "text": [
            "loss :  1951.1770527362823\n"
          ]
        },
        {
          "output_type": "stream",
          "name": "stderr",
          "text": [
            "\n",
            " 88%|████████▊ | 498/569 [1:40:46<13:52, 11.73s/it]\u001b[A"
          ]
        },
        {
          "output_type": "stream",
          "name": "stdout",
          "text": [
            "loss :  1954.1744577884674\n"
          ]
        },
        {
          "output_type": "stream",
          "name": "stderr",
          "text": [
            "\n",
            " 88%|████████▊ | 499/569 [1:40:58<13:46, 11.81s/it]\u001b[A"
          ]
        },
        {
          "output_type": "stream",
          "name": "stdout",
          "text": [
            "loss :  1957.1134684085846\n"
          ]
        },
        {
          "output_type": "stream",
          "name": "stderr",
          "text": [
            "\n",
            " 88%|████████▊ | 500/569 [1:41:09<13:28, 11.72s/it]\u001b[A"
          ]
        },
        {
          "output_type": "stream",
          "name": "stdout",
          "text": [
            "loss :  1959.671236038208\n"
          ]
        },
        {
          "output_type": "stream",
          "name": "stderr",
          "text": [
            "\n",
            " 88%|████████▊ | 501/569 [1:41:21<13:21, 11.78s/it]\u001b[A"
          ]
        },
        {
          "output_type": "stream",
          "name": "stdout",
          "text": [
            "loss :  1962.6092867851257\n"
          ]
        },
        {
          "output_type": "stream",
          "name": "stderr",
          "text": [
            "\n",
            " 88%|████████▊ | 502/569 [1:41:33<13:13, 11.84s/it]\u001b[A"
          ]
        },
        {
          "output_type": "stream",
          "name": "stdout",
          "text": [
            "loss :  1965.9372460842133\n"
          ]
        },
        {
          "output_type": "stream",
          "name": "stderr",
          "text": [
            "\n",
            " 88%|████████▊ | 503/569 [1:41:45<13:05, 11.91s/it]\u001b[A"
          ]
        },
        {
          "output_type": "stream",
          "name": "stdout",
          "text": [
            "loss :  1968.7527785301208\n"
          ]
        },
        {
          "output_type": "stream",
          "name": "stderr",
          "text": [
            "\n",
            " 89%|████████▊ | 504/569 [1:41:57<12:49, 11.84s/it]\u001b[A"
          ]
        },
        {
          "output_type": "stream",
          "name": "stdout",
          "text": [
            "loss :  1971.7933185100555\n"
          ]
        },
        {
          "output_type": "stream",
          "name": "stderr",
          "text": [
            "\n",
            " 89%|████████▉ | 505/569 [1:42:08<12:30, 11.73s/it]\u001b[A"
          ]
        },
        {
          "output_type": "stream",
          "name": "stdout",
          "text": [
            "loss :  1974.4539892673492\n"
          ]
        },
        {
          "output_type": "stream",
          "name": "stderr",
          "text": [
            "\n",
            " 89%|████████▉ | 506/569 [1:42:20<12:11, 11.61s/it]\u001b[A"
          ]
        },
        {
          "output_type": "stream",
          "name": "stdout",
          "text": [
            "loss :  1977.3109788894653\n"
          ]
        },
        {
          "output_type": "stream",
          "name": "stderr",
          "text": [
            "\n",
            " 89%|████████▉ | 507/569 [1:42:31<11:58, 11.59s/it]\u001b[A"
          ]
        },
        {
          "output_type": "stream",
          "name": "stdout",
          "text": [
            "loss :  1980.0624947547913\n"
          ]
        },
        {
          "output_type": "stream",
          "name": "stderr",
          "text": [
            "\n",
            " 89%|████████▉ | 508/569 [1:42:43<11:43, 11.53s/it]\u001b[A"
          ]
        },
        {
          "output_type": "stream",
          "name": "stdout",
          "text": [
            "loss :  1983.004243850708\n"
          ]
        },
        {
          "output_type": "stream",
          "name": "stderr",
          "text": [
            "\n",
            " 89%|████████▉ | 509/569 [1:42:54<11:30, 11.50s/it]\u001b[A"
          ]
        },
        {
          "output_type": "stream",
          "name": "stdout",
          "text": [
            "loss :  1985.3785545825958\n"
          ]
        },
        {
          "output_type": "stream",
          "name": "stderr",
          "text": [
            "\n",
            " 90%|████████▉ | 510/569 [1:43:05<11:18, 11.51s/it]\u001b[A"
          ]
        },
        {
          "output_type": "stream",
          "name": "stdout",
          "text": [
            "loss :  1988.1551644802094\n"
          ]
        },
        {
          "output_type": "stream",
          "name": "stderr",
          "text": [
            "\n",
            " 90%|████████▉ | 511/569 [1:43:17<11:08, 11.53s/it]\u001b[A"
          ]
        },
        {
          "output_type": "stream",
          "name": "stdout",
          "text": [
            "loss :  1991.2293875217438\n"
          ]
        },
        {
          "output_type": "stream",
          "name": "stderr",
          "text": [
            "\n",
            " 90%|████████▉ | 512/569 [1:43:29<11:06, 11.69s/it]\u001b[A"
          ]
        },
        {
          "output_type": "stream",
          "name": "stdout",
          "text": [
            "loss :  1994.2255833148956\n"
          ]
        },
        {
          "output_type": "stream",
          "name": "stderr",
          "text": [
            "\n",
            " 90%|█████████ | 513/569 [1:43:41<10:52, 11.65s/it]\u001b[A"
          ]
        },
        {
          "output_type": "stream",
          "name": "stdout",
          "text": [
            "loss :  1997.2100458145142\n"
          ]
        },
        {
          "output_type": "stream",
          "name": "stderr",
          "text": [
            "\n",
            " 90%|█████████ | 514/569 [1:43:53<10:43, 11.70s/it]\u001b[A"
          ]
        },
        {
          "output_type": "stream",
          "name": "stdout",
          "text": [
            "loss :  2000.2802076339722\n"
          ]
        },
        {
          "output_type": "stream",
          "name": "stderr",
          "text": [
            "\n",
            " 91%|█████████ | 515/569 [1:44:05<10:36, 11.79s/it]\u001b[A"
          ]
        },
        {
          "output_type": "stream",
          "name": "stdout",
          "text": [
            "loss :  2003.2182338237762\n"
          ]
        },
        {
          "output_type": "stream",
          "name": "stderr",
          "text": [
            "\n",
            " 91%|█████████ | 516/569 [1:44:17<10:31, 11.92s/it]\u001b[A"
          ]
        },
        {
          "output_type": "stream",
          "name": "stdout",
          "text": [
            "loss :  2006.1470153331757\n"
          ]
        },
        {
          "output_type": "stream",
          "name": "stderr",
          "text": [
            "\n",
            " 91%|█████████ | 517/569 [1:44:29<10:23, 12.00s/it]\u001b[A"
          ]
        },
        {
          "output_type": "stream",
          "name": "stdout",
          "text": [
            "loss :  2008.8965573310852\n"
          ]
        },
        {
          "output_type": "stream",
          "name": "stderr",
          "text": [
            "\n",
            " 91%|█████████ | 518/569 [1:44:41<10:08, 11.93s/it]\u001b[A"
          ]
        },
        {
          "output_type": "stream",
          "name": "stdout",
          "text": [
            "loss :  2011.6041016578674\n"
          ]
        },
        {
          "output_type": "stream",
          "name": "stderr",
          "text": [
            "\n",
            " 91%|█████████ | 519/569 [1:44:53<09:55, 11.92s/it]\u001b[A"
          ]
        },
        {
          "output_type": "stream",
          "name": "stdout",
          "text": [
            "loss :  2014.765249490738\n"
          ]
        },
        {
          "output_type": "stream",
          "name": "stderr",
          "text": [
            "\n",
            " 91%|█████████▏| 520/569 [1:45:05<09:49, 12.03s/it]\u001b[A"
          ]
        },
        {
          "output_type": "stream",
          "name": "stdout",
          "text": [
            "loss :  2018.0408160686493\n"
          ]
        },
        {
          "output_type": "stream",
          "name": "stderr",
          "text": [
            "\n",
            " 92%|█████████▏| 521/569 [1:45:17<09:40, 12.09s/it]\u001b[A"
          ]
        },
        {
          "output_type": "stream",
          "name": "stdout",
          "text": [
            "loss :  2021.0859718322754\n"
          ]
        },
        {
          "output_type": "stream",
          "name": "stderr",
          "text": [
            "\n",
            " 92%|█████████▏| 522/569 [1:45:29<09:26, 12.06s/it]\u001b[A"
          ]
        },
        {
          "output_type": "stream",
          "name": "stdout",
          "text": [
            "loss :  2024.0698029994965\n"
          ]
        },
        {
          "output_type": "stream",
          "name": "stderr",
          "text": [
            "\n",
            " 92%|█████████▏| 523/569 [1:45:41<09:13, 12.04s/it]\u001b[A"
          ]
        },
        {
          "output_type": "stream",
          "name": "stdout",
          "text": [
            "loss :  2027.2166495323181\n"
          ]
        },
        {
          "output_type": "stream",
          "name": "stderr",
          "text": [
            "\n",
            " 92%|█████████▏| 524/569 [1:45:53<09:02, 12.05s/it]\u001b[A"
          ]
        },
        {
          "output_type": "stream",
          "name": "stdout",
          "text": [
            "loss :  2030.2319118976593\n"
          ]
        },
        {
          "output_type": "stream",
          "name": "stderr",
          "text": [
            "\n",
            " 92%|█████████▏| 525/569 [1:46:06<08:55, 12.18s/it]\u001b[A"
          ]
        },
        {
          "output_type": "stream",
          "name": "stdout",
          "text": [
            "loss :  2033.1082179546356\n"
          ]
        },
        {
          "output_type": "stream",
          "name": "stderr",
          "text": [
            "\n",
            " 92%|█████████▏| 526/569 [1:46:18<08:42, 12.14s/it]\u001b[A"
          ]
        },
        {
          "output_type": "stream",
          "name": "stdout",
          "text": [
            "loss :  2036.0964782238007\n"
          ]
        },
        {
          "output_type": "stream",
          "name": "stderr",
          "text": [
            "\n",
            " 93%|█████████▎| 527/569 [1:46:30<08:31, 12.18s/it]\u001b[A"
          ]
        },
        {
          "output_type": "stream",
          "name": "stdout",
          "text": [
            "loss :  2038.8337290287018\n"
          ]
        },
        {
          "output_type": "stream",
          "name": "stderr",
          "text": [
            "\n",
            " 93%|█████████▎| 528/569 [1:46:42<08:19, 12.18s/it]\u001b[A"
          ]
        },
        {
          "output_type": "stream",
          "name": "stdout",
          "text": [
            "loss :  2041.4668910503387\n"
          ]
        },
        {
          "output_type": "stream",
          "name": "stderr",
          "text": [
            "\n",
            " 93%|█████████▎| 529/569 [1:46:54<08:08, 12.22s/it]\u001b[A"
          ]
        },
        {
          "output_type": "stream",
          "name": "stdout",
          "text": [
            "loss :  2044.0762963294983\n"
          ]
        },
        {
          "output_type": "stream",
          "name": "stderr",
          "text": [
            "\n",
            " 93%|█████████▎| 530/569 [1:47:07<07:56, 12.21s/it]\u001b[A"
          ]
        },
        {
          "output_type": "stream",
          "name": "stdout",
          "text": [
            "loss :  2046.7564074993134\n"
          ]
        },
        {
          "output_type": "stream",
          "name": "stderr",
          "text": [
            "\n",
            " 93%|█████████▎| 531/569 [1:47:19<07:43, 12.19s/it]\u001b[A"
          ]
        },
        {
          "output_type": "stream",
          "name": "stdout",
          "text": [
            "loss :  2049.309802055359\n"
          ]
        },
        {
          "output_type": "stream",
          "name": "stderr",
          "text": [
            "\n",
            " 93%|█████████▎| 532/569 [1:47:34<08:04, 13.11s/it]\u001b[A"
          ]
        },
        {
          "output_type": "stream",
          "name": "stdout",
          "text": [
            "loss :  2052.0677750110626\n"
          ]
        },
        {
          "output_type": "stream",
          "name": "stderr",
          "text": [
            "\n",
            " 94%|█████████▎| 533/569 [1:47:46<07:41, 12.81s/it]\u001b[A"
          ]
        },
        {
          "output_type": "stream",
          "name": "stdout",
          "text": [
            "loss :  2054.7270233631134\n"
          ]
        },
        {
          "output_type": "stream",
          "name": "stderr",
          "text": [
            "\n",
            " 94%|█████████▍| 534/569 [1:47:58<07:17, 12.50s/it]\u001b[A"
          ]
        },
        {
          "output_type": "stream",
          "name": "stdout",
          "text": [
            "loss :  2057.371814727783\n"
          ]
        },
        {
          "output_type": "stream",
          "name": "stderr",
          "text": [
            "\n",
            " 94%|█████████▍| 535/569 [1:48:10<07:00, 12.38s/it]\u001b[A"
          ]
        },
        {
          "output_type": "stream",
          "name": "stdout",
          "text": [
            "loss :  2060.2423498630524\n"
          ]
        },
        {
          "output_type": "stream",
          "name": "stderr",
          "text": [
            "\n",
            " 94%|█████████▍| 536/569 [1:48:22<06:43, 12.21s/it]\u001b[A"
          ]
        },
        {
          "output_type": "stream",
          "name": "stdout",
          "text": [
            "loss :  2063.1950058937073\n"
          ]
        },
        {
          "output_type": "stream",
          "name": "stderr",
          "text": [
            "\n",
            " 94%|█████████▍| 537/569 [1:48:34<06:32, 12.25s/it]\u001b[A"
          ]
        },
        {
          "output_type": "stream",
          "name": "stdout",
          "text": [
            "loss :  2065.891952753067\n"
          ]
        },
        {
          "output_type": "stream",
          "name": "stderr",
          "text": [
            "\n",
            " 95%|█████████▍| 538/569 [1:48:46<06:19, 12.23s/it]\u001b[A"
          ]
        },
        {
          "output_type": "stream",
          "name": "stdout",
          "text": [
            "loss :  2068.7496135234833\n"
          ]
        },
        {
          "output_type": "stream",
          "name": "stderr",
          "text": [
            "\n",
            " 95%|█████████▍| 539/569 [1:48:58<06:03, 12.10s/it]\u001b[A"
          ]
        },
        {
          "output_type": "stream",
          "name": "stdout",
          "text": [
            "loss :  2071.286519765854\n"
          ]
        },
        {
          "output_type": "stream",
          "name": "stderr",
          "text": [
            "\n",
            " 95%|█████████▍| 540/569 [1:49:10<05:49, 12.04s/it]\u001b[A"
          ]
        },
        {
          "output_type": "stream",
          "name": "stdout",
          "text": [
            "loss :  2074.2225303649902\n"
          ]
        },
        {
          "output_type": "stream",
          "name": "stderr",
          "text": [
            "\n",
            " 95%|█████████▌| 541/569 [1:49:22<05:37, 12.06s/it]\u001b[A"
          ]
        },
        {
          "output_type": "stream",
          "name": "stdout",
          "text": [
            "loss :  2076.6738691329956\n"
          ]
        },
        {
          "output_type": "stream",
          "name": "stderr",
          "text": [
            "\n",
            " 95%|█████████▌| 542/569 [1:49:38<05:52, 13.06s/it]\u001b[A"
          ]
        },
        {
          "output_type": "stream",
          "name": "stdout",
          "text": [
            "loss :  2079.9712731838226\n"
          ]
        },
        {
          "output_type": "stream",
          "name": "stderr",
          "text": [
            "\n",
            " 95%|█████████▌| 543/569 [1:49:50<05:32, 12.79s/it]\u001b[A"
          ]
        },
        {
          "output_type": "stream",
          "name": "stdout",
          "text": [
            "loss :  2082.6542508602142\n"
          ]
        },
        {
          "output_type": "stream",
          "name": "stderr",
          "text": [
            "\n",
            " 96%|█████████▌| 544/569 [1:50:02<05:13, 12.53s/it]\u001b[A"
          ]
        },
        {
          "output_type": "stream",
          "name": "stdout",
          "text": [
            "loss :  2085.5513701438904\n"
          ]
        },
        {
          "output_type": "stream",
          "name": "stderr",
          "text": [
            "\n",
            " 96%|█████████▌| 545/569 [1:50:14<04:57, 12.40s/it]\u001b[A"
          ]
        },
        {
          "output_type": "stream",
          "name": "stdout",
          "text": [
            "loss :  2088.55472612381\n"
          ]
        },
        {
          "output_type": "stream",
          "name": "stderr",
          "text": [
            "\n",
            " 96%|█████████▌| 546/569 [1:50:26<04:45, 12.43s/it]\u001b[A"
          ]
        },
        {
          "output_type": "stream",
          "name": "stdout",
          "text": [
            "loss :  2091.4056668281555\n"
          ]
        },
        {
          "output_type": "stream",
          "name": "stderr",
          "text": [
            "\n",
            " 96%|█████████▌| 547/569 [1:50:38<04:29, 12.25s/it]\u001b[A"
          ]
        },
        {
          "output_type": "stream",
          "name": "stdout",
          "text": [
            "loss :  2094.452455997467\n"
          ]
        },
        {
          "output_type": "stream",
          "name": "stderr",
          "text": [
            "\n",
            " 96%|█████████▋| 548/569 [1:50:50<04:16, 12.23s/it]\u001b[A"
          ]
        },
        {
          "output_type": "stream",
          "name": "stdout",
          "text": [
            "loss :  2097.4101338386536\n"
          ]
        },
        {
          "output_type": "stream",
          "name": "stderr",
          "text": [
            "\n",
            " 96%|█████████▋| 549/569 [1:51:02<04:01, 12.07s/it]\u001b[A"
          ]
        },
        {
          "output_type": "stream",
          "name": "stdout",
          "text": [
            "loss :  2100.2613246440887\n"
          ]
        },
        {
          "output_type": "stream",
          "name": "stderr",
          "text": [
            "\n",
            " 97%|█████████▋| 550/569 [1:51:14<03:49, 12.10s/it]\u001b[A"
          ]
        },
        {
          "output_type": "stream",
          "name": "stdout",
          "text": [
            "loss :  2103.0300872325897\n"
          ]
        },
        {
          "output_type": "stream",
          "name": "stderr",
          "text": [
            "\n",
            " 97%|█████████▋| 551/569 [1:51:30<03:55, 13.10s/it]\u001b[A"
          ]
        },
        {
          "output_type": "stream",
          "name": "stdout",
          "text": [
            "loss :  2106.014083147049\n"
          ]
        },
        {
          "output_type": "stream",
          "name": "stderr",
          "text": [
            "\n",
            " 97%|█████████▋| 552/569 [1:51:44<03:47, 13.37s/it]\u001b[A"
          ]
        },
        {
          "output_type": "stream",
          "name": "stdout",
          "text": [
            "loss :  2109.083054304123\n"
          ]
        },
        {
          "output_type": "stream",
          "name": "stderr",
          "text": [
            "\n",
            " 97%|█████████▋| 553/569 [1:51:56<03:28, 13.02s/it]\u001b[A"
          ]
        },
        {
          "output_type": "stream",
          "name": "stdout",
          "text": [
            "loss :  2111.6035771369934\n"
          ]
        },
        {
          "output_type": "stream",
          "name": "stderr",
          "text": [
            "\n",
            " 97%|█████████▋| 554/569 [1:52:08<03:10, 12.70s/it]\u001b[A"
          ]
        },
        {
          "output_type": "stream",
          "name": "stdout",
          "text": [
            "loss :  2114.428867816925\n"
          ]
        },
        {
          "output_type": "stream",
          "name": "stderr",
          "text": [
            "\n",
            " 98%|█████████▊| 555/569 [1:52:19<02:53, 12.42s/it]\u001b[A"
          ]
        },
        {
          "output_type": "stream",
          "name": "stdout",
          "text": [
            "loss :  2117.4854667186737\n"
          ]
        },
        {
          "output_type": "stream",
          "name": "stderr",
          "text": [
            "\n",
            " 98%|█████████▊| 556/569 [1:52:31<02:39, 12.29s/it]\u001b[A"
          ]
        },
        {
          "output_type": "stream",
          "name": "stdout",
          "text": [
            "loss :  2120.086002111435\n"
          ]
        },
        {
          "output_type": "stream",
          "name": "stderr",
          "text": [
            "\n",
            " 98%|█████████▊| 557/569 [1:52:43<02:26, 12.20s/it]\u001b[A"
          ]
        },
        {
          "output_type": "stream",
          "name": "stdout",
          "text": [
            "loss :  2123.1375312805176\n"
          ]
        },
        {
          "output_type": "stream",
          "name": "stderr",
          "text": [
            "\n",
            " 98%|█████████▊| 558/569 [1:52:56<02:13, 12.17s/it]\u001b[A"
          ]
        },
        {
          "output_type": "stream",
          "name": "stdout",
          "text": [
            "loss :  2126.3492040634155\n"
          ]
        },
        {
          "output_type": "stream",
          "name": "stderr",
          "text": [
            "\n",
            " 98%|█████████▊| 559/569 [1:53:08<02:01, 12.15s/it]\u001b[A"
          ]
        },
        {
          "output_type": "stream",
          "name": "stdout",
          "text": [
            "loss :  2129.412404537201\n"
          ]
        },
        {
          "output_type": "stream",
          "name": "stderr",
          "text": [
            "\n",
            " 98%|█████████▊| 560/569 [1:53:19<01:48, 12.03s/it]\u001b[A"
          ]
        },
        {
          "output_type": "stream",
          "name": "stdout",
          "text": [
            "loss :  2131.9726078510284\n"
          ]
        },
        {
          "output_type": "stream",
          "name": "stderr",
          "text": [
            "\n",
            " 99%|█████████▊| 561/569 [1:53:31<01:35, 11.96s/it]\u001b[A"
          ]
        },
        {
          "output_type": "stream",
          "name": "stdout",
          "text": [
            "loss :  2135.0019433498383\n"
          ]
        },
        {
          "output_type": "stream",
          "name": "stderr",
          "text": [
            "\n",
            " 99%|█████████▉| 562/569 [1:53:43<01:23, 11.93s/it]\u001b[A"
          ]
        },
        {
          "output_type": "stream",
          "name": "stdout",
          "text": [
            "loss :  2137.587435722351\n"
          ]
        },
        {
          "output_type": "stream",
          "name": "stderr",
          "text": [
            "\n",
            " 99%|█████████▉| 563/569 [1:53:55<01:11, 11.93s/it]\u001b[A"
          ]
        },
        {
          "output_type": "stream",
          "name": "stdout",
          "text": [
            "loss :  2140.5396642684937\n"
          ]
        },
        {
          "output_type": "stream",
          "name": "stderr",
          "text": [
            "\n",
            " 99%|█████████▉| 564/569 [1:54:07<01:00, 12.05s/it]\u001b[A"
          ]
        },
        {
          "output_type": "stream",
          "name": "stdout",
          "text": [
            "loss :  2143.5195689201355\n"
          ]
        },
        {
          "output_type": "stream",
          "name": "stderr",
          "text": [
            "\n",
            " 99%|█████████▉| 565/569 [1:54:19<00:48, 12.02s/it]\u001b[A"
          ]
        },
        {
          "output_type": "stream",
          "name": "stdout",
          "text": [
            "loss :  2146.591131925583\n"
          ]
        },
        {
          "output_type": "stream",
          "name": "stderr",
          "text": [
            "\n",
            " 99%|█████████▉| 566/569 [1:54:35<00:39, 13.07s/it]\u001b[A"
          ]
        },
        {
          "output_type": "stream",
          "name": "stdout",
          "text": [
            "loss :  2149.307050704956\n"
          ]
        },
        {
          "output_type": "stream",
          "name": "stderr",
          "text": [
            "\n",
            "100%|█████████▉| 567/569 [1:54:47<00:25, 12.79s/it]\u001b[A"
          ]
        },
        {
          "output_type": "stream",
          "name": "stdout",
          "text": [
            "loss :  2152.2156777381897\n"
          ]
        },
        {
          "output_type": "stream",
          "name": "stderr",
          "text": [
            "\n",
            "100%|█████████▉| 568/569 [1:55:01<00:13, 13.22s/it]\u001b[A"
          ]
        },
        {
          "output_type": "stream",
          "name": "stdout",
          "text": [
            "loss :  2155.160317182541\n"
          ]
        },
        {
          "output_type": "stream",
          "name": "stderr",
          "text": [
            "\n",
            "100%|██████████| 569/569 [1:55:09<00:00, 12.14s/it]\n",
            "100%|██████████| 1/1 [1:55:09<00:00, 6909.02s/it]"
          ]
        },
        {
          "output_type": "stream",
          "name": "stdout",
          "text": [
            "loss :  2158.0200645923615\n",
            "Epoch [1/1], Loss: 3.7927\n"
          ]
        },
        {
          "output_type": "stream",
          "name": "stderr",
          "text": [
            "\n"
          ]
        }
      ],
      "source": [
        "import torch.optim as optim\n",
        "\n",
        "from tqdm import tqdm\n",
        "\n",
        "num_epochs = 1\n",
        "learning_rate = 5e-4\n",
        "\n",
        "criterion = nn.CrossEntropyLoss()\n",
        "optimizer = optim.Adam(model.parameters(), lr=learning_rate)\n",
        "\n",
        "for epoch in tqdm(range(num_epochs)):\n",
        "    model.train()\n",
        "    total_loss = 0\n",
        "\n",
        "    for src,mask,trg in tqdm(train_loader):\n",
        "        #print(trg.shape)\n",
        "        trg_input = trg\n",
        "        trg_output = trg[:, 1:].contiguous()\n",
        "\n",
        "        ## 지금 모든 문장은 <bos> i love you <eos> <pad> ,,, 이런식임 BO\n",
        "        ## input때는 괜찮은데, output때는 bos 밀고 끝에 pad 토큰 추가\n",
        "\n",
        "        trg_output = torch.cat((trg_output, torch.full((src.shape[0], 1),58100)),dim=1)\n",
        "        #print(trg_input.shape)\n",
        "        #print(trg_output.shape)\n",
        "        trg_output = trg_output.view(-1)\n",
        "\n",
        "        #print(trg_input)\n",
        "\n",
        "        #torch.autograd.set_detect_anomaly(True)\n",
        "\n",
        "        ## input 과 output 제대로 비교해보자.\n",
        "        # transformer 결과로 나오는거는 output dim 만큼의 확률인데,,,.....\n",
        "\n",
        "        output = model(src, trg_input)\n",
        "        output = output.view(-1, output.shape[-1])\n",
        "        #print(trg_output.shape)\n",
        "        #print(output.shape)\n",
        "        #print(\"Output contains NaN:\", torch.isnan(output).any().item())\n",
        "        loss = criterion(output, trg_output)\n",
        "        optimizer.zero_grad()\n",
        "        loss.backward()\n",
        "        optimizer.step()\n",
        "\n",
        "        total_loss += loss.item()\n",
        "        print(\"loss : \", total_loss)\n",
        "\n",
        "\n",
        "    print(f\"Epoch [{epoch+1}/{num_epochs}], Loss: {total_loss/len(train_loader):.4f}\")\n",
        "\n"
      ]
    },
    {
      "cell_type": "code",
      "execution_count": null,
      "metadata": {
        "id": "Rs77_3FbaBhs"
      },
      "outputs": [],
      "source": [
        "model.eval()  # Set the model to evaluation mode\n",
        "\n",
        "for src, mask, trg in test_loader:\n",
        "    with torch.no_grad():  # Disable gradient computation\n",
        "        trg_input = trg\n",
        "        trg_output = trg[:, 1:].contiguous()\n",
        "        trg_output = torch.cat((trg_output, torch.full((src.shape[0], 1),58100)),dim=1)\n",
        "        trg_output = trg_output.view(-1)\n",
        "        output = model(src, trg_input)\n",
        "        output = output.view(-1, output.shape[-1])\n",
        "\n",
        "    # Get the predicted tokens (argmax over the vocabulary dimension)\n",
        "\n",
        "    # Iterate over the batch to handle each sequence individually\n",
        "    for i in range(src.size(0)):  # Iterate over the batch dimension\n",
        "        # Convert token IDs to tokens for the target and predicted sequences\n",
        "        target_tokens = tokenizer.convert_ids_to_tokens(trg[i].tolist())\n",
        "        predicted_tokens_seq = tokenizer.convert_ids_to_tokens(output[i].tolist())\n",
        "\n",
        "        print(f\"Sequence {i + 1}:\")\n",
        "        print(\"정답 (Target):\", target_tokens)\n",
        "        print(\"예측 (Prediction):\", predicted_tokens_seq)\n",
        "        print(\"-\" * 50)\n",
        "    break"
      ]
    }
  ],
  "metadata": {
    "accelerator": "GPU",
    "colab": {
      "gpuType": "A100",
      "provenance": [],
      "authorship_tag": "ABX9TyOBmsuRVE6qrydeoaVl7w+q",
      "include_colab_link": true
    },
    "kernelspec": {
      "display_name": "Python 3",
      "name": "python3"
    },
    "language_info": {
      "name": "python"
    },
    "widgets": {
      "application/vnd.jupyter.widget-state+json": {
        "c5481fd57a7a42bd9c3590ebbc729cf9": {
          "model_module": "@jupyter-widgets/controls",
          "model_name": "HBoxModel",
          "model_module_version": "1.5.0",
          "state": {
            "_dom_classes": [],
            "_model_module": "@jupyter-widgets/controls",
            "_model_module_version": "1.5.0",
            "_model_name": "HBoxModel",
            "_view_count": null,
            "_view_module": "@jupyter-widgets/controls",
            "_view_module_version": "1.5.0",
            "_view_name": "HBoxView",
            "box_style": "",
            "children": [
              "IPY_MODEL_5cfde00cddee4f50a5b50b0937d84d1c",
              "IPY_MODEL_614692907d474767bcbdc9dd14922ea8",
              "IPY_MODEL_ed255b5f482c4bc7b48955aa771e5543"
            ],
            "layout": "IPY_MODEL_b1ce713c13ae4574936edec665cdeb57"
          }
        },
        "5cfde00cddee4f50a5b50b0937d84d1c": {
          "model_module": "@jupyter-widgets/controls",
          "model_name": "HTMLModel",
          "model_module_version": "1.5.0",
          "state": {
            "_dom_classes": [],
            "_model_module": "@jupyter-widgets/controls",
            "_model_module_version": "1.5.0",
            "_model_name": "HTMLModel",
            "_view_count": null,
            "_view_module": "@jupyter-widgets/controls",
            "_view_module_version": "1.5.0",
            "_view_name": "HTMLView",
            "description": "",
            "description_tooltip": null,
            "layout": "IPY_MODEL_9d4feb9418d1460f82e72a05f0b30fd1",
            "placeholder": "​",
            "style": "IPY_MODEL_949ffc4ca80e44fd9879b32812c75f50",
            "value": "README.md: 100%"
          }
        },
        "614692907d474767bcbdc9dd14922ea8": {
          "model_module": "@jupyter-widgets/controls",
          "model_name": "FloatProgressModel",
          "model_module_version": "1.5.0",
          "state": {
            "_dom_classes": [],
            "_model_module": "@jupyter-widgets/controls",
            "_model_module_version": "1.5.0",
            "_model_name": "FloatProgressModel",
            "_view_count": null,
            "_view_module": "@jupyter-widgets/controls",
            "_view_module_version": "1.5.0",
            "_view_name": "ProgressView",
            "bar_style": "success",
            "description": "",
            "description_tooltip": null,
            "layout": "IPY_MODEL_c3b5ec46e4ba43248304d04516c7c705",
            "max": 11142,
            "min": 0,
            "orientation": "horizontal",
            "style": "IPY_MODEL_8eeb158e4eff440dab2291c19e1f9eda",
            "value": 11142
          }
        },
        "ed255b5f482c4bc7b48955aa771e5543": {
          "model_module": "@jupyter-widgets/controls",
          "model_name": "HTMLModel",
          "model_module_version": "1.5.0",
          "state": {
            "_dom_classes": [],
            "_model_module": "@jupyter-widgets/controls",
            "_model_module_version": "1.5.0",
            "_model_name": "HTMLModel",
            "_view_count": null,
            "_view_module": "@jupyter-widgets/controls",
            "_view_module_version": "1.5.0",
            "_view_name": "HTMLView",
            "description": "",
            "description_tooltip": null,
            "layout": "IPY_MODEL_60a306930c594f8097d644936c6fb744",
            "placeholder": "​",
            "style": "IPY_MODEL_397c8dff9b1543209e37a4d7deedf0ed",
            "value": " 11.1k/11.1k [00:00&lt;00:00, 804kB/s]"
          }
        },
        "b1ce713c13ae4574936edec665cdeb57": {
          "model_module": "@jupyter-widgets/base",
          "model_name": "LayoutModel",
          "model_module_version": "1.2.0",
          "state": {
            "_model_module": "@jupyter-widgets/base",
            "_model_module_version": "1.2.0",
            "_model_name": "LayoutModel",
            "_view_count": null,
            "_view_module": "@jupyter-widgets/base",
            "_view_module_version": "1.2.0",
            "_view_name": "LayoutView",
            "align_content": null,
            "align_items": null,
            "align_self": null,
            "border": null,
            "bottom": null,
            "display": null,
            "flex": null,
            "flex_flow": null,
            "grid_area": null,
            "grid_auto_columns": null,
            "grid_auto_flow": null,
            "grid_auto_rows": null,
            "grid_column": null,
            "grid_gap": null,
            "grid_row": null,
            "grid_template_areas": null,
            "grid_template_columns": null,
            "grid_template_rows": null,
            "height": null,
            "justify_content": null,
            "justify_items": null,
            "left": null,
            "margin": null,
            "max_height": null,
            "max_width": null,
            "min_height": null,
            "min_width": null,
            "object_fit": null,
            "object_position": null,
            "order": null,
            "overflow": null,
            "overflow_x": null,
            "overflow_y": null,
            "padding": null,
            "right": null,
            "top": null,
            "visibility": null,
            "width": null
          }
        },
        "9d4feb9418d1460f82e72a05f0b30fd1": {
          "model_module": "@jupyter-widgets/base",
          "model_name": "LayoutModel",
          "model_module_version": "1.2.0",
          "state": {
            "_model_module": "@jupyter-widgets/base",
            "_model_module_version": "1.2.0",
            "_model_name": "LayoutModel",
            "_view_count": null,
            "_view_module": "@jupyter-widgets/base",
            "_view_module_version": "1.2.0",
            "_view_name": "LayoutView",
            "align_content": null,
            "align_items": null,
            "align_self": null,
            "border": null,
            "bottom": null,
            "display": null,
            "flex": null,
            "flex_flow": null,
            "grid_area": null,
            "grid_auto_columns": null,
            "grid_auto_flow": null,
            "grid_auto_rows": null,
            "grid_column": null,
            "grid_gap": null,
            "grid_row": null,
            "grid_template_areas": null,
            "grid_template_columns": null,
            "grid_template_rows": null,
            "height": null,
            "justify_content": null,
            "justify_items": null,
            "left": null,
            "margin": null,
            "max_height": null,
            "max_width": null,
            "min_height": null,
            "min_width": null,
            "object_fit": null,
            "object_position": null,
            "order": null,
            "overflow": null,
            "overflow_x": null,
            "overflow_y": null,
            "padding": null,
            "right": null,
            "top": null,
            "visibility": null,
            "width": null
          }
        },
        "949ffc4ca80e44fd9879b32812c75f50": {
          "model_module": "@jupyter-widgets/controls",
          "model_name": "DescriptionStyleModel",
          "model_module_version": "1.5.0",
          "state": {
            "_model_module": "@jupyter-widgets/controls",
            "_model_module_version": "1.5.0",
            "_model_name": "DescriptionStyleModel",
            "_view_count": null,
            "_view_module": "@jupyter-widgets/base",
            "_view_module_version": "1.2.0",
            "_view_name": "StyleView",
            "description_width": ""
          }
        },
        "c3b5ec46e4ba43248304d04516c7c705": {
          "model_module": "@jupyter-widgets/base",
          "model_name": "LayoutModel",
          "model_module_version": "1.2.0",
          "state": {
            "_model_module": "@jupyter-widgets/base",
            "_model_module_version": "1.2.0",
            "_model_name": "LayoutModel",
            "_view_count": null,
            "_view_module": "@jupyter-widgets/base",
            "_view_module_version": "1.2.0",
            "_view_name": "LayoutView",
            "align_content": null,
            "align_items": null,
            "align_self": null,
            "border": null,
            "bottom": null,
            "display": null,
            "flex": null,
            "flex_flow": null,
            "grid_area": null,
            "grid_auto_columns": null,
            "grid_auto_flow": null,
            "grid_auto_rows": null,
            "grid_column": null,
            "grid_gap": null,
            "grid_row": null,
            "grid_template_areas": null,
            "grid_template_columns": null,
            "grid_template_rows": null,
            "height": null,
            "justify_content": null,
            "justify_items": null,
            "left": null,
            "margin": null,
            "max_height": null,
            "max_width": null,
            "min_height": null,
            "min_width": null,
            "object_fit": null,
            "object_position": null,
            "order": null,
            "overflow": null,
            "overflow_x": null,
            "overflow_y": null,
            "padding": null,
            "right": null,
            "top": null,
            "visibility": null,
            "width": null
          }
        },
        "8eeb158e4eff440dab2291c19e1f9eda": {
          "model_module": "@jupyter-widgets/controls",
          "model_name": "ProgressStyleModel",
          "model_module_version": "1.5.0",
          "state": {
            "_model_module": "@jupyter-widgets/controls",
            "_model_module_version": "1.5.0",
            "_model_name": "ProgressStyleModel",
            "_view_count": null,
            "_view_module": "@jupyter-widgets/base",
            "_view_module_version": "1.2.0",
            "_view_name": "StyleView",
            "bar_color": null,
            "description_width": ""
          }
        },
        "60a306930c594f8097d644936c6fb744": {
          "model_module": "@jupyter-widgets/base",
          "model_name": "LayoutModel",
          "model_module_version": "1.2.0",
          "state": {
            "_model_module": "@jupyter-widgets/base",
            "_model_module_version": "1.2.0",
            "_model_name": "LayoutModel",
            "_view_count": null,
            "_view_module": "@jupyter-widgets/base",
            "_view_module_version": "1.2.0",
            "_view_name": "LayoutView",
            "align_content": null,
            "align_items": null,
            "align_self": null,
            "border": null,
            "bottom": null,
            "display": null,
            "flex": null,
            "flex_flow": null,
            "grid_area": null,
            "grid_auto_columns": null,
            "grid_auto_flow": null,
            "grid_auto_rows": null,
            "grid_column": null,
            "grid_gap": null,
            "grid_row": null,
            "grid_template_areas": null,
            "grid_template_columns": null,
            "grid_template_rows": null,
            "height": null,
            "justify_content": null,
            "justify_items": null,
            "left": null,
            "margin": null,
            "max_height": null,
            "max_width": null,
            "min_height": null,
            "min_width": null,
            "object_fit": null,
            "object_position": null,
            "order": null,
            "overflow": null,
            "overflow_x": null,
            "overflow_y": null,
            "padding": null,
            "right": null,
            "top": null,
            "visibility": null,
            "width": null
          }
        },
        "397c8dff9b1543209e37a4d7deedf0ed": {
          "model_module": "@jupyter-widgets/controls",
          "model_name": "DescriptionStyleModel",
          "model_module_version": "1.5.0",
          "state": {
            "_model_module": "@jupyter-widgets/controls",
            "_model_module_version": "1.5.0",
            "_model_name": "DescriptionStyleModel",
            "_view_count": null,
            "_view_module": "@jupyter-widgets/base",
            "_view_module_version": "1.2.0",
            "_view_name": "StyleView",
            "description_width": ""
          }
        },
        "1fe34ae2f7a846a0abf449ee648c18fc": {
          "model_module": "@jupyter-widgets/controls",
          "model_name": "HBoxModel",
          "model_module_version": "1.5.0",
          "state": {
            "_dom_classes": [],
            "_model_module": "@jupyter-widgets/controls",
            "_model_module_version": "1.5.0",
            "_model_name": "HBoxModel",
            "_view_count": null,
            "_view_module": "@jupyter-widgets/controls",
            "_view_module_version": "1.5.0",
            "_view_name": "HBoxView",
            "box_style": "",
            "children": [
              "IPY_MODEL_db722ec5844d4002862dcb951032a390",
              "IPY_MODEL_45b3eb6b9de546eaa3e7cc19428f5a5e",
              "IPY_MODEL_37a929dec1db4bba941002a3401934e5"
            ],
            "layout": "IPY_MODEL_c36c3719c23548e3ac578cbce69987b6"
          }
        },
        "db722ec5844d4002862dcb951032a390": {
          "model_module": "@jupyter-widgets/controls",
          "model_name": "HTMLModel",
          "model_module_version": "1.5.0",
          "state": {
            "_dom_classes": [],
            "_model_module": "@jupyter-widgets/controls",
            "_model_module_version": "1.5.0",
            "_model_name": "HTMLModel",
            "_view_count": null,
            "_view_module": "@jupyter-widgets/controls",
            "_view_module_version": "1.5.0",
            "_view_name": "HTMLView",
            "description": "",
            "description_tooltip": null,
            "layout": "IPY_MODEL_e97c58c3ee244f7d8128f44bec2ff058",
            "placeholder": "​",
            "style": "IPY_MODEL_ac7a9449cc5445808fb0a4922f4046ac",
            "value": "train-00000-of-00003.parquet: 100%"
          }
        },
        "45b3eb6b9de546eaa3e7cc19428f5a5e": {
          "model_module": "@jupyter-widgets/controls",
          "model_name": "FloatProgressModel",
          "model_module_version": "1.5.0",
          "state": {
            "_dom_classes": [],
            "_model_module": "@jupyter-widgets/controls",
            "_model_module_version": "1.5.0",
            "_model_name": "FloatProgressModel",
            "_view_count": null,
            "_view_module": "@jupyter-widgets/controls",
            "_view_module_version": "1.5.0",
            "_view_name": "ProgressView",
            "bar_style": "success",
            "description": "",
            "description_tooltip": null,
            "layout": "IPY_MODEL_45e94561c183473cbc226ec661058d67",
            "max": 282014647,
            "min": 0,
            "orientation": "horizontal",
            "style": "IPY_MODEL_9aa089a2defe48cd8bef235f7ec1b804",
            "value": 282014647
          }
        },
        "37a929dec1db4bba941002a3401934e5": {
          "model_module": "@jupyter-widgets/controls",
          "model_name": "HTMLModel",
          "model_module_version": "1.5.0",
          "state": {
            "_dom_classes": [],
            "_model_module": "@jupyter-widgets/controls",
            "_model_module_version": "1.5.0",
            "_model_name": "HTMLModel",
            "_view_count": null,
            "_view_module": "@jupyter-widgets/controls",
            "_view_module_version": "1.5.0",
            "_view_name": "HTMLView",
            "description": "",
            "description_tooltip": null,
            "layout": "IPY_MODEL_4318058361cb40ab997ac39b9faacfa6",
            "placeholder": "​",
            "style": "IPY_MODEL_48da05bd90b643b1af4391760a996128",
            "value": " 282M/282M [00:01&lt;00:00, 224MB/s]"
          }
        },
        "c36c3719c23548e3ac578cbce69987b6": {
          "model_module": "@jupyter-widgets/base",
          "model_name": "LayoutModel",
          "model_module_version": "1.2.0",
          "state": {
            "_model_module": "@jupyter-widgets/base",
            "_model_module_version": "1.2.0",
            "_model_name": "LayoutModel",
            "_view_count": null,
            "_view_module": "@jupyter-widgets/base",
            "_view_module_version": "1.2.0",
            "_view_name": "LayoutView",
            "align_content": null,
            "align_items": null,
            "align_self": null,
            "border": null,
            "bottom": null,
            "display": null,
            "flex": null,
            "flex_flow": null,
            "grid_area": null,
            "grid_auto_columns": null,
            "grid_auto_flow": null,
            "grid_auto_rows": null,
            "grid_column": null,
            "grid_gap": null,
            "grid_row": null,
            "grid_template_areas": null,
            "grid_template_columns": null,
            "grid_template_rows": null,
            "height": null,
            "justify_content": null,
            "justify_items": null,
            "left": null,
            "margin": null,
            "max_height": null,
            "max_width": null,
            "min_height": null,
            "min_width": null,
            "object_fit": null,
            "object_position": null,
            "order": null,
            "overflow": null,
            "overflow_x": null,
            "overflow_y": null,
            "padding": null,
            "right": null,
            "top": null,
            "visibility": null,
            "width": null
          }
        },
        "e97c58c3ee244f7d8128f44bec2ff058": {
          "model_module": "@jupyter-widgets/base",
          "model_name": "LayoutModel",
          "model_module_version": "1.2.0",
          "state": {
            "_model_module": "@jupyter-widgets/base",
            "_model_module_version": "1.2.0",
            "_model_name": "LayoutModel",
            "_view_count": null,
            "_view_module": "@jupyter-widgets/base",
            "_view_module_version": "1.2.0",
            "_view_name": "LayoutView",
            "align_content": null,
            "align_items": null,
            "align_self": null,
            "border": null,
            "bottom": null,
            "display": null,
            "flex": null,
            "flex_flow": null,
            "grid_area": null,
            "grid_auto_columns": null,
            "grid_auto_flow": null,
            "grid_auto_rows": null,
            "grid_column": null,
            "grid_gap": null,
            "grid_row": null,
            "grid_template_areas": null,
            "grid_template_columns": null,
            "grid_template_rows": null,
            "height": null,
            "justify_content": null,
            "justify_items": null,
            "left": null,
            "margin": null,
            "max_height": null,
            "max_width": null,
            "min_height": null,
            "min_width": null,
            "object_fit": null,
            "object_position": null,
            "order": null,
            "overflow": null,
            "overflow_x": null,
            "overflow_y": null,
            "padding": null,
            "right": null,
            "top": null,
            "visibility": null,
            "width": null
          }
        },
        "ac7a9449cc5445808fb0a4922f4046ac": {
          "model_module": "@jupyter-widgets/controls",
          "model_name": "DescriptionStyleModel",
          "model_module_version": "1.5.0",
          "state": {
            "_model_module": "@jupyter-widgets/controls",
            "_model_module_version": "1.5.0",
            "_model_name": "DescriptionStyleModel",
            "_view_count": null,
            "_view_module": "@jupyter-widgets/base",
            "_view_module_version": "1.2.0",
            "_view_name": "StyleView",
            "description_width": ""
          }
        },
        "45e94561c183473cbc226ec661058d67": {
          "model_module": "@jupyter-widgets/base",
          "model_name": "LayoutModel",
          "model_module_version": "1.2.0",
          "state": {
            "_model_module": "@jupyter-widgets/base",
            "_model_module_version": "1.2.0",
            "_model_name": "LayoutModel",
            "_view_count": null,
            "_view_module": "@jupyter-widgets/base",
            "_view_module_version": "1.2.0",
            "_view_name": "LayoutView",
            "align_content": null,
            "align_items": null,
            "align_self": null,
            "border": null,
            "bottom": null,
            "display": null,
            "flex": null,
            "flex_flow": null,
            "grid_area": null,
            "grid_auto_columns": null,
            "grid_auto_flow": null,
            "grid_auto_rows": null,
            "grid_column": null,
            "grid_gap": null,
            "grid_row": null,
            "grid_template_areas": null,
            "grid_template_columns": null,
            "grid_template_rows": null,
            "height": null,
            "justify_content": null,
            "justify_items": null,
            "left": null,
            "margin": null,
            "max_height": null,
            "max_width": null,
            "min_height": null,
            "min_width": null,
            "object_fit": null,
            "object_position": null,
            "order": null,
            "overflow": null,
            "overflow_x": null,
            "overflow_y": null,
            "padding": null,
            "right": null,
            "top": null,
            "visibility": null,
            "width": null
          }
        },
        "9aa089a2defe48cd8bef235f7ec1b804": {
          "model_module": "@jupyter-widgets/controls",
          "model_name": "ProgressStyleModel",
          "model_module_version": "1.5.0",
          "state": {
            "_model_module": "@jupyter-widgets/controls",
            "_model_module_version": "1.5.0",
            "_model_name": "ProgressStyleModel",
            "_view_count": null,
            "_view_module": "@jupyter-widgets/base",
            "_view_module_version": "1.2.0",
            "_view_name": "StyleView",
            "bar_color": null,
            "description_width": ""
          }
        },
        "4318058361cb40ab997ac39b9faacfa6": {
          "model_module": "@jupyter-widgets/base",
          "model_name": "LayoutModel",
          "model_module_version": "1.2.0",
          "state": {
            "_model_module": "@jupyter-widgets/base",
            "_model_module_version": "1.2.0",
            "_model_name": "LayoutModel",
            "_view_count": null,
            "_view_module": "@jupyter-widgets/base",
            "_view_module_version": "1.2.0",
            "_view_name": "LayoutView",
            "align_content": null,
            "align_items": null,
            "align_self": null,
            "border": null,
            "bottom": null,
            "display": null,
            "flex": null,
            "flex_flow": null,
            "grid_area": null,
            "grid_auto_columns": null,
            "grid_auto_flow": null,
            "grid_auto_rows": null,
            "grid_column": null,
            "grid_gap": null,
            "grid_row": null,
            "grid_template_areas": null,
            "grid_template_columns": null,
            "grid_template_rows": null,
            "height": null,
            "justify_content": null,
            "justify_items": null,
            "left": null,
            "margin": null,
            "max_height": null,
            "max_width": null,
            "min_height": null,
            "min_width": null,
            "object_fit": null,
            "object_position": null,
            "order": null,
            "overflow": null,
            "overflow_x": null,
            "overflow_y": null,
            "padding": null,
            "right": null,
            "top": null,
            "visibility": null,
            "width": null
          }
        },
        "48da05bd90b643b1af4391760a996128": {
          "model_module": "@jupyter-widgets/controls",
          "model_name": "DescriptionStyleModel",
          "model_module_version": "1.5.0",
          "state": {
            "_model_module": "@jupyter-widgets/controls",
            "_model_module_version": "1.5.0",
            "_model_name": "DescriptionStyleModel",
            "_view_count": null,
            "_view_module": "@jupyter-widgets/base",
            "_view_module_version": "1.2.0",
            "_view_name": "StyleView",
            "description_width": ""
          }
        },
        "642a2fd20fad4e9e8de22743556a7ff1": {
          "model_module": "@jupyter-widgets/controls",
          "model_name": "HBoxModel",
          "model_module_version": "1.5.0",
          "state": {
            "_dom_classes": [],
            "_model_module": "@jupyter-widgets/controls",
            "_model_module_version": "1.5.0",
            "_model_name": "HBoxModel",
            "_view_count": null,
            "_view_module": "@jupyter-widgets/controls",
            "_view_module_version": "1.5.0",
            "_view_name": "HBoxView",
            "box_style": "",
            "children": [
              "IPY_MODEL_17f4439b65d54cb1966d9e17c9a45b13",
              "IPY_MODEL_ace6aa62235d4c2eb556119a9331ab0f",
              "IPY_MODEL_9a330fcbd9994bcdb31fe3519aefddb3"
            ],
            "layout": "IPY_MODEL_4154b1c6937740a28f9b9048ce114656"
          }
        },
        "17f4439b65d54cb1966d9e17c9a45b13": {
          "model_module": "@jupyter-widgets/controls",
          "model_name": "HTMLModel",
          "model_module_version": "1.5.0",
          "state": {
            "_dom_classes": [],
            "_model_module": "@jupyter-widgets/controls",
            "_model_module_version": "1.5.0",
            "_model_name": "HTMLModel",
            "_view_count": null,
            "_view_module": "@jupyter-widgets/controls",
            "_view_module_version": "1.5.0",
            "_view_name": "HTMLView",
            "description": "",
            "description_tooltip": null,
            "layout": "IPY_MODEL_4589a54a1f954b5ca9266e40b75e1ff6",
            "placeholder": "​",
            "style": "IPY_MODEL_da9e420a08564442a17dadd64ffd623e",
            "value": "train-00001-of-00003.parquet: 100%"
          }
        },
        "ace6aa62235d4c2eb556119a9331ab0f": {
          "model_module": "@jupyter-widgets/controls",
          "model_name": "FloatProgressModel",
          "model_module_version": "1.5.0",
          "state": {
            "_dom_classes": [],
            "_model_module": "@jupyter-widgets/controls",
            "_model_module_version": "1.5.0",
            "_model_name": "FloatProgressModel",
            "_view_count": null,
            "_view_module": "@jupyter-widgets/controls",
            "_view_module_version": "1.5.0",
            "_view_name": "ProgressView",
            "bar_style": "success",
            "description": "",
            "description_tooltip": null,
            "layout": "IPY_MODEL_826d7fa17032498f8dae494ef822bb85",
            "max": 267375046,
            "min": 0,
            "orientation": "horizontal",
            "style": "IPY_MODEL_e6b553d7fbc14eac8b9886c68973d516",
            "value": 267375046
          }
        },
        "9a330fcbd9994bcdb31fe3519aefddb3": {
          "model_module": "@jupyter-widgets/controls",
          "model_name": "HTMLModel",
          "model_module_version": "1.5.0",
          "state": {
            "_dom_classes": [],
            "_model_module": "@jupyter-widgets/controls",
            "_model_module_version": "1.5.0",
            "_model_name": "HTMLModel",
            "_view_count": null,
            "_view_module": "@jupyter-widgets/controls",
            "_view_module_version": "1.5.0",
            "_view_name": "HTMLView",
            "description": "",
            "description_tooltip": null,
            "layout": "IPY_MODEL_ebc6657060764e269672bea0950fa000",
            "placeholder": "​",
            "style": "IPY_MODEL_f53461b347a94036a2c214514b1a68f6",
            "value": " 267M/267M [00:01&lt;00:00, 214MB/s]"
          }
        },
        "4154b1c6937740a28f9b9048ce114656": {
          "model_module": "@jupyter-widgets/base",
          "model_name": "LayoutModel",
          "model_module_version": "1.2.0",
          "state": {
            "_model_module": "@jupyter-widgets/base",
            "_model_module_version": "1.2.0",
            "_model_name": "LayoutModel",
            "_view_count": null,
            "_view_module": "@jupyter-widgets/base",
            "_view_module_version": "1.2.0",
            "_view_name": "LayoutView",
            "align_content": null,
            "align_items": null,
            "align_self": null,
            "border": null,
            "bottom": null,
            "display": null,
            "flex": null,
            "flex_flow": null,
            "grid_area": null,
            "grid_auto_columns": null,
            "grid_auto_flow": null,
            "grid_auto_rows": null,
            "grid_column": null,
            "grid_gap": null,
            "grid_row": null,
            "grid_template_areas": null,
            "grid_template_columns": null,
            "grid_template_rows": null,
            "height": null,
            "justify_content": null,
            "justify_items": null,
            "left": null,
            "margin": null,
            "max_height": null,
            "max_width": null,
            "min_height": null,
            "min_width": null,
            "object_fit": null,
            "object_position": null,
            "order": null,
            "overflow": null,
            "overflow_x": null,
            "overflow_y": null,
            "padding": null,
            "right": null,
            "top": null,
            "visibility": null,
            "width": null
          }
        },
        "4589a54a1f954b5ca9266e40b75e1ff6": {
          "model_module": "@jupyter-widgets/base",
          "model_name": "LayoutModel",
          "model_module_version": "1.2.0",
          "state": {
            "_model_module": "@jupyter-widgets/base",
            "_model_module_version": "1.2.0",
            "_model_name": "LayoutModel",
            "_view_count": null,
            "_view_module": "@jupyter-widgets/base",
            "_view_module_version": "1.2.0",
            "_view_name": "LayoutView",
            "align_content": null,
            "align_items": null,
            "align_self": null,
            "border": null,
            "bottom": null,
            "display": null,
            "flex": null,
            "flex_flow": null,
            "grid_area": null,
            "grid_auto_columns": null,
            "grid_auto_flow": null,
            "grid_auto_rows": null,
            "grid_column": null,
            "grid_gap": null,
            "grid_row": null,
            "grid_template_areas": null,
            "grid_template_columns": null,
            "grid_template_rows": null,
            "height": null,
            "justify_content": null,
            "justify_items": null,
            "left": null,
            "margin": null,
            "max_height": null,
            "max_width": null,
            "min_height": null,
            "min_width": null,
            "object_fit": null,
            "object_position": null,
            "order": null,
            "overflow": null,
            "overflow_x": null,
            "overflow_y": null,
            "padding": null,
            "right": null,
            "top": null,
            "visibility": null,
            "width": null
          }
        },
        "da9e420a08564442a17dadd64ffd623e": {
          "model_module": "@jupyter-widgets/controls",
          "model_name": "DescriptionStyleModel",
          "model_module_version": "1.5.0",
          "state": {
            "_model_module": "@jupyter-widgets/controls",
            "_model_module_version": "1.5.0",
            "_model_name": "DescriptionStyleModel",
            "_view_count": null,
            "_view_module": "@jupyter-widgets/base",
            "_view_module_version": "1.2.0",
            "_view_name": "StyleView",
            "description_width": ""
          }
        },
        "826d7fa17032498f8dae494ef822bb85": {
          "model_module": "@jupyter-widgets/base",
          "model_name": "LayoutModel",
          "model_module_version": "1.2.0",
          "state": {
            "_model_module": "@jupyter-widgets/base",
            "_model_module_version": "1.2.0",
            "_model_name": "LayoutModel",
            "_view_count": null,
            "_view_module": "@jupyter-widgets/base",
            "_view_module_version": "1.2.0",
            "_view_name": "LayoutView",
            "align_content": null,
            "align_items": null,
            "align_self": null,
            "border": null,
            "bottom": null,
            "display": null,
            "flex": null,
            "flex_flow": null,
            "grid_area": null,
            "grid_auto_columns": null,
            "grid_auto_flow": null,
            "grid_auto_rows": null,
            "grid_column": null,
            "grid_gap": null,
            "grid_row": null,
            "grid_template_areas": null,
            "grid_template_columns": null,
            "grid_template_rows": null,
            "height": null,
            "justify_content": null,
            "justify_items": null,
            "left": null,
            "margin": null,
            "max_height": null,
            "max_width": null,
            "min_height": null,
            "min_width": null,
            "object_fit": null,
            "object_position": null,
            "order": null,
            "overflow": null,
            "overflow_x": null,
            "overflow_y": null,
            "padding": null,
            "right": null,
            "top": null,
            "visibility": null,
            "width": null
          }
        },
        "e6b553d7fbc14eac8b9886c68973d516": {
          "model_module": "@jupyter-widgets/controls",
          "model_name": "ProgressStyleModel",
          "model_module_version": "1.5.0",
          "state": {
            "_model_module": "@jupyter-widgets/controls",
            "_model_module_version": "1.5.0",
            "_model_name": "ProgressStyleModel",
            "_view_count": null,
            "_view_module": "@jupyter-widgets/base",
            "_view_module_version": "1.2.0",
            "_view_name": "StyleView",
            "bar_color": null,
            "description_width": ""
          }
        },
        "ebc6657060764e269672bea0950fa000": {
          "model_module": "@jupyter-widgets/base",
          "model_name": "LayoutModel",
          "model_module_version": "1.2.0",
          "state": {
            "_model_module": "@jupyter-widgets/base",
            "_model_module_version": "1.2.0",
            "_model_name": "LayoutModel",
            "_view_count": null,
            "_view_module": "@jupyter-widgets/base",
            "_view_module_version": "1.2.0",
            "_view_name": "LayoutView",
            "align_content": null,
            "align_items": null,
            "align_self": null,
            "border": null,
            "bottom": null,
            "display": null,
            "flex": null,
            "flex_flow": null,
            "grid_area": null,
            "grid_auto_columns": null,
            "grid_auto_flow": null,
            "grid_auto_rows": null,
            "grid_column": null,
            "grid_gap": null,
            "grid_row": null,
            "grid_template_areas": null,
            "grid_template_columns": null,
            "grid_template_rows": null,
            "height": null,
            "justify_content": null,
            "justify_items": null,
            "left": null,
            "margin": null,
            "max_height": null,
            "max_width": null,
            "min_height": null,
            "min_width": null,
            "object_fit": null,
            "object_position": null,
            "order": null,
            "overflow": null,
            "overflow_x": null,
            "overflow_y": null,
            "padding": null,
            "right": null,
            "top": null,
            "visibility": null,
            "width": null
          }
        },
        "f53461b347a94036a2c214514b1a68f6": {
          "model_module": "@jupyter-widgets/controls",
          "model_name": "DescriptionStyleModel",
          "model_module_version": "1.5.0",
          "state": {
            "_model_module": "@jupyter-widgets/controls",
            "_model_module_version": "1.5.0",
            "_model_name": "DescriptionStyleModel",
            "_view_count": null,
            "_view_module": "@jupyter-widgets/base",
            "_view_module_version": "1.2.0",
            "_view_name": "StyleView",
            "description_width": ""
          }
        },
        "e7087e5d20114feaaf1279d046eaf645": {
          "model_module": "@jupyter-widgets/controls",
          "model_name": "HBoxModel",
          "model_module_version": "1.5.0",
          "state": {
            "_dom_classes": [],
            "_model_module": "@jupyter-widgets/controls",
            "_model_module_version": "1.5.0",
            "_model_name": "HBoxModel",
            "_view_count": null,
            "_view_module": "@jupyter-widgets/controls",
            "_view_module_version": "1.5.0",
            "_view_name": "HBoxView",
            "box_style": "",
            "children": [
              "IPY_MODEL_d80ff0e1c2dc482dafdcc7645ae9ece6",
              "IPY_MODEL_9b0f6178f26f4e589d81cc6ece0599e0",
              "IPY_MODEL_987bdb31af224f8e8f011845cfa29282"
            ],
            "layout": "IPY_MODEL_cd00ebde004b45bba1538ec62059aaff"
          }
        },
        "d80ff0e1c2dc482dafdcc7645ae9ece6": {
          "model_module": "@jupyter-widgets/controls",
          "model_name": "HTMLModel",
          "model_module_version": "1.5.0",
          "state": {
            "_dom_classes": [],
            "_model_module": "@jupyter-widgets/controls",
            "_model_module_version": "1.5.0",
            "_model_name": "HTMLModel",
            "_view_count": null,
            "_view_module": "@jupyter-widgets/controls",
            "_view_module_version": "1.5.0",
            "_view_name": "HTMLView",
            "description": "",
            "description_tooltip": null,
            "layout": "IPY_MODEL_2e290d0f45b444568d77ffc1ea73a981",
            "placeholder": "​",
            "style": "IPY_MODEL_bcd8f654ca414f8c84f2b7d2b2da41b9",
            "value": "train-00002-of-00003.parquet: 100%"
          }
        },
        "9b0f6178f26f4e589d81cc6ece0599e0": {
          "model_module": "@jupyter-widgets/controls",
          "model_name": "FloatProgressModel",
          "model_module_version": "1.5.0",
          "state": {
            "_dom_classes": [],
            "_model_module": "@jupyter-widgets/controls",
            "_model_module_version": "1.5.0",
            "_model_name": "FloatProgressModel",
            "_view_count": null,
            "_view_module": "@jupyter-widgets/controls",
            "_view_module_version": "1.5.0",
            "_view_name": "ProgressView",
            "bar_style": "success",
            "description": "",
            "description_tooltip": null,
            "layout": "IPY_MODEL_3889e00b38a7453c8cfc58d86d861bac",
            "max": 276945174,
            "min": 0,
            "orientation": "horizontal",
            "style": "IPY_MODEL_bf3f0bba36c74eb8a0c89fb8a8e8a99b",
            "value": 276945174
          }
        },
        "987bdb31af224f8e8f011845cfa29282": {
          "model_module": "@jupyter-widgets/controls",
          "model_name": "HTMLModel",
          "model_module_version": "1.5.0",
          "state": {
            "_dom_classes": [],
            "_model_module": "@jupyter-widgets/controls",
            "_model_module_version": "1.5.0",
            "_model_name": "HTMLModel",
            "_view_count": null,
            "_view_module": "@jupyter-widgets/controls",
            "_view_module_version": "1.5.0",
            "_view_name": "HTMLView",
            "description": "",
            "description_tooltip": null,
            "layout": "IPY_MODEL_a37d3b906bc54952b88142559f511421",
            "placeholder": "​",
            "style": "IPY_MODEL_5554e373215643ce9d996d54ae649a70",
            "value": " 277M/277M [00:11&lt;00:00, 23.3MB/s]"
          }
        },
        "cd00ebde004b45bba1538ec62059aaff": {
          "model_module": "@jupyter-widgets/base",
          "model_name": "LayoutModel",
          "model_module_version": "1.2.0",
          "state": {
            "_model_module": "@jupyter-widgets/base",
            "_model_module_version": "1.2.0",
            "_model_name": "LayoutModel",
            "_view_count": null,
            "_view_module": "@jupyter-widgets/base",
            "_view_module_version": "1.2.0",
            "_view_name": "LayoutView",
            "align_content": null,
            "align_items": null,
            "align_self": null,
            "border": null,
            "bottom": null,
            "display": null,
            "flex": null,
            "flex_flow": null,
            "grid_area": null,
            "grid_auto_columns": null,
            "grid_auto_flow": null,
            "grid_auto_rows": null,
            "grid_column": null,
            "grid_gap": null,
            "grid_row": null,
            "grid_template_areas": null,
            "grid_template_columns": null,
            "grid_template_rows": null,
            "height": null,
            "justify_content": null,
            "justify_items": null,
            "left": null,
            "margin": null,
            "max_height": null,
            "max_width": null,
            "min_height": null,
            "min_width": null,
            "object_fit": null,
            "object_position": null,
            "order": null,
            "overflow": null,
            "overflow_x": null,
            "overflow_y": null,
            "padding": null,
            "right": null,
            "top": null,
            "visibility": null,
            "width": null
          }
        },
        "2e290d0f45b444568d77ffc1ea73a981": {
          "model_module": "@jupyter-widgets/base",
          "model_name": "LayoutModel",
          "model_module_version": "1.2.0",
          "state": {
            "_model_module": "@jupyter-widgets/base",
            "_model_module_version": "1.2.0",
            "_model_name": "LayoutModel",
            "_view_count": null,
            "_view_module": "@jupyter-widgets/base",
            "_view_module_version": "1.2.0",
            "_view_name": "LayoutView",
            "align_content": null,
            "align_items": null,
            "align_self": null,
            "border": null,
            "bottom": null,
            "display": null,
            "flex": null,
            "flex_flow": null,
            "grid_area": null,
            "grid_auto_columns": null,
            "grid_auto_flow": null,
            "grid_auto_rows": null,
            "grid_column": null,
            "grid_gap": null,
            "grid_row": null,
            "grid_template_areas": null,
            "grid_template_columns": null,
            "grid_template_rows": null,
            "height": null,
            "justify_content": null,
            "justify_items": null,
            "left": null,
            "margin": null,
            "max_height": null,
            "max_width": null,
            "min_height": null,
            "min_width": null,
            "object_fit": null,
            "object_position": null,
            "order": null,
            "overflow": null,
            "overflow_x": null,
            "overflow_y": null,
            "padding": null,
            "right": null,
            "top": null,
            "visibility": null,
            "width": null
          }
        },
        "bcd8f654ca414f8c84f2b7d2b2da41b9": {
          "model_module": "@jupyter-widgets/controls",
          "model_name": "DescriptionStyleModel",
          "model_module_version": "1.5.0",
          "state": {
            "_model_module": "@jupyter-widgets/controls",
            "_model_module_version": "1.5.0",
            "_model_name": "DescriptionStyleModel",
            "_view_count": null,
            "_view_module": "@jupyter-widgets/base",
            "_view_module_version": "1.2.0",
            "_view_name": "StyleView",
            "description_width": ""
          }
        },
        "3889e00b38a7453c8cfc58d86d861bac": {
          "model_module": "@jupyter-widgets/base",
          "model_name": "LayoutModel",
          "model_module_version": "1.2.0",
          "state": {
            "_model_module": "@jupyter-widgets/base",
            "_model_module_version": "1.2.0",
            "_model_name": "LayoutModel",
            "_view_count": null,
            "_view_module": "@jupyter-widgets/base",
            "_view_module_version": "1.2.0",
            "_view_name": "LayoutView",
            "align_content": null,
            "align_items": null,
            "align_self": null,
            "border": null,
            "bottom": null,
            "display": null,
            "flex": null,
            "flex_flow": null,
            "grid_area": null,
            "grid_auto_columns": null,
            "grid_auto_flow": null,
            "grid_auto_rows": null,
            "grid_column": null,
            "grid_gap": null,
            "grid_row": null,
            "grid_template_areas": null,
            "grid_template_columns": null,
            "grid_template_rows": null,
            "height": null,
            "justify_content": null,
            "justify_items": null,
            "left": null,
            "margin": null,
            "max_height": null,
            "max_width": null,
            "min_height": null,
            "min_width": null,
            "object_fit": null,
            "object_position": null,
            "order": null,
            "overflow": null,
            "overflow_x": null,
            "overflow_y": null,
            "padding": null,
            "right": null,
            "top": null,
            "visibility": null,
            "width": null
          }
        },
        "bf3f0bba36c74eb8a0c89fb8a8e8a99b": {
          "model_module": "@jupyter-widgets/controls",
          "model_name": "ProgressStyleModel",
          "model_module_version": "1.5.0",
          "state": {
            "_model_module": "@jupyter-widgets/controls",
            "_model_module_version": "1.5.0",
            "_model_name": "ProgressStyleModel",
            "_view_count": null,
            "_view_module": "@jupyter-widgets/base",
            "_view_module_version": "1.2.0",
            "_view_name": "StyleView",
            "bar_color": null,
            "description_width": ""
          }
        },
        "a37d3b906bc54952b88142559f511421": {
          "model_module": "@jupyter-widgets/base",
          "model_name": "LayoutModel",
          "model_module_version": "1.2.0",
          "state": {
            "_model_module": "@jupyter-widgets/base",
            "_model_module_version": "1.2.0",
            "_model_name": "LayoutModel",
            "_view_count": null,
            "_view_module": "@jupyter-widgets/base",
            "_view_module_version": "1.2.0",
            "_view_name": "LayoutView",
            "align_content": null,
            "align_items": null,
            "align_self": null,
            "border": null,
            "bottom": null,
            "display": null,
            "flex": null,
            "flex_flow": null,
            "grid_area": null,
            "grid_auto_columns": null,
            "grid_auto_flow": null,
            "grid_auto_rows": null,
            "grid_column": null,
            "grid_gap": null,
            "grid_row": null,
            "grid_template_areas": null,
            "grid_template_columns": null,
            "grid_template_rows": null,
            "height": null,
            "justify_content": null,
            "justify_items": null,
            "left": null,
            "margin": null,
            "max_height": null,
            "max_width": null,
            "min_height": null,
            "min_width": null,
            "object_fit": null,
            "object_position": null,
            "order": null,
            "overflow": null,
            "overflow_x": null,
            "overflow_y": null,
            "padding": null,
            "right": null,
            "top": null,
            "visibility": null,
            "width": null
          }
        },
        "5554e373215643ce9d996d54ae649a70": {
          "model_module": "@jupyter-widgets/controls",
          "model_name": "DescriptionStyleModel",
          "model_module_version": "1.5.0",
          "state": {
            "_model_module": "@jupyter-widgets/controls",
            "_model_module_version": "1.5.0",
            "_model_name": "DescriptionStyleModel",
            "_view_count": null,
            "_view_module": "@jupyter-widgets/base",
            "_view_module_version": "1.2.0",
            "_view_name": "StyleView",
            "description_width": ""
          }
        },
        "502d6d89f1914bb98cda155cdcf4d59f": {
          "model_module": "@jupyter-widgets/controls",
          "model_name": "HBoxModel",
          "model_module_version": "1.5.0",
          "state": {
            "_dom_classes": [],
            "_model_module": "@jupyter-widgets/controls",
            "_model_module_version": "1.5.0",
            "_model_name": "HBoxModel",
            "_view_count": null,
            "_view_module": "@jupyter-widgets/controls",
            "_view_module_version": "1.5.0",
            "_view_name": "HBoxView",
            "box_style": "",
            "children": [
              "IPY_MODEL_d0534701466f4e1a81e80e9c18a3c860",
              "IPY_MODEL_ca258f6e09ef401cbb5f39c44fa8668e",
              "IPY_MODEL_16576e8b6f6e4a1f83e319aa527db6ce"
            ],
            "layout": "IPY_MODEL_0f6ea938858d47cbba6762d47e1af7ae"
          }
        },
        "d0534701466f4e1a81e80e9c18a3c860": {
          "model_module": "@jupyter-widgets/controls",
          "model_name": "HTMLModel",
          "model_module_version": "1.5.0",
          "state": {
            "_dom_classes": [],
            "_model_module": "@jupyter-widgets/controls",
            "_model_module_version": "1.5.0",
            "_model_name": "HTMLModel",
            "_view_count": null,
            "_view_module": "@jupyter-widgets/controls",
            "_view_module_version": "1.5.0",
            "_view_name": "HTMLView",
            "description": "",
            "description_tooltip": null,
            "layout": "IPY_MODEL_dc90ad9734404bdba68657187d5d837c",
            "placeholder": "​",
            "style": "IPY_MODEL_2d4854723d8940f4b18ed607f6187af9",
            "value": "validation-00000-of-00001.parquet: 100%"
          }
        },
        "ca258f6e09ef401cbb5f39c44fa8668e": {
          "model_module": "@jupyter-widgets/controls",
          "model_name": "FloatProgressModel",
          "model_module_version": "1.5.0",
          "state": {
            "_dom_classes": [],
            "_model_module": "@jupyter-widgets/controls",
            "_model_module_version": "1.5.0",
            "_model_name": "FloatProgressModel",
            "_view_count": null,
            "_view_module": "@jupyter-widgets/controls",
            "_view_module_version": "1.5.0",
            "_view_name": "ProgressView",
            "bar_style": "success",
            "description": "",
            "description_tooltip": null,
            "layout": "IPY_MODEL_a0625df173ca4515b51c112c9f4b1855",
            "max": 342691,
            "min": 0,
            "orientation": "horizontal",
            "style": "IPY_MODEL_c955a71e125f43a5b4a39b97192f5a39",
            "value": 342691
          }
        },
        "16576e8b6f6e4a1f83e319aa527db6ce": {
          "model_module": "@jupyter-widgets/controls",
          "model_name": "HTMLModel",
          "model_module_version": "1.5.0",
          "state": {
            "_dom_classes": [],
            "_model_module": "@jupyter-widgets/controls",
            "_model_module_version": "1.5.0",
            "_model_name": "HTMLModel",
            "_view_count": null,
            "_view_module": "@jupyter-widgets/controls",
            "_view_module_version": "1.5.0",
            "_view_name": "HTMLView",
            "description": "",
            "description_tooltip": null,
            "layout": "IPY_MODEL_74a4ab55da24445092f1bfdb2d81347d",
            "placeholder": "​",
            "style": "IPY_MODEL_d36b6995c930429a8b225d81d09f62eb",
            "value": " 343k/343k [00:00&lt;00:00, 26.8MB/s]"
          }
        },
        "0f6ea938858d47cbba6762d47e1af7ae": {
          "model_module": "@jupyter-widgets/base",
          "model_name": "LayoutModel",
          "model_module_version": "1.2.0",
          "state": {
            "_model_module": "@jupyter-widgets/base",
            "_model_module_version": "1.2.0",
            "_model_name": "LayoutModel",
            "_view_count": null,
            "_view_module": "@jupyter-widgets/base",
            "_view_module_version": "1.2.0",
            "_view_name": "LayoutView",
            "align_content": null,
            "align_items": null,
            "align_self": null,
            "border": null,
            "bottom": null,
            "display": null,
            "flex": null,
            "flex_flow": null,
            "grid_area": null,
            "grid_auto_columns": null,
            "grid_auto_flow": null,
            "grid_auto_rows": null,
            "grid_column": null,
            "grid_gap": null,
            "grid_row": null,
            "grid_template_areas": null,
            "grid_template_columns": null,
            "grid_template_rows": null,
            "height": null,
            "justify_content": null,
            "justify_items": null,
            "left": null,
            "margin": null,
            "max_height": null,
            "max_width": null,
            "min_height": null,
            "min_width": null,
            "object_fit": null,
            "object_position": null,
            "order": null,
            "overflow": null,
            "overflow_x": null,
            "overflow_y": null,
            "padding": null,
            "right": null,
            "top": null,
            "visibility": null,
            "width": null
          }
        },
        "dc90ad9734404bdba68657187d5d837c": {
          "model_module": "@jupyter-widgets/base",
          "model_name": "LayoutModel",
          "model_module_version": "1.2.0",
          "state": {
            "_model_module": "@jupyter-widgets/base",
            "_model_module_version": "1.2.0",
            "_model_name": "LayoutModel",
            "_view_count": null,
            "_view_module": "@jupyter-widgets/base",
            "_view_module_version": "1.2.0",
            "_view_name": "LayoutView",
            "align_content": null,
            "align_items": null,
            "align_self": null,
            "border": null,
            "bottom": null,
            "display": null,
            "flex": null,
            "flex_flow": null,
            "grid_area": null,
            "grid_auto_columns": null,
            "grid_auto_flow": null,
            "grid_auto_rows": null,
            "grid_column": null,
            "grid_gap": null,
            "grid_row": null,
            "grid_template_areas": null,
            "grid_template_columns": null,
            "grid_template_rows": null,
            "height": null,
            "justify_content": null,
            "justify_items": null,
            "left": null,
            "margin": null,
            "max_height": null,
            "max_width": null,
            "min_height": null,
            "min_width": null,
            "object_fit": null,
            "object_position": null,
            "order": null,
            "overflow": null,
            "overflow_x": null,
            "overflow_y": null,
            "padding": null,
            "right": null,
            "top": null,
            "visibility": null,
            "width": null
          }
        },
        "2d4854723d8940f4b18ed607f6187af9": {
          "model_module": "@jupyter-widgets/controls",
          "model_name": "DescriptionStyleModel",
          "model_module_version": "1.5.0",
          "state": {
            "_model_module": "@jupyter-widgets/controls",
            "_model_module_version": "1.5.0",
            "_model_name": "DescriptionStyleModel",
            "_view_count": null,
            "_view_module": "@jupyter-widgets/base",
            "_view_module_version": "1.2.0",
            "_view_name": "StyleView",
            "description_width": ""
          }
        },
        "a0625df173ca4515b51c112c9f4b1855": {
          "model_module": "@jupyter-widgets/base",
          "model_name": "LayoutModel",
          "model_module_version": "1.2.0",
          "state": {
            "_model_module": "@jupyter-widgets/base",
            "_model_module_version": "1.2.0",
            "_model_name": "LayoutModel",
            "_view_count": null,
            "_view_module": "@jupyter-widgets/base",
            "_view_module_version": "1.2.0",
            "_view_name": "LayoutView",
            "align_content": null,
            "align_items": null,
            "align_self": null,
            "border": null,
            "bottom": null,
            "display": null,
            "flex": null,
            "flex_flow": null,
            "grid_area": null,
            "grid_auto_columns": null,
            "grid_auto_flow": null,
            "grid_auto_rows": null,
            "grid_column": null,
            "grid_gap": null,
            "grid_row": null,
            "grid_template_areas": null,
            "grid_template_columns": null,
            "grid_template_rows": null,
            "height": null,
            "justify_content": null,
            "justify_items": null,
            "left": null,
            "margin": null,
            "max_height": null,
            "max_width": null,
            "min_height": null,
            "min_width": null,
            "object_fit": null,
            "object_position": null,
            "order": null,
            "overflow": null,
            "overflow_x": null,
            "overflow_y": null,
            "padding": null,
            "right": null,
            "top": null,
            "visibility": null,
            "width": null
          }
        },
        "c955a71e125f43a5b4a39b97192f5a39": {
          "model_module": "@jupyter-widgets/controls",
          "model_name": "ProgressStyleModel",
          "model_module_version": "1.5.0",
          "state": {
            "_model_module": "@jupyter-widgets/controls",
            "_model_module_version": "1.5.0",
            "_model_name": "ProgressStyleModel",
            "_view_count": null,
            "_view_module": "@jupyter-widgets/base",
            "_view_module_version": "1.2.0",
            "_view_name": "StyleView",
            "bar_color": null,
            "description_width": ""
          }
        },
        "74a4ab55da24445092f1bfdb2d81347d": {
          "model_module": "@jupyter-widgets/base",
          "model_name": "LayoutModel",
          "model_module_version": "1.2.0",
          "state": {
            "_model_module": "@jupyter-widgets/base",
            "_model_module_version": "1.2.0",
            "_model_name": "LayoutModel",
            "_view_count": null,
            "_view_module": "@jupyter-widgets/base",
            "_view_module_version": "1.2.0",
            "_view_name": "LayoutView",
            "align_content": null,
            "align_items": null,
            "align_self": null,
            "border": null,
            "bottom": null,
            "display": null,
            "flex": null,
            "flex_flow": null,
            "grid_area": null,
            "grid_auto_columns": null,
            "grid_auto_flow": null,
            "grid_auto_rows": null,
            "grid_column": null,
            "grid_gap": null,
            "grid_row": null,
            "grid_template_areas": null,
            "grid_template_columns": null,
            "grid_template_rows": null,
            "height": null,
            "justify_content": null,
            "justify_items": null,
            "left": null,
            "margin": null,
            "max_height": null,
            "max_width": null,
            "min_height": null,
            "min_width": null,
            "object_fit": null,
            "object_position": null,
            "order": null,
            "overflow": null,
            "overflow_x": null,
            "overflow_y": null,
            "padding": null,
            "right": null,
            "top": null,
            "visibility": null,
            "width": null
          }
        },
        "d36b6995c930429a8b225d81d09f62eb": {
          "model_module": "@jupyter-widgets/controls",
          "model_name": "DescriptionStyleModel",
          "model_module_version": "1.5.0",
          "state": {
            "_model_module": "@jupyter-widgets/controls",
            "_model_module_version": "1.5.0",
            "_model_name": "DescriptionStyleModel",
            "_view_count": null,
            "_view_module": "@jupyter-widgets/base",
            "_view_module_version": "1.2.0",
            "_view_name": "StyleView",
            "description_width": ""
          }
        },
        "f7b099f15b8244dcbdde488b24e61e9a": {
          "model_module": "@jupyter-widgets/controls",
          "model_name": "HBoxModel",
          "model_module_version": "1.5.0",
          "state": {
            "_dom_classes": [],
            "_model_module": "@jupyter-widgets/controls",
            "_model_module_version": "1.5.0",
            "_model_name": "HBoxModel",
            "_view_count": null,
            "_view_module": "@jupyter-widgets/controls",
            "_view_module_version": "1.5.0",
            "_view_name": "HBoxView",
            "box_style": "",
            "children": [
              "IPY_MODEL_6d01460f76134fe0a25b54e2fa28c4ae",
              "IPY_MODEL_97b59c51c4e24e2ba648b1569c921dff",
              "IPY_MODEL_f91f113bc4ec448dba09fb26aa58220f"
            ],
            "layout": "IPY_MODEL_91e6f861a91848ca9383d915afe800d8"
          }
        },
        "6d01460f76134fe0a25b54e2fa28c4ae": {
          "model_module": "@jupyter-widgets/controls",
          "model_name": "HTMLModel",
          "model_module_version": "1.5.0",
          "state": {
            "_dom_classes": [],
            "_model_module": "@jupyter-widgets/controls",
            "_model_module_version": "1.5.0",
            "_model_name": "HTMLModel",
            "_view_count": null,
            "_view_module": "@jupyter-widgets/controls",
            "_view_module_version": "1.5.0",
            "_view_name": "HTMLView",
            "description": "",
            "description_tooltip": null,
            "layout": "IPY_MODEL_71dcbcaeae654a87a3bf35affa450d2d",
            "placeholder": "​",
            "style": "IPY_MODEL_6b84a2cf04884033aeae58b283a15c17",
            "value": "test-00000-of-00001.parquet: 100%"
          }
        },
        "97b59c51c4e24e2ba648b1569c921dff": {
          "model_module": "@jupyter-widgets/controls",
          "model_name": "FloatProgressModel",
          "model_module_version": "1.5.0",
          "state": {
            "_dom_classes": [],
            "_model_module": "@jupyter-widgets/controls",
            "_model_module_version": "1.5.0",
            "_model_name": "FloatProgressModel",
            "_view_count": null,
            "_view_module": "@jupyter-widgets/controls",
            "_view_module_version": "1.5.0",
            "_view_name": "ProgressView",
            "bar_style": "success",
            "description": "",
            "description_tooltip": null,
            "layout": "IPY_MODEL_6be98b884db34637b1de13df7fcac4a0",
            "max": 475031,
            "min": 0,
            "orientation": "horizontal",
            "style": "IPY_MODEL_bff84ed721414d4b90712717c2d796a1",
            "value": 475031
          }
        },
        "f91f113bc4ec448dba09fb26aa58220f": {
          "model_module": "@jupyter-widgets/controls",
          "model_name": "HTMLModel",
          "model_module_version": "1.5.0",
          "state": {
            "_dom_classes": [],
            "_model_module": "@jupyter-widgets/controls",
            "_model_module_version": "1.5.0",
            "_model_name": "HTMLModel",
            "_view_count": null,
            "_view_module": "@jupyter-widgets/controls",
            "_view_module_version": "1.5.0",
            "_view_name": "HTMLView",
            "description": "",
            "description_tooltip": null,
            "layout": "IPY_MODEL_041bc2baf0d7404abfd375443c2ef567",
            "placeholder": "​",
            "style": "IPY_MODEL_1ef043b9c92c4fffbc1ec59bd5084c40",
            "value": " 475k/475k [00:00&lt;00:00, 33.8MB/s]"
          }
        },
        "91e6f861a91848ca9383d915afe800d8": {
          "model_module": "@jupyter-widgets/base",
          "model_name": "LayoutModel",
          "model_module_version": "1.2.0",
          "state": {
            "_model_module": "@jupyter-widgets/base",
            "_model_module_version": "1.2.0",
            "_model_name": "LayoutModel",
            "_view_count": null,
            "_view_module": "@jupyter-widgets/base",
            "_view_module_version": "1.2.0",
            "_view_name": "LayoutView",
            "align_content": null,
            "align_items": null,
            "align_self": null,
            "border": null,
            "bottom": null,
            "display": null,
            "flex": null,
            "flex_flow": null,
            "grid_area": null,
            "grid_auto_columns": null,
            "grid_auto_flow": null,
            "grid_auto_rows": null,
            "grid_column": null,
            "grid_gap": null,
            "grid_row": null,
            "grid_template_areas": null,
            "grid_template_columns": null,
            "grid_template_rows": null,
            "height": null,
            "justify_content": null,
            "justify_items": null,
            "left": null,
            "margin": null,
            "max_height": null,
            "max_width": null,
            "min_height": null,
            "min_width": null,
            "object_fit": null,
            "object_position": null,
            "order": null,
            "overflow": null,
            "overflow_x": null,
            "overflow_y": null,
            "padding": null,
            "right": null,
            "top": null,
            "visibility": null,
            "width": null
          }
        },
        "71dcbcaeae654a87a3bf35affa450d2d": {
          "model_module": "@jupyter-widgets/base",
          "model_name": "LayoutModel",
          "model_module_version": "1.2.0",
          "state": {
            "_model_module": "@jupyter-widgets/base",
            "_model_module_version": "1.2.0",
            "_model_name": "LayoutModel",
            "_view_count": null,
            "_view_module": "@jupyter-widgets/base",
            "_view_module_version": "1.2.0",
            "_view_name": "LayoutView",
            "align_content": null,
            "align_items": null,
            "align_self": null,
            "border": null,
            "bottom": null,
            "display": null,
            "flex": null,
            "flex_flow": null,
            "grid_area": null,
            "grid_auto_columns": null,
            "grid_auto_flow": null,
            "grid_auto_rows": null,
            "grid_column": null,
            "grid_gap": null,
            "grid_row": null,
            "grid_template_areas": null,
            "grid_template_columns": null,
            "grid_template_rows": null,
            "height": null,
            "justify_content": null,
            "justify_items": null,
            "left": null,
            "margin": null,
            "max_height": null,
            "max_width": null,
            "min_height": null,
            "min_width": null,
            "object_fit": null,
            "object_position": null,
            "order": null,
            "overflow": null,
            "overflow_x": null,
            "overflow_y": null,
            "padding": null,
            "right": null,
            "top": null,
            "visibility": null,
            "width": null
          }
        },
        "6b84a2cf04884033aeae58b283a15c17": {
          "model_module": "@jupyter-widgets/controls",
          "model_name": "DescriptionStyleModel",
          "model_module_version": "1.5.0",
          "state": {
            "_model_module": "@jupyter-widgets/controls",
            "_model_module_version": "1.5.0",
            "_model_name": "DescriptionStyleModel",
            "_view_count": null,
            "_view_module": "@jupyter-widgets/base",
            "_view_module_version": "1.2.0",
            "_view_name": "StyleView",
            "description_width": ""
          }
        },
        "6be98b884db34637b1de13df7fcac4a0": {
          "model_module": "@jupyter-widgets/base",
          "model_name": "LayoutModel",
          "model_module_version": "1.2.0",
          "state": {
            "_model_module": "@jupyter-widgets/base",
            "_model_module_version": "1.2.0",
            "_model_name": "LayoutModel",
            "_view_count": null,
            "_view_module": "@jupyter-widgets/base",
            "_view_module_version": "1.2.0",
            "_view_name": "LayoutView",
            "align_content": null,
            "align_items": null,
            "align_self": null,
            "border": null,
            "bottom": null,
            "display": null,
            "flex": null,
            "flex_flow": null,
            "grid_area": null,
            "grid_auto_columns": null,
            "grid_auto_flow": null,
            "grid_auto_rows": null,
            "grid_column": null,
            "grid_gap": null,
            "grid_row": null,
            "grid_template_areas": null,
            "grid_template_columns": null,
            "grid_template_rows": null,
            "height": null,
            "justify_content": null,
            "justify_items": null,
            "left": null,
            "margin": null,
            "max_height": null,
            "max_width": null,
            "min_height": null,
            "min_width": null,
            "object_fit": null,
            "object_position": null,
            "order": null,
            "overflow": null,
            "overflow_x": null,
            "overflow_y": null,
            "padding": null,
            "right": null,
            "top": null,
            "visibility": null,
            "width": null
          }
        },
        "bff84ed721414d4b90712717c2d796a1": {
          "model_module": "@jupyter-widgets/controls",
          "model_name": "ProgressStyleModel",
          "model_module_version": "1.5.0",
          "state": {
            "_model_module": "@jupyter-widgets/controls",
            "_model_module_version": "1.5.0",
            "_model_name": "ProgressStyleModel",
            "_view_count": null,
            "_view_module": "@jupyter-widgets/base",
            "_view_module_version": "1.2.0",
            "_view_name": "StyleView",
            "bar_color": null,
            "description_width": ""
          }
        },
        "041bc2baf0d7404abfd375443c2ef567": {
          "model_module": "@jupyter-widgets/base",
          "model_name": "LayoutModel",
          "model_module_version": "1.2.0",
          "state": {
            "_model_module": "@jupyter-widgets/base",
            "_model_module_version": "1.2.0",
            "_model_name": "LayoutModel",
            "_view_count": null,
            "_view_module": "@jupyter-widgets/base",
            "_view_module_version": "1.2.0",
            "_view_name": "LayoutView",
            "align_content": null,
            "align_items": null,
            "align_self": null,
            "border": null,
            "bottom": null,
            "display": null,
            "flex": null,
            "flex_flow": null,
            "grid_area": null,
            "grid_auto_columns": null,
            "grid_auto_flow": null,
            "grid_auto_rows": null,
            "grid_column": null,
            "grid_gap": null,
            "grid_row": null,
            "grid_template_areas": null,
            "grid_template_columns": null,
            "grid_template_rows": null,
            "height": null,
            "justify_content": null,
            "justify_items": null,
            "left": null,
            "margin": null,
            "max_height": null,
            "max_width": null,
            "min_height": null,
            "min_width": null,
            "object_fit": null,
            "object_position": null,
            "order": null,
            "overflow": null,
            "overflow_x": null,
            "overflow_y": null,
            "padding": null,
            "right": null,
            "top": null,
            "visibility": null,
            "width": null
          }
        },
        "1ef043b9c92c4fffbc1ec59bd5084c40": {
          "model_module": "@jupyter-widgets/controls",
          "model_name": "DescriptionStyleModel",
          "model_module_version": "1.5.0",
          "state": {
            "_model_module": "@jupyter-widgets/controls",
            "_model_module_version": "1.5.0",
            "_model_name": "DescriptionStyleModel",
            "_view_count": null,
            "_view_module": "@jupyter-widgets/base",
            "_view_module_version": "1.2.0",
            "_view_name": "StyleView",
            "description_width": ""
          }
        },
        "fe04a081077b4e61a677189aae32130a": {
          "model_module": "@jupyter-widgets/controls",
          "model_name": "HBoxModel",
          "model_module_version": "1.5.0",
          "state": {
            "_dom_classes": [],
            "_model_module": "@jupyter-widgets/controls",
            "_model_module_version": "1.5.0",
            "_model_name": "HBoxModel",
            "_view_count": null,
            "_view_module": "@jupyter-widgets/controls",
            "_view_module_version": "1.5.0",
            "_view_name": "HBoxView",
            "box_style": "",
            "children": [
              "IPY_MODEL_50c8662f5573458e8e68f3f004b2e23e",
              "IPY_MODEL_886ea5d9b82644a0bf6b0347e7095d15",
              "IPY_MODEL_605e541bb6664681b7578a60214ac864"
            ],
            "layout": "IPY_MODEL_497c360ad2254e42b4706d567777df2e"
          }
        },
        "50c8662f5573458e8e68f3f004b2e23e": {
          "model_module": "@jupyter-widgets/controls",
          "model_name": "HTMLModel",
          "model_module_version": "1.5.0",
          "state": {
            "_dom_classes": [],
            "_model_module": "@jupyter-widgets/controls",
            "_model_module_version": "1.5.0",
            "_model_name": "HTMLModel",
            "_view_count": null,
            "_view_module": "@jupyter-widgets/controls",
            "_view_module_version": "1.5.0",
            "_view_name": "HTMLView",
            "description": "",
            "description_tooltip": null,
            "layout": "IPY_MODEL_2c6b972a55e645dbb30469c9d8a0d8a8",
            "placeholder": "​",
            "style": "IPY_MODEL_50488b7b3f1942a28505b0ffb672071a",
            "value": "Generating train split: 100%"
          }
        },
        "886ea5d9b82644a0bf6b0347e7095d15": {
          "model_module": "@jupyter-widgets/controls",
          "model_name": "FloatProgressModel",
          "model_module_version": "1.5.0",
          "state": {
            "_dom_classes": [],
            "_model_module": "@jupyter-widgets/controls",
            "_model_module_version": "1.5.0",
            "_model_name": "FloatProgressModel",
            "_view_count": null,
            "_view_module": "@jupyter-widgets/controls",
            "_view_module_version": "1.5.0",
            "_view_name": "ProgressView",
            "bar_style": "success",
            "description": "",
            "description_tooltip": null,
            "layout": "IPY_MODEL_9f9cb2fd89cd443286450867a3234618",
            "max": 4548885,
            "min": 0,
            "orientation": "horizontal",
            "style": "IPY_MODEL_5fd9e6a5d5754d00bd5b2aa3c71c883a",
            "value": 4548885
          }
        },
        "605e541bb6664681b7578a60214ac864": {
          "model_module": "@jupyter-widgets/controls",
          "model_name": "HTMLModel",
          "model_module_version": "1.5.0",
          "state": {
            "_dom_classes": [],
            "_model_module": "@jupyter-widgets/controls",
            "_model_module_version": "1.5.0",
            "_model_name": "HTMLModel",
            "_view_count": null,
            "_view_module": "@jupyter-widgets/controls",
            "_view_module_version": "1.5.0",
            "_view_name": "HTMLView",
            "description": "",
            "description_tooltip": null,
            "layout": "IPY_MODEL_42ffb1cc31fe45728961c2d81af992c9",
            "placeholder": "​",
            "style": "IPY_MODEL_7044b0fe95f1413eaee62b1ed6e77212",
            "value": " 4548885/4548885 [00:05&lt;00:00, 773698.38 examples/s]"
          }
        },
        "497c360ad2254e42b4706d567777df2e": {
          "model_module": "@jupyter-widgets/base",
          "model_name": "LayoutModel",
          "model_module_version": "1.2.0",
          "state": {
            "_model_module": "@jupyter-widgets/base",
            "_model_module_version": "1.2.0",
            "_model_name": "LayoutModel",
            "_view_count": null,
            "_view_module": "@jupyter-widgets/base",
            "_view_module_version": "1.2.0",
            "_view_name": "LayoutView",
            "align_content": null,
            "align_items": null,
            "align_self": null,
            "border": null,
            "bottom": null,
            "display": null,
            "flex": null,
            "flex_flow": null,
            "grid_area": null,
            "grid_auto_columns": null,
            "grid_auto_flow": null,
            "grid_auto_rows": null,
            "grid_column": null,
            "grid_gap": null,
            "grid_row": null,
            "grid_template_areas": null,
            "grid_template_columns": null,
            "grid_template_rows": null,
            "height": null,
            "justify_content": null,
            "justify_items": null,
            "left": null,
            "margin": null,
            "max_height": null,
            "max_width": null,
            "min_height": null,
            "min_width": null,
            "object_fit": null,
            "object_position": null,
            "order": null,
            "overflow": null,
            "overflow_x": null,
            "overflow_y": null,
            "padding": null,
            "right": null,
            "top": null,
            "visibility": null,
            "width": null
          }
        },
        "2c6b972a55e645dbb30469c9d8a0d8a8": {
          "model_module": "@jupyter-widgets/base",
          "model_name": "LayoutModel",
          "model_module_version": "1.2.0",
          "state": {
            "_model_module": "@jupyter-widgets/base",
            "_model_module_version": "1.2.0",
            "_model_name": "LayoutModel",
            "_view_count": null,
            "_view_module": "@jupyter-widgets/base",
            "_view_module_version": "1.2.0",
            "_view_name": "LayoutView",
            "align_content": null,
            "align_items": null,
            "align_self": null,
            "border": null,
            "bottom": null,
            "display": null,
            "flex": null,
            "flex_flow": null,
            "grid_area": null,
            "grid_auto_columns": null,
            "grid_auto_flow": null,
            "grid_auto_rows": null,
            "grid_column": null,
            "grid_gap": null,
            "grid_row": null,
            "grid_template_areas": null,
            "grid_template_columns": null,
            "grid_template_rows": null,
            "height": null,
            "justify_content": null,
            "justify_items": null,
            "left": null,
            "margin": null,
            "max_height": null,
            "max_width": null,
            "min_height": null,
            "min_width": null,
            "object_fit": null,
            "object_position": null,
            "order": null,
            "overflow": null,
            "overflow_x": null,
            "overflow_y": null,
            "padding": null,
            "right": null,
            "top": null,
            "visibility": null,
            "width": null
          }
        },
        "50488b7b3f1942a28505b0ffb672071a": {
          "model_module": "@jupyter-widgets/controls",
          "model_name": "DescriptionStyleModel",
          "model_module_version": "1.5.0",
          "state": {
            "_model_module": "@jupyter-widgets/controls",
            "_model_module_version": "1.5.0",
            "_model_name": "DescriptionStyleModel",
            "_view_count": null,
            "_view_module": "@jupyter-widgets/base",
            "_view_module_version": "1.2.0",
            "_view_name": "StyleView",
            "description_width": ""
          }
        },
        "9f9cb2fd89cd443286450867a3234618": {
          "model_module": "@jupyter-widgets/base",
          "model_name": "LayoutModel",
          "model_module_version": "1.2.0",
          "state": {
            "_model_module": "@jupyter-widgets/base",
            "_model_module_version": "1.2.0",
            "_model_name": "LayoutModel",
            "_view_count": null,
            "_view_module": "@jupyter-widgets/base",
            "_view_module_version": "1.2.0",
            "_view_name": "LayoutView",
            "align_content": null,
            "align_items": null,
            "align_self": null,
            "border": null,
            "bottom": null,
            "display": null,
            "flex": null,
            "flex_flow": null,
            "grid_area": null,
            "grid_auto_columns": null,
            "grid_auto_flow": null,
            "grid_auto_rows": null,
            "grid_column": null,
            "grid_gap": null,
            "grid_row": null,
            "grid_template_areas": null,
            "grid_template_columns": null,
            "grid_template_rows": null,
            "height": null,
            "justify_content": null,
            "justify_items": null,
            "left": null,
            "margin": null,
            "max_height": null,
            "max_width": null,
            "min_height": null,
            "min_width": null,
            "object_fit": null,
            "object_position": null,
            "order": null,
            "overflow": null,
            "overflow_x": null,
            "overflow_y": null,
            "padding": null,
            "right": null,
            "top": null,
            "visibility": null,
            "width": null
          }
        },
        "5fd9e6a5d5754d00bd5b2aa3c71c883a": {
          "model_module": "@jupyter-widgets/controls",
          "model_name": "ProgressStyleModel",
          "model_module_version": "1.5.0",
          "state": {
            "_model_module": "@jupyter-widgets/controls",
            "_model_module_version": "1.5.0",
            "_model_name": "ProgressStyleModel",
            "_view_count": null,
            "_view_module": "@jupyter-widgets/base",
            "_view_module_version": "1.2.0",
            "_view_name": "StyleView",
            "bar_color": null,
            "description_width": ""
          }
        },
        "42ffb1cc31fe45728961c2d81af992c9": {
          "model_module": "@jupyter-widgets/base",
          "model_name": "LayoutModel",
          "model_module_version": "1.2.0",
          "state": {
            "_model_module": "@jupyter-widgets/base",
            "_model_module_version": "1.2.0",
            "_model_name": "LayoutModel",
            "_view_count": null,
            "_view_module": "@jupyter-widgets/base",
            "_view_module_version": "1.2.0",
            "_view_name": "LayoutView",
            "align_content": null,
            "align_items": null,
            "align_self": null,
            "border": null,
            "bottom": null,
            "display": null,
            "flex": null,
            "flex_flow": null,
            "grid_area": null,
            "grid_auto_columns": null,
            "grid_auto_flow": null,
            "grid_auto_rows": null,
            "grid_column": null,
            "grid_gap": null,
            "grid_row": null,
            "grid_template_areas": null,
            "grid_template_columns": null,
            "grid_template_rows": null,
            "height": null,
            "justify_content": null,
            "justify_items": null,
            "left": null,
            "margin": null,
            "max_height": null,
            "max_width": null,
            "min_height": null,
            "min_width": null,
            "object_fit": null,
            "object_position": null,
            "order": null,
            "overflow": null,
            "overflow_x": null,
            "overflow_y": null,
            "padding": null,
            "right": null,
            "top": null,
            "visibility": null,
            "width": null
          }
        },
        "7044b0fe95f1413eaee62b1ed6e77212": {
          "model_module": "@jupyter-widgets/controls",
          "model_name": "DescriptionStyleModel",
          "model_module_version": "1.5.0",
          "state": {
            "_model_module": "@jupyter-widgets/controls",
            "_model_module_version": "1.5.0",
            "_model_name": "DescriptionStyleModel",
            "_view_count": null,
            "_view_module": "@jupyter-widgets/base",
            "_view_module_version": "1.2.0",
            "_view_name": "StyleView",
            "description_width": ""
          }
        },
        "f5b89f5b2f1f455a8bfae823c6c409c9": {
          "model_module": "@jupyter-widgets/controls",
          "model_name": "HBoxModel",
          "model_module_version": "1.5.0",
          "state": {
            "_dom_classes": [],
            "_model_module": "@jupyter-widgets/controls",
            "_model_module_version": "1.5.0",
            "_model_name": "HBoxModel",
            "_view_count": null,
            "_view_module": "@jupyter-widgets/controls",
            "_view_module_version": "1.5.0",
            "_view_name": "HBoxView",
            "box_style": "",
            "children": [
              "IPY_MODEL_d745dffaac054de283c403ce4cc1c5de",
              "IPY_MODEL_d3f2b824782b4a27af096ff4b84ec419",
              "IPY_MODEL_314d617b9506481da39a21b935082a10"
            ],
            "layout": "IPY_MODEL_dbc7a15d503b4bf39a80709f9e7b58dc"
          }
        },
        "d745dffaac054de283c403ce4cc1c5de": {
          "model_module": "@jupyter-widgets/controls",
          "model_name": "HTMLModel",
          "model_module_version": "1.5.0",
          "state": {
            "_dom_classes": [],
            "_model_module": "@jupyter-widgets/controls",
            "_model_module_version": "1.5.0",
            "_model_name": "HTMLModel",
            "_view_count": null,
            "_view_module": "@jupyter-widgets/controls",
            "_view_module_version": "1.5.0",
            "_view_name": "HTMLView",
            "description": "",
            "description_tooltip": null,
            "layout": "IPY_MODEL_b0918aa411404b3894ce44419c727cd8",
            "placeholder": "​",
            "style": "IPY_MODEL_8676301ec88d4779b0a717128063fffe",
            "value": "Generating validation split: 100%"
          }
        },
        "d3f2b824782b4a27af096ff4b84ec419": {
          "model_module": "@jupyter-widgets/controls",
          "model_name": "FloatProgressModel",
          "model_module_version": "1.5.0",
          "state": {
            "_dom_classes": [],
            "_model_module": "@jupyter-widgets/controls",
            "_model_module_version": "1.5.0",
            "_model_name": "FloatProgressModel",
            "_view_count": null,
            "_view_module": "@jupyter-widgets/controls",
            "_view_module_version": "1.5.0",
            "_view_name": "ProgressView",
            "bar_style": "success",
            "description": "",
            "description_tooltip": null,
            "layout": "IPY_MODEL_cdf59a33b72b4bb0a0d4ae89d1e54172",
            "max": 2169,
            "min": 0,
            "orientation": "horizontal",
            "style": "IPY_MODEL_a6d3b9f1adac4112a9ff11ce238bd853",
            "value": 2169
          }
        },
        "314d617b9506481da39a21b935082a10": {
          "model_module": "@jupyter-widgets/controls",
          "model_name": "HTMLModel",
          "model_module_version": "1.5.0",
          "state": {
            "_dom_classes": [],
            "_model_module": "@jupyter-widgets/controls",
            "_model_module_version": "1.5.0",
            "_model_name": "HTMLModel",
            "_view_count": null,
            "_view_module": "@jupyter-widgets/controls",
            "_view_module_version": "1.5.0",
            "_view_name": "HTMLView",
            "description": "",
            "description_tooltip": null,
            "layout": "IPY_MODEL_8cf6f1464be74728b9928f99d477149a",
            "placeholder": "​",
            "style": "IPY_MODEL_a43a5491356c4dfe9baf5061fa632586",
            "value": " 2169/2169 [00:00&lt;00:00, 115090.52 examples/s]"
          }
        },
        "dbc7a15d503b4bf39a80709f9e7b58dc": {
          "model_module": "@jupyter-widgets/base",
          "model_name": "LayoutModel",
          "model_module_version": "1.2.0",
          "state": {
            "_model_module": "@jupyter-widgets/base",
            "_model_module_version": "1.2.0",
            "_model_name": "LayoutModel",
            "_view_count": null,
            "_view_module": "@jupyter-widgets/base",
            "_view_module_version": "1.2.0",
            "_view_name": "LayoutView",
            "align_content": null,
            "align_items": null,
            "align_self": null,
            "border": null,
            "bottom": null,
            "display": null,
            "flex": null,
            "flex_flow": null,
            "grid_area": null,
            "grid_auto_columns": null,
            "grid_auto_flow": null,
            "grid_auto_rows": null,
            "grid_column": null,
            "grid_gap": null,
            "grid_row": null,
            "grid_template_areas": null,
            "grid_template_columns": null,
            "grid_template_rows": null,
            "height": null,
            "justify_content": null,
            "justify_items": null,
            "left": null,
            "margin": null,
            "max_height": null,
            "max_width": null,
            "min_height": null,
            "min_width": null,
            "object_fit": null,
            "object_position": null,
            "order": null,
            "overflow": null,
            "overflow_x": null,
            "overflow_y": null,
            "padding": null,
            "right": null,
            "top": null,
            "visibility": null,
            "width": null
          }
        },
        "b0918aa411404b3894ce44419c727cd8": {
          "model_module": "@jupyter-widgets/base",
          "model_name": "LayoutModel",
          "model_module_version": "1.2.0",
          "state": {
            "_model_module": "@jupyter-widgets/base",
            "_model_module_version": "1.2.0",
            "_model_name": "LayoutModel",
            "_view_count": null,
            "_view_module": "@jupyter-widgets/base",
            "_view_module_version": "1.2.0",
            "_view_name": "LayoutView",
            "align_content": null,
            "align_items": null,
            "align_self": null,
            "border": null,
            "bottom": null,
            "display": null,
            "flex": null,
            "flex_flow": null,
            "grid_area": null,
            "grid_auto_columns": null,
            "grid_auto_flow": null,
            "grid_auto_rows": null,
            "grid_column": null,
            "grid_gap": null,
            "grid_row": null,
            "grid_template_areas": null,
            "grid_template_columns": null,
            "grid_template_rows": null,
            "height": null,
            "justify_content": null,
            "justify_items": null,
            "left": null,
            "margin": null,
            "max_height": null,
            "max_width": null,
            "min_height": null,
            "min_width": null,
            "object_fit": null,
            "object_position": null,
            "order": null,
            "overflow": null,
            "overflow_x": null,
            "overflow_y": null,
            "padding": null,
            "right": null,
            "top": null,
            "visibility": null,
            "width": null
          }
        },
        "8676301ec88d4779b0a717128063fffe": {
          "model_module": "@jupyter-widgets/controls",
          "model_name": "DescriptionStyleModel",
          "model_module_version": "1.5.0",
          "state": {
            "_model_module": "@jupyter-widgets/controls",
            "_model_module_version": "1.5.0",
            "_model_name": "DescriptionStyleModel",
            "_view_count": null,
            "_view_module": "@jupyter-widgets/base",
            "_view_module_version": "1.2.0",
            "_view_name": "StyleView",
            "description_width": ""
          }
        },
        "cdf59a33b72b4bb0a0d4ae89d1e54172": {
          "model_module": "@jupyter-widgets/base",
          "model_name": "LayoutModel",
          "model_module_version": "1.2.0",
          "state": {
            "_model_module": "@jupyter-widgets/base",
            "_model_module_version": "1.2.0",
            "_model_name": "LayoutModel",
            "_view_count": null,
            "_view_module": "@jupyter-widgets/base",
            "_view_module_version": "1.2.0",
            "_view_name": "LayoutView",
            "align_content": null,
            "align_items": null,
            "align_self": null,
            "border": null,
            "bottom": null,
            "display": null,
            "flex": null,
            "flex_flow": null,
            "grid_area": null,
            "grid_auto_columns": null,
            "grid_auto_flow": null,
            "grid_auto_rows": null,
            "grid_column": null,
            "grid_gap": null,
            "grid_row": null,
            "grid_template_areas": null,
            "grid_template_columns": null,
            "grid_template_rows": null,
            "height": null,
            "justify_content": null,
            "justify_items": null,
            "left": null,
            "margin": null,
            "max_height": null,
            "max_width": null,
            "min_height": null,
            "min_width": null,
            "object_fit": null,
            "object_position": null,
            "order": null,
            "overflow": null,
            "overflow_x": null,
            "overflow_y": null,
            "padding": null,
            "right": null,
            "top": null,
            "visibility": null,
            "width": null
          }
        },
        "a6d3b9f1adac4112a9ff11ce238bd853": {
          "model_module": "@jupyter-widgets/controls",
          "model_name": "ProgressStyleModel",
          "model_module_version": "1.5.0",
          "state": {
            "_model_module": "@jupyter-widgets/controls",
            "_model_module_version": "1.5.0",
            "_model_name": "ProgressStyleModel",
            "_view_count": null,
            "_view_module": "@jupyter-widgets/base",
            "_view_module_version": "1.2.0",
            "_view_name": "StyleView",
            "bar_color": null,
            "description_width": ""
          }
        },
        "8cf6f1464be74728b9928f99d477149a": {
          "model_module": "@jupyter-widgets/base",
          "model_name": "LayoutModel",
          "model_module_version": "1.2.0",
          "state": {
            "_model_module": "@jupyter-widgets/base",
            "_model_module_version": "1.2.0",
            "_model_name": "LayoutModel",
            "_view_count": null,
            "_view_module": "@jupyter-widgets/base",
            "_view_module_version": "1.2.0",
            "_view_name": "LayoutView",
            "align_content": null,
            "align_items": null,
            "align_self": null,
            "border": null,
            "bottom": null,
            "display": null,
            "flex": null,
            "flex_flow": null,
            "grid_area": null,
            "grid_auto_columns": null,
            "grid_auto_flow": null,
            "grid_auto_rows": null,
            "grid_column": null,
            "grid_gap": null,
            "grid_row": null,
            "grid_template_areas": null,
            "grid_template_columns": null,
            "grid_template_rows": null,
            "height": null,
            "justify_content": null,
            "justify_items": null,
            "left": null,
            "margin": null,
            "max_height": null,
            "max_width": null,
            "min_height": null,
            "min_width": null,
            "object_fit": null,
            "object_position": null,
            "order": null,
            "overflow": null,
            "overflow_x": null,
            "overflow_y": null,
            "padding": null,
            "right": null,
            "top": null,
            "visibility": null,
            "width": null
          }
        },
        "a43a5491356c4dfe9baf5061fa632586": {
          "model_module": "@jupyter-widgets/controls",
          "model_name": "DescriptionStyleModel",
          "model_module_version": "1.5.0",
          "state": {
            "_model_module": "@jupyter-widgets/controls",
            "_model_module_version": "1.5.0",
            "_model_name": "DescriptionStyleModel",
            "_view_count": null,
            "_view_module": "@jupyter-widgets/base",
            "_view_module_version": "1.2.0",
            "_view_name": "StyleView",
            "description_width": ""
          }
        },
        "e900ece8e68a4729acc1098b788d5f3b": {
          "model_module": "@jupyter-widgets/controls",
          "model_name": "HBoxModel",
          "model_module_version": "1.5.0",
          "state": {
            "_dom_classes": [],
            "_model_module": "@jupyter-widgets/controls",
            "_model_module_version": "1.5.0",
            "_model_name": "HBoxModel",
            "_view_count": null,
            "_view_module": "@jupyter-widgets/controls",
            "_view_module_version": "1.5.0",
            "_view_name": "HBoxView",
            "box_style": "",
            "children": [
              "IPY_MODEL_0225f509e8c44a00b27b34143da3fa63",
              "IPY_MODEL_dc85b578981f410f9edaa370851b3c27",
              "IPY_MODEL_253814be97274d59ab7982f9bc7179ee"
            ],
            "layout": "IPY_MODEL_68db2cc250e54348b925b2d88111de6b"
          }
        },
        "0225f509e8c44a00b27b34143da3fa63": {
          "model_module": "@jupyter-widgets/controls",
          "model_name": "HTMLModel",
          "model_module_version": "1.5.0",
          "state": {
            "_dom_classes": [],
            "_model_module": "@jupyter-widgets/controls",
            "_model_module_version": "1.5.0",
            "_model_name": "HTMLModel",
            "_view_count": null,
            "_view_module": "@jupyter-widgets/controls",
            "_view_module_version": "1.5.0",
            "_view_name": "HTMLView",
            "description": "",
            "description_tooltip": null,
            "layout": "IPY_MODEL_0497a8dfa8844d138d4d7a67217f9c51",
            "placeholder": "​",
            "style": "IPY_MODEL_0b5d209870d4473482cf0df518958e54",
            "value": "Generating test split: 100%"
          }
        },
        "dc85b578981f410f9edaa370851b3c27": {
          "model_module": "@jupyter-widgets/controls",
          "model_name": "FloatProgressModel",
          "model_module_version": "1.5.0",
          "state": {
            "_dom_classes": [],
            "_model_module": "@jupyter-widgets/controls",
            "_model_module_version": "1.5.0",
            "_model_name": "FloatProgressModel",
            "_view_count": null,
            "_view_module": "@jupyter-widgets/controls",
            "_view_module_version": "1.5.0",
            "_view_name": "ProgressView",
            "bar_style": "success",
            "description": "",
            "description_tooltip": null,
            "layout": "IPY_MODEL_c01bd1b18a0b48d983f3afdb10f3c9df",
            "max": 2999,
            "min": 0,
            "orientation": "horizontal",
            "style": "IPY_MODEL_562912dae9f94379bcdf55ea5b1e0c16",
            "value": 2999
          }
        },
        "253814be97274d59ab7982f9bc7179ee": {
          "model_module": "@jupyter-widgets/controls",
          "model_name": "HTMLModel",
          "model_module_version": "1.5.0",
          "state": {
            "_dom_classes": [],
            "_model_module": "@jupyter-widgets/controls",
            "_model_module_version": "1.5.0",
            "_model_name": "HTMLModel",
            "_view_count": null,
            "_view_module": "@jupyter-widgets/controls",
            "_view_module_version": "1.5.0",
            "_view_name": "HTMLView",
            "description": "",
            "description_tooltip": null,
            "layout": "IPY_MODEL_e964370327914f33a59fcd5c7292f3d8",
            "placeholder": "​",
            "style": "IPY_MODEL_99b2d94164bf4796a302b4cba46e8cda",
            "value": " 2999/2999 [00:00&lt;00:00, 143866.93 examples/s]"
          }
        },
        "68db2cc250e54348b925b2d88111de6b": {
          "model_module": "@jupyter-widgets/base",
          "model_name": "LayoutModel",
          "model_module_version": "1.2.0",
          "state": {
            "_model_module": "@jupyter-widgets/base",
            "_model_module_version": "1.2.0",
            "_model_name": "LayoutModel",
            "_view_count": null,
            "_view_module": "@jupyter-widgets/base",
            "_view_module_version": "1.2.0",
            "_view_name": "LayoutView",
            "align_content": null,
            "align_items": null,
            "align_self": null,
            "border": null,
            "bottom": null,
            "display": null,
            "flex": null,
            "flex_flow": null,
            "grid_area": null,
            "grid_auto_columns": null,
            "grid_auto_flow": null,
            "grid_auto_rows": null,
            "grid_column": null,
            "grid_gap": null,
            "grid_row": null,
            "grid_template_areas": null,
            "grid_template_columns": null,
            "grid_template_rows": null,
            "height": null,
            "justify_content": null,
            "justify_items": null,
            "left": null,
            "margin": null,
            "max_height": null,
            "max_width": null,
            "min_height": null,
            "min_width": null,
            "object_fit": null,
            "object_position": null,
            "order": null,
            "overflow": null,
            "overflow_x": null,
            "overflow_y": null,
            "padding": null,
            "right": null,
            "top": null,
            "visibility": null,
            "width": null
          }
        },
        "0497a8dfa8844d138d4d7a67217f9c51": {
          "model_module": "@jupyter-widgets/base",
          "model_name": "LayoutModel",
          "model_module_version": "1.2.0",
          "state": {
            "_model_module": "@jupyter-widgets/base",
            "_model_module_version": "1.2.0",
            "_model_name": "LayoutModel",
            "_view_count": null,
            "_view_module": "@jupyter-widgets/base",
            "_view_module_version": "1.2.0",
            "_view_name": "LayoutView",
            "align_content": null,
            "align_items": null,
            "align_self": null,
            "border": null,
            "bottom": null,
            "display": null,
            "flex": null,
            "flex_flow": null,
            "grid_area": null,
            "grid_auto_columns": null,
            "grid_auto_flow": null,
            "grid_auto_rows": null,
            "grid_column": null,
            "grid_gap": null,
            "grid_row": null,
            "grid_template_areas": null,
            "grid_template_columns": null,
            "grid_template_rows": null,
            "height": null,
            "justify_content": null,
            "justify_items": null,
            "left": null,
            "margin": null,
            "max_height": null,
            "max_width": null,
            "min_height": null,
            "min_width": null,
            "object_fit": null,
            "object_position": null,
            "order": null,
            "overflow": null,
            "overflow_x": null,
            "overflow_y": null,
            "padding": null,
            "right": null,
            "top": null,
            "visibility": null,
            "width": null
          }
        },
        "0b5d209870d4473482cf0df518958e54": {
          "model_module": "@jupyter-widgets/controls",
          "model_name": "DescriptionStyleModel",
          "model_module_version": "1.5.0",
          "state": {
            "_model_module": "@jupyter-widgets/controls",
            "_model_module_version": "1.5.0",
            "_model_name": "DescriptionStyleModel",
            "_view_count": null,
            "_view_module": "@jupyter-widgets/base",
            "_view_module_version": "1.2.0",
            "_view_name": "StyleView",
            "description_width": ""
          }
        },
        "c01bd1b18a0b48d983f3afdb10f3c9df": {
          "model_module": "@jupyter-widgets/base",
          "model_name": "LayoutModel",
          "model_module_version": "1.2.0",
          "state": {
            "_model_module": "@jupyter-widgets/base",
            "_model_module_version": "1.2.0",
            "_model_name": "LayoutModel",
            "_view_count": null,
            "_view_module": "@jupyter-widgets/base",
            "_view_module_version": "1.2.0",
            "_view_name": "LayoutView",
            "align_content": null,
            "align_items": null,
            "align_self": null,
            "border": null,
            "bottom": null,
            "display": null,
            "flex": null,
            "flex_flow": null,
            "grid_area": null,
            "grid_auto_columns": null,
            "grid_auto_flow": null,
            "grid_auto_rows": null,
            "grid_column": null,
            "grid_gap": null,
            "grid_row": null,
            "grid_template_areas": null,
            "grid_template_columns": null,
            "grid_template_rows": null,
            "height": null,
            "justify_content": null,
            "justify_items": null,
            "left": null,
            "margin": null,
            "max_height": null,
            "max_width": null,
            "min_height": null,
            "min_width": null,
            "object_fit": null,
            "object_position": null,
            "order": null,
            "overflow": null,
            "overflow_x": null,
            "overflow_y": null,
            "padding": null,
            "right": null,
            "top": null,
            "visibility": null,
            "width": null
          }
        },
        "562912dae9f94379bcdf55ea5b1e0c16": {
          "model_module": "@jupyter-widgets/controls",
          "model_name": "ProgressStyleModel",
          "model_module_version": "1.5.0",
          "state": {
            "_model_module": "@jupyter-widgets/controls",
            "_model_module_version": "1.5.0",
            "_model_name": "ProgressStyleModel",
            "_view_count": null,
            "_view_module": "@jupyter-widgets/base",
            "_view_module_version": "1.2.0",
            "_view_name": "StyleView",
            "bar_color": null,
            "description_width": ""
          }
        },
        "e964370327914f33a59fcd5c7292f3d8": {
          "model_module": "@jupyter-widgets/base",
          "model_name": "LayoutModel",
          "model_module_version": "1.2.0",
          "state": {
            "_model_module": "@jupyter-widgets/base",
            "_model_module_version": "1.2.0",
            "_model_name": "LayoutModel",
            "_view_count": null,
            "_view_module": "@jupyter-widgets/base",
            "_view_module_version": "1.2.0",
            "_view_name": "LayoutView",
            "align_content": null,
            "align_items": null,
            "align_self": null,
            "border": null,
            "bottom": null,
            "display": null,
            "flex": null,
            "flex_flow": null,
            "grid_area": null,
            "grid_auto_columns": null,
            "grid_auto_flow": null,
            "grid_auto_rows": null,
            "grid_column": null,
            "grid_gap": null,
            "grid_row": null,
            "grid_template_areas": null,
            "grid_template_columns": null,
            "grid_template_rows": null,
            "height": null,
            "justify_content": null,
            "justify_items": null,
            "left": null,
            "margin": null,
            "max_height": null,
            "max_width": null,
            "min_height": null,
            "min_width": null,
            "object_fit": null,
            "object_position": null,
            "order": null,
            "overflow": null,
            "overflow_x": null,
            "overflow_y": null,
            "padding": null,
            "right": null,
            "top": null,
            "visibility": null,
            "width": null
          }
        },
        "99b2d94164bf4796a302b4cba46e8cda": {
          "model_module": "@jupyter-widgets/controls",
          "model_name": "DescriptionStyleModel",
          "model_module_version": "1.5.0",
          "state": {
            "_model_module": "@jupyter-widgets/controls",
            "_model_module_version": "1.5.0",
            "_model_name": "DescriptionStyleModel",
            "_view_count": null,
            "_view_module": "@jupyter-widgets/base",
            "_view_module_version": "1.2.0",
            "_view_name": "StyleView",
            "description_width": ""
          }
        },
        "08dd7dbd26144d048aab4623b62f16a9": {
          "model_module": "@jupyter-widgets/controls",
          "model_name": "HBoxModel",
          "model_module_version": "1.5.0",
          "state": {
            "_dom_classes": [],
            "_model_module": "@jupyter-widgets/controls",
            "_model_module_version": "1.5.0",
            "_model_name": "HBoxModel",
            "_view_count": null,
            "_view_module": "@jupyter-widgets/controls",
            "_view_module_version": "1.5.0",
            "_view_name": "HBoxView",
            "box_style": "",
            "children": [
              "IPY_MODEL_efb315df22f743d69909b3c6ad1b0dc1",
              "IPY_MODEL_7bbef8503fd94d34a74bd76a61cf4f7b",
              "IPY_MODEL_5fe81f760ba5483b9b9ef2338cd84378"
            ],
            "layout": "IPY_MODEL_811b984cc26041fda41b5d1af9850e90"
          }
        },
        "efb315df22f743d69909b3c6ad1b0dc1": {
          "model_module": "@jupyter-widgets/controls",
          "model_name": "HTMLModel",
          "model_module_version": "1.5.0",
          "state": {
            "_dom_classes": [],
            "_model_module": "@jupyter-widgets/controls",
            "_model_module_version": "1.5.0",
            "_model_name": "HTMLModel",
            "_view_count": null,
            "_view_module": "@jupyter-widgets/controls",
            "_view_module_version": "1.5.0",
            "_view_name": "HTMLView",
            "description": "",
            "description_tooltip": null,
            "layout": "IPY_MODEL_285810bcd2dc433ab3f8f04998d504c7",
            "placeholder": "​",
            "style": "IPY_MODEL_ede46ba58d54460d9fc1d0906e890e6e",
            "value": "tokenizer_config.json: 100%"
          }
        },
        "7bbef8503fd94d34a74bd76a61cf4f7b": {
          "model_module": "@jupyter-widgets/controls",
          "model_name": "FloatProgressModel",
          "model_module_version": "1.5.0",
          "state": {
            "_dom_classes": [],
            "_model_module": "@jupyter-widgets/controls",
            "_model_module_version": "1.5.0",
            "_model_name": "FloatProgressModel",
            "_view_count": null,
            "_view_module": "@jupyter-widgets/controls",
            "_view_module_version": "1.5.0",
            "_view_name": "ProgressView",
            "bar_style": "success",
            "description": "",
            "description_tooltip": null,
            "layout": "IPY_MODEL_926fc4decd3f45769086faa4e3a78f58",
            "max": 42,
            "min": 0,
            "orientation": "horizontal",
            "style": "IPY_MODEL_390d117e51b6456a8347c91c22470e78",
            "value": 42
          }
        },
        "5fe81f760ba5483b9b9ef2338cd84378": {
          "model_module": "@jupyter-widgets/controls",
          "model_name": "HTMLModel",
          "model_module_version": "1.5.0",
          "state": {
            "_dom_classes": [],
            "_model_module": "@jupyter-widgets/controls",
            "_model_module_version": "1.5.0",
            "_model_name": "HTMLModel",
            "_view_count": null,
            "_view_module": "@jupyter-widgets/controls",
            "_view_module_version": "1.5.0",
            "_view_name": "HTMLView",
            "description": "",
            "description_tooltip": null,
            "layout": "IPY_MODEL_bee8df1bb0aa4088a402dab33b438dfd",
            "placeholder": "​",
            "style": "IPY_MODEL_c9d8dc2e15be4f8fb46db99f1db88626",
            "value": " 42.0/42.0 [00:00&lt;00:00, 3.40kB/s]"
          }
        },
        "811b984cc26041fda41b5d1af9850e90": {
          "model_module": "@jupyter-widgets/base",
          "model_name": "LayoutModel",
          "model_module_version": "1.2.0",
          "state": {
            "_model_module": "@jupyter-widgets/base",
            "_model_module_version": "1.2.0",
            "_model_name": "LayoutModel",
            "_view_count": null,
            "_view_module": "@jupyter-widgets/base",
            "_view_module_version": "1.2.0",
            "_view_name": "LayoutView",
            "align_content": null,
            "align_items": null,
            "align_self": null,
            "border": null,
            "bottom": null,
            "display": null,
            "flex": null,
            "flex_flow": null,
            "grid_area": null,
            "grid_auto_columns": null,
            "grid_auto_flow": null,
            "grid_auto_rows": null,
            "grid_column": null,
            "grid_gap": null,
            "grid_row": null,
            "grid_template_areas": null,
            "grid_template_columns": null,
            "grid_template_rows": null,
            "height": null,
            "justify_content": null,
            "justify_items": null,
            "left": null,
            "margin": null,
            "max_height": null,
            "max_width": null,
            "min_height": null,
            "min_width": null,
            "object_fit": null,
            "object_position": null,
            "order": null,
            "overflow": null,
            "overflow_x": null,
            "overflow_y": null,
            "padding": null,
            "right": null,
            "top": null,
            "visibility": null,
            "width": null
          }
        },
        "285810bcd2dc433ab3f8f04998d504c7": {
          "model_module": "@jupyter-widgets/base",
          "model_name": "LayoutModel",
          "model_module_version": "1.2.0",
          "state": {
            "_model_module": "@jupyter-widgets/base",
            "_model_module_version": "1.2.0",
            "_model_name": "LayoutModel",
            "_view_count": null,
            "_view_module": "@jupyter-widgets/base",
            "_view_module_version": "1.2.0",
            "_view_name": "LayoutView",
            "align_content": null,
            "align_items": null,
            "align_self": null,
            "border": null,
            "bottom": null,
            "display": null,
            "flex": null,
            "flex_flow": null,
            "grid_area": null,
            "grid_auto_columns": null,
            "grid_auto_flow": null,
            "grid_auto_rows": null,
            "grid_column": null,
            "grid_gap": null,
            "grid_row": null,
            "grid_template_areas": null,
            "grid_template_columns": null,
            "grid_template_rows": null,
            "height": null,
            "justify_content": null,
            "justify_items": null,
            "left": null,
            "margin": null,
            "max_height": null,
            "max_width": null,
            "min_height": null,
            "min_width": null,
            "object_fit": null,
            "object_position": null,
            "order": null,
            "overflow": null,
            "overflow_x": null,
            "overflow_y": null,
            "padding": null,
            "right": null,
            "top": null,
            "visibility": null,
            "width": null
          }
        },
        "ede46ba58d54460d9fc1d0906e890e6e": {
          "model_module": "@jupyter-widgets/controls",
          "model_name": "DescriptionStyleModel",
          "model_module_version": "1.5.0",
          "state": {
            "_model_module": "@jupyter-widgets/controls",
            "_model_module_version": "1.5.0",
            "_model_name": "DescriptionStyleModel",
            "_view_count": null,
            "_view_module": "@jupyter-widgets/base",
            "_view_module_version": "1.2.0",
            "_view_name": "StyleView",
            "description_width": ""
          }
        },
        "926fc4decd3f45769086faa4e3a78f58": {
          "model_module": "@jupyter-widgets/base",
          "model_name": "LayoutModel",
          "model_module_version": "1.2.0",
          "state": {
            "_model_module": "@jupyter-widgets/base",
            "_model_module_version": "1.2.0",
            "_model_name": "LayoutModel",
            "_view_count": null,
            "_view_module": "@jupyter-widgets/base",
            "_view_module_version": "1.2.0",
            "_view_name": "LayoutView",
            "align_content": null,
            "align_items": null,
            "align_self": null,
            "border": null,
            "bottom": null,
            "display": null,
            "flex": null,
            "flex_flow": null,
            "grid_area": null,
            "grid_auto_columns": null,
            "grid_auto_flow": null,
            "grid_auto_rows": null,
            "grid_column": null,
            "grid_gap": null,
            "grid_row": null,
            "grid_template_areas": null,
            "grid_template_columns": null,
            "grid_template_rows": null,
            "height": null,
            "justify_content": null,
            "justify_items": null,
            "left": null,
            "margin": null,
            "max_height": null,
            "max_width": null,
            "min_height": null,
            "min_width": null,
            "object_fit": null,
            "object_position": null,
            "order": null,
            "overflow": null,
            "overflow_x": null,
            "overflow_y": null,
            "padding": null,
            "right": null,
            "top": null,
            "visibility": null,
            "width": null
          }
        },
        "390d117e51b6456a8347c91c22470e78": {
          "model_module": "@jupyter-widgets/controls",
          "model_name": "ProgressStyleModel",
          "model_module_version": "1.5.0",
          "state": {
            "_model_module": "@jupyter-widgets/controls",
            "_model_module_version": "1.5.0",
            "_model_name": "ProgressStyleModel",
            "_view_count": null,
            "_view_module": "@jupyter-widgets/base",
            "_view_module_version": "1.2.0",
            "_view_name": "StyleView",
            "bar_color": null,
            "description_width": ""
          }
        },
        "bee8df1bb0aa4088a402dab33b438dfd": {
          "model_module": "@jupyter-widgets/base",
          "model_name": "LayoutModel",
          "model_module_version": "1.2.0",
          "state": {
            "_model_module": "@jupyter-widgets/base",
            "_model_module_version": "1.2.0",
            "_model_name": "LayoutModel",
            "_view_count": null,
            "_view_module": "@jupyter-widgets/base",
            "_view_module_version": "1.2.0",
            "_view_name": "LayoutView",
            "align_content": null,
            "align_items": null,
            "align_self": null,
            "border": null,
            "bottom": null,
            "display": null,
            "flex": null,
            "flex_flow": null,
            "grid_area": null,
            "grid_auto_columns": null,
            "grid_auto_flow": null,
            "grid_auto_rows": null,
            "grid_column": null,
            "grid_gap": null,
            "grid_row": null,
            "grid_template_areas": null,
            "grid_template_columns": null,
            "grid_template_rows": null,
            "height": null,
            "justify_content": null,
            "justify_items": null,
            "left": null,
            "margin": null,
            "max_height": null,
            "max_width": null,
            "min_height": null,
            "min_width": null,
            "object_fit": null,
            "object_position": null,
            "order": null,
            "overflow": null,
            "overflow_x": null,
            "overflow_y": null,
            "padding": null,
            "right": null,
            "top": null,
            "visibility": null,
            "width": null
          }
        },
        "c9d8dc2e15be4f8fb46db99f1db88626": {
          "model_module": "@jupyter-widgets/controls",
          "model_name": "DescriptionStyleModel",
          "model_module_version": "1.5.0",
          "state": {
            "_model_module": "@jupyter-widgets/controls",
            "_model_module_version": "1.5.0",
            "_model_name": "DescriptionStyleModel",
            "_view_count": null,
            "_view_module": "@jupyter-widgets/base",
            "_view_module_version": "1.2.0",
            "_view_name": "StyleView",
            "description_width": ""
          }
        },
        "26b6b64254414943a162a4bd95e1980e": {
          "model_module": "@jupyter-widgets/controls",
          "model_name": "HBoxModel",
          "model_module_version": "1.5.0",
          "state": {
            "_dom_classes": [],
            "_model_module": "@jupyter-widgets/controls",
            "_model_module_version": "1.5.0",
            "_model_name": "HBoxModel",
            "_view_count": null,
            "_view_module": "@jupyter-widgets/controls",
            "_view_module_version": "1.5.0",
            "_view_name": "HBoxView",
            "box_style": "",
            "children": [
              "IPY_MODEL_ed00ec43e3004236b605ab1aede54656",
              "IPY_MODEL_4f3bffb9391a4f04863d55a85d39c4ec",
              "IPY_MODEL_23bb71bd87794fc18297063690e20b79"
            ],
            "layout": "IPY_MODEL_627d3b07ee334f429303e9bb76260e69"
          }
        },
        "ed00ec43e3004236b605ab1aede54656": {
          "model_module": "@jupyter-widgets/controls",
          "model_name": "HTMLModel",
          "model_module_version": "1.5.0",
          "state": {
            "_dom_classes": [],
            "_model_module": "@jupyter-widgets/controls",
            "_model_module_version": "1.5.0",
            "_model_name": "HTMLModel",
            "_view_count": null,
            "_view_module": "@jupyter-widgets/controls",
            "_view_module_version": "1.5.0",
            "_view_name": "HTMLView",
            "description": "",
            "description_tooltip": null,
            "layout": "IPY_MODEL_387e1da3b1534e0c9f36aa49b8beb5db",
            "placeholder": "​",
            "style": "IPY_MODEL_3779b3b25ecf492980694adb5ed06f6b",
            "value": "config.json: 100%"
          }
        },
        "4f3bffb9391a4f04863d55a85d39c4ec": {
          "model_module": "@jupyter-widgets/controls",
          "model_name": "FloatProgressModel",
          "model_module_version": "1.5.0",
          "state": {
            "_dom_classes": [],
            "_model_module": "@jupyter-widgets/controls",
            "_model_module_version": "1.5.0",
            "_model_name": "FloatProgressModel",
            "_view_count": null,
            "_view_module": "@jupyter-widgets/controls",
            "_view_module_version": "1.5.0",
            "_view_name": "ProgressView",
            "bar_style": "success",
            "description": "",
            "description_tooltip": null,
            "layout": "IPY_MODEL_e038f6d7983e496e8b514ebfdbf8a900",
            "max": 1335,
            "min": 0,
            "orientation": "horizontal",
            "style": "IPY_MODEL_8d066b83103949c39008ea07bd72e470",
            "value": 1335
          }
        },
        "23bb71bd87794fc18297063690e20b79": {
          "model_module": "@jupyter-widgets/controls",
          "model_name": "HTMLModel",
          "model_module_version": "1.5.0",
          "state": {
            "_dom_classes": [],
            "_model_module": "@jupyter-widgets/controls",
            "_model_module_version": "1.5.0",
            "_model_name": "HTMLModel",
            "_view_count": null,
            "_view_module": "@jupyter-widgets/controls",
            "_view_module_version": "1.5.0",
            "_view_name": "HTMLView",
            "description": "",
            "description_tooltip": null,
            "layout": "IPY_MODEL_881f3e13d72245a6bc5f1849e53f8b06",
            "placeholder": "​",
            "style": "IPY_MODEL_89b5206b9f574d0bb3908d43252eebfb",
            "value": " 1.33k/1.33k [00:00&lt;00:00, 119kB/s]"
          }
        },
        "627d3b07ee334f429303e9bb76260e69": {
          "model_module": "@jupyter-widgets/base",
          "model_name": "LayoutModel",
          "model_module_version": "1.2.0",
          "state": {
            "_model_module": "@jupyter-widgets/base",
            "_model_module_version": "1.2.0",
            "_model_name": "LayoutModel",
            "_view_count": null,
            "_view_module": "@jupyter-widgets/base",
            "_view_module_version": "1.2.0",
            "_view_name": "LayoutView",
            "align_content": null,
            "align_items": null,
            "align_self": null,
            "border": null,
            "bottom": null,
            "display": null,
            "flex": null,
            "flex_flow": null,
            "grid_area": null,
            "grid_auto_columns": null,
            "grid_auto_flow": null,
            "grid_auto_rows": null,
            "grid_column": null,
            "grid_gap": null,
            "grid_row": null,
            "grid_template_areas": null,
            "grid_template_columns": null,
            "grid_template_rows": null,
            "height": null,
            "justify_content": null,
            "justify_items": null,
            "left": null,
            "margin": null,
            "max_height": null,
            "max_width": null,
            "min_height": null,
            "min_width": null,
            "object_fit": null,
            "object_position": null,
            "order": null,
            "overflow": null,
            "overflow_x": null,
            "overflow_y": null,
            "padding": null,
            "right": null,
            "top": null,
            "visibility": null,
            "width": null
          }
        },
        "387e1da3b1534e0c9f36aa49b8beb5db": {
          "model_module": "@jupyter-widgets/base",
          "model_name": "LayoutModel",
          "model_module_version": "1.2.0",
          "state": {
            "_model_module": "@jupyter-widgets/base",
            "_model_module_version": "1.2.0",
            "_model_name": "LayoutModel",
            "_view_count": null,
            "_view_module": "@jupyter-widgets/base",
            "_view_module_version": "1.2.0",
            "_view_name": "LayoutView",
            "align_content": null,
            "align_items": null,
            "align_self": null,
            "border": null,
            "bottom": null,
            "display": null,
            "flex": null,
            "flex_flow": null,
            "grid_area": null,
            "grid_auto_columns": null,
            "grid_auto_flow": null,
            "grid_auto_rows": null,
            "grid_column": null,
            "grid_gap": null,
            "grid_row": null,
            "grid_template_areas": null,
            "grid_template_columns": null,
            "grid_template_rows": null,
            "height": null,
            "justify_content": null,
            "justify_items": null,
            "left": null,
            "margin": null,
            "max_height": null,
            "max_width": null,
            "min_height": null,
            "min_width": null,
            "object_fit": null,
            "object_position": null,
            "order": null,
            "overflow": null,
            "overflow_x": null,
            "overflow_y": null,
            "padding": null,
            "right": null,
            "top": null,
            "visibility": null,
            "width": null
          }
        },
        "3779b3b25ecf492980694adb5ed06f6b": {
          "model_module": "@jupyter-widgets/controls",
          "model_name": "DescriptionStyleModel",
          "model_module_version": "1.5.0",
          "state": {
            "_model_module": "@jupyter-widgets/controls",
            "_model_module_version": "1.5.0",
            "_model_name": "DescriptionStyleModel",
            "_view_count": null,
            "_view_module": "@jupyter-widgets/base",
            "_view_module_version": "1.2.0",
            "_view_name": "StyleView",
            "description_width": ""
          }
        },
        "e038f6d7983e496e8b514ebfdbf8a900": {
          "model_module": "@jupyter-widgets/base",
          "model_name": "LayoutModel",
          "model_module_version": "1.2.0",
          "state": {
            "_model_module": "@jupyter-widgets/base",
            "_model_module_version": "1.2.0",
            "_model_name": "LayoutModel",
            "_view_count": null,
            "_view_module": "@jupyter-widgets/base",
            "_view_module_version": "1.2.0",
            "_view_name": "LayoutView",
            "align_content": null,
            "align_items": null,
            "align_self": null,
            "border": null,
            "bottom": null,
            "display": null,
            "flex": null,
            "flex_flow": null,
            "grid_area": null,
            "grid_auto_columns": null,
            "grid_auto_flow": null,
            "grid_auto_rows": null,
            "grid_column": null,
            "grid_gap": null,
            "grid_row": null,
            "grid_template_areas": null,
            "grid_template_columns": null,
            "grid_template_rows": null,
            "height": null,
            "justify_content": null,
            "justify_items": null,
            "left": null,
            "margin": null,
            "max_height": null,
            "max_width": null,
            "min_height": null,
            "min_width": null,
            "object_fit": null,
            "object_position": null,
            "order": null,
            "overflow": null,
            "overflow_x": null,
            "overflow_y": null,
            "padding": null,
            "right": null,
            "top": null,
            "visibility": null,
            "width": null
          }
        },
        "8d066b83103949c39008ea07bd72e470": {
          "model_module": "@jupyter-widgets/controls",
          "model_name": "ProgressStyleModel",
          "model_module_version": "1.5.0",
          "state": {
            "_model_module": "@jupyter-widgets/controls",
            "_model_module_version": "1.5.0",
            "_model_name": "ProgressStyleModel",
            "_view_count": null,
            "_view_module": "@jupyter-widgets/base",
            "_view_module_version": "1.2.0",
            "_view_name": "StyleView",
            "bar_color": null,
            "description_width": ""
          }
        },
        "881f3e13d72245a6bc5f1849e53f8b06": {
          "model_module": "@jupyter-widgets/base",
          "model_name": "LayoutModel",
          "model_module_version": "1.2.0",
          "state": {
            "_model_module": "@jupyter-widgets/base",
            "_model_module_version": "1.2.0",
            "_model_name": "LayoutModel",
            "_view_count": null,
            "_view_module": "@jupyter-widgets/base",
            "_view_module_version": "1.2.0",
            "_view_name": "LayoutView",
            "align_content": null,
            "align_items": null,
            "align_self": null,
            "border": null,
            "bottom": null,
            "display": null,
            "flex": null,
            "flex_flow": null,
            "grid_area": null,
            "grid_auto_columns": null,
            "grid_auto_flow": null,
            "grid_auto_rows": null,
            "grid_column": null,
            "grid_gap": null,
            "grid_row": null,
            "grid_template_areas": null,
            "grid_template_columns": null,
            "grid_template_rows": null,
            "height": null,
            "justify_content": null,
            "justify_items": null,
            "left": null,
            "margin": null,
            "max_height": null,
            "max_width": null,
            "min_height": null,
            "min_width": null,
            "object_fit": null,
            "object_position": null,
            "order": null,
            "overflow": null,
            "overflow_x": null,
            "overflow_y": null,
            "padding": null,
            "right": null,
            "top": null,
            "visibility": null,
            "width": null
          }
        },
        "89b5206b9f574d0bb3908d43252eebfb": {
          "model_module": "@jupyter-widgets/controls",
          "model_name": "DescriptionStyleModel",
          "model_module_version": "1.5.0",
          "state": {
            "_model_module": "@jupyter-widgets/controls",
            "_model_module_version": "1.5.0",
            "_model_name": "DescriptionStyleModel",
            "_view_count": null,
            "_view_module": "@jupyter-widgets/base",
            "_view_module_version": "1.2.0",
            "_view_name": "StyleView",
            "description_width": ""
          }
        },
        "b7f8df82376a4813b1516d0ddaba79fe": {
          "model_module": "@jupyter-widgets/controls",
          "model_name": "HBoxModel",
          "model_module_version": "1.5.0",
          "state": {
            "_dom_classes": [],
            "_model_module": "@jupyter-widgets/controls",
            "_model_module_version": "1.5.0",
            "_model_name": "HBoxModel",
            "_view_count": null,
            "_view_module": "@jupyter-widgets/controls",
            "_view_module_version": "1.5.0",
            "_view_name": "HBoxView",
            "box_style": "",
            "children": [
              "IPY_MODEL_f68a6ad18264459989bd5de6df8aa06f",
              "IPY_MODEL_6d29d88149c24ed190873157adef2171",
              "IPY_MODEL_854edc0938874f4189de0ca5918f7464"
            ],
            "layout": "IPY_MODEL_1ed36365bc0447738288e7ef7ed1ae90"
          }
        },
        "f68a6ad18264459989bd5de6df8aa06f": {
          "model_module": "@jupyter-widgets/controls",
          "model_name": "HTMLModel",
          "model_module_version": "1.5.0",
          "state": {
            "_dom_classes": [],
            "_model_module": "@jupyter-widgets/controls",
            "_model_module_version": "1.5.0",
            "_model_name": "HTMLModel",
            "_view_count": null,
            "_view_module": "@jupyter-widgets/controls",
            "_view_module_version": "1.5.0",
            "_view_name": "HTMLView",
            "description": "",
            "description_tooltip": null,
            "layout": "IPY_MODEL_1ca1ea5169124106acb34a7ed7615977",
            "placeholder": "​",
            "style": "IPY_MODEL_0248e3e2c5c44144bf07823d352d4dab",
            "value": "source.spm: 100%"
          }
        },
        "6d29d88149c24ed190873157adef2171": {
          "model_module": "@jupyter-widgets/controls",
          "model_name": "FloatProgressModel",
          "model_module_version": "1.5.0",
          "state": {
            "_dom_classes": [],
            "_model_module": "@jupyter-widgets/controls",
            "_model_module_version": "1.5.0",
            "_model_name": "FloatProgressModel",
            "_view_count": null,
            "_view_module": "@jupyter-widgets/controls",
            "_view_module_version": "1.5.0",
            "_view_name": "ProgressView",
            "bar_style": "success",
            "description": "",
            "description_tooltip": null,
            "layout": "IPY_MODEL_5a003b24108045c88009b10f0e6ebb64",
            "max": 768489,
            "min": 0,
            "orientation": "horizontal",
            "style": "IPY_MODEL_ba426133a75e443499abf5dfd89ee121",
            "value": 768489
          }
        },
        "854edc0938874f4189de0ca5918f7464": {
          "model_module": "@jupyter-widgets/controls",
          "model_name": "HTMLModel",
          "model_module_version": "1.5.0",
          "state": {
            "_dom_classes": [],
            "_model_module": "@jupyter-widgets/controls",
            "_model_module_version": "1.5.0",
            "_model_name": "HTMLModel",
            "_view_count": null,
            "_view_module": "@jupyter-widgets/controls",
            "_view_module_version": "1.5.0",
            "_view_name": "HTMLView",
            "description": "",
            "description_tooltip": null,
            "layout": "IPY_MODEL_94380e11bf0b4571b7e5bca99ddb957c",
            "placeholder": "​",
            "style": "IPY_MODEL_95590d737714493cb37c0d8c05df7f8e",
            "value": " 768k/768k [00:00&lt;00:00, 1.77MB/s]"
          }
        },
        "1ed36365bc0447738288e7ef7ed1ae90": {
          "model_module": "@jupyter-widgets/base",
          "model_name": "LayoutModel",
          "model_module_version": "1.2.0",
          "state": {
            "_model_module": "@jupyter-widgets/base",
            "_model_module_version": "1.2.0",
            "_model_name": "LayoutModel",
            "_view_count": null,
            "_view_module": "@jupyter-widgets/base",
            "_view_module_version": "1.2.0",
            "_view_name": "LayoutView",
            "align_content": null,
            "align_items": null,
            "align_self": null,
            "border": null,
            "bottom": null,
            "display": null,
            "flex": null,
            "flex_flow": null,
            "grid_area": null,
            "grid_auto_columns": null,
            "grid_auto_flow": null,
            "grid_auto_rows": null,
            "grid_column": null,
            "grid_gap": null,
            "grid_row": null,
            "grid_template_areas": null,
            "grid_template_columns": null,
            "grid_template_rows": null,
            "height": null,
            "justify_content": null,
            "justify_items": null,
            "left": null,
            "margin": null,
            "max_height": null,
            "max_width": null,
            "min_height": null,
            "min_width": null,
            "object_fit": null,
            "object_position": null,
            "order": null,
            "overflow": null,
            "overflow_x": null,
            "overflow_y": null,
            "padding": null,
            "right": null,
            "top": null,
            "visibility": null,
            "width": null
          }
        },
        "1ca1ea5169124106acb34a7ed7615977": {
          "model_module": "@jupyter-widgets/base",
          "model_name": "LayoutModel",
          "model_module_version": "1.2.0",
          "state": {
            "_model_module": "@jupyter-widgets/base",
            "_model_module_version": "1.2.0",
            "_model_name": "LayoutModel",
            "_view_count": null,
            "_view_module": "@jupyter-widgets/base",
            "_view_module_version": "1.2.0",
            "_view_name": "LayoutView",
            "align_content": null,
            "align_items": null,
            "align_self": null,
            "border": null,
            "bottom": null,
            "display": null,
            "flex": null,
            "flex_flow": null,
            "grid_area": null,
            "grid_auto_columns": null,
            "grid_auto_flow": null,
            "grid_auto_rows": null,
            "grid_column": null,
            "grid_gap": null,
            "grid_row": null,
            "grid_template_areas": null,
            "grid_template_columns": null,
            "grid_template_rows": null,
            "height": null,
            "justify_content": null,
            "justify_items": null,
            "left": null,
            "margin": null,
            "max_height": null,
            "max_width": null,
            "min_height": null,
            "min_width": null,
            "object_fit": null,
            "object_position": null,
            "order": null,
            "overflow": null,
            "overflow_x": null,
            "overflow_y": null,
            "padding": null,
            "right": null,
            "top": null,
            "visibility": null,
            "width": null
          }
        },
        "0248e3e2c5c44144bf07823d352d4dab": {
          "model_module": "@jupyter-widgets/controls",
          "model_name": "DescriptionStyleModel",
          "model_module_version": "1.5.0",
          "state": {
            "_model_module": "@jupyter-widgets/controls",
            "_model_module_version": "1.5.0",
            "_model_name": "DescriptionStyleModel",
            "_view_count": null,
            "_view_module": "@jupyter-widgets/base",
            "_view_module_version": "1.2.0",
            "_view_name": "StyleView",
            "description_width": ""
          }
        },
        "5a003b24108045c88009b10f0e6ebb64": {
          "model_module": "@jupyter-widgets/base",
          "model_name": "LayoutModel",
          "model_module_version": "1.2.0",
          "state": {
            "_model_module": "@jupyter-widgets/base",
            "_model_module_version": "1.2.0",
            "_model_name": "LayoutModel",
            "_view_count": null,
            "_view_module": "@jupyter-widgets/base",
            "_view_module_version": "1.2.0",
            "_view_name": "LayoutView",
            "align_content": null,
            "align_items": null,
            "align_self": null,
            "border": null,
            "bottom": null,
            "display": null,
            "flex": null,
            "flex_flow": null,
            "grid_area": null,
            "grid_auto_columns": null,
            "grid_auto_flow": null,
            "grid_auto_rows": null,
            "grid_column": null,
            "grid_gap": null,
            "grid_row": null,
            "grid_template_areas": null,
            "grid_template_columns": null,
            "grid_template_rows": null,
            "height": null,
            "justify_content": null,
            "justify_items": null,
            "left": null,
            "margin": null,
            "max_height": null,
            "max_width": null,
            "min_height": null,
            "min_width": null,
            "object_fit": null,
            "object_position": null,
            "order": null,
            "overflow": null,
            "overflow_x": null,
            "overflow_y": null,
            "padding": null,
            "right": null,
            "top": null,
            "visibility": null,
            "width": null
          }
        },
        "ba426133a75e443499abf5dfd89ee121": {
          "model_module": "@jupyter-widgets/controls",
          "model_name": "ProgressStyleModel",
          "model_module_version": "1.5.0",
          "state": {
            "_model_module": "@jupyter-widgets/controls",
            "_model_module_version": "1.5.0",
            "_model_name": "ProgressStyleModel",
            "_view_count": null,
            "_view_module": "@jupyter-widgets/base",
            "_view_module_version": "1.2.0",
            "_view_name": "StyleView",
            "bar_color": null,
            "description_width": ""
          }
        },
        "94380e11bf0b4571b7e5bca99ddb957c": {
          "model_module": "@jupyter-widgets/base",
          "model_name": "LayoutModel",
          "model_module_version": "1.2.0",
          "state": {
            "_model_module": "@jupyter-widgets/base",
            "_model_module_version": "1.2.0",
            "_model_name": "LayoutModel",
            "_view_count": null,
            "_view_module": "@jupyter-widgets/base",
            "_view_module_version": "1.2.0",
            "_view_name": "LayoutView",
            "align_content": null,
            "align_items": null,
            "align_self": null,
            "border": null,
            "bottom": null,
            "display": null,
            "flex": null,
            "flex_flow": null,
            "grid_area": null,
            "grid_auto_columns": null,
            "grid_auto_flow": null,
            "grid_auto_rows": null,
            "grid_column": null,
            "grid_gap": null,
            "grid_row": null,
            "grid_template_areas": null,
            "grid_template_columns": null,
            "grid_template_rows": null,
            "height": null,
            "justify_content": null,
            "justify_items": null,
            "left": null,
            "margin": null,
            "max_height": null,
            "max_width": null,
            "min_height": null,
            "min_width": null,
            "object_fit": null,
            "object_position": null,
            "order": null,
            "overflow": null,
            "overflow_x": null,
            "overflow_y": null,
            "padding": null,
            "right": null,
            "top": null,
            "visibility": null,
            "width": null
          }
        },
        "95590d737714493cb37c0d8c05df7f8e": {
          "model_module": "@jupyter-widgets/controls",
          "model_name": "DescriptionStyleModel",
          "model_module_version": "1.5.0",
          "state": {
            "_model_module": "@jupyter-widgets/controls",
            "_model_module_version": "1.5.0",
            "_model_name": "DescriptionStyleModel",
            "_view_count": null,
            "_view_module": "@jupyter-widgets/base",
            "_view_module_version": "1.2.0",
            "_view_name": "StyleView",
            "description_width": ""
          }
        },
        "0d95822620c14de4873092a571a67135": {
          "model_module": "@jupyter-widgets/controls",
          "model_name": "HBoxModel",
          "model_module_version": "1.5.0",
          "state": {
            "_dom_classes": [],
            "_model_module": "@jupyter-widgets/controls",
            "_model_module_version": "1.5.0",
            "_model_name": "HBoxModel",
            "_view_count": null,
            "_view_module": "@jupyter-widgets/controls",
            "_view_module_version": "1.5.0",
            "_view_name": "HBoxView",
            "box_style": "",
            "children": [
              "IPY_MODEL_710f24fb3dd042788f725cf8c76d2b1d",
              "IPY_MODEL_1c5db2af48974167b81a77e968df64aa",
              "IPY_MODEL_a73a814aa7464f0ea8fab6fdfef47351"
            ],
            "layout": "IPY_MODEL_fe47901e26e74c519a6d1208b3a04fb2"
          }
        },
        "710f24fb3dd042788f725cf8c76d2b1d": {
          "model_module": "@jupyter-widgets/controls",
          "model_name": "HTMLModel",
          "model_module_version": "1.5.0",
          "state": {
            "_dom_classes": [],
            "_model_module": "@jupyter-widgets/controls",
            "_model_module_version": "1.5.0",
            "_model_name": "HTMLModel",
            "_view_count": null,
            "_view_module": "@jupyter-widgets/controls",
            "_view_module_version": "1.5.0",
            "_view_name": "HTMLView",
            "description": "",
            "description_tooltip": null,
            "layout": "IPY_MODEL_ddbf599796234c0ab2fd2ca53ffe693a",
            "placeholder": "​",
            "style": "IPY_MODEL_635ff2cc8c814958882adcdc662b21ac",
            "value": "target.spm: 100%"
          }
        },
        "1c5db2af48974167b81a77e968df64aa": {
          "model_module": "@jupyter-widgets/controls",
          "model_name": "FloatProgressModel",
          "model_module_version": "1.5.0",
          "state": {
            "_dom_classes": [],
            "_model_module": "@jupyter-widgets/controls",
            "_model_module_version": "1.5.0",
            "_model_name": "FloatProgressModel",
            "_view_count": null,
            "_view_module": "@jupyter-widgets/controls",
            "_view_module_version": "1.5.0",
            "_view_name": "ProgressView",
            "bar_style": "success",
            "description": "",
            "description_tooltip": null,
            "layout": "IPY_MODEL_d35f18a71e38408fa3a8189dbe79ac3b",
            "max": 796845,
            "min": 0,
            "orientation": "horizontal",
            "style": "IPY_MODEL_64383c5e26c44c67bdd6ffb1bf0f722a",
            "value": 796845
          }
        },
        "a73a814aa7464f0ea8fab6fdfef47351": {
          "model_module": "@jupyter-widgets/controls",
          "model_name": "HTMLModel",
          "model_module_version": "1.5.0",
          "state": {
            "_dom_classes": [],
            "_model_module": "@jupyter-widgets/controls",
            "_model_module_version": "1.5.0",
            "_model_name": "HTMLModel",
            "_view_count": null,
            "_view_module": "@jupyter-widgets/controls",
            "_view_module_version": "1.5.0",
            "_view_name": "HTMLView",
            "description": "",
            "description_tooltip": null,
            "layout": "IPY_MODEL_c40c3a272462446cac26a8247f04dda1",
            "placeholder": "​",
            "style": "IPY_MODEL_36fd73a228b2456e8d3b4c2d44cad349",
            "value": " 797k/797k [00:00&lt;00:00, 3.68MB/s]"
          }
        },
        "fe47901e26e74c519a6d1208b3a04fb2": {
          "model_module": "@jupyter-widgets/base",
          "model_name": "LayoutModel",
          "model_module_version": "1.2.0",
          "state": {
            "_model_module": "@jupyter-widgets/base",
            "_model_module_version": "1.2.0",
            "_model_name": "LayoutModel",
            "_view_count": null,
            "_view_module": "@jupyter-widgets/base",
            "_view_module_version": "1.2.0",
            "_view_name": "LayoutView",
            "align_content": null,
            "align_items": null,
            "align_self": null,
            "border": null,
            "bottom": null,
            "display": null,
            "flex": null,
            "flex_flow": null,
            "grid_area": null,
            "grid_auto_columns": null,
            "grid_auto_flow": null,
            "grid_auto_rows": null,
            "grid_column": null,
            "grid_gap": null,
            "grid_row": null,
            "grid_template_areas": null,
            "grid_template_columns": null,
            "grid_template_rows": null,
            "height": null,
            "justify_content": null,
            "justify_items": null,
            "left": null,
            "margin": null,
            "max_height": null,
            "max_width": null,
            "min_height": null,
            "min_width": null,
            "object_fit": null,
            "object_position": null,
            "order": null,
            "overflow": null,
            "overflow_x": null,
            "overflow_y": null,
            "padding": null,
            "right": null,
            "top": null,
            "visibility": null,
            "width": null
          }
        },
        "ddbf599796234c0ab2fd2ca53ffe693a": {
          "model_module": "@jupyter-widgets/base",
          "model_name": "LayoutModel",
          "model_module_version": "1.2.0",
          "state": {
            "_model_module": "@jupyter-widgets/base",
            "_model_module_version": "1.2.0",
            "_model_name": "LayoutModel",
            "_view_count": null,
            "_view_module": "@jupyter-widgets/base",
            "_view_module_version": "1.2.0",
            "_view_name": "LayoutView",
            "align_content": null,
            "align_items": null,
            "align_self": null,
            "border": null,
            "bottom": null,
            "display": null,
            "flex": null,
            "flex_flow": null,
            "grid_area": null,
            "grid_auto_columns": null,
            "grid_auto_flow": null,
            "grid_auto_rows": null,
            "grid_column": null,
            "grid_gap": null,
            "grid_row": null,
            "grid_template_areas": null,
            "grid_template_columns": null,
            "grid_template_rows": null,
            "height": null,
            "justify_content": null,
            "justify_items": null,
            "left": null,
            "margin": null,
            "max_height": null,
            "max_width": null,
            "min_height": null,
            "min_width": null,
            "object_fit": null,
            "object_position": null,
            "order": null,
            "overflow": null,
            "overflow_x": null,
            "overflow_y": null,
            "padding": null,
            "right": null,
            "top": null,
            "visibility": null,
            "width": null
          }
        },
        "635ff2cc8c814958882adcdc662b21ac": {
          "model_module": "@jupyter-widgets/controls",
          "model_name": "DescriptionStyleModel",
          "model_module_version": "1.5.0",
          "state": {
            "_model_module": "@jupyter-widgets/controls",
            "_model_module_version": "1.5.0",
            "_model_name": "DescriptionStyleModel",
            "_view_count": null,
            "_view_module": "@jupyter-widgets/base",
            "_view_module_version": "1.2.0",
            "_view_name": "StyleView",
            "description_width": ""
          }
        },
        "d35f18a71e38408fa3a8189dbe79ac3b": {
          "model_module": "@jupyter-widgets/base",
          "model_name": "LayoutModel",
          "model_module_version": "1.2.0",
          "state": {
            "_model_module": "@jupyter-widgets/base",
            "_model_module_version": "1.2.0",
            "_model_name": "LayoutModel",
            "_view_count": null,
            "_view_module": "@jupyter-widgets/base",
            "_view_module_version": "1.2.0",
            "_view_name": "LayoutView",
            "align_content": null,
            "align_items": null,
            "align_self": null,
            "border": null,
            "bottom": null,
            "display": null,
            "flex": null,
            "flex_flow": null,
            "grid_area": null,
            "grid_auto_columns": null,
            "grid_auto_flow": null,
            "grid_auto_rows": null,
            "grid_column": null,
            "grid_gap": null,
            "grid_row": null,
            "grid_template_areas": null,
            "grid_template_columns": null,
            "grid_template_rows": null,
            "height": null,
            "justify_content": null,
            "justify_items": null,
            "left": null,
            "margin": null,
            "max_height": null,
            "max_width": null,
            "min_height": null,
            "min_width": null,
            "object_fit": null,
            "object_position": null,
            "order": null,
            "overflow": null,
            "overflow_x": null,
            "overflow_y": null,
            "padding": null,
            "right": null,
            "top": null,
            "visibility": null,
            "width": null
          }
        },
        "64383c5e26c44c67bdd6ffb1bf0f722a": {
          "model_module": "@jupyter-widgets/controls",
          "model_name": "ProgressStyleModel",
          "model_module_version": "1.5.0",
          "state": {
            "_model_module": "@jupyter-widgets/controls",
            "_model_module_version": "1.5.0",
            "_model_name": "ProgressStyleModel",
            "_view_count": null,
            "_view_module": "@jupyter-widgets/base",
            "_view_module_version": "1.2.0",
            "_view_name": "StyleView",
            "bar_color": null,
            "description_width": ""
          }
        },
        "c40c3a272462446cac26a8247f04dda1": {
          "model_module": "@jupyter-widgets/base",
          "model_name": "LayoutModel",
          "model_module_version": "1.2.0",
          "state": {
            "_model_module": "@jupyter-widgets/base",
            "_model_module_version": "1.2.0",
            "_model_name": "LayoutModel",
            "_view_count": null,
            "_view_module": "@jupyter-widgets/base",
            "_view_module_version": "1.2.0",
            "_view_name": "LayoutView",
            "align_content": null,
            "align_items": null,
            "align_self": null,
            "border": null,
            "bottom": null,
            "display": null,
            "flex": null,
            "flex_flow": null,
            "grid_area": null,
            "grid_auto_columns": null,
            "grid_auto_flow": null,
            "grid_auto_rows": null,
            "grid_column": null,
            "grid_gap": null,
            "grid_row": null,
            "grid_template_areas": null,
            "grid_template_columns": null,
            "grid_template_rows": null,
            "height": null,
            "justify_content": null,
            "justify_items": null,
            "left": null,
            "margin": null,
            "max_height": null,
            "max_width": null,
            "min_height": null,
            "min_width": null,
            "object_fit": null,
            "object_position": null,
            "order": null,
            "overflow": null,
            "overflow_x": null,
            "overflow_y": null,
            "padding": null,
            "right": null,
            "top": null,
            "visibility": null,
            "width": null
          }
        },
        "36fd73a228b2456e8d3b4c2d44cad349": {
          "model_module": "@jupyter-widgets/controls",
          "model_name": "DescriptionStyleModel",
          "model_module_version": "1.5.0",
          "state": {
            "_model_module": "@jupyter-widgets/controls",
            "_model_module_version": "1.5.0",
            "_model_name": "DescriptionStyleModel",
            "_view_count": null,
            "_view_module": "@jupyter-widgets/base",
            "_view_module_version": "1.2.0",
            "_view_name": "StyleView",
            "description_width": ""
          }
        },
        "b2e5e11e6dde42b58c6626ed3a10ee53": {
          "model_module": "@jupyter-widgets/controls",
          "model_name": "HBoxModel",
          "model_module_version": "1.5.0",
          "state": {
            "_dom_classes": [],
            "_model_module": "@jupyter-widgets/controls",
            "_model_module_version": "1.5.0",
            "_model_name": "HBoxModel",
            "_view_count": null,
            "_view_module": "@jupyter-widgets/controls",
            "_view_module_version": "1.5.0",
            "_view_name": "HBoxView",
            "box_style": "",
            "children": [
              "IPY_MODEL_f3ba26e121d94dcea9440b10a0a812c6",
              "IPY_MODEL_c98b734e70524598b3cffbb61415bc18",
              "IPY_MODEL_cd5915c7b3c2480da58e0afa652fbb15"
            ],
            "layout": "IPY_MODEL_ff8cc565e8c34cfc9cd6fcd1c13db9d9"
          }
        },
        "f3ba26e121d94dcea9440b10a0a812c6": {
          "model_module": "@jupyter-widgets/controls",
          "model_name": "HTMLModel",
          "model_module_version": "1.5.0",
          "state": {
            "_dom_classes": [],
            "_model_module": "@jupyter-widgets/controls",
            "_model_module_version": "1.5.0",
            "_model_name": "HTMLModel",
            "_view_count": null,
            "_view_module": "@jupyter-widgets/controls",
            "_view_module_version": "1.5.0",
            "_view_name": "HTMLView",
            "description": "",
            "description_tooltip": null,
            "layout": "IPY_MODEL_cfc330c72cae4f159ce3b7a4a8a968b2",
            "placeholder": "​",
            "style": "IPY_MODEL_4fd4fdafe5b0485e961f3be09304dc13",
            "value": "vocab.json: 100%"
          }
        },
        "c98b734e70524598b3cffbb61415bc18": {
          "model_module": "@jupyter-widgets/controls",
          "model_name": "FloatProgressModel",
          "model_module_version": "1.5.0",
          "state": {
            "_dom_classes": [],
            "_model_module": "@jupyter-widgets/controls",
            "_model_module_version": "1.5.0",
            "_model_name": "FloatProgressModel",
            "_view_count": null,
            "_view_module": "@jupyter-widgets/controls",
            "_view_module_version": "1.5.0",
            "_view_name": "ProgressView",
            "bar_style": "success",
            "description": "",
            "description_tooltip": null,
            "layout": "IPY_MODEL_7fd50ae1a5d7403ca47989947b8604fd",
            "max": 1273232,
            "min": 0,
            "orientation": "horizontal",
            "style": "IPY_MODEL_42e51a5d40b343e9a663da31c0656629",
            "value": 1273232
          }
        },
        "cd5915c7b3c2480da58e0afa652fbb15": {
          "model_module": "@jupyter-widgets/controls",
          "model_name": "HTMLModel",
          "model_module_version": "1.5.0",
          "state": {
            "_dom_classes": [],
            "_model_module": "@jupyter-widgets/controls",
            "_model_module_version": "1.5.0",
            "_model_name": "HTMLModel",
            "_view_count": null,
            "_view_module": "@jupyter-widgets/controls",
            "_view_module_version": "1.5.0",
            "_view_name": "HTMLView",
            "description": "",
            "description_tooltip": null,
            "layout": "IPY_MODEL_f217e1bbd60e425f9c92c250e1a11c2f",
            "placeholder": "​",
            "style": "IPY_MODEL_54359363b52f48f5b87ced449ab5a633",
            "value": " 1.27M/1.27M [00:00&lt;00:00, 5.67MB/s]"
          }
        },
        "ff8cc565e8c34cfc9cd6fcd1c13db9d9": {
          "model_module": "@jupyter-widgets/base",
          "model_name": "LayoutModel",
          "model_module_version": "1.2.0",
          "state": {
            "_model_module": "@jupyter-widgets/base",
            "_model_module_version": "1.2.0",
            "_model_name": "LayoutModel",
            "_view_count": null,
            "_view_module": "@jupyter-widgets/base",
            "_view_module_version": "1.2.0",
            "_view_name": "LayoutView",
            "align_content": null,
            "align_items": null,
            "align_self": null,
            "border": null,
            "bottom": null,
            "display": null,
            "flex": null,
            "flex_flow": null,
            "grid_area": null,
            "grid_auto_columns": null,
            "grid_auto_flow": null,
            "grid_auto_rows": null,
            "grid_column": null,
            "grid_gap": null,
            "grid_row": null,
            "grid_template_areas": null,
            "grid_template_columns": null,
            "grid_template_rows": null,
            "height": null,
            "justify_content": null,
            "justify_items": null,
            "left": null,
            "margin": null,
            "max_height": null,
            "max_width": null,
            "min_height": null,
            "min_width": null,
            "object_fit": null,
            "object_position": null,
            "order": null,
            "overflow": null,
            "overflow_x": null,
            "overflow_y": null,
            "padding": null,
            "right": null,
            "top": null,
            "visibility": null,
            "width": null
          }
        },
        "cfc330c72cae4f159ce3b7a4a8a968b2": {
          "model_module": "@jupyter-widgets/base",
          "model_name": "LayoutModel",
          "model_module_version": "1.2.0",
          "state": {
            "_model_module": "@jupyter-widgets/base",
            "_model_module_version": "1.2.0",
            "_model_name": "LayoutModel",
            "_view_count": null,
            "_view_module": "@jupyter-widgets/base",
            "_view_module_version": "1.2.0",
            "_view_name": "LayoutView",
            "align_content": null,
            "align_items": null,
            "align_self": null,
            "border": null,
            "bottom": null,
            "display": null,
            "flex": null,
            "flex_flow": null,
            "grid_area": null,
            "grid_auto_columns": null,
            "grid_auto_flow": null,
            "grid_auto_rows": null,
            "grid_column": null,
            "grid_gap": null,
            "grid_row": null,
            "grid_template_areas": null,
            "grid_template_columns": null,
            "grid_template_rows": null,
            "height": null,
            "justify_content": null,
            "justify_items": null,
            "left": null,
            "margin": null,
            "max_height": null,
            "max_width": null,
            "min_height": null,
            "min_width": null,
            "object_fit": null,
            "object_position": null,
            "order": null,
            "overflow": null,
            "overflow_x": null,
            "overflow_y": null,
            "padding": null,
            "right": null,
            "top": null,
            "visibility": null,
            "width": null
          }
        },
        "4fd4fdafe5b0485e961f3be09304dc13": {
          "model_module": "@jupyter-widgets/controls",
          "model_name": "DescriptionStyleModel",
          "model_module_version": "1.5.0",
          "state": {
            "_model_module": "@jupyter-widgets/controls",
            "_model_module_version": "1.5.0",
            "_model_name": "DescriptionStyleModel",
            "_view_count": null,
            "_view_module": "@jupyter-widgets/base",
            "_view_module_version": "1.2.0",
            "_view_name": "StyleView",
            "description_width": ""
          }
        },
        "7fd50ae1a5d7403ca47989947b8604fd": {
          "model_module": "@jupyter-widgets/base",
          "model_name": "LayoutModel",
          "model_module_version": "1.2.0",
          "state": {
            "_model_module": "@jupyter-widgets/base",
            "_model_module_version": "1.2.0",
            "_model_name": "LayoutModel",
            "_view_count": null,
            "_view_module": "@jupyter-widgets/base",
            "_view_module_version": "1.2.0",
            "_view_name": "LayoutView",
            "align_content": null,
            "align_items": null,
            "align_self": null,
            "border": null,
            "bottom": null,
            "display": null,
            "flex": null,
            "flex_flow": null,
            "grid_area": null,
            "grid_auto_columns": null,
            "grid_auto_flow": null,
            "grid_auto_rows": null,
            "grid_column": null,
            "grid_gap": null,
            "grid_row": null,
            "grid_template_areas": null,
            "grid_template_columns": null,
            "grid_template_rows": null,
            "height": null,
            "justify_content": null,
            "justify_items": null,
            "left": null,
            "margin": null,
            "max_height": null,
            "max_width": null,
            "min_height": null,
            "min_width": null,
            "object_fit": null,
            "object_position": null,
            "order": null,
            "overflow": null,
            "overflow_x": null,
            "overflow_y": null,
            "padding": null,
            "right": null,
            "top": null,
            "visibility": null,
            "width": null
          }
        },
        "42e51a5d40b343e9a663da31c0656629": {
          "model_module": "@jupyter-widgets/controls",
          "model_name": "ProgressStyleModel",
          "model_module_version": "1.5.0",
          "state": {
            "_model_module": "@jupyter-widgets/controls",
            "_model_module_version": "1.5.0",
            "_model_name": "ProgressStyleModel",
            "_view_count": null,
            "_view_module": "@jupyter-widgets/base",
            "_view_module_version": "1.2.0",
            "_view_name": "StyleView",
            "bar_color": null,
            "description_width": ""
          }
        },
        "f217e1bbd60e425f9c92c250e1a11c2f": {
          "model_module": "@jupyter-widgets/base",
          "model_name": "LayoutModel",
          "model_module_version": "1.2.0",
          "state": {
            "_model_module": "@jupyter-widgets/base",
            "_model_module_version": "1.2.0",
            "_model_name": "LayoutModel",
            "_view_count": null,
            "_view_module": "@jupyter-widgets/base",
            "_view_module_version": "1.2.0",
            "_view_name": "LayoutView",
            "align_content": null,
            "align_items": null,
            "align_self": null,
            "border": null,
            "bottom": null,
            "display": null,
            "flex": null,
            "flex_flow": null,
            "grid_area": null,
            "grid_auto_columns": null,
            "grid_auto_flow": null,
            "grid_auto_rows": null,
            "grid_column": null,
            "grid_gap": null,
            "grid_row": null,
            "grid_template_areas": null,
            "grid_template_columns": null,
            "grid_template_rows": null,
            "height": null,
            "justify_content": null,
            "justify_items": null,
            "left": null,
            "margin": null,
            "max_height": null,
            "max_width": null,
            "min_height": null,
            "min_width": null,
            "object_fit": null,
            "object_position": null,
            "order": null,
            "overflow": null,
            "overflow_x": null,
            "overflow_y": null,
            "padding": null,
            "right": null,
            "top": null,
            "visibility": null,
            "width": null
          }
        },
        "54359363b52f48f5b87ced449ab5a633": {
          "model_module": "@jupyter-widgets/controls",
          "model_name": "DescriptionStyleModel",
          "model_module_version": "1.5.0",
          "state": {
            "_model_module": "@jupyter-widgets/controls",
            "_model_module_version": "1.5.0",
            "_model_name": "DescriptionStyleModel",
            "_view_count": null,
            "_view_module": "@jupyter-widgets/base",
            "_view_module_version": "1.2.0",
            "_view_name": "StyleView",
            "description_width": ""
          }
        }
      }
    }
  },
  "nbformat": 4,
  "nbformat_minor": 0
}